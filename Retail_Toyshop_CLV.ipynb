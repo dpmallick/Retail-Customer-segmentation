{
  "cells": [
    {
      "cell_type": "markdown",
      "metadata": {
        "id": "view-in-github",
        "colab_type": "text"
      },
      "source": [
        "<a href=\"https://colab.research.google.com/github/dpmallick/Retail-Customer-segmentation/blob/main/Retail_Toyshop_CLV.ipynb\" target=\"_parent\"><img src=\"https://colab.research.google.com/assets/colab-badge.svg\" alt=\"Open In Colab\"/></a>"
      ]
    },
    {
      "cell_type": "markdown",
      "source": [
        "# **RFM Analysis and Computing future cash flow and revenue of a Retail Store**"
      ],
      "metadata": {
        "id": "imQEX3UFPGUR"
      },
      "id": "imQEX3UFPGUR"
    },
    {
      "cell_type": "markdown",
      "source": [
        "# Overview"
      ],
      "metadata": {
        "id": "UvvY_ObWS2E2"
      },
      "id": "UvvY_ObWS2E2"
    },
    {
      "cell_type": "markdown",
      "source": [
        "In this project, we will demonstrate:\n",
        "\n",
        "i) Exploratory data analysis\n",
        "\n",
        "ii) Convert a transaction dataset to customer dataset so that RFM analysis can be done\n",
        "\n",
        "iii) Building segments by RFM- Cluster Analysis: \"Statistical Segmentation\"\n",
        "\n",
        "iv) Building segments based on inputs from domain users - \"Managerial Segmentation\"\n",
        "\n",
        "v) Build transition matrix for the last two years to see how the transition happened between segments. This will be used for computation future cash flow\n",
        "\n",
        "vi) Calculate future cash flow using Retention and Revenue\n",
        "\n",
        "vii) Calculate CLV and X times worth of the company\n",
        "\n",
        "\n",
        "Dataset contains sales transaction details of a Retail Store selling gift items, books and stationery items. It contains 51243 transactions for 11 years from Jan 2005 till 31st December, 2015. \n",
        "\n",
        "Dataset contains 3 variables:\n",
        "i)  Customer Id  \n",
        "\n",
        "ii) Value of Transaction\n",
        "\n",
        "iii) Date of Transaction\n",
        "\n",
        "\n"
      ],
      "metadata": {
        "id": "nHn5nibXQGnK"
      },
      "id": "nHn5nibXQGnK"
    },
    {
      "cell_type": "markdown",
      "source": [
        "# Data Analysis"
      ],
      "metadata": {
        "id": "URGJ3qpgSqCU"
      },
      "id": "URGJ3qpgSqCU"
    },
    {
      "cell_type": "code",
      "execution_count": null,
      "id": "2ec0f10c",
      "metadata": {
        "id": "2ec0f10c"
      },
      "outputs": [],
      "source": [
        "# Import Libraries\n",
        "import pandas as pd\n",
        "import seaborn as sns\n",
        "import matplotlib.pyplot as plt\n",
        "import numpy as np\n",
        "import os"
      ]
    },
    {
      "cell_type": "code",
      "source": [
        "# Download the file \n",
        "!wget -q -O purchases.txt https://drive.google.com/uc?id=1LP65AWtwqCCM8AkppLBcMIhC_fjVZvNa&export=download\n",
        "# Load text file and store it in dataframe df\n",
        "df = pd.read_csv('/content/purchases.txt', sep='\\t', header=None, names = [\"CustomerId\", \"Amount\", \"Date\"])"
      ],
      "metadata": {
        "id": "6e9Rhtz6HVjk"
      },
      "id": "6e9Rhtz6HVjk",
      "execution_count": null,
      "outputs": []
    },
    {
      "cell_type": "code",
      "execution_count": null,
      "id": "151db745",
      "metadata": {
        "colab": {
          "base_uri": "https://localhost:8080/",
          "height": 206
        },
        "id": "151db745",
        "outputId": "d65dafcd-4052-4c6c-f64d-11f811df998c"
      },
      "outputs": [
        {
          "output_type": "execute_result",
          "data": {
            "text/plain": [
              "   CustomerId  Amount        Date\n",
              "0         760    25.0  2009-11-06\n",
              "1         860    50.0  2012-09-28\n",
              "2        1200   100.0  2005-10-25\n",
              "3        1420    50.0  2009-07-09\n",
              "4        1940    70.0  2013-01-25"
            ],
            "text/html": [
              "\n",
              "  <div id=\"df-9940fde6-110a-441c-a471-82600ceca8f1\">\n",
              "    <div class=\"colab-df-container\">\n",
              "      <div>\n",
              "<style scoped>\n",
              "    .dataframe tbody tr th:only-of-type {\n",
              "        vertical-align: middle;\n",
              "    }\n",
              "\n",
              "    .dataframe tbody tr th {\n",
              "        vertical-align: top;\n",
              "    }\n",
              "\n",
              "    .dataframe thead th {\n",
              "        text-align: right;\n",
              "    }\n",
              "</style>\n",
              "<table border=\"1\" class=\"dataframe\">\n",
              "  <thead>\n",
              "    <tr style=\"text-align: right;\">\n",
              "      <th></th>\n",
              "      <th>CustomerId</th>\n",
              "      <th>Amount</th>\n",
              "      <th>Date</th>\n",
              "    </tr>\n",
              "  </thead>\n",
              "  <tbody>\n",
              "    <tr>\n",
              "      <th>0</th>\n",
              "      <td>760</td>\n",
              "      <td>25.0</td>\n",
              "      <td>2009-11-06</td>\n",
              "    </tr>\n",
              "    <tr>\n",
              "      <th>1</th>\n",
              "      <td>860</td>\n",
              "      <td>50.0</td>\n",
              "      <td>2012-09-28</td>\n",
              "    </tr>\n",
              "    <tr>\n",
              "      <th>2</th>\n",
              "      <td>1200</td>\n",
              "      <td>100.0</td>\n",
              "      <td>2005-10-25</td>\n",
              "    </tr>\n",
              "    <tr>\n",
              "      <th>3</th>\n",
              "      <td>1420</td>\n",
              "      <td>50.0</td>\n",
              "      <td>2009-07-09</td>\n",
              "    </tr>\n",
              "    <tr>\n",
              "      <th>4</th>\n",
              "      <td>1940</td>\n",
              "      <td>70.0</td>\n",
              "      <td>2013-01-25</td>\n",
              "    </tr>\n",
              "  </tbody>\n",
              "</table>\n",
              "</div>\n",
              "      <button class=\"colab-df-convert\" onclick=\"convertToInteractive('df-9940fde6-110a-441c-a471-82600ceca8f1')\"\n",
              "              title=\"Convert this dataframe to an interactive table.\"\n",
              "              style=\"display:none;\">\n",
              "        \n",
              "  <svg xmlns=\"http://www.w3.org/2000/svg\" height=\"24px\"viewBox=\"0 0 24 24\"\n",
              "       width=\"24px\">\n",
              "    <path d=\"M0 0h24v24H0V0z\" fill=\"none\"/>\n",
              "    <path d=\"M18.56 5.44l.94 2.06.94-2.06 2.06-.94-2.06-.94-.94-2.06-.94 2.06-2.06.94zm-11 1L8.5 8.5l.94-2.06 2.06-.94-2.06-.94L8.5 2.5l-.94 2.06-2.06.94zm10 10l.94 2.06.94-2.06 2.06-.94-2.06-.94-.94-2.06-.94 2.06-2.06.94z\"/><path d=\"M17.41 7.96l-1.37-1.37c-.4-.4-.92-.59-1.43-.59-.52 0-1.04.2-1.43.59L10.3 9.45l-7.72 7.72c-.78.78-.78 2.05 0 2.83L4 21.41c.39.39.9.59 1.41.59.51 0 1.02-.2 1.41-.59l7.78-7.78 2.81-2.81c.8-.78.8-2.07 0-2.86zM5.41 20L4 18.59l7.72-7.72 1.47 1.35L5.41 20z\"/>\n",
              "  </svg>\n",
              "      </button>\n",
              "      \n",
              "  <style>\n",
              "    .colab-df-container {\n",
              "      display:flex;\n",
              "      flex-wrap:wrap;\n",
              "      gap: 12px;\n",
              "    }\n",
              "\n",
              "    .colab-df-convert {\n",
              "      background-color: #E8F0FE;\n",
              "      border: none;\n",
              "      border-radius: 50%;\n",
              "      cursor: pointer;\n",
              "      display: none;\n",
              "      fill: #1967D2;\n",
              "      height: 32px;\n",
              "      padding: 0 0 0 0;\n",
              "      width: 32px;\n",
              "    }\n",
              "\n",
              "    .colab-df-convert:hover {\n",
              "      background-color: #E2EBFA;\n",
              "      box-shadow: 0px 1px 2px rgba(60, 64, 67, 0.3), 0px 1px 3px 1px rgba(60, 64, 67, 0.15);\n",
              "      fill: #174EA6;\n",
              "    }\n",
              "\n",
              "    [theme=dark] .colab-df-convert {\n",
              "      background-color: #3B4455;\n",
              "      fill: #D2E3FC;\n",
              "    }\n",
              "\n",
              "    [theme=dark] .colab-df-convert:hover {\n",
              "      background-color: #434B5C;\n",
              "      box-shadow: 0px 1px 3px 1px rgba(0, 0, 0, 0.15);\n",
              "      filter: drop-shadow(0px 1px 2px rgba(0, 0, 0, 0.3));\n",
              "      fill: #FFFFFF;\n",
              "    }\n",
              "  </style>\n",
              "\n",
              "      <script>\n",
              "        const buttonEl =\n",
              "          document.querySelector('#df-9940fde6-110a-441c-a471-82600ceca8f1 button.colab-df-convert');\n",
              "        buttonEl.style.display =\n",
              "          google.colab.kernel.accessAllowed ? 'block' : 'none';\n",
              "\n",
              "        async function convertToInteractive(key) {\n",
              "          const element = document.querySelector('#df-9940fde6-110a-441c-a471-82600ceca8f1');\n",
              "          const dataTable =\n",
              "            await google.colab.kernel.invokeFunction('convertToInteractive',\n",
              "                                                     [key], {});\n",
              "          if (!dataTable) return;\n",
              "\n",
              "          const docLinkHtml = 'Like what you see? Visit the ' +\n",
              "            '<a target=\"_blank\" href=https://colab.research.google.com/notebooks/data_table.ipynb>data table notebook</a>'\n",
              "            + ' to learn more about interactive tables.';\n",
              "          element.innerHTML = '';\n",
              "          dataTable['output_type'] = 'display_data';\n",
              "          await google.colab.output.renderOutput(dataTable, element);\n",
              "          const docLink = document.createElement('div');\n",
              "          docLink.innerHTML = docLinkHtml;\n",
              "          element.appendChild(docLink);\n",
              "        }\n",
              "      </script>\n",
              "    </div>\n",
              "  </div>\n",
              "  "
            ]
          },
          "metadata": {},
          "execution_count": 5
        }
      ],
      "source": [
        "# Read the first 5 entries\n",
        "df.head()"
      ]
    },
    {
      "cell_type": "code",
      "source": [
        "df.shape"
      ],
      "metadata": {
        "colab": {
          "base_uri": "https://localhost:8080/"
        },
        "id": "YkH1QGQnMRTL",
        "outputId": "480daf82-8e23-4bfb-dd9a-23374631cb86"
      },
      "id": "YkH1QGQnMRTL",
      "execution_count": null,
      "outputs": [
        {
          "output_type": "execute_result",
          "data": {
            "text/plain": [
              "(51243, 3)"
            ]
          },
          "metadata": {},
          "execution_count": 6
        }
      ]
    },
    {
      "cell_type": "code",
      "execution_count": null,
      "id": "d090a10f",
      "metadata": {
        "colab": {
          "base_uri": "https://localhost:8080/"
        },
        "id": "d090a10f",
        "outputId": "4a69f78a-60cf-4e8d-a0bb-8c51d5e0ecbf"
      },
      "outputs": [
        {
          "output_type": "stream",
          "name": "stdout",
          "text": [
            "<class 'pandas.core.frame.DataFrame'>\n",
            "RangeIndex: 51243 entries, 0 to 51242\n",
            "Data columns (total 3 columns):\n",
            " #   Column      Non-Null Count  Dtype  \n",
            "---  ------      --------------  -----  \n",
            " 0   CustomerId  51243 non-null  int64  \n",
            " 1   Amount      51243 non-null  float64\n",
            " 2   Date        51243 non-null  object \n",
            "dtypes: float64(1), int64(1), object(1)\n",
            "memory usage: 1.2+ MB\n"
          ]
        }
      ],
      "source": [
        "# Check the data type of the columns\n",
        "df.info()"
      ]
    },
    {
      "cell_type": "code",
      "execution_count": null,
      "id": "0e0a6539",
      "metadata": {
        "id": "0e0a6539"
      },
      "outputs": [],
      "source": [
        "# Convert date to datetime type\n",
        "df['Date'] = pd.to_datetime(df['Date'])\n",
        "# Convert Customerid to categorical variable\n",
        "df['CustomerId'] = df['CustomerId'].astype('str')"
      ]
    },
    {
      "cell_type": "code",
      "execution_count": null,
      "id": "28c43372",
      "metadata": {
        "colab": {
          "base_uri": "https://localhost:8080/"
        },
        "id": "28c43372",
        "outputId": "c282caac-539d-4441-8ee2-5d689a9723de"
      },
      "outputs": [
        {
          "output_type": "stream",
          "name": "stdout",
          "text": [
            "<class 'pandas.core.frame.DataFrame'>\n",
            "RangeIndex: 51243 entries, 0 to 51242\n",
            "Data columns (total 3 columns):\n",
            " #   Column      Non-Null Count  Dtype         \n",
            "---  ------      --------------  -----         \n",
            " 0   CustomerId  51243 non-null  object        \n",
            " 1   Amount      51243 non-null  float64       \n",
            " 2   Date        51243 non-null  datetime64[ns]\n",
            "dtypes: datetime64[ns](1), float64(1), object(1)\n",
            "memory usage: 1.2+ MB\n"
          ]
        }
      ],
      "source": [
        "# Check data type\n",
        "df.info()"
      ]
    },
    {
      "cell_type": "code",
      "execution_count": null,
      "id": "96921c24",
      "metadata": {
        "colab": {
          "base_uri": "https://localhost:8080/",
          "height": 424
        },
        "id": "96921c24",
        "outputId": "2e04e178-329f-4ba1-c0fc-e117310cd5ca"
      },
      "outputs": [
        {
          "output_type": "execute_result",
          "data": {
            "text/plain": [
              "      CustomerId  Amount       Date  Year  DaysSince\n",
              "0            760    25.0 2009-11-06  2009       2247\n",
              "1            860    50.0 2012-09-28  2012       1190\n",
              "2           1200   100.0 2005-10-25  2005       3720\n",
              "3           1420    50.0 2009-07-09  2009       2367\n",
              "4           1940    70.0 2013-01-25  2013       1071\n",
              "...          ...     ...        ...   ...        ...\n",
              "51238     163230    30.0 2011-11-12  2011       1511\n",
              "51239     154410   100.0 2013-11-15  2013        777\n",
              "51240     189270    30.0 2014-12-23  2014        374\n",
              "51241     173810    30.0 2015-05-28  2015        218\n",
              "51242       9830    50.0 2011-11-30  2011       1493\n",
              "\n",
              "[51243 rows x 5 columns]"
            ],
            "text/html": [
              "\n",
              "  <div id=\"df-8e0edf4d-718a-4117-a804-f86b1136f08e\">\n",
              "    <div class=\"colab-df-container\">\n",
              "      <div>\n",
              "<style scoped>\n",
              "    .dataframe tbody tr th:only-of-type {\n",
              "        vertical-align: middle;\n",
              "    }\n",
              "\n",
              "    .dataframe tbody tr th {\n",
              "        vertical-align: top;\n",
              "    }\n",
              "\n",
              "    .dataframe thead th {\n",
              "        text-align: right;\n",
              "    }\n",
              "</style>\n",
              "<table border=\"1\" class=\"dataframe\">\n",
              "  <thead>\n",
              "    <tr style=\"text-align: right;\">\n",
              "      <th></th>\n",
              "      <th>CustomerId</th>\n",
              "      <th>Amount</th>\n",
              "      <th>Date</th>\n",
              "      <th>Year</th>\n",
              "      <th>DaysSince</th>\n",
              "    </tr>\n",
              "  </thead>\n",
              "  <tbody>\n",
              "    <tr>\n",
              "      <th>0</th>\n",
              "      <td>760</td>\n",
              "      <td>25.0</td>\n",
              "      <td>2009-11-06</td>\n",
              "      <td>2009</td>\n",
              "      <td>2247</td>\n",
              "    </tr>\n",
              "    <tr>\n",
              "      <th>1</th>\n",
              "      <td>860</td>\n",
              "      <td>50.0</td>\n",
              "      <td>2012-09-28</td>\n",
              "      <td>2012</td>\n",
              "      <td>1190</td>\n",
              "    </tr>\n",
              "    <tr>\n",
              "      <th>2</th>\n",
              "      <td>1200</td>\n",
              "      <td>100.0</td>\n",
              "      <td>2005-10-25</td>\n",
              "      <td>2005</td>\n",
              "      <td>3720</td>\n",
              "    </tr>\n",
              "    <tr>\n",
              "      <th>3</th>\n",
              "      <td>1420</td>\n",
              "      <td>50.0</td>\n",
              "      <td>2009-07-09</td>\n",
              "      <td>2009</td>\n",
              "      <td>2367</td>\n",
              "    </tr>\n",
              "    <tr>\n",
              "      <th>4</th>\n",
              "      <td>1940</td>\n",
              "      <td>70.0</td>\n",
              "      <td>2013-01-25</td>\n",
              "      <td>2013</td>\n",
              "      <td>1071</td>\n",
              "    </tr>\n",
              "    <tr>\n",
              "      <th>...</th>\n",
              "      <td>...</td>\n",
              "      <td>...</td>\n",
              "      <td>...</td>\n",
              "      <td>...</td>\n",
              "      <td>...</td>\n",
              "    </tr>\n",
              "    <tr>\n",
              "      <th>51238</th>\n",
              "      <td>163230</td>\n",
              "      <td>30.0</td>\n",
              "      <td>2011-11-12</td>\n",
              "      <td>2011</td>\n",
              "      <td>1511</td>\n",
              "    </tr>\n",
              "    <tr>\n",
              "      <th>51239</th>\n",
              "      <td>154410</td>\n",
              "      <td>100.0</td>\n",
              "      <td>2013-11-15</td>\n",
              "      <td>2013</td>\n",
              "      <td>777</td>\n",
              "    </tr>\n",
              "    <tr>\n",
              "      <th>51240</th>\n",
              "      <td>189270</td>\n",
              "      <td>30.0</td>\n",
              "      <td>2014-12-23</td>\n",
              "      <td>2014</td>\n",
              "      <td>374</td>\n",
              "    </tr>\n",
              "    <tr>\n",
              "      <th>51241</th>\n",
              "      <td>173810</td>\n",
              "      <td>30.0</td>\n",
              "      <td>2015-05-28</td>\n",
              "      <td>2015</td>\n",
              "      <td>218</td>\n",
              "    </tr>\n",
              "    <tr>\n",
              "      <th>51242</th>\n",
              "      <td>9830</td>\n",
              "      <td>50.0</td>\n",
              "      <td>2011-11-30</td>\n",
              "      <td>2011</td>\n",
              "      <td>1493</td>\n",
              "    </tr>\n",
              "  </tbody>\n",
              "</table>\n",
              "<p>51243 rows × 5 columns</p>\n",
              "</div>\n",
              "      <button class=\"colab-df-convert\" onclick=\"convertToInteractive('df-8e0edf4d-718a-4117-a804-f86b1136f08e')\"\n",
              "              title=\"Convert this dataframe to an interactive table.\"\n",
              "              style=\"display:none;\">\n",
              "        \n",
              "  <svg xmlns=\"http://www.w3.org/2000/svg\" height=\"24px\"viewBox=\"0 0 24 24\"\n",
              "       width=\"24px\">\n",
              "    <path d=\"M0 0h24v24H0V0z\" fill=\"none\"/>\n",
              "    <path d=\"M18.56 5.44l.94 2.06.94-2.06 2.06-.94-2.06-.94-.94-2.06-.94 2.06-2.06.94zm-11 1L8.5 8.5l.94-2.06 2.06-.94-2.06-.94L8.5 2.5l-.94 2.06-2.06.94zm10 10l.94 2.06.94-2.06 2.06-.94-2.06-.94-.94-2.06-.94 2.06-2.06.94z\"/><path d=\"M17.41 7.96l-1.37-1.37c-.4-.4-.92-.59-1.43-.59-.52 0-1.04.2-1.43.59L10.3 9.45l-7.72 7.72c-.78.78-.78 2.05 0 2.83L4 21.41c.39.39.9.59 1.41.59.51 0 1.02-.2 1.41-.59l7.78-7.78 2.81-2.81c.8-.78.8-2.07 0-2.86zM5.41 20L4 18.59l7.72-7.72 1.47 1.35L5.41 20z\"/>\n",
              "  </svg>\n",
              "      </button>\n",
              "      \n",
              "  <style>\n",
              "    .colab-df-container {\n",
              "      display:flex;\n",
              "      flex-wrap:wrap;\n",
              "      gap: 12px;\n",
              "    }\n",
              "\n",
              "    .colab-df-convert {\n",
              "      background-color: #E8F0FE;\n",
              "      border: none;\n",
              "      border-radius: 50%;\n",
              "      cursor: pointer;\n",
              "      display: none;\n",
              "      fill: #1967D2;\n",
              "      height: 32px;\n",
              "      padding: 0 0 0 0;\n",
              "      width: 32px;\n",
              "    }\n",
              "\n",
              "    .colab-df-convert:hover {\n",
              "      background-color: #E2EBFA;\n",
              "      box-shadow: 0px 1px 2px rgba(60, 64, 67, 0.3), 0px 1px 3px 1px rgba(60, 64, 67, 0.15);\n",
              "      fill: #174EA6;\n",
              "    }\n",
              "\n",
              "    [theme=dark] .colab-df-convert {\n",
              "      background-color: #3B4455;\n",
              "      fill: #D2E3FC;\n",
              "    }\n",
              "\n",
              "    [theme=dark] .colab-df-convert:hover {\n",
              "      background-color: #434B5C;\n",
              "      box-shadow: 0px 1px 3px 1px rgba(0, 0, 0, 0.15);\n",
              "      filter: drop-shadow(0px 1px 2px rgba(0, 0, 0, 0.3));\n",
              "      fill: #FFFFFF;\n",
              "    }\n",
              "  </style>\n",
              "\n",
              "      <script>\n",
              "        const buttonEl =\n",
              "          document.querySelector('#df-8e0edf4d-718a-4117-a804-f86b1136f08e button.colab-df-convert');\n",
              "        buttonEl.style.display =\n",
              "          google.colab.kernel.accessAllowed ? 'block' : 'none';\n",
              "\n",
              "        async function convertToInteractive(key) {\n",
              "          const element = document.querySelector('#df-8e0edf4d-718a-4117-a804-f86b1136f08e');\n",
              "          const dataTable =\n",
              "            await google.colab.kernel.invokeFunction('convertToInteractive',\n",
              "                                                     [key], {});\n",
              "          if (!dataTable) return;\n",
              "\n",
              "          const docLinkHtml = 'Like what you see? Visit the ' +\n",
              "            '<a target=\"_blank\" href=https://colab.research.google.com/notebooks/data_table.ipynb>data table notebook</a>'\n",
              "            + ' to learn more about interactive tables.';\n",
              "          element.innerHTML = '';\n",
              "          dataTable['output_type'] = 'display_data';\n",
              "          await google.colab.output.renderOutput(dataTable, element);\n",
              "          const docLink = document.createElement('div');\n",
              "          docLink.innerHTML = docLinkHtml;\n",
              "          element.appendChild(docLink);\n",
              "        }\n",
              "      </script>\n",
              "    </div>\n",
              "  </div>\n",
              "  "
            ]
          },
          "metadata": {},
          "execution_count": 10
        }
      ],
      "source": [
        "# Get the year from the date\n",
        "df['Year'] = pd. DatetimeIndex(df['Date']). year\n",
        "# Reference Date\n",
        "ref_date = pd.to_datetime('2016-01-01')\n",
        "# Calculate date difference\n",
        "df['DaysSince'] = (ref_date - df['Date']).dt.days\n",
        "df"
      ]
    },
    {
      "cell_type": "markdown",
      "source": [
        "**Year wise transaction analysis**"
      ],
      "metadata": {
        "id": "MBHGUK1Num2X"
      },
      "id": "MBHGUK1Num2X"
    },
    {
      "cell_type": "code",
      "source": [
        "# Number of transactions per year\n",
        "df.Year.value_counts()"
      ],
      "metadata": {
        "colab": {
          "base_uri": "https://localhost:8080/"
        },
        "id": "F1R9p3mntwRJ",
        "outputId": "055374a9-0c0c-417f-ba08-97dddcbe3432"
      },
      "id": "F1R9p3mntwRJ",
      "execution_count": null,
      "outputs": [
        {
          "output_type": "execute_result",
          "data": {
            "text/plain": [
              "2015    6197\n",
              "2012    5960\n",
              "2013    5912\n",
              "2014    5739\n",
              "2009    5054\n",
              "2010    4939\n",
              "2011    4785\n",
              "2007    4674\n",
              "2008    4331\n",
              "2006    2182\n",
              "2005    1470\n",
              "Name: Year, dtype: int64"
            ]
          },
          "metadata": {},
          "execution_count": 13
        }
      ]
    },
    {
      "cell_type": "code",
      "source": [
        "# Bar plot showing number of transactions per year\n",
        "plt.xlabel(\"Year\")\n",
        "plt.ylabel(\"Number of Transactions\")\n",
        "plt.title(\"Number of transactions per year\")\n",
        "plt.bar(height = df.Year.value_counts(), x = df.Year.value_counts().index,color='Maroon')\n",
        "plt.figure(figsize=(5,5))\n",
        "plt.show()"
      ],
      "metadata": {
        "colab": {
          "base_uri": "https://localhost:8080/",
          "height": 312
        },
        "id": "nGsFzJqHpser",
        "outputId": "d3da6640-15ef-4fbc-e19a-4daed866f37a"
      },
      "id": "nGsFzJqHpser",
      "execution_count": null,
      "outputs": [
        {
          "output_type": "display_data",
          "data": {
            "text/plain": [
              "<Figure size 432x288 with 1 Axes>"
            ],
            "image/png": "[encoded data removed]"
          },
          "metadata": {
            "needs_background": "light"
          }
        },
        {
          "output_type": "display_data",
          "data": {
            "text/plain": [
              "<Figure size 360x360 with 0 Axes>"
            ]
          },
          "metadata": {}
        }
      ]
    },
    {
      "cell_type": "code",
      "source": [
        "# Total Sales per year\n",
        "dfyear = df.groupby('Year')['Amount'].sum().reset_index()\n",
        "dfyear"
      ],
      "metadata": {
        "colab": {
          "base_uri": "https://localhost:8080/",
          "height": 394
        },
        "id": "_B-R5gPJs6mG",
        "outputId": "af4cf568-a63b-453d-eff2-8877afb7e281"
      },
      "id": "_B-R5gPJs6mG",
      "execution_count": null,
      "outputs": [
        {
          "output_type": "execute_result",
          "data": {
            "text/plain": [
              "    Year     Amount\n",
              "0   2005   82064.40\n",
              "1   2006  114010.49\n",
              "2   2007  230260.00\n",
              "3   2008  229853.88\n",
              "4   2009  256466.51\n",
              "5   2010  290116.92\n",
              "6   2011  303939.85\n",
              "7   2012  374963.34\n",
              "8   2013  401610.18\n",
              "9   2014  432665.20\n",
              "10  2015  478394.13"
            ],
            "text/html": [
              "\n",
              "  <div id=\"df-0c25a612-7a23-4d42-90b6-b194d9f6d0ca\">\n",
              "    <div class=\"colab-df-container\">\n",
              "      <div>\n",
              "<style scoped>\n",
              "    .dataframe tbody tr th:only-of-type {\n",
              "        vertical-align: middle;\n",
              "    }\n",
              "\n",
              "    .dataframe tbody tr th {\n",
              "        vertical-align: top;\n",
              "    }\n",
              "\n",
              "    .dataframe thead th {\n",
              "        text-align: right;\n",
              "    }\n",
              "</style>\n",
              "<table border=\"1\" class=\"dataframe\">\n",
              "  <thead>\n",
              "    <tr style=\"text-align: right;\">\n",
              "      <th></th>\n",
              "      <th>Year</th>\n",
              "      <th>Amount</th>\n",
              "    </tr>\n",
              "  </thead>\n",
              "  <tbody>\n",
              "    <tr>\n",
              "      <th>0</th>\n",
              "      <td>2005</td>\n",
              "      <td>82064.40</td>\n",
              "    </tr>\n",
              "    <tr>\n",
              "      <th>1</th>\n",
              "      <td>2006</td>\n",
              "      <td>114010.49</td>\n",
              "    </tr>\n",
              "    <tr>\n",
              "      <th>2</th>\n",
              "      <td>2007</td>\n",
              "      <td>230260.00</td>\n",
              "    </tr>\n",
              "    <tr>\n",
              "      <th>3</th>\n",
              "      <td>2008</td>\n",
              "      <td>229853.88</td>\n",
              "    </tr>\n",
              "    <tr>\n",
              "      <th>4</th>\n",
              "      <td>2009</td>\n",
              "      <td>256466.51</td>\n",
              "    </tr>\n",
              "    <tr>\n",
              "      <th>5</th>\n",
              "      <td>2010</td>\n",
              "      <td>290116.92</td>\n",
              "    </tr>\n",
              "    <tr>\n",
              "      <th>6</th>\n",
              "      <td>2011</td>\n",
              "      <td>303939.85</td>\n",
              "    </tr>\n",
              "    <tr>\n",
              "      <th>7</th>\n",
              "      <td>2012</td>\n",
              "      <td>374963.34</td>\n",
              "    </tr>\n",
              "    <tr>\n",
              "      <th>8</th>\n",
              "      <td>2013</td>\n",
              "      <td>401610.18</td>\n",
              "    </tr>\n",
              "    <tr>\n",
              "      <th>9</th>\n",
              "      <td>2014</td>\n",
              "      <td>432665.20</td>\n",
              "    </tr>\n",
              "    <tr>\n",
              "      <th>10</th>\n",
              "      <td>2015</td>\n",
              "      <td>478394.13</td>\n",
              "    </tr>\n",
              "  </tbody>\n",
              "</table>\n",
              "</div>\n",
              "      <button class=\"colab-df-convert\" onclick=\"convertToInteractive('df-0c25a612-7a23-4d42-90b6-b194d9f6d0ca')\"\n",
              "              title=\"Convert this dataframe to an interactive table.\"\n",
              "              style=\"display:none;\">\n",
              "        \n",
              "  <svg xmlns=\"http://www.w3.org/2000/svg\" height=\"24px\"viewBox=\"0 0 24 24\"\n",
              "       width=\"24px\">\n",
              "    <path d=\"M0 0h24v24H0V0z\" fill=\"none\"/>\n",
              "    <path d=\"M18.56 5.44l.94 2.06.94-2.06 2.06-.94-2.06-.94-.94-2.06-.94 2.06-2.06.94zm-11 1L8.5 8.5l.94-2.06 2.06-.94-2.06-.94L8.5 2.5l-.94 2.06-2.06.94zm10 10l.94 2.06.94-2.06 2.06-.94-2.06-.94-.94-2.06-.94 2.06-2.06.94z\"/><path d=\"M17.41 7.96l-1.37-1.37c-.4-.4-.92-.59-1.43-.59-.52 0-1.04.2-1.43.59L10.3 9.45l-7.72 7.72c-.78.78-.78 2.05 0 2.83L4 21.41c.39.39.9.59 1.41.59.51 0 1.02-.2 1.41-.59l7.78-7.78 2.81-2.81c.8-.78.8-2.07 0-2.86zM5.41 20L4 18.59l7.72-7.72 1.47 1.35L5.41 20z\"/>\n",
              "  </svg>\n",
              "      </button>\n",
              "      \n",
              "  <style>\n",
              "    .colab-df-container {\n",
              "      display:flex;\n",
              "      flex-wrap:wrap;\n",
              "      gap: 12px;\n",
              "    }\n",
              "\n",
              "    .colab-df-convert {\n",
              "      background-color: #E8F0FE;\n",
              "      border: none;\n",
              "      border-radius: 50%;\n",
              "      cursor: pointer;\n",
              "      display: none;\n",
              "      fill: #1967D2;\n",
              "      height: 32px;\n",
              "      padding: 0 0 0 0;\n",
              "      width: 32px;\n",
              "    }\n",
              "\n",
              "    .colab-df-convert:hover {\n",
              "      background-color: #E2EBFA;\n",
              "      box-shadow: 0px 1px 2px rgba(60, 64, 67, 0.3), 0px 1px 3px 1px rgba(60, 64, 67, 0.15);\n",
              "      fill: #174EA6;\n",
              "    }\n",
              "\n",
              "    [theme=dark] .colab-df-convert {\n",
              "      background-color: #3B4455;\n",
              "      fill: #D2E3FC;\n",
              "    }\n",
              "\n",
              "    [theme=dark] .colab-df-convert:hover {\n",
              "      background-color: #434B5C;\n",
              "      box-shadow: 0px 1px 3px 1px rgba(0, 0, 0, 0.15);\n",
              "      filter: drop-shadow(0px 1px 2px rgba(0, 0, 0, 0.3));\n",
              "      fill: #FFFFFF;\n",
              "    }\n",
              "  </style>\n",
              "\n",
              "      <script>\n",
              "        const buttonEl =\n",
              "          document.querySelector('#df-0c25a612-7a23-4d42-90b6-b194d9f6d0ca button.colab-df-convert');\n",
              "        buttonEl.style.display =\n",
              "          google.colab.kernel.accessAllowed ? 'block' : 'none';\n",
              "\n",
              "        async function convertToInteractive(key) {\n",
              "          const element = document.querySelector('#df-0c25a612-7a23-4d42-90b6-b194d9f6d0ca');\n",
              "          const dataTable =\n",
              "            await google.colab.kernel.invokeFunction('convertToInteractive',\n",
              "                                                     [key], {});\n",
              "          if (!dataTable) return;\n",
              "\n",
              "          const docLinkHtml = 'Like what you see? Visit the ' +\n",
              "            '<a target=\"_blank\" href=https://colab.research.google.com/notebooks/data_table.ipynb>data table notebook</a>'\n",
              "            + ' to learn more about interactive tables.';\n",
              "          element.innerHTML = '';\n",
              "          dataTable['output_type'] = 'display_data';\n",
              "          await google.colab.output.renderOutput(dataTable, element);\n",
              "          const docLink = document.createElement('div');\n",
              "          docLink.innerHTML = docLinkHtml;\n",
              "          element.appendChild(docLink);\n",
              "        }\n",
              "      </script>\n",
              "    </div>\n",
              "  </div>\n",
              "  "
            ]
          },
          "metadata": {},
          "execution_count": 20
        }
      ]
    },
    {
      "cell_type": "code",
      "source": [
        "# Bar plot showing total sales per year\n",
        "plt.xlabel(\"Year\")\n",
        "plt.ylabel(\"Total Sales\")\n",
        "plt.title(\"Total Sales per Year\")\n",
        "plt.bar(height = dfyear.Amount, x = dfyear.Year,color='Maroon')\n",
        "plt.figure(figsize=(5,5))\n",
        "plt.show()"
      ],
      "metadata": {
        "colab": {
          "base_uri": "https://localhost:8080/",
          "height": 312
        },
        "id": "M76vI2yyt39L",
        "outputId": "c216811c-c257-4d9e-df90-51b1da45b014"
      },
      "id": "M76vI2yyt39L",
      "execution_count": null,
      "outputs": [
        {
          "output_type": "display_data",
          "data": {
            "text/plain": [
              "<Figure size 432x288 with 1 Axes>"
            ],
            "image/png": "[encoded data removed]"
          },
          "metadata": {
            "needs_background": "light"
          }
        },
        {
          "output_type": "display_data",
          "data": {
            "text/plain": [
              "<Figure size 360x360 with 0 Axes>"
            ]
          },
          "metadata": {}
        }
      ]
    },
    {
      "cell_type": "code",
      "source": [
        "# Average sales per year\n",
        "dfyeara = df.groupby('Year')['Amount'].mean().reset_index()\n",
        "dfyeara"
      ],
      "metadata": {
        "colab": {
          "base_uri": "https://localhost:8080/",
          "height": 394
        },
        "id": "GUlslXfzuQhg",
        "outputId": "65fa8c54-feaf-46db-bcd8-b0e4d290870b"
      },
      "id": "GUlslXfzuQhg",
      "execution_count": null,
      "outputs": [
        {
          "output_type": "execute_result",
          "data": {
            "text/plain": [
              "    Year     Amount\n",
              "0   2005  55.826122\n",
              "1   2006  52.250454\n",
              "2   2007  49.264014\n",
              "3   2008  53.071780\n",
              "4   2009  50.745253\n",
              "5   2010  58.740012\n",
              "6   2011  63.519300\n",
              "7   2012  62.913312\n",
              "8   2013  67.931357\n",
              "9   2014  75.390347\n",
              "10  2015  77.197697"
            ],
            "text/html": [
              "\n",
              "  <div id=\"df-01c5e567-f7ec-4486-bfe3-274ee1359c6b\">\n",
              "    <div class=\"colab-df-container\">\n",
              "      <div>\n",
              "<style scoped>\n",
              "    .dataframe tbody tr th:only-of-type {\n",
              "        vertical-align: middle;\n",
              "    }\n",
              "\n",
              "    .dataframe tbody tr th {\n",
              "        vertical-align: top;\n",
              "    }\n",
              "\n",
              "    .dataframe thead th {\n",
              "        text-align: right;\n",
              "    }\n",
              "</style>\n",
              "<table border=\"1\" class=\"dataframe\">\n",
              "  <thead>\n",
              "    <tr style=\"text-align: right;\">\n",
              "      <th></th>\n",
              "      <th>Year</th>\n",
              "      <th>Amount</th>\n",
              "    </tr>\n",
              "  </thead>\n",
              "  <tbody>\n",
              "    <tr>\n",
              "      <th>0</th>\n",
              "      <td>2005</td>\n",
              "      <td>55.826122</td>\n",
              "    </tr>\n",
              "    <tr>\n",
              "      <th>1</th>\n",
              "      <td>2006</td>\n",
              "      <td>52.250454</td>\n",
              "    </tr>\n",
              "    <tr>\n",
              "      <th>2</th>\n",
              "      <td>2007</td>\n",
              "      <td>49.264014</td>\n",
              "    </tr>\n",
              "    <tr>\n",
              "      <th>3</th>\n",
              "      <td>2008</td>\n",
              "      <td>53.071780</td>\n",
              "    </tr>\n",
              "    <tr>\n",
              "      <th>4</th>\n",
              "      <td>2009</td>\n",
              "      <td>50.745253</td>\n",
              "    </tr>\n",
              "    <tr>\n",
              "      <th>5</th>\n",
              "      <td>2010</td>\n",
              "      <td>58.740012</td>\n",
              "    </tr>\n",
              "    <tr>\n",
              "      <th>6</th>\n",
              "      <td>2011</td>\n",
              "      <td>63.519300</td>\n",
              "    </tr>\n",
              "    <tr>\n",
              "      <th>7</th>\n",
              "      <td>2012</td>\n",
              "      <td>62.913312</td>\n",
              "    </tr>\n",
              "    <tr>\n",
              "      <th>8</th>\n",
              "      <td>2013</td>\n",
              "      <td>67.931357</td>\n",
              "    </tr>\n",
              "    <tr>\n",
              "      <th>9</th>\n",
              "      <td>2014</td>\n",
              "      <td>75.390347</td>\n",
              "    </tr>\n",
              "    <tr>\n",
              "      <th>10</th>\n",
              "      <td>2015</td>\n",
              "      <td>77.197697</td>\n",
              "    </tr>\n",
              "  </tbody>\n",
              "</table>\n",
              "</div>\n",
              "      <button class=\"colab-df-convert\" onclick=\"convertToInteractive('df-01c5e567-f7ec-4486-bfe3-274ee1359c6b')\"\n",
              "              title=\"Convert this dataframe to an interactive table.\"\n",
              "              style=\"display:none;\">\n",
              "        \n",
              "  <svg xmlns=\"http://www.w3.org/2000/svg\" height=\"24px\"viewBox=\"0 0 24 24\"\n",
              "       width=\"24px\">\n",
              "    <path d=\"M0 0h24v24H0V0z\" fill=\"none\"/>\n",
              "    <path d=\"M18.56 5.44l.94 2.06.94-2.06 2.06-.94-2.06-.94-.94-2.06-.94 2.06-2.06.94zm-11 1L8.5 8.5l.94-2.06 2.06-.94-2.06-.94L8.5 2.5l-.94 2.06-2.06.94zm10 10l.94 2.06.94-2.06 2.06-.94-2.06-.94-.94-2.06-.94 2.06-2.06.94z\"/><path d=\"M17.41 7.96l-1.37-1.37c-.4-.4-.92-.59-1.43-.59-.52 0-1.04.2-1.43.59L10.3 9.45l-7.72 7.72c-.78.78-.78 2.05 0 2.83L4 21.41c.39.39.9.59 1.41.59.51 0 1.02-.2 1.41-.59l7.78-7.78 2.81-2.81c.8-.78.8-2.07 0-2.86zM5.41 20L4 18.59l7.72-7.72 1.47 1.35L5.41 20z\"/>\n",
              "  </svg>\n",
              "      </button>\n",
              "      \n",
              "  <style>\n",
              "    .colab-df-container {\n",
              "      display:flex;\n",
              "      flex-wrap:wrap;\n",
              "      gap: 12px;\n",
              "    }\n",
              "\n",
              "    .colab-df-convert {\n",
              "      background-color: #E8F0FE;\n",
              "      border: none;\n",
              "      border-radius: 50%;\n",
              "      cursor: pointer;\n",
              "      display: none;\n",
              "      fill: #1967D2;\n",
              "      height: 32px;\n",
              "      padding: 0 0 0 0;\n",
              "      width: 32px;\n",
              "    }\n",
              "\n",
              "    .colab-df-convert:hover {\n",
              "      background-color: #E2EBFA;\n",
              "      box-shadow: 0px 1px 2px rgba(60, 64, 67, 0.3), 0px 1px 3px 1px rgba(60, 64, 67, 0.15);\n",
              "      fill: #174EA6;\n",
              "    }\n",
              "\n",
              "    [theme=dark] .colab-df-convert {\n",
              "      background-color: #3B4455;\n",
              "      fill: #D2E3FC;\n",
              "    }\n",
              "\n",
              "    [theme=dark] .colab-df-convert:hover {\n",
              "      background-color: #434B5C;\n",
              "      box-shadow: 0px 1px 3px 1px rgba(0, 0, 0, 0.15);\n",
              "      filter: drop-shadow(0px 1px 2px rgba(0, 0, 0, 0.3));\n",
              "      fill: #FFFFFF;\n",
              "    }\n",
              "  </style>\n",
              "\n",
              "      <script>\n",
              "        const buttonEl =\n",
              "          document.querySelector('#df-01c5e567-f7ec-4486-bfe3-274ee1359c6b button.colab-df-convert');\n",
              "        buttonEl.style.display =\n",
              "          google.colab.kernel.accessAllowed ? 'block' : 'none';\n",
              "\n",
              "        async function convertToInteractive(key) {\n",
              "          const element = document.querySelector('#df-01c5e567-f7ec-4486-bfe3-274ee1359c6b');\n",
              "          const dataTable =\n",
              "            await google.colab.kernel.invokeFunction('convertToInteractive',\n",
              "                                                     [key], {});\n",
              "          if (!dataTable) return;\n",
              "\n",
              "          const docLinkHtml = 'Like what you see? Visit the ' +\n",
              "            '<a target=\"_blank\" href=https://colab.research.google.com/notebooks/data_table.ipynb>data table notebook</a>'\n",
              "            + ' to learn more about interactive tables.';\n",
              "          element.innerHTML = '';\n",
              "          dataTable['output_type'] = 'display_data';\n",
              "          await google.colab.output.renderOutput(dataTable, element);\n",
              "          const docLink = document.createElement('div');\n",
              "          docLink.innerHTML = docLinkHtml;\n",
              "          element.appendChild(docLink);\n",
              "        }\n",
              "      </script>\n",
              "    </div>\n",
              "  </div>\n",
              "  "
            ]
          },
          "metadata": {},
          "execution_count": 22
        }
      ]
    },
    {
      "cell_type": "code",
      "source": [
        "# Bar plot showing average sales per year\n",
        "plt.xlabel(\"Year\")\n",
        "plt.ylabel(\"Average Sales\")\n",
        "plt.title(\"Average Sales per Year\")\n",
        "plt.bar(height = dfyeara.Amount, x = dfyeara.Year,color='Maroon')\n",
        "plt.figure(figsize=(5,5))\n",
        "plt.show()"
      ],
      "metadata": {
        "colab": {
          "base_uri": "https://localhost:8080/",
          "height": 312
        },
        "id": "UlBnnLh3uZoz",
        "outputId": "9f9ccfaf-6eb2-4c25-bd0c-578a4562d3d0"
      },
      "id": "UlBnnLh3uZoz",
      "execution_count": null,
      "outputs": [
        {
          "output_type": "display_data",
          "data": {
            "text/plain": [
              "<Figure size 432x288 with 1 Axes>"
            ],
            "image/png": "[encoded data removed]"
          },
          "metadata": {
            "needs_background": "light"
          }
        },
        {
          "output_type": "display_data",
          "data": {
            "text/plain": [
              "<Figure size 360x360 with 0 Axes>"
            ]
          },
          "metadata": {}
        }
      ]
    },
    {
      "cell_type": "code",
      "source": [
        "dfyearwise = pd.DataFrame(columns=['Year', 'NumberofTransactions', 'AverageSales', 'TotalSales'])\n",
        "dfyearwise['Year'] = dfyear['Year']\n",
        "dfyearwise['NumberofTransactions'] = df.Year.value_counts().sort_index(ascending=True).to_frame().values\n",
        "dfyearwise['AverageSales'] = dfyeara['Amount']\n",
        "dfyearwise['TotalSales'] = dfyear['Amount']\n",
        "dfyearwise"
      ],
      "metadata": {
        "colab": {
          "base_uri": "https://localhost:8080/",
          "height": 394
        },
        "id": "6-S_InqwuuqG",
        "outputId": "1b4cffa0-c088-4809-9f39-cafe1ab5f80c"
      },
      "id": "6-S_InqwuuqG",
      "execution_count": null,
      "outputs": [
        {
          "output_type": "execute_result",
          "data": {
            "text/plain": [
              "    Year  NumberofTransactions  AverageSales  TotalSales\n",
              "0   2005                  1470     55.826122    82064.40\n",
              "1   2006                  2182     52.250454   114010.49\n",
              "2   2007                  4674     49.264014   230260.00\n",
              "3   2008                  4331     53.071780   229853.88\n",
              "4   2009                  5054     50.745253   256466.51\n",
              "5   2010                  4939     58.740012   290116.92\n",
              "6   2011                  4785     63.519300   303939.85\n",
              "7   2012                  5960     62.913312   374963.34\n",
              "8   2013                  5912     67.931357   401610.18\n",
              "9   2014                  5739     75.390347   432665.20\n",
              "10  2015                  6197     77.197697   478394.13"
            ],
            "text/html": [
              "\n",
              "  <div id=\"df-99d302fb-f473-4b1a-9883-8963391dacab\">\n",
              "    <div class=\"colab-df-container\">\n",
              "      <div>\n",
              "<style scoped>\n",
              "    .dataframe tbody tr th:only-of-type {\n",
              "        vertical-align: middle;\n",
              "    }\n",
              "\n",
              "    .dataframe tbody tr th {\n",
              "        vertical-align: top;\n",
              "    }\n",
              "\n",
              "    .dataframe thead th {\n",
              "        text-align: right;\n",
              "    }\n",
              "</style>\n",
              "<table border=\"1\" class=\"dataframe\">\n",
              "  <thead>\n",
              "    <tr style=\"text-align: right;\">\n",
              "      <th></th>\n",
              "      <th>Year</th>\n",
              "      <th>NumberofTransactions</th>\n",
              "      <th>AverageSales</th>\n",
              "      <th>TotalSales</th>\n",
              "    </tr>\n",
              "  </thead>\n",
              "  <tbody>\n",
              "    <tr>\n",
              "      <th>0</th>\n",
              "      <td>2005</td>\n",
              "      <td>1470</td>\n",
              "      <td>55.826122</td>\n",
              "      <td>82064.40</td>\n",
              "    </tr>\n",
              "    <tr>\n",
              "      <th>1</th>\n",
              "      <td>2006</td>\n",
              "      <td>2182</td>\n",
              "      <td>52.250454</td>\n",
              "      <td>114010.49</td>\n",
              "    </tr>\n",
              "    <tr>\n",
              "      <th>2</th>\n",
              "      <td>2007</td>\n",
              "      <td>4674</td>\n",
              "      <td>49.264014</td>\n",
              "      <td>230260.00</td>\n",
              "    </tr>\n",
              "    <tr>\n",
              "      <th>3</th>\n",
              "      <td>2008</td>\n",
              "      <td>4331</td>\n",
              "      <td>53.071780</td>\n",
              "      <td>229853.88</td>\n",
              "    </tr>\n",
              "    <tr>\n",
              "      <th>4</th>\n",
              "      <td>2009</td>\n",
              "      <td>5054</td>\n",
              "      <td>50.745253</td>\n",
              "      <td>256466.51</td>\n",
              "    </tr>\n",
              "    <tr>\n",
              "      <th>5</th>\n",
              "      <td>2010</td>\n",
              "      <td>4939</td>\n",
              "      <td>58.740012</td>\n",
              "      <td>290116.92</td>\n",
              "    </tr>\n",
              "    <tr>\n",
              "      <th>6</th>\n",
              "      <td>2011</td>\n",
              "      <td>4785</td>\n",
              "      <td>63.519300</td>\n",
              "      <td>303939.85</td>\n",
              "    </tr>\n",
              "    <tr>\n",
              "      <th>7</th>\n",
              "      <td>2012</td>\n",
              "      <td>5960</td>\n",
              "      <td>62.913312</td>\n",
              "      <td>374963.34</td>\n",
              "    </tr>\n",
              "    <tr>\n",
              "      <th>8</th>\n",
              "      <td>2013</td>\n",
              "      <td>5912</td>\n",
              "      <td>67.931357</td>\n",
              "      <td>401610.18</td>\n",
              "    </tr>\n",
              "    <tr>\n",
              "      <th>9</th>\n",
              "      <td>2014</td>\n",
              "      <td>5739</td>\n",
              "      <td>75.390347</td>\n",
              "      <td>432665.20</td>\n",
              "    </tr>\n",
              "    <tr>\n",
              "      <th>10</th>\n",
              "      <td>2015</td>\n",
              "      <td>6197</td>\n",
              "      <td>77.197697</td>\n",
              "      <td>478394.13</td>\n",
              "    </tr>\n",
              "  </tbody>\n",
              "</table>\n",
              "</div>\n",
              "      <button class=\"colab-df-convert\" onclick=\"convertToInteractive('df-99d302fb-f473-4b1a-9883-8963391dacab')\"\n",
              "              title=\"Convert this dataframe to an interactive table.\"\n",
              "              style=\"display:none;\">\n",
              "        \n",
              "  <svg xmlns=\"http://www.w3.org/2000/svg\" height=\"24px\"viewBox=\"0 0 24 24\"\n",
              "       width=\"24px\">\n",
              "    <path d=\"M0 0h24v24H0V0z\" fill=\"none\"/>\n",
              "    <path d=\"M18.56 5.44l.94 2.06.94-2.06 2.06-.94-2.06-.94-.94-2.06-.94 2.06-2.06.94zm-11 1L8.5 8.5l.94-2.06 2.06-.94-2.06-.94L8.5 2.5l-.94 2.06-2.06.94zm10 10l.94 2.06.94-2.06 2.06-.94-2.06-.94-.94-2.06-.94 2.06-2.06.94z\"/><path d=\"M17.41 7.96l-1.37-1.37c-.4-.4-.92-.59-1.43-.59-.52 0-1.04.2-1.43.59L10.3 9.45l-7.72 7.72c-.78.78-.78 2.05 0 2.83L4 21.41c.39.39.9.59 1.41.59.51 0 1.02-.2 1.41-.59l7.78-7.78 2.81-2.81c.8-.78.8-2.07 0-2.86zM5.41 20L4 18.59l7.72-7.72 1.47 1.35L5.41 20z\"/>\n",
              "  </svg>\n",
              "      </button>\n",
              "      \n",
              "  <style>\n",
              "    .colab-df-container {\n",
              "      display:flex;\n",
              "      flex-wrap:wrap;\n",
              "      gap: 12px;\n",
              "    }\n",
              "\n",
              "    .colab-df-convert {\n",
              "      background-color: #E8F0FE;\n",
              "      border: none;\n",
              "      border-radius: 50%;\n",
              "      cursor: pointer;\n",
              "      display: none;\n",
              "      fill: #1967D2;\n",
              "      height: 32px;\n",
              "      padding: 0 0 0 0;\n",
              "      width: 32px;\n",
              "    }\n",
              "\n",
              "    .colab-df-convert:hover {\n",
              "      background-color: #E2EBFA;\n",
              "      box-shadow: 0px 1px 2px rgba(60, 64, 67, 0.3), 0px 1px 3px 1px rgba(60, 64, 67, 0.15);\n",
              "      fill: #174EA6;\n",
              "    }\n",
              "\n",
              "    [theme=dark] .colab-df-convert {\n",
              "      background-color: #3B4455;\n",
              "      fill: #D2E3FC;\n",
              "    }\n",
              "\n",
              "    [theme=dark] .colab-df-convert:hover {\n",
              "      background-color: #434B5C;\n",
              "      box-shadow: 0px 1px 3px 1px rgba(0, 0, 0, 0.15);\n",
              "      filter: drop-shadow(0px 1px 2px rgba(0, 0, 0, 0.3));\n",
              "      fill: #FFFFFF;\n",
              "    }\n",
              "  </style>\n",
              "\n",
              "      <script>\n",
              "        const buttonEl =\n",
              "          document.querySelector('#df-99d302fb-f473-4b1a-9883-8963391dacab button.colab-df-convert');\n",
              "        buttonEl.style.display =\n",
              "          google.colab.kernel.accessAllowed ? 'block' : 'none';\n",
              "\n",
              "        async function convertToInteractive(key) {\n",
              "          const element = document.querySelector('#df-99d302fb-f473-4b1a-9883-8963391dacab');\n",
              "          const dataTable =\n",
              "            await google.colab.kernel.invokeFunction('convertToInteractive',\n",
              "                                                     [key], {});\n",
              "          if (!dataTable) return;\n",
              "\n",
              "          const docLinkHtml = 'Like what you see? Visit the ' +\n",
              "            '<a target=\"_blank\" href=https://colab.research.google.com/notebooks/data_table.ipynb>data table notebook</a>'\n",
              "            + ' to learn more about interactive tables.';\n",
              "          element.innerHTML = '';\n",
              "          dataTable['output_type'] = 'display_data';\n",
              "          await google.colab.output.renderOutput(dataTable, element);\n",
              "          const docLink = document.createElement('div');\n",
              "          docLink.innerHTML = docLinkHtml;\n",
              "          element.appendChild(docLink);\n",
              "        }\n",
              "      </script>\n",
              "    </div>\n",
              "  </div>\n",
              "  "
            ]
          },
          "metadata": {},
          "execution_count": 24
        }
      ]
    },
    {
      "cell_type": "markdown",
      "source": [
        ""
      ],
      "metadata": {
        "id": "4x6ZM1moxaK7"
      },
      "id": "4x6ZM1moxaK7"
    },
    {
      "cell_type": "markdown",
      "source": [
        "# RFM Analysis\n",
        "\n",
        "RFM Analysis is a customer segmentation technique that uses past buying behaviour to segment customers\n",
        "\n",
        "Past buying behaviour is gauged in terms of\n",
        "\n",
        "**Recency:** When was the last time, customer bought something from the store. It is the difference between a reference date(say today) and the last time customer bought something.\n",
        "\n",
        "**Frequency:** How often customer buys something from the store. It is equal to number of customer visits to store where they bought something.\n",
        "\n",
        "**Monetary:** The average value of purchase, customer makes per occasion."
      ],
      "metadata": {
        "id": "bCoCBVWhxbE6"
      },
      "id": "bCoCBVWhxbE6"
    },
    {
      "cell_type": "code",
      "execution_count": null,
      "id": "375146c8",
      "metadata": {
        "id": "375146c8",
        "colab": {
          "base_uri": "https://localhost:8080/",
          "height": 206
        },
        "outputId": "738a521e-6cd7-4e35-a3c5-4f5fb0814c2a"
      },
      "outputs": [
        {
          "output_type": "execute_result",
          "data": {
            "text/plain": [
              "  CustomerId  AveragePurchaseAmount  Recency  FirstPurchase\n",
              "0         10              30.000000     3829           3829\n",
              "1       1000              22.500000     1120           3710\n",
              "2     100000              35.000000     2072           2750\n",
              "3     100010              27.857143      413           2750\n",
              "4     100020              30.000000     2750           2750"
            ],
            "text/html": [
              "\n",
              "  <div id=\"df-f37fbdf6-b7b9-439e-820e-ca19eb4d3fec\">\n",
              "    <div class=\"colab-df-container\">\n",
              "      <div>\n",
              "<style scoped>\n",
              "    .dataframe tbody tr th:only-of-type {\n",
              "        vertical-align: middle;\n",
              "    }\n",
              "\n",
              "    .dataframe tbody tr th {\n",
              "        vertical-align: top;\n",
              "    }\n",
              "\n",
              "    .dataframe thead th {\n",
              "        text-align: right;\n",
              "    }\n",
              "</style>\n",
              "<table border=\"1\" class=\"dataframe\">\n",
              "  <thead>\n",
              "    <tr style=\"text-align: right;\">\n",
              "      <th></th>\n",
              "      <th>CustomerId</th>\n",
              "      <th>AveragePurchaseAmount</th>\n",
              "      <th>Recency</th>\n",
              "      <th>FirstPurchase</th>\n",
              "    </tr>\n",
              "  </thead>\n",
              "  <tbody>\n",
              "    <tr>\n",
              "      <th>0</th>\n",
              "      <td>10</td>\n",
              "      <td>30.000000</td>\n",
              "      <td>3829</td>\n",
              "      <td>3829</td>\n",
              "    </tr>\n",
              "    <tr>\n",
              "      <th>1</th>\n",
              "      <td>1000</td>\n",
              "      <td>22.500000</td>\n",
              "      <td>1120</td>\n",
              "      <td>3710</td>\n",
              "    </tr>\n",
              "    <tr>\n",
              "      <th>2</th>\n",
              "      <td>100000</td>\n",
              "      <td>35.000000</td>\n",
              "      <td>2072</td>\n",
              "      <td>2750</td>\n",
              "    </tr>\n",
              "    <tr>\n",
              "      <th>3</th>\n",
              "      <td>100010</td>\n",
              "      <td>27.857143</td>\n",
              "      <td>413</td>\n",
              "      <td>2750</td>\n",
              "    </tr>\n",
              "    <tr>\n",
              "      <th>4</th>\n",
              "      <td>100020</td>\n",
              "      <td>30.000000</td>\n",
              "      <td>2750</td>\n",
              "      <td>2750</td>\n",
              "    </tr>\n",
              "  </tbody>\n",
              "</table>\n",
              "</div>\n",
              "      <button class=\"colab-df-convert\" onclick=\"convertToInteractive('df-f37fbdf6-b7b9-439e-820e-ca19eb4d3fec')\"\n",
              "              title=\"Convert this dataframe to an interactive table.\"\n",
              "              style=\"display:none;\">\n",
              "        \n",
              "  <svg xmlns=\"http://www.w3.org/2000/svg\" height=\"24px\"viewBox=\"0 0 24 24\"\n",
              "       width=\"24px\">\n",
              "    <path d=\"M0 0h24v24H0V0z\" fill=\"none\"/>\n",
              "    <path d=\"M18.56 5.44l.94 2.06.94-2.06 2.06-.94-2.06-.94-.94-2.06-.94 2.06-2.06.94zm-11 1L8.5 8.5l.94-2.06 2.06-.94-2.06-.94L8.5 2.5l-.94 2.06-2.06.94zm10 10l.94 2.06.94-2.06 2.06-.94-2.06-.94-.94-2.06-.94 2.06-2.06.94z\"/><path d=\"M17.41 7.96l-1.37-1.37c-.4-.4-.92-.59-1.43-.59-.52 0-1.04.2-1.43.59L10.3 9.45l-7.72 7.72c-.78.78-.78 2.05 0 2.83L4 21.41c.39.39.9.59 1.41.59.51 0 1.02-.2 1.41-.59l7.78-7.78 2.81-2.81c.8-.78.8-2.07 0-2.86zM5.41 20L4 18.59l7.72-7.72 1.47 1.35L5.41 20z\"/>\n",
              "  </svg>\n",
              "      </button>\n",
              "      \n",
              "  <style>\n",
              "    .colab-df-container {\n",
              "      display:flex;\n",
              "      flex-wrap:wrap;\n",
              "      gap: 12px;\n",
              "    }\n",
              "\n",
              "    .colab-df-convert {\n",
              "      background-color: #E8F0FE;\n",
              "      border: none;\n",
              "      border-radius: 50%;\n",
              "      cursor: pointer;\n",
              "      display: none;\n",
              "      fill: #1967D2;\n",
              "      height: 32px;\n",
              "      padding: 0 0 0 0;\n",
              "      width: 32px;\n",
              "    }\n",
              "\n",
              "    .colab-df-convert:hover {\n",
              "      background-color: #E2EBFA;\n",
              "      box-shadow: 0px 1px 2px rgba(60, 64, 67, 0.3), 0px 1px 3px 1px rgba(60, 64, 67, 0.15);\n",
              "      fill: #174EA6;\n",
              "    }\n",
              "\n",
              "    [theme=dark] .colab-df-convert {\n",
              "      background-color: #3B4455;\n",
              "      fill: #D2E3FC;\n",
              "    }\n",
              "\n",
              "    [theme=dark] .colab-df-convert:hover {\n",
              "      background-color: #434B5C;\n",
              "      box-shadow: 0px 1px 3px 1px rgba(0, 0, 0, 0.15);\n",
              "      filter: drop-shadow(0px 1px 2px rgba(0, 0, 0, 0.3));\n",
              "      fill: #FFFFFF;\n",
              "    }\n",
              "  </style>\n",
              "\n",
              "      <script>\n",
              "        const buttonEl =\n",
              "          document.querySelector('#df-f37fbdf6-b7b9-439e-820e-ca19eb4d3fec button.colab-df-convert');\n",
              "        buttonEl.style.display =\n",
              "          google.colab.kernel.accessAllowed ? 'block' : 'none';\n",
              "\n",
              "        async function convertToInteractive(key) {\n",
              "          const element = document.querySelector('#df-f37fbdf6-b7b9-439e-820e-ca19eb4d3fec');\n",
              "          const dataTable =\n",
              "            await google.colab.kernel.invokeFunction('convertToInteractive',\n",
              "                                                     [key], {});\n",
              "          if (!dataTable) return;\n",
              "\n",
              "          const docLinkHtml = 'Like what you see? Visit the ' +\n",
              "            '<a target=\"_blank\" href=https://colab.research.google.com/notebooks/data_table.ipynb>data table notebook</a>'\n",
              "            + ' to learn more about interactive tables.';\n",
              "          element.innerHTML = '';\n",
              "          dataTable['output_type'] = 'display_data';\n",
              "          await google.colab.output.renderOutput(dataTable, element);\n",
              "          const docLink = document.createElement('div');\n",
              "          docLink.innerHTML = docLinkHtml;\n",
              "          element.appendChild(docLink);\n",
              "        }\n",
              "      </script>\n",
              "    </div>\n",
              "  </div>\n",
              "  "
            ]
          },
          "metadata": {},
          "execution_count": 25
        }
      ],
      "source": [
        "# Get recency, days since first purchase and average purchase amount for all the customers\n",
        "df1 = df.groupby('CustomerId').agg(AveragePurchaseAmount = (\"Amount\" , 'mean'),Recency = ('DaysSince' , 'min'), FirstPurchase\n",
        "                                  = ('DaysSince' , 'max')).reset_index()\n",
        "df1.head()"
      ]
    },
    {
      "cell_type": "code",
      "execution_count": null,
      "id": "e9b24e7c",
      "metadata": {
        "colab": {
          "base_uri": "https://localhost:8080/",
          "height": 206
        },
        "id": "e9b24e7c",
        "outputId": "71059d65-f4cb-4452-dbc8-c9bc41685ad8"
      },
      "outputs": [
        {
          "output_type": "execute_result",
          "data": {
            "text/plain": [
              "  CustomerId  Frequency\n",
              "0       9720         45\n",
              "1     109370         41\n",
              "2     119430         38\n",
              "3      10720         37\n",
              "4       1420         34"
            ],
            "text/html": [
              "\n",
              "  <div id=\"df-d3b6646e-d58a-49fa-a048-a1d9fe2866d0\">\n",
              "    <div class=\"colab-df-container\">\n",
              "      <div>\n",
              "<style scoped>\n",
              "    .dataframe tbody tr th:only-of-type {\n",
              "        vertical-align: middle;\n",
              "    }\n",
              "\n",
              "    .dataframe tbody tr th {\n",
              "        vertical-align: top;\n",
              "    }\n",
              "\n",
              "    .dataframe thead th {\n",
              "        text-align: right;\n",
              "    }\n",
              "</style>\n",
              "<table border=\"1\" class=\"dataframe\">\n",
              "  <thead>\n",
              "    <tr style=\"text-align: right;\">\n",
              "      <th></th>\n",
              "      <th>CustomerId</th>\n",
              "      <th>Frequency</th>\n",
              "    </tr>\n",
              "  </thead>\n",
              "  <tbody>\n",
              "    <tr>\n",
              "      <th>0</th>\n",
              "      <td>9720</td>\n",
              "      <td>45</td>\n",
              "    </tr>\n",
              "    <tr>\n",
              "      <th>1</th>\n",
              "      <td>109370</td>\n",
              "      <td>41</td>\n",
              "    </tr>\n",
              "    <tr>\n",
              "      <th>2</th>\n",
              "      <td>119430</td>\n",
              "      <td>38</td>\n",
              "    </tr>\n",
              "    <tr>\n",
              "      <th>3</th>\n",
              "      <td>10720</td>\n",
              "      <td>37</td>\n",
              "    </tr>\n",
              "    <tr>\n",
              "      <th>4</th>\n",
              "      <td>1420</td>\n",
              "      <td>34</td>\n",
              "    </tr>\n",
              "  </tbody>\n",
              "</table>\n",
              "</div>\n",
              "      <button class=\"colab-df-convert\" onclick=\"convertToInteractive('df-d3b6646e-d58a-49fa-a048-a1d9fe2866d0')\"\n",
              "              title=\"Convert this dataframe to an interactive table.\"\n",
              "              style=\"display:none;\">\n",
              "        \n",
              "  <svg xmlns=\"http://www.w3.org/2000/svg\" height=\"24px\"viewBox=\"0 0 24 24\"\n",
              "       width=\"24px\">\n",
              "    <path d=\"M0 0h24v24H0V0z\" fill=\"none\"/>\n",
              "    <path d=\"M18.56 5.44l.94 2.06.94-2.06 2.06-.94-2.06-.94-.94-2.06-.94 2.06-2.06.94zm-11 1L8.5 8.5l.94-2.06 2.06-.94-2.06-.94L8.5 2.5l-.94 2.06-2.06.94zm10 10l.94 2.06.94-2.06 2.06-.94-2.06-.94-.94-2.06-.94 2.06-2.06.94z\"/><path d=\"M17.41 7.96l-1.37-1.37c-.4-.4-.92-.59-1.43-.59-.52 0-1.04.2-1.43.59L10.3 9.45l-7.72 7.72c-.78.78-.78 2.05 0 2.83L4 21.41c.39.39.9.59 1.41.59.51 0 1.02-.2 1.41-.59l7.78-7.78 2.81-2.81c.8-.78.8-2.07 0-2.86zM5.41 20L4 18.59l7.72-7.72 1.47 1.35L5.41 20z\"/>\n",
              "  </svg>\n",
              "      </button>\n",
              "      \n",
              "  <style>\n",
              "    .colab-df-container {\n",
              "      display:flex;\n",
              "      flex-wrap:wrap;\n",
              "      gap: 12px;\n",
              "    }\n",
              "\n",
              "    .colab-df-convert {\n",
              "      background-color: #E8F0FE;\n",
              "      border: none;\n",
              "      border-radius: 50%;\n",
              "      cursor: pointer;\n",
              "      display: none;\n",
              "      fill: #1967D2;\n",
              "      height: 32px;\n",
              "      padding: 0 0 0 0;\n",
              "      width: 32px;\n",
              "    }\n",
              "\n",
              "    .colab-df-convert:hover {\n",
              "      background-color: #E2EBFA;\n",
              "      box-shadow: 0px 1px 2px rgba(60, 64, 67, 0.3), 0px 1px 3px 1px rgba(60, 64, 67, 0.15);\n",
              "      fill: #174EA6;\n",
              "    }\n",
              "\n",
              "    [theme=dark] .colab-df-convert {\n",
              "      background-color: #3B4455;\n",
              "      fill: #D2E3FC;\n",
              "    }\n",
              "\n",
              "    [theme=dark] .colab-df-convert:hover {\n",
              "      background-color: #434B5C;\n",
              "      box-shadow: 0px 1px 3px 1px rgba(0, 0, 0, 0.15);\n",
              "      filter: drop-shadow(0px 1px 2px rgba(0, 0, 0, 0.3));\n",
              "      fill: #FFFFFF;\n",
              "    }\n",
              "  </style>\n",
              "\n",
              "      <script>\n",
              "        const buttonEl =\n",
              "          document.querySelector('#df-d3b6646e-d58a-49fa-a048-a1d9fe2866d0 button.colab-df-convert');\n",
              "        buttonEl.style.display =\n",
              "          google.colab.kernel.accessAllowed ? 'block' : 'none';\n",
              "\n",
              "        async function convertToInteractive(key) {\n",
              "          const element = document.querySelector('#df-d3b6646e-d58a-49fa-a048-a1d9fe2866d0');\n",
              "          const dataTable =\n",
              "            await google.colab.kernel.invokeFunction('convertToInteractive',\n",
              "                                                     [key], {});\n",
              "          if (!dataTable) return;\n",
              "\n",
              "          const docLinkHtml = 'Like what you see? Visit the ' +\n",
              "            '<a target=\"_blank\" href=https://colab.research.google.com/notebooks/data_table.ipynb>data table notebook</a>'\n",
              "            + ' to learn more about interactive tables.';\n",
              "          element.innerHTML = '';\n",
              "          dataTable['output_type'] = 'display_data';\n",
              "          await google.colab.output.renderOutput(dataTable, element);\n",
              "          const docLink = document.createElement('div');\n",
              "          docLink.innerHTML = docLinkHtml;\n",
              "          element.appendChild(docLink);\n",
              "        }\n",
              "      </script>\n",
              "    </div>\n",
              "  </div>\n",
              "  "
            ]
          },
          "metadata": {},
          "execution_count": 26
        }
      ],
      "source": [
        "# Get frequency(number of times a customer visited the store) of all the customers\n",
        "df_frequency = df.CustomerId.value_counts().reset_index()\n",
        "df_frequency.columns = ['CustomerId', \"Frequency\"] \n",
        "df_frequency.head()"
      ]
    },
    {
      "cell_type": "code",
      "execution_count": null,
      "id": "8f8372c3",
      "metadata": {
        "colab": {
          "base_uri": "https://localhost:8080/",
          "height": 206
        },
        "id": "8f8372c3",
        "outputId": "cc66626e-3b25-480f-e22d-e42660df6f8a"
      },
      "outputs": [
        {
          "output_type": "execute_result",
          "data": {
            "text/plain": [
              "  CustomerId  AveragePurchaseAmount  Recency  FirstPurchase  Frequency\n",
              "0         10              30.000000     3829           3829          1\n",
              "1       1000              22.500000     1120           3710          2\n",
              "2     100000              35.000000     2072           2750          2\n",
              "3     100010              27.857143      413           2750          7\n",
              "4     100020              30.000000     2750           2750          1"
            ],
            "text/html": [
              "\n",
              "  <div id=\"df-c874aa19-327e-4122-b35a-ffaa9a6161be\">\n",
              "    <div class=\"colab-df-container\">\n",
              "      <div>\n",
              "<style scoped>\n",
              "    .dataframe tbody tr th:only-of-type {\n",
              "        vertical-align: middle;\n",
              "    }\n",
              "\n",
              "    .dataframe tbody tr th {\n",
              "        vertical-align: top;\n",
              "    }\n",
              "\n",
              "    .dataframe thead th {\n",
              "        text-align: right;\n",
              "    }\n",
              "</style>\n",
              "<table border=\"1\" class=\"dataframe\">\n",
              "  <thead>\n",
              "    <tr style=\"text-align: right;\">\n",
              "      <th></th>\n",
              "      <th>CustomerId</th>\n",
              "      <th>AveragePurchaseAmount</th>\n",
              "      <th>Recency</th>\n",
              "      <th>FirstPurchase</th>\n",
              "      <th>Frequency</th>\n",
              "    </tr>\n",
              "  </thead>\n",
              "  <tbody>\n",
              "    <tr>\n",
              "      <th>0</th>\n",
              "      <td>10</td>\n",
              "      <td>30.000000</td>\n",
              "      <td>3829</td>\n",
              "      <td>3829</td>\n",
              "      <td>1</td>\n",
              "    </tr>\n",
              "    <tr>\n",
              "      <th>1</th>\n",
              "      <td>1000</td>\n",
              "      <td>22.500000</td>\n",
              "      <td>1120</td>\n",
              "      <td>3710</td>\n",
              "      <td>2</td>\n",
              "    </tr>\n",
              "    <tr>\n",
              "      <th>2</th>\n",
              "      <td>100000</td>\n",
              "      <td>35.000000</td>\n",
              "      <td>2072</td>\n",
              "      <td>2750</td>\n",
              "      <td>2</td>\n",
              "    </tr>\n",
              "    <tr>\n",
              "      <th>3</th>\n",
              "      <td>100010</td>\n",
              "      <td>27.857143</td>\n",
              "      <td>413</td>\n",
              "      <td>2750</td>\n",
              "      <td>7</td>\n",
              "    </tr>\n",
              "    <tr>\n",
              "      <th>4</th>\n",
              "      <td>100020</td>\n",
              "      <td>30.000000</td>\n",
              "      <td>2750</td>\n",
              "      <td>2750</td>\n",
              "      <td>1</td>\n",
              "    </tr>\n",
              "  </tbody>\n",
              "</table>\n",
              "</div>\n",
              "      <button class=\"colab-df-convert\" onclick=\"convertToInteractive('df-c874aa19-327e-4122-b35a-ffaa9a6161be')\"\n",
              "              title=\"Convert this dataframe to an interactive table.\"\n",
              "              style=\"display:none;\">\n",
              "        \n",
              "  <svg xmlns=\"http://www.w3.org/2000/svg\" height=\"24px\"viewBox=\"0 0 24 24\"\n",
              "       width=\"24px\">\n",
              "    <path d=\"M0 0h24v24H0V0z\" fill=\"none\"/>\n",
              "    <path d=\"M18.56 5.44l.94 2.06.94-2.06 2.06-.94-2.06-.94-.94-2.06-.94 2.06-2.06.94zm-11 1L8.5 8.5l.94-2.06 2.06-.94-2.06-.94L8.5 2.5l-.94 2.06-2.06.94zm10 10l.94 2.06.94-2.06 2.06-.94-2.06-.94-.94-2.06-.94 2.06-2.06.94z\"/><path d=\"M17.41 7.96l-1.37-1.37c-.4-.4-.92-.59-1.43-.59-.52 0-1.04.2-1.43.59L10.3 9.45l-7.72 7.72c-.78.78-.78 2.05 0 2.83L4 21.41c.39.39.9.59 1.41.59.51 0 1.02-.2 1.41-.59l7.78-7.78 2.81-2.81c.8-.78.8-2.07 0-2.86zM5.41 20L4 18.59l7.72-7.72 1.47 1.35L5.41 20z\"/>\n",
              "  </svg>\n",
              "      </button>\n",
              "      \n",
              "  <style>\n",
              "    .colab-df-container {\n",
              "      display:flex;\n",
              "      flex-wrap:wrap;\n",
              "      gap: 12px;\n",
              "    }\n",
              "\n",
              "    .colab-df-convert {\n",
              "      background-color: #E8F0FE;\n",
              "      border: none;\n",
              "      border-radius: 50%;\n",
              "      cursor: pointer;\n",
              "      display: none;\n",
              "      fill: #1967D2;\n",
              "      height: 32px;\n",
              "      padding: 0 0 0 0;\n",
              "      width: 32px;\n",
              "    }\n",
              "\n",
              "    .colab-df-convert:hover {\n",
              "      background-color: #E2EBFA;\n",
              "      box-shadow: 0px 1px 2px rgba(60, 64, 67, 0.3), 0px 1px 3px 1px rgba(60, 64, 67, 0.15);\n",
              "      fill: #174EA6;\n",
              "    }\n",
              "\n",
              "    [theme=dark] .colab-df-convert {\n",
              "      background-color: #3B4455;\n",
              "      fill: #D2E3FC;\n",
              "    }\n",
              "\n",
              "    [theme=dark] .colab-df-convert:hover {\n",
              "      background-color: #434B5C;\n",
              "      box-shadow: 0px 1px 3px 1px rgba(0, 0, 0, 0.15);\n",
              "      filter: drop-shadow(0px 1px 2px rgba(0, 0, 0, 0.3));\n",
              "      fill: #FFFFFF;\n",
              "    }\n",
              "  </style>\n",
              "\n",
              "      <script>\n",
              "        const buttonEl =\n",
              "          document.querySelector('#df-c874aa19-327e-4122-b35a-ffaa9a6161be button.colab-df-convert');\n",
              "        buttonEl.style.display =\n",
              "          google.colab.kernel.accessAllowed ? 'block' : 'none';\n",
              "\n",
              "        async function convertToInteractive(key) {\n",
              "          const element = document.querySelector('#df-c874aa19-327e-4122-b35a-ffaa9a6161be');\n",
              "          const dataTable =\n",
              "            await google.colab.kernel.invokeFunction('convertToInteractive',\n",
              "                                                     [key], {});\n",
              "          if (!dataTable) return;\n",
              "\n",
              "          const docLinkHtml = 'Like what you see? Visit the ' +\n",
              "            '<a target=\"_blank\" href=https://colab.research.google.com/notebooks/data_table.ipynb>data table notebook</a>'\n",
              "            + ' to learn more about interactive tables.';\n",
              "          element.innerHTML = '';\n",
              "          dataTable['output_type'] = 'display_data';\n",
              "          await google.colab.output.renderOutput(dataTable, element);\n",
              "          const docLink = document.createElement('div');\n",
              "          docLink.innerHTML = docLinkHtml;\n",
              "          element.appendChild(docLink);\n",
              "        }\n",
              "      </script>\n",
              "    </div>\n",
              "  </div>\n",
              "  "
            ]
          },
          "metadata": {},
          "execution_count": 27
        }
      ],
      "source": [
        "# Build the RFM dataframe\n",
        "rfm = df1.merge(df_frequency, how='inner', on='CustomerId')\n",
        "rfm.head()"
      ]
    },
    {
      "cell_type": "code",
      "source": [
        "# Explore the data\n",
        "rfm.describe()"
      ],
      "metadata": {
        "colab": {
          "base_uri": "https://localhost:8080/",
          "height": 300
        },
        "id": "8bvm4ulg98kq",
        "outputId": "0f9e2313-abf8-4350-9f6c-72052698f01a"
      },
      "id": "8bvm4ulg98kq",
      "execution_count": null,
      "outputs": [
        {
          "output_type": "execute_result",
          "data": {
            "text/plain": [
              "       AveragePurchaseAmount       Recency  FirstPurchase     Frequency\n",
              "count           18417.000000  18417.000000   18417.000000  18417.000000\n",
              "mean               57.792985   1253.037900    1984.009882      2.782375\n",
              "std               154.360109   1081.437868    1133.405441      2.936888\n",
              "min                 5.000000      1.000000       1.000000      1.000000\n",
              "25%                21.666667    244.000000     988.000000      1.000000\n",
              "50%                30.000000   1070.000000    2087.000000      2.000000\n",
              "75%                50.000000   2130.000000    2992.000000      3.000000\n",
              "max              4500.000000   4014.000000    4016.000000     45.000000"
            ],
            "text/html": [
              "\n",
              "  <div id=\"df-c750e12a-b87f-4279-a496-947fad476161\">\n",
              "    <div class=\"colab-df-container\">\n",
              "      <div>\n",
              "<style scoped>\n",
              "    .dataframe tbody tr th:only-of-type {\n",
              "        vertical-align: middle;\n",
              "    }\n",
              "\n",
              "    .dataframe tbody tr th {\n",
              "        vertical-align: top;\n",
              "    }\n",
              "\n",
              "    .dataframe thead th {\n",
              "        text-align: right;\n",
              "    }\n",
              "</style>\n",
              "<table border=\"1\" class=\"dataframe\">\n",
              "  <thead>\n",
              "    <tr style=\"text-align: right;\">\n",
              "      <th></th>\n",
              "      <th>AveragePurchaseAmount</th>\n",
              "      <th>Recency</th>\n",
              "      <th>FirstPurchase</th>\n",
              "      <th>Frequency</th>\n",
              "    </tr>\n",
              "  </thead>\n",
              "  <tbody>\n",
              "    <tr>\n",
              "      <th>count</th>\n",
              "      <td>18417.000000</td>\n",
              "      <td>18417.000000</td>\n",
              "      <td>18417.000000</td>\n",
              "      <td>18417.000000</td>\n",
              "    </tr>\n",
              "    <tr>\n",
              "      <th>mean</th>\n",
              "      <td>57.792985</td>\n",
              "      <td>1253.037900</td>\n",
              "      <td>1984.009882</td>\n",
              "      <td>2.782375</td>\n",
              "    </tr>\n",
              "    <tr>\n",
              "      <th>std</th>\n",
              "      <td>154.360109</td>\n",
              "      <td>1081.437868</td>\n",
              "      <td>1133.405441</td>\n",
              "      <td>2.936888</td>\n",
              "    </tr>\n",
              "    <tr>\n",
              "      <th>min</th>\n",
              "      <td>5.000000</td>\n",
              "      <td>1.000000</td>\n",
              "      <td>1.000000</td>\n",
              "      <td>1.000000</td>\n",
              "    </tr>\n",
              "    <tr>\n",
              "      <th>25%</th>\n",
              "      <td>21.666667</td>\n",
              "      <td>244.000000</td>\n",
              "      <td>988.000000</td>\n",
              "      <td>1.000000</td>\n",
              "    </tr>\n",
              "    <tr>\n",
              "      <th>50%</th>\n",
              "      <td>30.000000</td>\n",
              "      <td>1070.000000</td>\n",
              "      <td>2087.000000</td>\n",
              "      <td>2.000000</td>\n",
              "    </tr>\n",
              "    <tr>\n",
              "      <th>75%</th>\n",
              "      <td>50.000000</td>\n",
              "      <td>2130.000000</td>\n",
              "      <td>2992.000000</td>\n",
              "      <td>3.000000</td>\n",
              "    </tr>\n",
              "    <tr>\n",
              "      <th>max</th>\n",
              "      <td>4500.000000</td>\n",
              "      <td>4014.000000</td>\n",
              "      <td>4016.000000</td>\n",
              "      <td>45.000000</td>\n",
              "    </tr>\n",
              "  </tbody>\n",
              "</table>\n",
              "</div>\n",
              "      <button class=\"colab-df-convert\" onclick=\"convertToInteractive('df-c750e12a-b87f-4279-a496-947fad476161')\"\n",
              "              title=\"Convert this dataframe to an interactive table.\"\n",
              "              style=\"display:none;\">\n",
              "        \n",
              "  <svg xmlns=\"http://www.w3.org/2000/svg\" height=\"24px\"viewBox=\"0 0 24 24\"\n",
              "       width=\"24px\">\n",
              "    <path d=\"M0 0h24v24H0V0z\" fill=\"none\"/>\n",
              "    <path d=\"M18.56 5.44l.94 2.06.94-2.06 2.06-.94-2.06-.94-.94-2.06-.94 2.06-2.06.94zm-11 1L8.5 8.5l.94-2.06 2.06-.94-2.06-.94L8.5 2.5l-.94 2.06-2.06.94zm10 10l.94 2.06.94-2.06 2.06-.94-2.06-.94-.94-2.06-.94 2.06-2.06.94z\"/><path d=\"M17.41 7.96l-1.37-1.37c-.4-.4-.92-.59-1.43-.59-.52 0-1.04.2-1.43.59L10.3 9.45l-7.72 7.72c-.78.78-.78 2.05 0 2.83L4 21.41c.39.39.9.59 1.41.59.51 0 1.02-.2 1.41-.59l7.78-7.78 2.81-2.81c.8-.78.8-2.07 0-2.86zM5.41 20L4 18.59l7.72-7.72 1.47 1.35L5.41 20z\"/>\n",
              "  </svg>\n",
              "      </button>\n",
              "      \n",
              "  <style>\n",
              "    .colab-df-container {\n",
              "      display:flex;\n",
              "      flex-wrap:wrap;\n",
              "      gap: 12px;\n",
              "    }\n",
              "\n",
              "    .colab-df-convert {\n",
              "      background-color: #E8F0FE;\n",
              "      border: none;\n",
              "      border-radius: 50%;\n",
              "      cursor: pointer;\n",
              "      display: none;\n",
              "      fill: #1967D2;\n",
              "      height: 32px;\n",
              "      padding: 0 0 0 0;\n",
              "      width: 32px;\n",
              "    }\n",
              "\n",
              "    .colab-df-convert:hover {\n",
              "      background-color: #E2EBFA;\n",
              "      box-shadow: 0px 1px 2px rgba(60, 64, 67, 0.3), 0px 1px 3px 1px rgba(60, 64, 67, 0.15);\n",
              "      fill: #174EA6;\n",
              "    }\n",
              "\n",
              "    [theme=dark] .colab-df-convert {\n",
              "      background-color: #3B4455;\n",
              "      fill: #D2E3FC;\n",
              "    }\n",
              "\n",
              "    [theme=dark] .colab-df-convert:hover {\n",
              "      background-color: #434B5C;\n",
              "      box-shadow: 0px 1px 3px 1px rgba(0, 0, 0, 0.15);\n",
              "      filter: drop-shadow(0px 1px 2px rgba(0, 0, 0, 0.3));\n",
              "      fill: #FFFFFF;\n",
              "    }\n",
              "  </style>\n",
              "\n",
              "      <script>\n",
              "        const buttonEl =\n",
              "          document.querySelector('#df-c750e12a-b87f-4279-a496-947fad476161 button.colab-df-convert');\n",
              "        buttonEl.style.display =\n",
              "          google.colab.kernel.accessAllowed ? 'block' : 'none';\n",
              "\n",
              "        async function convertToInteractive(key) {\n",
              "          const element = document.querySelector('#df-c750e12a-b87f-4279-a496-947fad476161');\n",
              "          const dataTable =\n",
              "            await google.colab.kernel.invokeFunction('convertToInteractive',\n",
              "                                                     [key], {});\n",
              "          if (!dataTable) return;\n",
              "\n",
              "          const docLinkHtml = 'Like what you see? Visit the ' +\n",
              "            '<a target=\"_blank\" href=https://colab.research.google.com/notebooks/data_table.ipynb>data table notebook</a>'\n",
              "            + ' to learn more about interactive tables.';\n",
              "          element.innerHTML = '';\n",
              "          dataTable['output_type'] = 'display_data';\n",
              "          await google.colab.output.renderOutput(dataTable, element);\n",
              "          const docLink = document.createElement('div');\n",
              "          docLink.innerHTML = docLinkHtml;\n",
              "          element.appendChild(docLink);\n",
              "        }\n",
              "      </script>\n",
              "    </div>\n",
              "  </div>\n",
              "  "
            ]
          },
          "metadata": {},
          "execution_count": 28
        }
      ]
    },
    {
      "cell_type": "code",
      "execution_count": null,
      "id": "a6381813",
      "metadata": {
        "colab": {
          "base_uri": "https://localhost:8080/",
          "height": 300
        },
        "id": "a6381813",
        "outputId": "494f5633-f54d-4019-e96c-b33993169add"
      },
      "outputs": [
        {
          "output_type": "execute_result",
          "data": {
            "text/plain": [
              "<matplotlib.axes._subplots.AxesSubplot at 0x7f8975263950>"
            ]
          },
          "metadata": {},
          "execution_count": 29
        },
        {
          "output_type": "display_data",
          "data": {
            "text/plain": [
              "<Figure size 432x288 with 1 Axes>"
            ],
            "image/png": "[encoded data removed]"
          },
          "metadata": {
            "needs_background": "light"
          }
        }
      ],
      "source": [
        "# Histogram for Recency\n",
        "sns.histplot(rfm['Recency'], color = 'Maroon')"
      ]
    },
    {
      "cell_type": "code",
      "execution_count": null,
      "id": "10be03b6",
      "metadata": {
        "colab": {
          "base_uri": "https://localhost:8080/",
          "height": 296
        },
        "id": "10be03b6",
        "outputId": "69b74f09-3442-46e7-b4a9-345fdceac415"
      },
      "outputs": [
        {
          "output_type": "execute_result",
          "data": {
            "text/plain": [
              "<matplotlib.axes._subplots.AxesSubplot at 0x7f8974824850>"
            ]
          },
          "metadata": {},
          "execution_count": 30
        },
        {
          "output_type": "display_data",
          "data": {
            "text/plain": [
              "<Figure size 432x288 with 1 Axes>"
            ],
            "image/png": "[encoded data removed]"
          },
          "metadata": {
            "needs_background": "light"
          }
        }
      ],
      "source": [
        "# Histogram for Frequency\n",
        "sns.histplot(rfm['Frequency'], color = 'Maroon')"
      ]
    },
    {
      "cell_type": "code",
      "execution_count": null,
      "id": "430e5d8b",
      "metadata": {
        "colab": {
          "base_uri": "https://localhost:8080/",
          "height": 296
        },
        "id": "430e5d8b",
        "outputId": "10d995ae-ef8d-410d-ac7a-1a1bcd9e3907"
      },
      "outputs": [
        {
          "output_type": "execute_result",
          "data": {
            "text/plain": [
              "<matplotlib.axes._subplots.AxesSubplot at 0x7f8974427a10>"
            ]
          },
          "metadata": {},
          "execution_count": 31
        },
        {
          "output_type": "display_data",
          "data": {
            "text/plain": [
              "<Figure size 432x288 with 1 Axes>"
            ],
            "image/png": "[encoded data removed]"
          },
          "metadata": {
            "needs_background": "light"
          }
        }
      ],
      "source": [
        "# Histogram for average purchase amount\n",
        "sns.histplot(rfm['AveragePurchaseAmount'], bins=100, color = 'Maroon')"
      ]
    },
    {
      "cell_type": "code",
      "execution_count": null,
      "id": "9b94e470",
      "metadata": {
        "colab": {
          "base_uri": "https://localhost:8080/",
          "height": 424
        },
        "id": "9b94e470",
        "outputId": "7e5e1bdb-dc2b-4273-8d9e-f2aa67947f2d"
      },
      "outputs": [
        {
          "output_type": "execute_result",
          "data": {
            "text/plain": [
              "      CustomerId  AveragePurchaseAmount  Recency  Frequency\n",
              "0             10              30.000000     3829          1\n",
              "1           1000              22.500000     1120          2\n",
              "2         100000              35.000000     2072          2\n",
              "3         100010              27.857143      413          7\n",
              "4         100020              30.000000     2750          1\n",
              "...          ...                    ...      ...        ...\n",
              "18412      99950              30.000000     1097          2\n",
              "18413      99960            2007.000000     2752          1\n",
              "18414      99970              46.500000       30         10\n",
              "18415      99980              50.000000     2750          1\n",
              "18416      99990              60.000000     2750          1\n",
              "\n",
              "[18417 rows x 4 columns]"
            ],
            "text/html": [
              "\n",
              "  <div id=\"df-0c0830a5-94b0-4a32-8c3a-b23d4ced431b\">\n",
              "    <div class=\"colab-df-container\">\n",
              "      <div>\n",
              "<style scoped>\n",
              "    .dataframe tbody tr th:only-of-type {\n",
              "        vertical-align: middle;\n",
              "    }\n",
              "\n",
              "    .dataframe tbody tr th {\n",
              "        vertical-align: top;\n",
              "    }\n",
              "\n",
              "    .dataframe thead th {\n",
              "        text-align: right;\n",
              "    }\n",
              "</style>\n",
              "<table border=\"1\" class=\"dataframe\">\n",
              "  <thead>\n",
              "    <tr style=\"text-align: right;\">\n",
              "      <th></th>\n",
              "      <th>CustomerId</th>\n",
              "      <th>AveragePurchaseAmount</th>\n",
              "      <th>Recency</th>\n",
              "      <th>Frequency</th>\n",
              "    </tr>\n",
              "  </thead>\n",
              "  <tbody>\n",
              "    <tr>\n",
              "      <th>0</th>\n",
              "      <td>10</td>\n",
              "      <td>30.000000</td>\n",
              "      <td>3829</td>\n",
              "      <td>1</td>\n",
              "    </tr>\n",
              "    <tr>\n",
              "      <th>1</th>\n",
              "      <td>1000</td>\n",
              "      <td>22.500000</td>\n",
              "      <td>1120</td>\n",
              "      <td>2</td>\n",
              "    </tr>\n",
              "    <tr>\n",
              "      <th>2</th>\n",
              "      <td>100000</td>\n",
              "      <td>35.000000</td>\n",
              "      <td>2072</td>\n",
              "      <td>2</td>\n",
              "    </tr>\n",
              "    <tr>\n",
              "      <th>3</th>\n",
              "      <td>100010</td>\n",
              "      <td>27.857143</td>\n",
              "      <td>413</td>\n",
              "      <td>7</td>\n",
              "    </tr>\n",
              "    <tr>\n",
              "      <th>4</th>\n",
              "      <td>100020</td>\n",
              "      <td>30.000000</td>\n",
              "      <td>2750</td>\n",
              "      <td>1</td>\n",
              "    </tr>\n",
              "    <tr>\n",
              "      <th>...</th>\n",
              "      <td>...</td>\n",
              "      <td>...</td>\n",
              "      <td>...</td>\n",
              "      <td>...</td>\n",
              "    </tr>\n",
              "    <tr>\n",
              "      <th>18412</th>\n",
              "      <td>99950</td>\n",
              "      <td>30.000000</td>\n",
              "      <td>1097</td>\n",
              "      <td>2</td>\n",
              "    </tr>\n",
              "    <tr>\n",
              "      <th>18413</th>\n",
              "      <td>99960</td>\n",
              "      <td>2007.000000</td>\n",
              "      <td>2752</td>\n",
              "      <td>1</td>\n",
              "    </tr>\n",
              "    <tr>\n",
              "      <th>18414</th>\n",
              "      <td>99970</td>\n",
              "      <td>46.500000</td>\n",
              "      <td>30</td>\n",
              "      <td>10</td>\n",
              "    </tr>\n",
              "    <tr>\n",
              "      <th>18415</th>\n",
              "      <td>99980</td>\n",
              "      <td>50.000000</td>\n",
              "      <td>2750</td>\n",
              "      <td>1</td>\n",
              "    </tr>\n",
              "    <tr>\n",
              "      <th>18416</th>\n",
              "      <td>99990</td>\n",
              "      <td>60.000000</td>\n",
              "      <td>2750</td>\n",
              "      <td>1</td>\n",
              "    </tr>\n",
              "  </tbody>\n",
              "</table>\n",
              "<p>18417 rows × 4 columns</p>\n",
              "</div>\n",
              "      <button class=\"colab-df-convert\" onclick=\"convertToInteractive('df-0c0830a5-94b0-4a32-8c3a-b23d4ced431b')\"\n",
              "              title=\"Convert this dataframe to an interactive table.\"\n",
              "              style=\"display:none;\">\n",
              "        \n",
              "  <svg xmlns=\"http://www.w3.org/2000/svg\" height=\"24px\"viewBox=\"0 0 24 24\"\n",
              "       width=\"24px\">\n",
              "    <path d=\"M0 0h24v24H0V0z\" fill=\"none\"/>\n",
              "    <path d=\"M18.56 5.44l.94 2.06.94-2.06 2.06-.94-2.06-.94-.94-2.06-.94 2.06-2.06.94zm-11 1L8.5 8.5l.94-2.06 2.06-.94-2.06-.94L8.5 2.5l-.94 2.06-2.06.94zm10 10l.94 2.06.94-2.06 2.06-.94-2.06-.94-.94-2.06-.94 2.06-2.06.94z\"/><path d=\"M17.41 7.96l-1.37-1.37c-.4-.4-.92-.59-1.43-.59-.52 0-1.04.2-1.43.59L10.3 9.45l-7.72 7.72c-.78.78-.78 2.05 0 2.83L4 21.41c.39.39.9.59 1.41.59.51 0 1.02-.2 1.41-.59l7.78-7.78 2.81-2.81c.8-.78.8-2.07 0-2.86zM5.41 20L4 18.59l7.72-7.72 1.47 1.35L5.41 20z\"/>\n",
              "  </svg>\n",
              "      </button>\n",
              "      \n",
              "  <style>\n",
              "    .colab-df-container {\n",
              "      display:flex;\n",
              "      flex-wrap:wrap;\n",
              "      gap: 12px;\n",
              "    }\n",
              "\n",
              "    .colab-df-convert {\n",
              "      background-color: #E8F0FE;\n",
              "      border: none;\n",
              "      border-radius: 50%;\n",
              "      cursor: pointer;\n",
              "      display: none;\n",
              "      fill: #1967D2;\n",
              "      height: 32px;\n",
              "      padding: 0 0 0 0;\n",
              "      width: 32px;\n",
              "    }\n",
              "\n",
              "    .colab-df-convert:hover {\n",
              "      background-color: #E2EBFA;\n",
              "      box-shadow: 0px 1px 2px rgba(60, 64, 67, 0.3), 0px 1px 3px 1px rgba(60, 64, 67, 0.15);\n",
              "      fill: #174EA6;\n",
              "    }\n",
              "\n",
              "    [theme=dark] .colab-df-convert {\n",
              "      background-color: #3B4455;\n",
              "      fill: #D2E3FC;\n",
              "    }\n",
              "\n",
              "    [theme=dark] .colab-df-convert:hover {\n",
              "      background-color: #434B5C;\n",
              "      box-shadow: 0px 1px 3px 1px rgba(0, 0, 0, 0.15);\n",
              "      filter: drop-shadow(0px 1px 2px rgba(0, 0, 0, 0.3));\n",
              "      fill: #FFFFFF;\n",
              "    }\n",
              "  </style>\n",
              "\n",
              "      <script>\n",
              "        const buttonEl =\n",
              "          document.querySelector('#df-0c0830a5-94b0-4a32-8c3a-b23d4ced431b button.colab-df-convert');\n",
              "        buttonEl.style.display =\n",
              "          google.colab.kernel.accessAllowed ? 'block' : 'none';\n",
              "\n",
              "        async function convertToInteractive(key) {\n",
              "          const element = document.querySelector('#df-0c0830a5-94b0-4a32-8c3a-b23d4ced431b');\n",
              "          const dataTable =\n",
              "            await google.colab.kernel.invokeFunction('convertToInteractive',\n",
              "                                                     [key], {});\n",
              "          if (!dataTable) return;\n",
              "\n",
              "          const docLinkHtml = 'Like what you see? Visit the ' +\n",
              "            '<a target=\"_blank\" href=https://colab.research.google.com/notebooks/data_table.ipynb>data table notebook</a>'\n",
              "            + ' to learn more about interactive tables.';\n",
              "          element.innerHTML = '';\n",
              "          dataTable['output_type'] = 'display_data';\n",
              "          await google.colab.output.renderOutput(dataTable, element);\n",
              "          const docLink = document.createElement('div');\n",
              "          docLink.innerHTML = docLinkHtml;\n",
              "          element.appendChild(docLink);\n",
              "        }\n",
              "      </script>\n",
              "    </div>\n",
              "  </div>\n",
              "  "
            ]
          },
          "metadata": {},
          "execution_count": 32
        }
      ],
      "source": [
        "# Create a new dataframe new_rfm by copying rfm dataframe\n",
        "new_rfm = rfm[['CustomerId','AveragePurchaseAmount','Recency','Frequency']].copy()\n",
        "new_rfm.set_index('CustomerId')\n",
        "new_rfm"
      ]
    },
    {
      "cell_type": "code",
      "execution_count": null,
      "id": "22ed27f6",
      "metadata": {
        "id": "22ed27f6"
      },
      "outputs": [],
      "source": [
        "# Since Average Purchase amount is right skewed, we have to apply log transformation\n",
        "new_rfm['AveragePurchaseAmount'] = np.log(new_rfm['AveragePurchaseAmount'])"
      ]
    },
    {
      "cell_type": "code",
      "source": [
        "# Histogram for average purchase amount\n",
        "sns.histplot(new_rfm['AveragePurchaseAmount'], bins=100, color = 'Maroon')"
      ],
      "metadata": {
        "colab": {
          "base_uri": "https://localhost:8080/",
          "height": 297
        },
        "id": "3kiL9mKmMkA1",
        "outputId": "b241dff6-266a-406c-bc8c-e2a620447f16"
      },
      "id": "3kiL9mKmMkA1",
      "execution_count": null,
      "outputs": [
        {
          "output_type": "execute_result",
          "data": {
            "text/plain": [
              "<matplotlib.axes._subplots.AxesSubplot at 0x7f89740d4ad0>"
            ]
          },
          "metadata": {},
          "execution_count": 35
        },
        {
          "output_type": "display_data",
          "data": {
            "text/plain": [
              "<Figure size 432x288 with 1 Axes>"
            ],
            "image/png": "[encoded data removed]"
          },
          "metadata": {
            "needs_background": "light"
          }
        }
      ]
    },
    {
      "cell_type": "code",
      "execution_count": null,
      "id": "2a3e13f3",
      "metadata": {
        "id": "2a3e13f3"
      },
      "outputs": [],
      "source": [
        "# Standardize the variables\n",
        "from sklearn.preprocessing import StandardScaler\n",
        "scaler = StandardScaler()\n",
        "new_rfm_scaled = scaler.fit_transform(new_rfm)"
      ]
    },
    {
      "cell_type": "markdown",
      "source": [
        "# Segmentation of Customers based on RFM data\n",
        "\n",
        "a) Using Hierarchical clustering and KMeans - 9 cluster solution\n",
        "\n",
        "b) based on inputs from Business experts and Managers"
      ],
      "metadata": {
        "id": "qWQIUQhl1tSg"
      },
      "id": "qWQIUQhl1tSg"
    },
    {
      "cell_type": "markdown",
      "source": [
        "**A) Using Hierarchical Clustering and K-Means**"
      ],
      "metadata": {
        "id": "HQfudTrb20ns"
      },
      "id": "HQfudTrb20ns"
    },
    {
      "cell_type": "code",
      "execution_count": null,
      "id": "ceb810f9",
      "metadata": {
        "colab": {
          "base_uri": "https://localhost:8080/",
          "height": 451
        },
        "id": "ceb810f9",
        "outputId": "55bb8572-1456-493f-95df-592a1c7fe4d0"
      },
      "outputs": [
        {
          "output_type": "display_data",
          "data": {
            "text/plain": [
              "<Figure size 720x504 with 1 Axes>"
            ],
            "image/png": "[encoded data removed]"
          },
          "metadata": {
            "needs_background": "light"
          }
        }
      ],
      "source": [
        "# Hierarchical Segmentation\n",
        "import scipy.cluster.hierarchy as shc\n",
        "plt.figure(figsize=(10, 7)) \n",
        "plt.title(\"Dendrograms\")\n",
        "dend = shc.dendrogram(shc.linkage(new_rfm_scaled, method='ward'))"
      ]
    },
    {
      "cell_type": "code",
      "execution_count": null,
      "id": "c7c3e8cc",
      "metadata": {
        "colab": {
          "base_uri": "https://localhost:8080/"
        },
        "id": "c7c3e8cc",
        "outputId": "f1dc523e-f8d4-403e-ced0-4fcb43c00ef5"
      },
      "outputs": [
        {
          "output_type": "stream",
          "name": "stdout",
          "text": [
            "      CustomerId  AveragePurchaseAmount  Recency  FirstPurchase  Frequency  \\\n",
            "0             10              30.000000     3829           3829          1   \n",
            "1           1000              22.500000     1120           3710          2   \n",
            "2         100000              35.000000     2072           2750          2   \n",
            "3         100010              27.857143      413           2750          7   \n",
            "4         100020              30.000000     2750           2750          1   \n",
            "...          ...                    ...      ...            ...        ...   \n",
            "18412      99950              30.000000     1097           2752          2   \n",
            "18413      99960            2007.000000     2752           2752          1   \n",
            "18414      99970              46.500000       30           2750         10   \n",
            "18415      99980              50.000000     2750           2750          1   \n",
            "18416      99990              60.000000     2750           2750          1   \n",
            "\n",
            "       Cluster  \n",
            "0            7  \n",
            "1            0  \n",
            "2            7  \n",
            "3            5  \n",
            "4            7  \n",
            "...        ...  \n",
            "18412        0  \n",
            "18413        8  \n",
            "18414        2  \n",
            "18415        0  \n",
            "18416        0  \n",
            "\n",
            "[18417 rows x 6 columns]\n"
          ]
        }
      ],
      "source": [
        "# For 9 cluster solution\n",
        "from sklearn.cluster import AgglomerativeClustering\n",
        "cluster = AgglomerativeClustering(n_clusters=9, affinity='euclidean', linkage='ward')  \n",
        "segment = cluster.fit_predict(new_rfm_scaled)\n",
        "rfm['Cluster'] = segment\n",
        "rfm.head()"
      ]
    },
    {
      "cell_type": "code",
      "execution_count": null,
      "id": "5ba64883",
      "metadata": {
        "colab": {
          "base_uri": "https://localhost:8080/",
          "height": 206
        },
        "id": "5ba64883",
        "outputId": "c70c0cdb-6fdc-4b3f-9a4e-6cb49a6f2b3e"
      },
      "outputs": [
        {
          "output_type": "execute_result",
          "data": {
            "text/plain": [
              "   Cluster  Recency  Frequency  AveragePurchaseAmount\n",
              "0        7     3829          1              30.000000\n",
              "1        0     1120          2              22.500000\n",
              "2        7     2072          2              35.000000\n",
              "3        5      413          7              27.857143\n",
              "4        7     2750          1              30.000000"
            ],
            "text/html": [
              "\n",
              "  <div id=\"df-d1475755-5ac4-4c12-b37d-ba9124083d89\">\n",
              "    <div class=\"colab-df-container\">\n",
              "      <div>\n",
              "<style scoped>\n",
              "    .dataframe tbody tr th:only-of-type {\n",
              "        vertical-align: middle;\n",
              "    }\n",
              "\n",
              "    .dataframe tbody tr th {\n",
              "        vertical-align: top;\n",
              "    }\n",
              "\n",
              "    .dataframe thead th {\n",
              "        text-align: right;\n",
              "    }\n",
              "</style>\n",
              "<table border=\"1\" class=\"dataframe\">\n",
              "  <thead>\n",
              "    <tr style=\"text-align: right;\">\n",
              "      <th></th>\n",
              "      <th>Cluster</th>\n",
              "      <th>Recency</th>\n",
              "      <th>Frequency</th>\n",
              "      <th>AveragePurchaseAmount</th>\n",
              "    </tr>\n",
              "  </thead>\n",
              "  <tbody>\n",
              "    <tr>\n",
              "      <th>0</th>\n",
              "      <td>7</td>\n",
              "      <td>3829</td>\n",
              "      <td>1</td>\n",
              "      <td>30.000000</td>\n",
              "    </tr>\n",
              "    <tr>\n",
              "      <th>1</th>\n",
              "      <td>0</td>\n",
              "      <td>1120</td>\n",
              "      <td>2</td>\n",
              "      <td>22.500000</td>\n",
              "    </tr>\n",
              "    <tr>\n",
              "      <th>2</th>\n",
              "      <td>7</td>\n",
              "      <td>2072</td>\n",
              "      <td>2</td>\n",
              "      <td>35.000000</td>\n",
              "    </tr>\n",
              "    <tr>\n",
              "      <th>3</th>\n",
              "      <td>5</td>\n",
              "      <td>413</td>\n",
              "      <td>7</td>\n",
              "      <td>27.857143</td>\n",
              "    </tr>\n",
              "    <tr>\n",
              "      <th>4</th>\n",
              "      <td>7</td>\n",
              "      <td>2750</td>\n",
              "      <td>1</td>\n",
              "      <td>30.000000</td>\n",
              "    </tr>\n",
              "  </tbody>\n",
              "</table>\n",
              "</div>\n",
              "      <button class=\"colab-df-convert\" onclick=\"convertToInteractive('df-d1475755-5ac4-4c12-b37d-ba9124083d89')\"\n",
              "              title=\"Convert this dataframe to an interactive table.\"\n",
              "              style=\"display:none;\">\n",
              "        \n",
              "  <svg xmlns=\"http://www.w3.org/2000/svg\" height=\"24px\"viewBox=\"0 0 24 24\"\n",
              "       width=\"24px\">\n",
              "    <path d=\"M0 0h24v24H0V0z\" fill=\"none\"/>\n",
              "    <path d=\"M18.56 5.44l.94 2.06.94-2.06 2.06-.94-2.06-.94-.94-2.06-.94 2.06-2.06.94zm-11 1L8.5 8.5l.94-2.06 2.06-.94-2.06-.94L8.5 2.5l-.94 2.06-2.06.94zm10 10l.94 2.06.94-2.06 2.06-.94-2.06-.94-.94-2.06-.94 2.06-2.06.94z\"/><path d=\"M17.41 7.96l-1.37-1.37c-.4-.4-.92-.59-1.43-.59-.52 0-1.04.2-1.43.59L10.3 9.45l-7.72 7.72c-.78.78-.78 2.05 0 2.83L4 21.41c.39.39.9.59 1.41.59.51 0 1.02-.2 1.41-.59l7.78-7.78 2.81-2.81c.8-.78.8-2.07 0-2.86zM5.41 20L4 18.59l7.72-7.72 1.47 1.35L5.41 20z\"/>\n",
              "  </svg>\n",
              "      </button>\n",
              "      \n",
              "  <style>\n",
              "    .colab-df-container {\n",
              "      display:flex;\n",
              "      flex-wrap:wrap;\n",
              "      gap: 12px;\n",
              "    }\n",
              "\n",
              "    .colab-df-convert {\n",
              "      background-color: #E8F0FE;\n",
              "      border: none;\n",
              "      border-radius: 50%;\n",
              "      cursor: pointer;\n",
              "      display: none;\n",
              "      fill: #1967D2;\n",
              "      height: 32px;\n",
              "      padding: 0 0 0 0;\n",
              "      width: 32px;\n",
              "    }\n",
              "\n",
              "    .colab-df-convert:hover {\n",
              "      background-color: #E2EBFA;\n",
              "      box-shadow: 0px 1px 2px rgba(60, 64, 67, 0.3), 0px 1px 3px 1px rgba(60, 64, 67, 0.15);\n",
              "      fill: #174EA6;\n",
              "    }\n",
              "\n",
              "    [theme=dark] .colab-df-convert {\n",
              "      background-color: #3B4455;\n",
              "      fill: #D2E3FC;\n",
              "    }\n",
              "\n",
              "    [theme=dark] .colab-df-convert:hover {\n",
              "      background-color: #434B5C;\n",
              "      box-shadow: 0px 1px 3px 1px rgba(0, 0, 0, 0.15);\n",
              "      filter: drop-shadow(0px 1px 2px rgba(0, 0, 0, 0.3));\n",
              "      fill: #FFFFFF;\n",
              "    }\n",
              "  </style>\n",
              "\n",
              "      <script>\n",
              "        const buttonEl =\n",
              "          document.querySelector('#df-d1475755-5ac4-4c12-b37d-ba9124083d89 button.colab-df-convert');\n",
              "        buttonEl.style.display =\n",
              "          google.colab.kernel.accessAllowed ? 'block' : 'none';\n",
              "\n",
              "        async function convertToInteractive(key) {\n",
              "          const element = document.querySelector('#df-d1475755-5ac4-4c12-b37d-ba9124083d89');\n",
              "          const dataTable =\n",
              "            await google.colab.kernel.invokeFunction('convertToInteractive',\n",
              "                                                     [key], {});\n",
              "          if (!dataTable) return;\n",
              "\n",
              "          const docLinkHtml = 'Like what you see? Visit the ' +\n",
              "            '<a target=\"_blank\" href=https://colab.research.google.com/notebooks/data_table.ipynb>data table notebook</a>'\n",
              "            + ' to learn more about interactive tables.';\n",
              "          element.innerHTML = '';\n",
              "          dataTable['output_type'] = 'display_data';\n",
              "          await google.colab.output.renderOutput(dataTable, element);\n",
              "          const docLink = document.createElement('div');\n",
              "          docLink.innerHTML = docLinkHtml;\n",
              "          element.appendChild(docLink);\n",
              "        }\n",
              "      </script>\n",
              "    </div>\n",
              "  </div>\n",
              "  "
            ]
          },
          "metadata": {},
          "execution_count": 36
        }
      ],
      "source": [
        "# Get segment wise Recency, Frequency and AveragePurchaseAmount\n",
        "rfm_segment = pd.DataFrame(columns=['Cluster','Recency','Frequency','AveragePurchaseAmount'])\n",
        "rfm_segment['Cluster'] = rfm['Cluster']\n",
        "rfm_segment['Recency'] = rfm['Recency']\n",
        "rfm_segment['Frequency'] = rfm['Frequency']\n",
        "rfm_segment['AveragePurchaseAmount'] = rfm['AveragePurchaseAmount']\n",
        "rfm_segment.head()"
      ]
    },
    {
      "cell_type": "code",
      "execution_count": null,
      "id": "19431331",
      "metadata": {
        "colab": {
          "base_uri": "https://localhost:8080/",
          "height": 332
        },
        "id": "19431331",
        "outputId": "d6c7ca51-84fe-4a5e-b478-bdbbdf93ea05"
      },
      "outputs": [
        {
          "output_type": "execute_result",
          "data": {
            "text/plain": [
              "   Cluster      Recency  Frequency  AveragePurchaseAmount  Percent\n",
              "0        0  2195.269458   2.455483              47.413250    18.42\n",
              "1        1   658.011532   1.663513              81.863097    18.36\n",
              "2        2   232.117647  11.486736              39.299790     4.71\n",
              "3        3   379.939860   7.401399             168.836553     3.88\n",
              "4        4  1530.480879   1.309890              22.967912    12.35\n",
              "5        5   285.108497   5.255401              36.513232    11.31\n",
              "6        6   387.912608   1.521244              24.993474    15.72\n",
              "7        7  2857.423311   1.285877              21.041082    14.30\n",
              "8        8  1191.735632   1.833333            1240.277204     0.94"
            ],
            "text/html": [
              "\n",
              "  <div id=\"df-6748ed84-bb8f-429a-93c0-7fa7c1ce3ad8\">\n",
              "    <div class=\"colab-df-container\">\n",
              "      <div>\n",
              "<style scoped>\n",
              "    .dataframe tbody tr th:only-of-type {\n",
              "        vertical-align: middle;\n",
              "    }\n",
              "\n",
              "    .dataframe tbody tr th {\n",
              "        vertical-align: top;\n",
              "    }\n",
              "\n",
              "    .dataframe thead th {\n",
              "        text-align: right;\n",
              "    }\n",
              "</style>\n",
              "<table border=\"1\" class=\"dataframe\">\n",
              "  <thead>\n",
              "    <tr style=\"text-align: right;\">\n",
              "      <th></th>\n",
              "      <th>Cluster</th>\n",
              "      <th>Recency</th>\n",
              "      <th>Frequency</th>\n",
              "      <th>AveragePurchaseAmount</th>\n",
              "      <th>Percent</th>\n",
              "    </tr>\n",
              "  </thead>\n",
              "  <tbody>\n",
              "    <tr>\n",
              "      <th>0</th>\n",
              "      <td>0</td>\n",
              "      <td>2195.269458</td>\n",
              "      <td>2.455483</td>\n",
              "      <td>47.413250</td>\n",
              "      <td>18.42</td>\n",
              "    </tr>\n",
              "    <tr>\n",
              "      <th>1</th>\n",
              "      <td>1</td>\n",
              "      <td>658.011532</td>\n",
              "      <td>1.663513</td>\n",
              "      <td>81.863097</td>\n",
              "      <td>18.36</td>\n",
              "    </tr>\n",
              "    <tr>\n",
              "      <th>2</th>\n",
              "      <td>2</td>\n",
              "      <td>232.117647</td>\n",
              "      <td>11.486736</td>\n",
              "      <td>39.299790</td>\n",
              "      <td>4.71</td>\n",
              "    </tr>\n",
              "    <tr>\n",
              "      <th>3</th>\n",
              "      <td>3</td>\n",
              "      <td>379.939860</td>\n",
              "      <td>7.401399</td>\n",
              "      <td>168.836553</td>\n",
              "      <td>3.88</td>\n",
              "    </tr>\n",
              "    <tr>\n",
              "      <th>4</th>\n",
              "      <td>4</td>\n",
              "      <td>1530.480879</td>\n",
              "      <td>1.309890</td>\n",
              "      <td>22.967912</td>\n",
              "      <td>12.35</td>\n",
              "    </tr>\n",
              "    <tr>\n",
              "      <th>5</th>\n",
              "      <td>5</td>\n",
              "      <td>285.108497</td>\n",
              "      <td>5.255401</td>\n",
              "      <td>36.513232</td>\n",
              "      <td>11.31</td>\n",
              "    </tr>\n",
              "    <tr>\n",
              "      <th>6</th>\n",
              "      <td>6</td>\n",
              "      <td>387.912608</td>\n",
              "      <td>1.521244</td>\n",
              "      <td>24.993474</td>\n",
              "      <td>15.72</td>\n",
              "    </tr>\n",
              "    <tr>\n",
              "      <th>7</th>\n",
              "      <td>7</td>\n",
              "      <td>2857.423311</td>\n",
              "      <td>1.285877</td>\n",
              "      <td>21.041082</td>\n",
              "      <td>14.30</td>\n",
              "    </tr>\n",
              "    <tr>\n",
              "      <th>8</th>\n",
              "      <td>8</td>\n",
              "      <td>1191.735632</td>\n",
              "      <td>1.833333</td>\n",
              "      <td>1240.277204</td>\n",
              "      <td>0.94</td>\n",
              "    </tr>\n",
              "  </tbody>\n",
              "</table>\n",
              "</div>\n",
              "      <button class=\"colab-df-convert\" onclick=\"convertToInteractive('df-6748ed84-bb8f-429a-93c0-7fa7c1ce3ad8')\"\n",
              "              title=\"Convert this dataframe to an interactive table.\"\n",
              "              style=\"display:none;\">\n",
              "        \n",
              "  <svg xmlns=\"http://www.w3.org/2000/svg\" height=\"24px\"viewBox=\"0 0 24 24\"\n",
              "       width=\"24px\">\n",
              "    <path d=\"M0 0h24v24H0V0z\" fill=\"none\"/>\n",
              "    <path d=\"M18.56 5.44l.94 2.06.94-2.06 2.06-.94-2.06-.94-.94-2.06-.94 2.06-2.06.94zm-11 1L8.5 8.5l.94-2.06 2.06-.94-2.06-.94L8.5 2.5l-.94 2.06-2.06.94zm10 10l.94 2.06.94-2.06 2.06-.94-2.06-.94-.94-2.06-.94 2.06-2.06.94z\"/><path d=\"M17.41 7.96l-1.37-1.37c-.4-.4-.92-.59-1.43-.59-.52 0-1.04.2-1.43.59L10.3 9.45l-7.72 7.72c-.78.78-.78 2.05 0 2.83L4 21.41c.39.39.9.59 1.41.59.51 0 1.02-.2 1.41-.59l7.78-7.78 2.81-2.81c.8-.78.8-2.07 0-2.86zM5.41 20L4 18.59l7.72-7.72 1.47 1.35L5.41 20z\"/>\n",
              "  </svg>\n",
              "      </button>\n",
              "      \n",
              "  <style>\n",
              "    .colab-df-container {\n",
              "      display:flex;\n",
              "      flex-wrap:wrap;\n",
              "      gap: 12px;\n",
              "    }\n",
              "\n",
              "    .colab-df-convert {\n",
              "      background-color: #E8F0FE;\n",
              "      border: none;\n",
              "      border-radius: 50%;\n",
              "      cursor: pointer;\n",
              "      display: none;\n",
              "      fill: #1967D2;\n",
              "      height: 32px;\n",
              "      padding: 0 0 0 0;\n",
              "      width: 32px;\n",
              "    }\n",
              "\n",
              "    .colab-df-convert:hover {\n",
              "      background-color: #E2EBFA;\n",
              "      box-shadow: 0px 1px 2px rgba(60, 64, 67, 0.3), 0px 1px 3px 1px rgba(60, 64, 67, 0.15);\n",
              "      fill: #174EA6;\n",
              "    }\n",
              "\n",
              "    [theme=dark] .colab-df-convert {\n",
              "      background-color: #3B4455;\n",
              "      fill: #D2E3FC;\n",
              "    }\n",
              "\n",
              "    [theme=dark] .colab-df-convert:hover {\n",
              "      background-color: #434B5C;\n",
              "      box-shadow: 0px 1px 3px 1px rgba(0, 0, 0, 0.15);\n",
              "      filter: drop-shadow(0px 1px 2px rgba(0, 0, 0, 0.3));\n",
              "      fill: #FFFFFF;\n",
              "    }\n",
              "  </style>\n",
              "\n",
              "      <script>\n",
              "        const buttonEl =\n",
              "          document.querySelector('#df-6748ed84-bb8f-429a-93c0-7fa7c1ce3ad8 button.colab-df-convert');\n",
              "        buttonEl.style.display =\n",
              "          google.colab.kernel.accessAllowed ? 'block' : 'none';\n",
              "\n",
              "        async function convertToInteractive(key) {\n",
              "          const element = document.querySelector('#df-6748ed84-bb8f-429a-93c0-7fa7c1ce3ad8');\n",
              "          const dataTable =\n",
              "            await google.colab.kernel.invokeFunction('convertToInteractive',\n",
              "                                                     [key], {});\n",
              "          if (!dataTable) return;\n",
              "\n",
              "          const docLinkHtml = 'Like what you see? Visit the ' +\n",
              "            '<a target=\"_blank\" href=https://colab.research.google.com/notebooks/data_table.ipynb>data table notebook</a>'\n",
              "            + ' to learn more about interactive tables.';\n",
              "          element.innerHTML = '';\n",
              "          dataTable['output_type'] = 'display_data';\n",
              "          await google.colab.output.renderOutput(dataTable, element);\n",
              "          const docLink = document.createElement('div');\n",
              "          docLink.innerHTML = docLinkHtml;\n",
              "          element.appendChild(docLink);\n",
              "        }\n",
              "      </script>\n",
              "    </div>\n",
              "  </div>\n",
              "  "
            ]
          },
          "metadata": {},
          "execution_count": 37
        }
      ],
      "source": [
        "# Get average value per segment\n",
        "rfm_segment_agg = rfm_segment.groupby('Cluster').mean()\n",
        "rfm_segment_agg['Percent'] = round((rfm.groupby('Cluster')['CustomerId'].count() * 100 ) / len(rfm), 2) \n",
        "rfm_segment_agg.reset_index()"
      ]
    },
    {
      "cell_type": "markdown",
      "id": "af4f64ca",
      "metadata": {
        "id": "af4f64ca"
      },
      "source": [
        "**B) Customer Segmentation based on inputs from business experts and Managers**"
      ]
    },
    {
      "cell_type": "markdown",
      "source": [
        "![ManagerialSegmentation.jpg](data:image/jpeg;base64,/9j/4AAQSkZJRgABAQEAYABgAAD/2wBDAAMCAgMCAgMDAwMEAwMEBQgFBQQEBQoHBwYIDAoMDAsKCwsNDhIQDQ4RDgsLEBYQERMUFRUVDA8XGBYUGBIUFRT/2wBDAQMEBAUEBQkFBQkUDQsNFBQUFBQUFBQUFBQUFBQUFBQUFBQUFBQUFBQUFBQUFBQUFBQUFBQUFBQUFBQUFBQUFBT/wAARCALQBQADASIAAhEBAxEB/8QAHwAAAQUBAQEBAQEAAAAAAAAAAAECAwQFBgcICQoL/8QAtRAAAgEDAwIEAwUFBAQAAAF9AQIDAAQRBRIhMUEGE1FhByJxFDKBkaEII0KxwRVS0fAkM2JyggkKFhcYGRolJicoKSo0NTY3ODk6Q0RFRkdISUpTVFVWV1hZWmNkZWZnaGlqc3R1dnd4eXqDhIWGh4iJipKTlJWWl5iZmqKjpKWmp6ipqrKztLW2t7i5usLDxMXGx8jJytLT1NXW19jZ2uHi4+Tl5ufo6erx8vP09fb3+Pn6/8QAHwEAAwEBAQEBAQEBAQAAAAAAAAECAwQFBgcICQoL/8QAtREAAgECBAQDBAcFBAQAAQJ3AAECAxEEBSExBhJBUQdhcRMiMoEIFEKRobHBCSMzUvAVYnLRChYkNOEl8RcYGRomJygpKjU2Nzg5OkNERUZHSElKU1RVVldYWVpjZGVmZ2hpanN0dXZ3eHl6goOEhYaHiImKkpOUlZaXmJmaoqOkpaanqKmqsrO0tba3uLm6wsPExcbHyMnK0tPU1dbX2Nna4uPk5ebn6Onq8vP09fb3+Pn6/9oADAMBAAIRAxEAPwD9U6KKKACiiigAooooAKKKKACiiigAooooAKKKKACiiigAooooAKKKKACiiigAooooAKKKKACiiigAooooAKKKKACiiigAooooAKKKKACiiigAooooAKKKKACiiigAooooAKKKKACiiigAooooAKKKKACiiigAooooAKKKKACiiigAooooAKKKKACiiigAooooAKKKKACiiigAooooAKKKKACiiigAooooAKKKKACiiigAooooAKKKKACiiigAooooAKKKKACiiigAooooAKKKKACiiigAooooAKKKKACiiigAooooAKKKKACiiigAooooAKKKKACiiigAooooAKKKKACiiigAooooAKKKKACiiigAooooAKKKKACiiigAooooAKKKKACiiigAooooAKKKKACiiigAooooAKKKKACiiigAooooAKKKKACiiigAooooAKKKKACiiigAooooAKKKKACiiigAooooAKKKKACiiigAooooAKKKKACiiigAooooAKKKKACiiigAooooAKKKKACiiigAooooAKKKKACiiigAooooAKKKKACiiigAooooAKKKKACiiigAooooAKKKKACiiigAooooAKKKKACiiigAooooAKKKKACiiigAooooAKKKKACiiigAooooAKKKKACiiigAooooAKKKKACiiigAooooAKKKKACiiigAooooAKKKKACiiigAooooAKKKKACiiigAooooAKKKKACiiigAooooAKKKKACiiigAooooAKKKKACiiigAooooAKKKKACiiigAooooAKKKKACiiigAooooAKKKKACiiigAooooAKKKKACiiigAooooAKKKKACiiigAooooAKKKKACs/wAQ6/p/hTQNS1vVrlbLS9NtpLy7uZM7YoY1Lu5x2Cgn8K0Ky/FPhuw8ZeGdX0DVYftGl6raS2N1DnG+KRCjrntlWNAHyl8Mf26PHXxght/FHhX9nrxDqvwruL42kXiaHW7Q3pQSeW0n9nY3kKc52uwGDycV9g1+Wvjjwp8bv+CVuiWeveE/Gtp8Qvgn/aoim8N6zEIri284sdqnkpkA/PEwUu25oSCaoftDeKfFH7S37bereBn+HN/8XPB3h/QLa9s/Af8AwlieHYt80NvK15JJuHmspn27Qc4KnOAQQD9WaK/L/wAO+Hfjl+zj+x9+0XD4igvPhRoEaQ3Xgu3vfEUOpz6aksrJPaQXMDlwdnlIhIT533DBLGvMfhZ+yNonxl+JHwTj0b4EePPC+n2ESXXj/XPF73FvZaq3lo3mW8hl3SFnDkNFs++uUxkgA/Y6ivzF+HPwL8P/AB//AOCgX7Sfhnxfc6tP4ShNtc3OhWOozWdvfyhESJp/KZWcRh3KrnGWyc9Dyv7JP7LPh743eCvjn4O8ba94m1zw14E1u+0jw3pcmrzJbae6+Zi6ESsFaT5FwGBQfN8vzGgD9ZKK/ICb9pL4iaB/wSj8NXNl4j1Fda1DxM/hgax9oK3MNkBLIIxMTleEEYbOQnGQBXZ/Cn9m74w+Afjd8MPFPw5+AmofCTTLa/hj8VXrfEW11uHWbGRkErzQtIMsqGRxsB5YFVDKpoA/Uyud+Ivjmw+GXgHxF4u1SG4n03Q7CfUbmKzVWmeOJC7BAzKCxCnGSBnuK/Or4efA3w3+0J+39+0v4Y8aS6td+Fo3tLu40Oy1Ka0tr2VVRY2nETKz+XuZlG4AEkkGuO+DHhmz8Xfsi/tYfDbxJJeeIPDvw51S+n8Ox3t7MTZtBHcCEJtYYVWhD7PuEuxK8nIB+l3wQ+MOi/Hz4XaF498O299a6PrEbyQQ6lGkdwuyRoyHVHZQdyHoxruq/NL9lnwT8Kvgb/wTsvvi7qcGueHtU17RpbXW9b8M6jMmpTr9teKFLcO5jicnYoZVXuSepr578caRd/CXxN8FfiP4F+CmufBK21jXrT7N4muvGz6lca5bylG8ue1LF4gy5JBwrKxBByMAH6q63+014W0H9o/Qfgpc2WrN4q1rTG1W2u44YjZCJRKSrP5m8NiF+AhHTmo5fE3xlX9paHRY/CWit8FTpnmyeIzcD7eLzaT5YTz87d2B/qcYOd/avhr47fs1fDfxt/wVR8LeF9a8OfbdC8VaDNrOsWv265j+1Xey6Pmb1kDJ/qY/lQqvy9OTn0OPT4NB/wCCuGjafYxMlnYfD4W9tBvLbI0jcKoLHJ4Hc/WgD9AqK/L/APZK+Anhb9vbw38TPiZ8aJ9U13xWfEF1p1gv9qXECaDCkcciCCNWCrtMnAYMuIxxndnybUvib4r+If8AwSh8YQ+JtTn1seH/ABlb6Tp2qXLs8s1srwyKGdvmbaZGAJ6LtX+GgD9may/FGqyaF4Z1fUokWSWzs5rhEfO1mRCwBx24r8uP2ofhHpf7NXh/4B/Gjwhq/iL/AIWLq2tafHrWu3+s3E9xqqSwCV1mLNtC4Ty9iqFKHaQa/Tr4if8AJP8AxN/2C7r/ANFNQB45+wr+0N4h/ae+AFl448UWOmafq8t/c2jw6RHJHb7Y2AUhZHdgcHn5j+FfQlfjj+zD+yl4J+KH/BPfxx4+8S6lqtzr+irql3osn9qTx22iy20QlBjgVtm6RgC5ZSSCNuCMn0G1+OWlfET9iv4B6T8TNP8AGXxG8U+JdRu9N0/w3oervYjxAbedoE+3T5DFFDRc5yXG49GIAP1Nor8sP2NrDXvg/wD8FBLrwLb+A7z4N6Dq3hmS7ufA7eJzrtvvVQUufNDEFiUOM5ZQXGQGxXJ33w6h/Z5+Imoa5+054H8ZX2pXOvmfTfjh4Z1+4lNuC4MKmBH2xKMMQGXfhmVUIAoA/Xuivyv/AGmNc8UftCft2eIfh2/w+vPjH4P8MaLBcWfgiPxYvh63d5IoJGvWkJHmkGfaADnBU5ABBv8Ah1fj1+yT+yH+0Jc6zoGoeA9Ehe1fwXYXOv2+rTaRHczmCeOK4jcsFjV4iuVX5vmAyWNAH2H+3H+0B4g/Zm/Z71Xx14YstNv9Ytby1t44dWjkkt9skoViVjdGJxnGGHPr0r2PwPrc/iXwXoGr3SRx3Ooafb3cqwghA8kasQoJJxknGSa/I39ov9lnwL8Pf+Cd/hP4maNqWrR+MPEEOl3ms3jatO8WtyXOJWSaF22N5bMWTaoYbCWycmv0yu/Fl/4D/ZPfxLpduLrU9H8F/wBoWsLLuDyxWO9AR3GVHFAHrdFflJ8K/wBl/wAG/Gj9hnxB8evGOsazq/xbmsNV1lPFk2sXKy2M1q83lRqisF2/uhkFSRvO0gbcc18ZviN4t+LP7F37KXiHxHq19D4kn8YfZRrVvKUuyIpZIYrgOcnzdqKd5zlhu70AfsBXI/FrUvGGj/DXxFe/D/SbPXfGkNoz6Vp2oSBILifjarsXQAderr9R1r4A+Ivwl0T9kD9uz9n5/hxc6xp8Xja4nsvEUd1q1xcnVDvRDLOZHbexM5cg/LuRWAB5r64/boZk/Y/+LZUlT/wj9yOPcYNAHofwd1TxrrXwy8PXvxF0ex0DxtNb7tU03TZBJbwS7j8qMHkBG3afvtyTya7KvyG+NguG/Yb/AGN1tL660y5bXbVYr6xk8ue3Y7wJI2wdrqeQccECvTPiL8JdE/ZA/bs/Z+f4cXOsafF42uJ7LxFHdatcXJ1Q70QyzmR23sTOXIPy7kVgAeaAP0tor8xfh38FdA+P3/BQj9pDwr4wvNRuPCUbW99d+HbO/ltIdSlVEjiadomV2WPzHIUEDc4J6YPDfDPUtQ8J/Af9tz4Swatd6v4M8FrPDon2uZpTaoZbiNo1J6AiFCQMDcGI+8TQB+udeR/F79prwt8FfiN8OfBeu2WrXGqeOr1rHTZrCGJ4IpFaNczFpFZQTKv3VbvXxL8e7qBf+CM/hAGaMGTTdFjQbh8zC5jJUepAVuP9k+lc3+2J8E/BfiX41fsjyalo32l/GUdlpmun7VOv2y3jWzRE+Vx5eFkcZj2k55PAoA/Vqivzz/bJ/ZX8Q6Vqnw0j8KfD2/8AiZ8CfCumSWV38NdN164tJVl3OwuA28yzEBk24LMDHjADE171+wP4s+HHib4IzRfDEeIrHQtP1Se2m0LxNM8tzo0+1Ge0QuWPlLkMvzNy7ZIOQADM/ao/ad8c/D34v/Df4SfC7R/DuoeN/GImuBeeKZJhY2kMYY/MsJDktskOQeNmNrZ4+kfCx1o+GdJPiRbBfEP2WL+0V0subQXGweb5JcB/L3Z27hnGM81+aX7Vn7OPw78Vf8FMfhbomqeHvtWl+NrGe+1+D7bcp9tmSO4CvuWQNHgQx8RlR8vTk5i/aW+Bdn8YP+CkHhb4WpruqeFfDN/4Ehs706PLieWyhNxJ9n3PuGGMSZLBvu8g0AfqNRX5ufHT4fwzftIfs8/sp3Gs61D8IIdBee7ha9MM2smJLjZFPJEFDAC3UYAX/WMRg7SLPhXwba/sj/8ABSDwR8NvhbNeWPgHxjoEt3qvhma+nuoLd1W5ImTzWYq2bdCGJJ+ZxwGAoA/RqivyZ/ZR/Zl8LftIaX+0hD41vdavNN0vxPqJ03S7fUpYLS1u38wm88pGCyTAJGo37lwuCDmud+FXwJ0z4zf8E4/FPxQ8Za/4k13xf4Wt71vDlxc6xOYtHS0w6RwxbtvzHIJYEgbQu3aKAP2Ir4T0/wD4KM/ELxQfiLqPhT9nm48SeFvAuoXNnq2rQeL7eKVI4WfMgtnt97Eohbam7HTPevoT9jHxdq/jz9lf4Za9r19LqesXmjRG5vJ23STMuU3ux5ZiFGSeScmvzy/Zf+CPxS+NGnftK6Z4D+LQ8A6XceJb+yvtHbQ4boakzmUc3RYSW4KkqTGCcHNAH6Yfs/fHLQP2jvhTovj3w1HcwabqQdTbXihZoJUcpJG2CRkMp5BwRg969Fr8cNY+I1l44/4JBalpdn4ft/Dz+FvEtto08do0jxXMgmjmacF2ZtzmbLDJAYHG1Sqj6E/4KOXUD/B39m1FmjZ5fFmkyRqGGXUW5yw9QNy8/wC0PWgD9C68f/aJ8TfGXw3b+FD8HvCWi+K5rjU1i1tdYuBELWzxzJHmeLLZz03kf3DXx9+278GfE7/tC6h8QfH3w21j43/BRdKjS30nRdbmtJfDzoq+dOIInVpGJWRs/dIf5mG0Vx/7Vvirwh4u/Zn/AGXL7wDqus6t4TPjKGKzl8QStJfIEd1MUxPUxndGOSNqjBIwSAfqjRX5vfF74b6d8Xv+Cqh8I65e6pb+H9S8EIupWml30lmb+BSzm2meMhjEzKpZVIztHNY3wF166/ZY+Nn7XHgPwdPet4R8IeHJfEGiaRdXMlxFZzpAsg2K5PUzYZurCNd2cUAfp1RX4mfDn4K/Fb4/fBeDx74f+DuueKPibql1Jd2nxgT4lQ29ykiXBBVbJ5F2BVUx4JDdwQMAfTv7WfwX+MnxAt/g74p8YeBrz4seGNL8OxR+MPh5petGwk/tUxkzXI+zv+9IZhtERbmPAG1iaAP0Wor84o/DY/aC/YP1Pw7+zJeeJtMTT/EONQ8JeINTeG8hjVQZ9Kjndvkjy6OAXwfnBIJKjqf2AtQ+GHhf4reJfBmifD3xZ8FviLHpQm1XwTq2p3F7p1xGsiYu4XlZizjcoDfL8rnbuGSAD2D9rL9rzV/2cfGHw58L6B8Pf+E/1vxtcTWllbf20mm7ZkaJUXc8TqdxmHLFQMe/HafBD4mfFjx3qupwfET4L/8ACr7K3hV7W7/4Sq01f7VIWwY9kCgpgc5PB6V8n/8ABTLS9X1r9oz9luw0DW/+Eb1u51q4istY+yJdfY5jNaBJfJchZNpwdrcHGK+q/h38F/GieCfFnhn4w/EpPjDp+uw/Zdsnh220dYLdkZJY8QMd+7cDuOCu3igD2Wivw7+GusXXi74meF/2Vte8aQ3nwPs/Hl0LXWRvVdTWE5jsVlI2lWkZcKOA9wCCR5dfTfxa+Gun/Ez/AIKn2ngm+1G/0jw1f+CootQsdJums2v7WLdJ9kLxkMsTNGhYIQSqEZHUAH6U0V+W/wAM9auf2Pv2p/2kvh98Prm7l8DaJ4KuvE2n6JPcSXMdheR28Ey7d5PQzMpJJLLs3FiteKfDn4K/Fb4/fBeDx74f+DuueKPibql1Jd2nxgT4lQ29ykiXBBVbJ5F2BVUx4JDdwQMAAH7Z15L+0h+0x4X/AGXvCuja/wCK7LVr2x1TVI9JhXSIY5XSV0dgziSRBsAQ5IJPTg18KftseGfGXj74qfsf+GvE+sXXhPxtrmny6ZreoaYyedbXE6WsV3sMbbcndKvytt+bjIrC/wCChn7H/wAP/wBnr9m/4Y2GgpqeqXNj4lGmRalq95vn+y3HnzyxERrHHjeAQ2zcMYzQB+sCtvUMOhGadXwX+1h+xzq2gfB3wJ4Y+CnhSbVPh9o2ry6l4j+Htvr1xbPrcUmwkfaJJC5A2uCobP7wFQSorsf+CePiL4YS6f458OeAPDvir4fappd1B/bfgPxLdzXCaTOQ67rcylmxIVbdkgkouVUYyAfYdFfnd+1gPBnxq/ae1XwHZ/CPxZ8e/GOh6XBNdaHJ4vbQtE0lCFbfEwZR5riWPdnr8oHIOPIv2dfEWvXH/BP39qjwxq0l5FZeHJrq0sNLvb03Z0xCmGtkk6FVZP4cKSWYD5jQB+t1Ffjt8RfgJofhz/gnR4H+O9lq/iIfFPT4NNaz8QSazcGSzgM4gS2gUMEiijU5XaoYEfeOTXsHx71y5/aa/aa/Zp+E3jK/uofAXiHwvD4m1fTLW6eBNSuXgmk8tzHgkZgCjoQHfaQSDQB9IXH7TXieP9va1+CK6fpP/CKyeGzrD3jRSm+87DHaH8zYE4HGzPXmu8/as/aAX9mH4I618Qm0JvEn9nS28Q00Xf2XzDLMkefM2Ptxvz905xj3r4q+Enwn0H4J/wDBV638KeGLy/m0K18IyPa2V/fPdnTkaPIto3clhGv3lViSA/U5r3T/AIKvf8mR+Mf+vzTv/SyKgDuf2Of2vbP9rLwz4huZPDj+DvEOg3i219oc16LtkjkTfFMH2Idr4cfdHKHk15h8Yv8AgpRZ/DL9omL4ZaZ4AuPEthDq9hoeo+I11T7PFa3lyc+UsfkP5hRck/OuSrDjGa+fn+JFv+wz8fPBvxFu7d28H/ET4Y2rXUMZIVtStLKMoBgfeYxwpn/p5Y151rHgbUNF/Z//AGfPG2v7pPFHxD+KqeKNQnkyXcTPiLk9ig3j/roaAP2aor87v2sB4M+NX7T2q+A7P4R+LPj34x0PS4JrrQ5PF7aFomkoQrb4mDKPNcSx7s9flA5Bx5F+zr4i164/4J+/tUeGNWkvIrLw5NdWlhpd7em7OmIUw1sknQqrJ/DhSSzAfMaAP1uor8dviL8BND8Of8E6PA/x3stX8RD4p6fBprWfiCTWbgyWcBnECW0ChgkUUanK7VDAj7xya98/ae8beFPjBqnwa8Ha14D8V/GDx3r/AIXh1qLwRpviI6PpDebFvNzcyqVxICkoU9Au7OMjIB+htFflb+xT4g8TfDHxj+1L4Njgl+FWm6DoUmpWPhzUtaOq2vhy68tyHE4yHA3KzMoJYKoO4rXhPgv9ns/tF/Dn4axaV8GviHf/ABN1bWEv/EnxE12Wc6NqOnvK5d/tDy7XOwp90I+UbDOeoB+5FFflB8erPW/iZ+2hqPwZsPhpe/FT4feAfDtrBpfw+Txf/YMCAQW5F28ztumZRKEHzFsbTnAIPY+A/hn8XfhL+x9+1BoPj7wxeeEPBTaNc3fhPRb7XrfWHsInhn863SeJ2OxAsOAyrkkkDJY0AfpdRX5y/sD/ALI0l18DtM+Mlh4715viXr/hS90XSpLuVDYaXGQ0NsFTYz/ujEjAh8dfk9fOP2ffCnh79nf4xeA9O+OHw58ZeB/iteawIbL4mWHiCe+svEM7y4ENz87RhHDojKASRgvs5NAH6w0UUUAFFFFABRRRQAUUUUAFFFFABRRRQAUUUUAFFFFABRRRQAUUUUAFFFFABRRRQAUUUUAFFFFABRRRQAUUUUAFFFFABRRRQAUUUUAFFFFABRRRQAUUUUAFFFFABRRRQAUUUUAFFFFABRRRQAUUUUAFFFFABRRRQAUUUUAFFFFABRRRQAUUUUAFFFFABRRRQAUUUUAFY3jPwjpnj/wjrPhrWoWuNI1ezlsbuJJGjZ4pEKOAykEHBPIrZooA+VdN/wCCc/gA6xo1x4o8Z/EX4iaRo9yt3YeHPF/iRr3TLeVQQhWEIpwM9CxBHBBBIPX/ABw/Yv8AAvxw8a6d40l1HxJ4J8b2MQt4/Evg3U/7PvmiAICM+1gcAkZ27sHGcACve6KAPin9pj9k7V/CP7IPxC8K/DS31z4k+LPEc9rLql74s1Q6jqd5HE65dHkKr5iKo2hQD1wC2BXy1pf7PsviDxB8M7f9n74F/FP4O+NdNv7ebxB4w8XNc2Fp5CqFlP72dlmySzFY1TIyoQh8D9e6KAPI/h/+zN4X+G/xu8d/FLTL7VpvEHjJIk1C2upomtI9m3BhURh1ztGdzt1PSmfBv9mHwt8D2+IR0K/1i7PjfVJtW1H+0Zon8qWXduWHZEu1fnOA249OTXr9FAHz54P/AGG/hj4V/Z3uvgtdQaj4l8G3FzJeE6xOhukmZgwdJIkj2spHBAz1ByCRVD4X/sKeFfhn4i0LU5PHvxI8X2ugyLNpGieJvEr3GnWEigqjRQIiD5VJADZAHavpKigDyP4e/sy+F/hr8bvHnxS0y/1efxB4yWNNQtruaJrWIJtx5SrGrL90fedqofCr9kfwN8JofidBZPqes2nxEvZ7zW7bV543jPm+YHijEcaFYyJnHJLc/er2uigD5l+H/wDwT9+HngPwB4r8CPr3jLxL4H8QW/2Y+HNd1rzrLT187zt1pGiJ5T+Zht2SSVGSec8nH/wS5+Gs1v4dj1Pxt8R9fbw7dQT6M2r6+lwunxRHItoYzD5aQsQmQF3fu1wyjOfsaigDwj4/fsdeD/2gvGXh3xhe654o8HeL9Bie3tNf8H6mLG8ELbv3Zco+AC78qAfnYZwcVpWP7K/hWx/aA034wjU9cn8U2OhroKw3F1HJbSwqpXzJAY/MaUg8tvwTzivZaKAPljxh/wAE6fh14h8WeINc0PxP47+HqeInaTWtJ8Ha8bKx1JmJLmaIxvkNubKghfmOAM11njL9if4aeKv2d4vgtaWt94Y8FxzRXA/sWZFumkR9+9pJUk3MzfeLAk9BjAr3uigDxP41fsl+D/jv4H8E+FfEN/rVvpnhK8tr2ybT54o5ZnhiMarKWiYFSpOdoU56EV6/rWlxa5o99ps7OkF5BJbyNGQGCupUkZBGcH0q7RQB8ZWv/BKn4U6b4Pg8Mab4r+IWlaPJ/wAhW1sdfWKLW8SF0+2RCHy3Kg7AURDtA6nmvUvip+xP8M/il8PvBfhFrfVPCtr4LZG8O6h4cvjb3umbdvMcrh8k7EJZgzZUNndzXvdFAHzZ8K/2C/Afwn+LVv8AEi08Q+MfEHiwafNp95e+ItXF62oeYCDLOzRhzIF2oNjKoCL8uck4Kf8ABNn4cXF5p8GreLPiF4j8IadcLcWfgfWPEj3GiW5X7irAUDbV5AG/oSDkGvrGigDwL42fsV+AvjX4y0zxi1/4i8DeNNPgFrD4j8F6l/Z16YQCBGW2spABIB27sHGcACtfwR+yh4J8I/D3xV4R1G413xxa+Kk8vXNR8XarJf3t+Nmxd8hxtKr90oFIIBHIBr2aigD41uP+CVvwp1DwbceFtR8U/EHVtDTJ0myvtfEsGhEyb3NlCYvLQvyrF1c4J6Md1fWuj+G7PRvC9joCqbrT7WzjsQt0FcyRKgTD8AHIHPGDk8Vq0UAfId1/wTF+FxfULDTvE/xA0HwXqFx9pu/A+l+I2i0WduMh4Shcg4H8eRgYIwK9J+K/7HHw/wDix4R8AeGJl1Dw1oXgi+hv9Is9AkihRWjGFR/MjfcvrjDEkktk17nRQB5H8U/2ZfC3xe+K3w6+IGtXurQ6x4FuJLnTbeymjS2ld2Rv3ytGzMAY1xtZe+c12PxW+G+l/GD4b+IvBWtTXVvpWu2cljcy2Lqk6I4wShZWUMO2VI9jXV0UAfOfib9hXwF4q+Fnwy8A3er+I49H+H95He6XPDc24uJnQnAnYwFWHP8ACqH3rsPin+zL4W+L3xW+HXxA1q91aHWPAtxJc6bb2U0aW0ruyN++Vo2ZgDGuNrL3zmvXKKAPzg8L/sgah8Vv25/j5rXiS28ceB7Bvs8ug+MfD9xPpcrM6osot7jaY5QyAqww2Bnoa+tvhD+yD8Nfgz8KNd+H2laXcaroviAS/wBtz6xcGe61QyJsdpnAXB28AIFA5IAJJPtNFAHxi/8AwSn+Et14NuvC174n+IGpaGHMml2N5ryyQaIzSb5Gs4fK8tWflWZ1ckE8hjur1z42fsfeCPjv4O8G6FrV7rulXXhBon0XXtDvVttRtGRUXKyFGXJ8uMk7cgoCu3Fe5UUAfOHi79h/QvFaaHPH8TfiloOu6dpcekXHiDRvFLw3+qW6O7qLyQowlYNK5yFH3vTivSvgT8AvB37OfggeF/BljLb2bztd3V1dTGa5vJ2ADSzSH7zEADgAADgCvRaKAPJPGn7M3hbx18e/BXxcv73VofE3hO2ltbK3tpo1tJUcSA+ajRliR5rY2uvbOaS//Zl8Laj+0pp3xumvdW/4Syw0k6PDaLNGLHyiJAWKeXvL4lbnfjpxXrlFAHjv7Qf7Kvgf9pKPRp/Ef9qaVr2iSGXSvEXh+8NnqNixKk+XJgjqoPzKcHkYPNZnwP8A2OfBHwP8Yah4xi1HxH428b3sX2eTxR4z1M6jqCw8fu0faoUYAGQu7AxnHFe60UAeOfBP9lrwn8BYvHsfh6/1i6TxnqMup341GeKTyZJN2Vh2RrhRvON249OTWX4B/Y38F/Dr9m/Xfgppup69P4V1iK7huLy6uIWvlFwMPsdYQgI7ZQ++a93ooA4/4Q/C/Svgr8M/D3gfRLi8utJ0O1FpbTag6PO6Ak5coqqTz2UV84x/8E0fBun6x4mvdG+KPxX8N2niS+mv9T0nRPEkdpZ3DSsxdHRLcFlwxX5iTt4zX19RQB42v7Inwsh+Ad38HLfw0lt4GulJkto5W84zFg4uDKSWModVIYk/dAxtG2vIYf8Agl38L20/w9BqXirx/r134fu7efSr/V9cS4lsoIeVs4UMPlR25YBiqoGyBhgOK+wqKAPnT4sfsP8Ahf4r+MNc8QHx38RPCB14INZ0vwt4ia0sNSKxrFmaFkcHMaKhxgECpfGX7C3wx8W/Dv4f+CLeLU/Dnh/wRqSarpkOj3CK7zKST5zSxyFwzEsx4YnuK+hqKAPI5P2ZfC8v7SkXxuN/q/8Awlcelf2OLMTRfYfJwRu2eXv38nnfj2qHwp+yz4O8J/G7x/8AFCKbUtQ1vxtaJY6nY38kUliIVVFKxxiMNhhGud7NnnpmvYqKAPkuz/4Jr/DvRbq/g8P+NfiT4W8KX8zTXfg3RPFElvpE+4YdHjCFyrDg/vM4AGa7j4qfsb+GfiXrOm6tp/jHx58O9RstMh0b7R4J8QPYNcWcRYxRS7lcOFLtg9eeSa98ooA+dYf2EPhppfwjsPAWhT+IvDEdlqZ1qHxDourPb6uL8xtG1ybjBy5R2XBXbg8AVs/Av9kHwZ8CfFWreLLbVPEnjPxpqkItbjxN4x1M6hqBgBBEQfaoC/KvbJ2gZwK9xooA8J/aS/ZA8L/tOa14Q1fXPEfirwzqnhWSaXTbzwtfRWk0ckhjJfe8TsGUxKVKlSOfwreCP2RR4J0zxTZH4z/FvxEuv6XJpbSeIfEy3r2KvjM1ruhxHNjID4OATgZ5r3+igD5d1n/gnP8ACbVvgd4V+GMR1vSrHw1ftqdhrun3UUWqi5YkvK03lFSW+UH5OBHHjGxceI/Ff9lfU/i5/wAFFtPl1rTvF0XhK28HRLB420x5rR7a+iDCOVLyNRGLgMd23pk52Yr9EKKAPDvgH+x54B/Z9TxPNpj6v4p1rxPldZ1zxZeC/vL6P5v3cjbVUr8zZ+XLZ+YtgY88s/8Agmv8O9Fur+Dw/wCNfiT4W8KX8zTXfg3RPFElvpE+4YdHjCFyrDg/vM4AGa+tKKAPGfHv7KPgz4hfEL4XeLr241ayu/hyc6NZWVwgtmH7vaJt6M7geUmMOp65zW3+0J+z54S/aZ+HNx4L8ZRXR0550uobmwlEVzazpkLLGxVlDAMw+ZSCGPFel0UAfN+qfsO6Dq3hHw5pMvxN+KUetaA9z9i8XQ+KGXWRFOUMkDT+XtaL91GAuzgKMHrXafs//sweDP2cbXWm8Ovqmra3rkwuNW8Q+ILw3mo37jO0yy4AONzHAA5Yk5NeuUUAfOvxc/Yb8E/Fj4pS/EOLxJ4z8C+K7q0Wx1C+8G6z9gbUIAFURzfIxI2oqkKVyFGckAiv4F/YH+G/w5+FfxJ+HmhXviC28OeO3Y3ySXkUktopXaEt3aIkADoZPMPqTX0lRQB4R4l/Y38F+Kf2YbD4FXep69H4Rs4reGO9huIRfkQzCVcuYTHksMH9309OtV/i9+xP8PvjJoPgezv7rXtB1fwXBDbaJ4k8P34tdTtY4wgUebsYH/VqclcqclduTXv9FAHzn8K/2E/h98Ifi5YfErSNU8UX/iyHT5bG7vNZ1QXjam8hO+5uWdN7TEYGVZUwownXPon7QnwI0D9pL4W6l4C8TXmpWOj38sMss+kyxx3AMUiyLtaRHXGVGcqePSvSKKAPAPjz+xN8Pv2iPhn4P8EeJLjWbPTvCojTTrzTLiJLoIkIi2MzxOpDKqk4UZKg8VufGH9lfwd8aNL+H+m6pcappNj4I1G31LSodIlijXdCoWOOTfG+YwFAwu0+9ex0UAfOvxc/Yb8E/Fj4pS/EOLxJ4z8C+K7q0Wx1C+8G6z9gbUIAFURzfIxI2oqkKVyFGckAiv4F/YH+G/w5+FfxJ+HmhXviC28OeO3Y3ySXkUktopXaEt3aIkADoZPMPqTX0lRQB4R4l/Y38F+Kf2YbD4FXep69H4Rs4reGO9huIRfkQzCVcuYTHksMH9309OtZvxT/AGGvAfxRm8EX41rxX4Q8R+D9Oj0nS/EfhXVRZaitqiFFjaQow6M3IUH5mGcEivomigD491D9hfR/gj8P/jHq3wqj1bxN428X+HJdNbTvE+oR3cF3MVO+QtIqkyyMWc732Fm6KvA+GrP9m83Xwh8O+F/AH7Ofxa8M/tB28lutz43vmuNP0yOVJN0sqXDTiHbwAuETHBDEr837T0UAfNfjz9h/w18XJPCPifxHr/iLw58U9I0u3sbvxn4K1I6fe3TpGFclirAgkvzt3YbGcYA6LQf2Q/CWh/Cfxt4Fl17xXrg8ZWz22teIdc1dr3VbkNEYg3myKUBVTgYTHqDXuVFAHmXg39nnwp4L+AcPwfh+3ah4Qj0ybSX+23A+0ywy7/M3SRqmGPmNyoGK8v8ACP8AwT98C6B430HxNr3i7x98RpfD8wuNG07xr4gOoWenSAgq0UexcFcLgMSPlXgkV9O0UAFFFFABRRRQAUUUUAFFFFABRRRQAUUUUAFFFFABRRRQAUUUUAFFFFABRRRQAUUUUAFFFFABRRRQAUUUUAFFFFABRRRQAUUUUAFFFFABRRRQAUUUUAFFFFABRRRQAUUUUAFFFFABRRRQAUUUUAFFFFABRRRQAUUUUAFFFFABRRRQAUUUUAFFFFABRRRQAUUUUAFFFFAH88f7UHx0+JOkftL/ABbsbH4g+KrKxtfF2rwQW1vrVzHHFGt7Kqoih8KoAAAHAArzL/hoT4p/9FL8Yf8Ag+uv/jla37WP/J03xk/7HPWf/S6au3/Zp/Y7l+OfgXxd8QvEvjKz+HXw18L4ivvEFzZSX0jTEKfLjt0ZS2A6ZO4HMiBQxJwAeZf8NCfFP/opfjD/AMH11/8AHKP+GhPin/0Uvxh/4Prr/wCOVpfHb4V+D/hre6LL4H+J+l/E/Q9UgeVbyzs5bG5tmRgpSe2kJeInIK5PzAH0ry6gDv8A/hoT4p/9FL8Yf+D66/8AjlH/AA0J8U/+il+MP/B9df8AxyuAooA7/wD4aE+Kf/RS/GH/AIPrr/45R/w0J8U/+il+MP8AwfXX/wAcrgKKAO//AOGhPin/ANFL8Yf+D66/+OUf8NCfFP8A6KX4w/8AB9df/HK4CigDv/8AhoT4p/8ARS/GH/g+uv8A45R/w0J8U/8AopfjD/wfXX/xyuAr2HQ/2W/FniD9mvXvjdbX2jr4U0bUV025s5J5RfGQtEoZUEZQrmZOrg9eKAOd/wCGhPin/wBFL8Yf+D66/wDjlH/DQnxT/wCil+MP/B9df/HK4CigDv8A/hoT4p/9FL8Yf+D66/8AjlH/AA0J8U/+il+MP/B9df8AxyuAooA7/wD4aE+Kf/RS/GH/AIPrr/45R/w0J8U/+il+MP8AwfXX/wAcrgKKAO//AOGhPin/ANFL8Yf+D66/+OUf8NCfFP8A6KX4w/8AB9df/HK4CigDv/8AhoT4p/8ARS/GH/g+uv8A45R/w0J8U/8AopfjD/wfXX/xyuAooA7/AP4aE+Kf/RS/GH/g+uv/AI5R/wANCfFP/opfjD/wfXX/AMcrgKKAO/8A+GhPin/0Uvxh/wCD66/+OUf8NCfFP/opfjD/AMH11/8AHK4CigDv/wDhoT4p/wDRS/GH/g+uv/jlH/DQnxT/AOil+MP/AAfXX/xyuAooA7//AIaE+Kf/AEUvxh/4Prr/AOOUf8NCfFP/AKKX4w/8H11/8crgKKAO/wD+GhPin/0Uvxh/4Prr/wCOUf8ADQnxT/6KX4w/8H11/wDHK4CigDv/APhoT4p/9FL8Yf8Ag+uv/jlH/DQnxT/6KX4w/wDB9df/AByuAooA7/8A4aE+Kf8A0Uvxh/4Prr/45R/w0J8U/wDopfjD/wAH11/8crgKKAO//wCGhPin/wBFL8Yf+D66/wDjlH/DQnxT/wCil+MP/B9df/HK4CigDv8A/hoT4p/9FL8Yf+D66/8AjlH/AA0J8U/+il+MP/B9df8AxyuAooA+jPF3x0+JMP7P3w3vI/iD4qjvLjV9cSa4XWrkSSKi2OwM2/JC7mwD03H1rzL/AIaE+Kf/AEUvxh/4Prr/AOOVreNP+Tcfhf8A9hnXv/QdPryqgDv/APhoT4p/9FL8Yf8Ag+uv/jlH/DQnxT/6KX4w/wDB9df/AByuAr7H8P8A7C/gCz/Z18D/ABc+Inx0/wCEA0vxUzRW9r/wiNxqWyUNKNm6GbcfliZslFHagD53/wCGhPin/wBFL8Yf+D66/wDjlH/DQnxT/wCil+MP/B9df/HK9R/aG/Yp1j4L/D/R/iR4b8U6X8S/hfq0nk2/iXRUaPypMlQs8JJ8vLB1BDNhlKttYgH5voA7/wD4aE+Kf/RS/GH/AIPrr/45R/w0J8U/+il+MP8AwfXX/wAcrt/2LP2a4v2qvjrp/gq81OfR9JW2m1DULu1jDzLBHjKpu4DMzKoYggZzg4we9s/AX7IN18SPF+m33jj4jeG/Del6aY9On1S2gluLzU0llVwPs9vIPIKCIrvWNslskYFAHhf/AA0J8U/+il+MP/B9df8Axyj/AIaE+Kf/AEUvxh/4Prr/AOOVwFaPhuHTLrxFpcOtXMtno8l1El7cQLukigLgSOowcsFyQMHkUAdd/wANCfFP/opfjD/wfXX/AMco/wCGhPin/wBFL8Yf+D66/wDjletap+zX4D+NH7TWlfDX9nLxnL4g0XUdPM8Wr+LhLbhbiNJJJkJW1R8BUXB8rq2M965P4V/C/wCG+g/tAa14J+O/im+8L+HNGkvLG71Tw7G87G7hfYqp+4lbYWDc+X2HTNAHI/8ADQnxT/6KX4w/8H11/wDHKP8AhoT4p/8ARS/GH/g+uv8A45XK+LLfSLPxVrMHh+6mvtBivZk0+6uF2yzW4dhE7jAwxTaSMDk9BWVQB3//AA0J8U/+il+MP/B9df8Axyj/AIaE+Kf/AEUvxh/4Prr/AOOVwFFAHf8A/DQnxT/6KX4w/wDB9df/AByj/hoT4p/9FL8Yf+D66/8AjlcBRQB3/wDw0J8U/wDopfjD/wAH11/8co/4aE+Kf/RS/GH/AIPrr/45XAUUAd//AMNCfFP/AKKX4w/8H11/8co/4aE+Kf8A0Uvxh/4Prr/45XAUUAd//wANCfFP/opfjD/wfXX/AMco/wCGhPin/wBFL8Yf+D66/wDjlcBRQB3/APw0J8U/+il+MP8AwfXX/wAco/4aE+Kf/RS/GH/g+uv/AI5XAUUAd/8A8NCfFP8A6KX4w/8AB9df/HKP+GhPin/0Uvxh/wCD66/+OVwFFAHf/wDDQnxT/wCil+MP/B9df/HKP+GhPin/ANFL8Yf+D66/+OVwFFAHf/8ADQnxT/6KX4w/8H11/wDHKP8AhoT4p/8ARS/GH/g+uv8A45XAUUAd/wD8NCfFP/opfjD/AMH11/8AHKP+GhPin/0Uvxh/4Prr/wCOVwFFAHf/APDQnxT/AOil+MP/AAfXX/xyj/hoT4p/9FL8Yf8Ag+uv/jlcBRQB3/8Aw0J8U/8AopfjD/wfXX/xyj/hoT4p/wDRS/GH/g+uv/jlcBRQB3//AA0J8U/+il+MP/B9df8Axyj/AIaE+Kf/AEUvxh/4Prr/AOOVwFFAHf8A/DQnxT/6KX4w/wDB9df/AByj/hoT4p/9FL8Yf+D66/8AjlcBRQB3/wDw0J8U/wDopfjD/wAH11/8co/4aE+Kf/RS/GH/AIPrr/45XAUUAd//AMNCfFP/AKKX4w/8H11/8co/4aE+Kf8A0Uvxh/4Prr/45XAUUAd//wANCfFP/opfjD/wfXX/AMco/wCGhPin/wBFL8Yf+D66/wDjlcBRQB3/APw0J8U/+il+MP8AwfXX/wAco/4aE+Kf/RS/GH/g+uv/AI5XAUUAd/8A8NCfFP8A6KX4w/8AB9df/HKP+GhPin/0Uvxh/wCD66/+OVwFFAHf/wDDQnxT/wCil+MP/B9df/HKP+GhPin/ANFL8Yf+D66/+OVwFFAHf/8ADQnxT/6KX4w/8H11/wDHKP8AhoT4p/8ARS/GH/g+uv8A45XAUUAd/wD8NCfFP/opfjD/AMH11/8AHKP+GhPin/0Uvxh/4Prr/wCOVwFFAHf/APDQnxT/AOil+MP/AAfXX/xyj/hoT4p/9FL8Yf8Ag+uv/jlcBRQB3/8Aw0J8U/8AopfjD/wfXX/xyj/hoT4p/wDRS/GH/g+uv/jlcBRQB3//AA0J8U/+il+MP/B9df8Axyj/AIaE+Kf/AEUvxh/4Prr/AOOVwFFAHf8A/DQnxT/6KX4w/wDB9df/AByj/hoT4p/9FL8Yf+D66/8AjlcBRQB3/wDw0J8U/wDopfjD/wAH11/8co/4aE+Kf/RS/GH/AIPrr/45XAUUAd//AMNCfFP/AKKX4w/8H11/8co/4aE+Kf8A0Uvxh/4Prr/45XAUUAd//wANCfFP/opfjD/wfXX/AMco/wCGhPin/wBFL8Yf+D66/wDjlcBRQB3/APw0J8U/+il+MP8AwfXX/wAco/4aE+Kf/RS/GH/g+uv/AI5XAUUAd/8A8NCfFP8A6KX4w/8AB9df/HKP+GhPin/0Uvxh/wCD66/+OVwFFAHf/wDDQnxT/wCil+MP/B9df/HKP+GhPin/ANFL8Yf+D66/+OVwFFAHf/8ADQnxT/6KX4w/8H11/wDHKP8AhoT4p/8ARS/GH/g+uv8A45XAUUAd/wD8NCfFP/opfjD/AMH11/8AHKP+GhPin/0Uvxh/4Prr/wCOVwFFAHf/APDQnxT/AOil+MP/AAfXX/xyj/hoT4p/9FL8Yf8Ag+uv/jlcBRQB3/8Aw0J8U/8AopfjD/wfXX/xyj/hoT4p/wDRS/GH/g+uv/jlcBRQB3//AA0J8U/+il+MP/B9df8Axyj/AIaE+Kf/AEUvxh/4Prr/AOOVwFFAHf8A/DQnxT/6KX4w/wDB9df/AByj/hoT4p/9FL8Yf+D66/8AjlcBRQB3/wDw0J8U/wDopfjD/wAH11/8co/4aE+Kf/RS/GH/AIPrr/45XAUUAd//AMNCfFP/AKKX4w/8H11/8co/4aE+Kf8A0Uvxh/4Prr/45XAUUAd//wANCfFP/opfjD/wfXX/AMco/wCGhPin/wBFL8Yf+D66/wDjlcBRQB3/APw0J8U/+il+MP8AwfXX/wAco/4aE+Kf/RS/GH/g+uv/AI5XAUUAd/8A8NCfFP8A6KX4w/8AB9df/HKP+GhPin/0Uvxh/wCD66/+OVwFFAHf/wDDQnxT/wCil+MP/B9df/HKP+GhPin/ANFL8Yf+D66/+OVwFFAHf/8ADQnxT/6KX4w/8H11/wDHKP8AhoT4p/8ARS/GH/g+uv8A45XAUUAd/wD8NCfFP/opfjD/AMH11/8AHKP+GhPin/0Uvxh/4Prr/wCOVwFFAHf/APDQnxT/AOil+MP/AAfXX/xyvTf2X/jp8SdX/aX+EljffEHxVe2N14u0iCe2uNauZI5Y2vYlZHUvhlIJBB4INfOdeq/snf8AJ03wb/7HPRv/AEuhoA/pTooooAKKKKACiiigAooooAKKKKACiiigD+az9rH/AJOm+Mn/AGOes/8ApdNXrX7HP7a+mfAHwj4m+HXj3wVD48+GPiacT32n7lE0EhVUd0VhtkyqJ8pKEMisHUjnyX9rH/k6b4yf9jnrP/pdNXRfBf8Aa/8AEPwa8B3Hgt/BfgTx74akvm1GPT/G2hDUEt52VVZ48OhGQi9c9OMUAfa6/sK/BjWP2gv2fPGHgpbiX4XfEA3F7J4Z1d3cKYLRrmNFLkuUYrh43ZvuthmVsD1Hxp+0h8GdH8efETwF8WPjfpet+AWW40aP4b/8K4u7RdEZG2IIryKNi7IAQHAxkhk2YFfmn8Tv20vin8UPiR4X8aXGswaBqHhUKPD9loNsttZ6UoCgrDF82Q20Bg5bK/KflAUeheKP+ClXxA8UfbNQfwJ8M7Dxhd2rWknjO18MqdZ2lNjETySMoJU4+7jHQCgD6n/Zcj1D4dfsM+Dda+H3jTwX8FfFWteJbg6h4m8eC3hTXLKKWUbIpJFbIC7AEwpzHJgpncfQfBP7SOnfH3/gp1oFh4a8SQ+JPB/h3wxewW09rCqwG7kRTcvE+3c6HbEOWYZQ7Tg5PmfwS+M9xb/sY/DTwr8GP2hfA3w18XaVNNJ4hh+Id7DbyZkZ3MMAuIZF8sM2RsQ5GPmB3A8X+1V+254b+Gf7RPgTxt8I5PDHjPx3omhTaZ4l8RJp7ppuqTSKi5AjdGkK7GYMrlQHVQW2kAA9j/ZQ/aA1D40/EL4/fC7xX4Y8L3nw28NWV3caR4Xh0iGKztUt7hoxHtC5ffwzMxJDDK7c4rzXwL8ZNW/a+/YJ+P7fEfTtHvpfBojvvD7WOnRWq6ZlCyRQhFG1U8sqDyxV2VmYV8dfB39r3xj8EfHXj3xXoem6Hd6j4ztrm11CLUIJniiWeXzHMISVSpDdNxbjrnrWX8Lv2nPFPwl+EfxD+Hej2GkXOieOIUh1G4voZXuYlVWUGFlkVVOHP3lbtQB+lej3HhL9kv8AZZ+Cb6J8W9O+B154m06LVtU1geCZPEUmvTNDFK0byKP3ar5pAB5KkbSu05yPgn42+EfxK/4KgaT4m+EN5b32l6l4SuZNXks9PnsYW1AbldlimRCCyCIkgEEknJYsa+I/hr+3z498A/C+x+HmseHPBfxM8Jae+/T9P8eaMdRWyAzhY8SJwMnG7dtBwMDAFTwz+3Z8QvC/7QEXxdt9N8Mya7b6adHtNL/s1odNtLTbtWKOGGRGAUZxlyeec8UAfdH7MPxc1L9pbxf+0D8FfGOj+Hj8OdH029XRtDsNIgt7fTPKnaFTEFXJbLCTczFg65Uiuf8AgX+0l8RvB/8AwSn8UeLNI8RfZPEHhXV4dH0e8+w2z/ZbQSWiiPY0ZV+JZBucM3zdeBj4h+C37YnjT4E/EDxz4w8P6dodzqni+C4gvo9Qt5pIYRNL5rGILKpBDdNxYY65qb9n/wDbM8Zfs9+CfEXgyx0Pwt4x8Ia7Mtzd6D4v0xr6084BQXCLImSQkeQ24fIpAB5oA8S1vWbzxHrV/q2ozfaNQv7iS6uZtqrvkdizthQAMkk4AAqlVzWdSbWtYvtQe3t7VrueSc29pGI4YyzFtqIPuqM4A7AAVToAKKKKACiiigAooooAKKKKACiiigAooooAKKKKACiiigAooooAKKKKACiiigAooooAKKKKAPVfGn/JuPwv/wCwzr3/AKDp9eVV6r40/wCTcfhf/wBhnXv/AEHT68qoAK/QX9pz/lFT+zl/2F5P/Qb2vz6r6m8F/wDBQnxX4V+D/hn4a6j8N/hn438NeHQ32FPFuhS37qxZ23kGcJu/eMMqo4OKAPbPgtYz6V/wSN+Kf/CRk2mma34kjTQ/tbbVlbzrNC8ef4RJHJnH/PKTjg19V/E3xj8Pv2M9e+Hngmx+MGmfCPwjZ6dDc6h4SPgGbVv+EijLsssst6gJVnClTj5gcsdwIFflV+0D+118RP2kYdN0/wATXtnp/hvS8Gw8N6Fai0061YLtDLECSSBkAuzbQxC4BIr0TR/+CjnxBTwXoXhzxZ4P+H3xOXQ4xFpupeN9A/tC8tlAAXa/mKNwCr8xUsdo3EmgD7I/Yf8Ai14Z1D9vj4peHPhBqkZ+Duuac2vxWMGnm3iN6EtldkEsSyxqryTAIMJg8DAWud/YQ+Lniz42fGz9ojxD401Ua1rEHhWTT47r7NDAVgjllCJtiRV49cZPcmvin4Zftr/EL4X/AB8174v2sOi6v4s1q3ltrtNSs2Frscx8LHC8e3aIkAweg5z1rO+A/wC1r4w/Z41zxrqvhzT9FvZ/FlnJZX0eqQSyJGjsWJi2SoQwLHGSw9jQB9k/B/4lal8H/wDglDH4y0Kz0u48Q6X4skbTLrVLFLsWE7yiP7REjgqJVV22sQcbjwan/ae1BfjR+zv+yn8YvEVjYv471XxBbabqOp29qkT3cfmPw+0DI3QbgvRTI+AMnPxPH+1N4ri/Zll+Bo0/Rv8AhEpNR/tM3hhl+3+b5gfG/wA3ZtyBx5ecd6ua5+154z174P8Aw4+G81hosOh+A9RXU9MuIbeUXMsys7DzmMpVlzI3CqvagD9RtU8e674c/wCCumn+HNOvvs+jeIvCsKanbeTG32gQwXUkQ3MpZdr8/KRnocivJf2c/jX4z+Lv/BUrWNO8W6wNWs/Cp8Qabo0ZtIIfstuJSoTMaKX4VRucseOvJr4l8cftv/EXxt+0donxsMej6L4y0iKKCBNMtpBatGiupV0kkdiHSR1b5hweMHmumX/gof42tfjrp3xY03wP8PtE8TWtrdW08el6NLBBftcEGSa52z+ZLLwMMX/PJoA+k/gzHafBb4D/ALUPx58P6ZY6j8S9L8X3mladeXlstwdMiNzEDIisOCftLMSMg+WgPAIrM8UeNLr9r3/gmn41+I3xUgs73x14O1xbbSvEsNjFbzzqWth5beWqggi4dSoAX5UbGVzXyn8H/wBtX4ifBXxR4x1TRk0fUdL8XXEtzrPhrWbI3Wl3TyM5OYy4YAeYw4cZGA27Ao+OX7aHjr45eCdO8FS6d4c8EeB7GXz08M+DNN/s+xklySHdN7E4JJ25255xkAgA/QH9rj9pjxb+zj4g/Z2bwXb6PZXeuaFZRarqM2mxTXl1aRtEBaec4JSEmV2wuDuOQa+Tf+CsngPRPAf7XV9/YWnW2mQ6vpFrqlxBaQrFGbh2kR32rxlvLDMe7MSeSTXkXxy/a38YftAXngG58Q6bolnJ4LtEs9PGmQTRiVFKEGbfK+4/u1+7t6nisj9pb9pLxP8AtUfEZPGniyz0qw1RLGLT1h0eGSKARxs7A4kkds5dsnd6UAeU0UUUAFFFFABRRRQAUUUUAFFFFABRRRQAUUUUAFFFFABRRRQAUUUUAFFFFABRRRQAUUUUAFFFFABRRRQAUUUUAFFFFABRRRQAUUUUAFFFFABRRRQAUUUUAFFFFABRRRQAUUUUAFFFFABRRRQAUUUUAFFFFABRRRQAUUUUAFFFFABRRRQAUUUUAFFFFABRRRQAUUUUAFFFFABRRRQAUUUUAFFFFABRRRQAUUUUAFFFFABRRRQAV6r+yd/ydN8G/wDsc9G/9Loa8qr1X9k7/k6b4N/9jno3/pdDQB/SnRRRQAUUUUAFFFFABRRRQAUUUUAFFFFAH81n7WP/ACdN8ZP+xz1n/wBLpq8qr1X9rH/k6b4yf9jnrP8A6XTV5VQAUUUUAFFFFABRRRQAUUUUAFFFFABRRRQAUUUUAFFFFABRRRQAUUUUAFFFFABRRRQAUUUUAFFFFABRRRQAUUUUAFFFFABRRRQAUUUUAeq+NP8Ak3H4X/8AYZ17/wBB0+vKq9V8af8AJuPwv/7DOvf+g6fXlVABRRRQAUUUUAFFFFABRRRQAUUUUAFFFFABRRRQAUUUUAFFFFABRRRQAUUUUAFFFFABRRRQAUUUUAFFFFABRRRQAUUUUAFFFFABRRRQAUUUUAFFFFABRRRQAUUUUAFFFFABRRRQAUUUUAFFFFABRRRQAUUUUAFFFFABRRRQAUUUUAFFFFABRRRQAUUUUAFFFFABRRRQAUUUUAFFFFABRRRQAUUUUAFFFFABRRRQAUUUUAFFFFABRRRQAUUUUAFFFFABRRRQAUUUUAFFFFABRRRQAV6r+yd/ydN8G/8Asc9G/wDS6GvKq9V/ZO/5Om+Df/Y56N/6XQ0Af0p0UUUAFFFFABRRRQAUUUUAFFFFABRRRQB/NZ+1j/ydN8ZP+xz1n/0umryqvev2pvhj4x1D9pz4vXVr4T1y5tpvGGsSRTQ6bMySIb2YhlIXBBBBBFeX/wDCp/HH/Qm+IP8AwVz/APxFAHK0V1X/AAqfxx/0JviD/wAFc/8A8RR/wqfxx/0JviD/AMFc/wD8RQBytFdV/wAKn8cf9Cb4g/8ABXP/APEUf8Kn8cf9Cb4g/wDBXP8A/EUAcrRXVf8ACp/HH/Qm+IP/AAVz/wDxFH/Cp/HH/Qm+IP8AwVz/APxFAHK0V1X/AAqfxx/0JviD/wAFc/8A8RR/wqfxx/0JviD/AMFc/wD8RQBytFdV/wAKn8cf9Cb4g/8ABXP/APEUf8Kn8cf9Cb4g/wDBXP8A/EUAcrRXVf8ACp/HH/Qm+IP/AAVz/wDxFH/Cp/HH/Qm+IP8AwVz/APxFAHK0V1X/AAqfxx/0JviD/wAFc/8A8RR/wqfxx/0JviD/AMFc/wD8RQBytFdV/wAKn8cf9Cb4g/8ABXP/APEUf8Kn8cf9Cb4g/wDBXP8A/EUAcrRXVf8ACp/HH/Qm+IP/AAVz/wDxFH/Cp/HH/Qm+IP8AwVz/APxFAHK0V1X/AAqfxx/0JviD/wAFc/8A8RR/wqfxx/0JviD/AMFc/wD8RQBytFdV/wAKn8cf9Cb4g/8ABXP/APEUf8Kn8cf9Cb4g/wDBXP8A/EUAcrRXVf8ACp/HH/Qm+IP/AAVz/wDxFH/Cp/HH/Qm+IP8AwVz/APxFAHK0V1X/AAqfxx/0JviD/wAFc/8A8RR/wqfxx/0JviD/AMFc/wD8RQBytFdV/wAKn8cf9Cb4g/8ABXP/APEUf8Kn8cf9Cb4g/wDBXP8A/EUAcrRXVf8ACp/HH/Qm+IP/AAVz/wDxFH/Cp/HH/Qm+IP8AwVz/APxFAHK0V1X/AAqfxx/0JviD/wAFc/8A8RR/wqfxx/0JviD/AMFc/wD8RQBytFdV/wAKn8cf9Cb4g/8ABXP/APEUf8Kn8cf9Cb4g/wDBXP8A/EUAcrRXVf8ACp/HH/Qm+IP/AAVz/wDxFH/Cp/HH/Qm+IP8AwVz/APxFAHK0V1X/AAqfxx/0JviD/wAFc/8A8RR/wqfxx/0JviD/AMFc/wD8RQB1fjT/AJNx+F//AGGde/8AQdPryqvevGHwx8Yyfs9fDS3Twnrj3EWsa40kS6bMXQMthtJG3IB2nHrg15f/AMKn8cf9Cb4g/wDBXP8A/EUAcrRXVf8ACp/HH/Qm+IP/AAVz/wDxFH/Cp/HH/Qm+IP8AwVz/APxFAHK0V1X/AAqfxx/0JviD/wAFc/8A8RR/wqfxx/0JviD/AMFc/wD8RQBytFdV/wAKn8cf9Cb4g/8ABXP/APEUf8Kn8cf9Cb4g/wDBXP8A/EUAcrRXVf8ACp/HH/Qm+IP/AAVz/wDxFH/Cp/HH/Qm+IP8AwVz/APxFAHK0V1X/AAqfxx/0JviD/wAFc/8A8RR/wqfxx/0JviD/AMFc/wD8RQBytFdV/wAKn8cf9Cb4g/8ABXP/APEUf8Kn8cf9Cb4g/wDBXP8A/EUAcrRXVf8ACp/HH/Qm+IP/AAVz/wDxFH/Cp/HH/Qm+IP8AwVz/APxFAHK0V1X/AAqfxx/0JviD/wAFc/8A8RR/wqfxx/0JviD/AMFc/wD8RQBytFdV/wAKn8cf9Cb4g/8ABXP/APEUf8Kn8cf9Cb4g/wDBXP8A/EUAcrRXVf8ACp/HH/Qm+IP/AAVz/wDxFH/Cp/HH/Qm+IP8AwVz/APxFAHK0V1X/AAqfxx/0JviD/wAFc/8A8RR/wqfxx/0JviD/AMFc/wD8RQBytFdV/wAKn8cf9Cb4g/8ABXP/APEUf8Kn8cf9Cb4g/wDBXP8A/EUAcrRXVf8ACp/HH/Qm+IP/AAVz/wDxFH/Cp/HH/Qm+IP8AwVz/APxFAHK0V1X/AAqfxx/0JviD/wAFc/8A8RR/wqfxx/0JviD/AMFc/wD8RQBytFdV/wAKn8cf9Cb4g/8ABXP/APEUf8Kn8cf9Cb4g/wDBXP8A/EUAcrRXVf8ACp/HH/Qm+IP/AAVz/wDxFH/Cp/HH/Qm+IP8AwVz/APxFAHK0V1X/AAqfxx/0JviD/wAFc/8A8RR/wqfxx/0JviD/AMFc/wD8RQBytFdV/wAKn8cf9Cb4g/8ABXP/APEUf8Kn8cf9Cb4g/wDBXP8A/EUAcrRXVf8ACp/HH/Qm+IP/AAVz/wDxFH/Cp/HH/Qm+IP8AwVz/APxFAHK0V1X/AAqfxx/0JviD/wAFc/8A8RR/wqfxx/0JviD/AMFc/wD8RQBytFdV/wAKn8cf9Cb4g/8ABXP/APEUf8Kn8cf9Cb4g/wDBXP8A/EUAcrRXVf8ACp/HH/Qm+IP/AAVz/wDxFH/Cp/HH/Qm+IP8AwVz/APxFAHK0V1X/AAqfxx/0JviD/wAFc/8A8RR/wqfxx/0JviD/AMFc/wD8RQBytFdV/wAKn8cf9Cb4g/8ABXP/APEUf8Kn8cf9Cb4g/wDBXP8A/EUAcrRXVf8ACp/HH/Qm+IP/AAVz/wDxFH/Cp/HH/Qm+IP8AwVz/APxFAHK0V1X/AAqfxx/0JviD/wAFc/8A8RR/wqfxx/0JviD/AMFc/wD8RQBytFdV/wAKn8cf9Cb4g/8ABXP/APEUf8Kn8cf9Cb4g/wDBXP8A/EUAcrRXVf8ACp/HH/Qm+IP/AAVz/wDxFH/Cp/HH/Qm+IP8AwVz/APxFAHK0V1X/AAqfxx/0JviD/wAFc/8A8RR/wqfxx/0JviD/AMFc/wD8RQBytFdV/wAKn8cf9Cb4g/8ABXP/APEUf8Kn8cf9Cb4g/wDBXP8A/EUAcrRXVf8ACp/HH/Qm+IP/AAVz/wDxFH/Cp/HH/Qm+IP8AwVz/APxFAHK0V1X/AAqfxx/0JviD/wAFc/8A8RR/wqfxx/0JviD/AMFc/wD8RQBytFdV/wAKn8cf9Cb4g/8ABXP/APEUf8Kn8cf9Cb4g/wDBXP8A/EUAcrRXVf8ACp/HH/Qm+IP/AAVz/wDxFH/Cp/HH/Qm+IP8AwVz/APxFAHK0V1X/AAqfxx/0JviD/wAFc/8A8RR/wqfxx/0JviD/AMFc/wD8RQBytFdV/wAKn8cf9Cb4g/8ABXP/APEUf8Kn8cf9Cb4g/wDBXP8A/EUAcrRXVf8ACp/HH/Qm+IP/AAVz/wDxFH/Cp/HH/Qm+IP8AwVz/APxFAHK0V1X/AAqfxx/0JviD/wAFc/8A8RR/wqfxx/0JviD/AMFc/wD8RQBytFdV/wAKn8cf9Cb4g/8ABXP/APEUf8Kn8cf9Cb4g/wDBXP8A/EUAcrRXVf8ACp/HH/Qm+IP/AAVz/wDxFH/Cp/HH/Qm+IP8AwVz/APxFAHK0V1X/AAqfxx/0JviD/wAFc/8A8RR/wqfxx/0JviD/AMFc/wD8RQBytFdV/wAKn8cf9Cb4g/8ABXP/APEUf8Kn8cf9Cb4g/wDBXP8A/EUAcrRXVf8ACp/HH/Qm+IP/AAVz/wDxFH/Cp/HH/Qm+IP8AwVz/APxFAHK0V1X/AAqfxx/0JviD/wAFc/8A8RR/wqfxx/0JviD/AMFc/wD8RQBytFdV/wAKn8cf9Cb4g/8ABXP/APEUf8Kn8cf9Cb4g/wDBXP8A/EUAcrRXVf8ACp/HH/Qm+IP/AAVz/wDxFH/Cp/HH/Qm+IP8AwVz/APxFAHK0V1X/AAqfxx/0JviD/wAFc/8A8RR/wqfxx/0JviD/AMFc/wD8RQBytFdV/wAKn8cf9Cb4g/8ABXP/APEUf8Kn8cf9Cb4g/wDBXP8A/EUAcrRXVf8ACp/HH/Qm+IP/AAVz/wDxFH/Cp/HH/Qm+IP8AwVz/APxFAHK0V1X/AAqfxx/0JviD/wAFc/8A8RR/wqfxx/0JviD/AMFc/wD8RQBytFdV/wAKn8cf9Cb4g/8ABXP/APEUf8Kn8cf9Cb4g/wDBXP8A/EUAcrRXVf8ACp/HH/Qm+IP/AAVz/wDxFH/Cp/HH/Qm+IP8AwVz/APxFAHK16r+yd/ydN8G/+xz0b/0uhrlP+FT+OP8AoTfEH/grn/8AiK9Q/ZZ+GPjHT/2nPhDdXXhPXLa2h8YaPJLNNpsypGgvYSWYlcAAAkk0Af0XUUUUAFFFFABRRRQAUUUUAFFFFABRRRQB51qnxQutP1O7tVsoXWCZ4gxY5O1iM/pVb/hbd3/z4Q/99muT8Sf8jFqn/X1L/wChmuG1L4h6dpfxE0TwZLBdNqmr2N1fwTIimBY4GjVwxLbgxMq4wpHByR3APZf+Ft3f/PhD/wB9mj/hbd3/AM+EP/fZrgqKAO9/4W3d/wDPhD/32aP+Ft3f/PhD/wB9muCrI8YeJ7XwT4T1rxDfRzS2Wk2U19PHbqDI0cSF2CgkAthTjJAz3FAHqn/C27v/AJ8If++zR/wtu7/58If++zXiOp+NtWu/Amj+IvCfhmTxJNqQtJ00+a9isnjt5tpaRnbcuURtxUE5xgGuxoA73/hbd3/z4Q/99mj/AIW3d/8APhD/AN9muCooA73/AIW3d/8APhD/AN9mj/hbd3/z4Q/99muCooA73/hbd3/z4Q/99mj/AIW3d/8APhD/AN9muCooA73/AIW3d/8APhD/AN9mj/hbd3/z4Q/99muCooA73/hbd3/z4Q/99mj/AIW3d/8APhD/AN9muCooA73/AIW3d/8APhD/AN9mj/hbd3/z4Q/99muCooA73/hbd3/z4Q/99mj/AIW3d/8APhD/AN9muCooA73/AIW3d/8APhD/AN9mj/hbd3/z4Q/99muCooA73/hbd3/z4Q/99mj/AIW3d/8APhD/AN9muCooA73/AIW3d/8APhD/AN9mj/hbd3/z4Q/99muCooA73/hbd3/z4Q/99mj/AIW3d/8APhD/AN9muCooA73/AIW3d/8APhD/AN9mj/hbd3/z4Q/99muCooA73/hbd3/z4Q/99mj/AIW3d/8APhD/AN9muCooA73/AIW3d/8APhD/AN9mj/hbd3/z4Q/99muCooA73/hbd3/z4Q/99mj/AIW3d/8APhD/AN9muCooA73/AIW3d/8APhD/AN9mj/hbd3/z4Q/99muCooA9Gm+KF1Hp9tcCyhLSvIpXccDbt/8Aiqrf8Lbu/wDnwh/77Ncndf8AIC0//rrN/wCyVx/xA8aWPw58E654p1KK4n0/R7OS9njtVVpWRFLEIGZQTgcZI+tAHrn/AAtu7/58If8Avs0f8Lbu/wDnwh/77NfOejfHqzuvEnh3Rdb8K+IfCM3iJHOkXOrraSW926oJDEHtribY5TLASbchSBk8V6fQB3v/AAtu7/58If8Avs0f8Lbu/wDnwh/77NcFRQB3v/C27v8A58If++zR/wALbu/+fCH/AL7NcFRQB3v/AAtu7/58If8Avs0f8Lbu/wDnwh/77NcFRQB3v/C27v8A58If++zR/wALbu/+fCH/AL7NcFVO01nT7++vrK1vra5vLFlS7t4ZlaS3ZlDqJFBypKkMM4yCDQB6T/wtu7/58If++zR/wtu7/wCfCH/vs1wVeZfG39ojwh8BNJW78RTXV3eSJ5sWlaXCJ7uSMMFaXYSAsak8u7KvYEkgEA+iv+Ft3f8Az4Q/99mj/hbd3/z4Q/8AfZrx7x18QNH+HXhWXxBrMkyWatHHHFbwtNPPLIwSKGONQS7uzKoA9ecAE1g+HfjLa6p4yt/CmteHNb8G67eWrXlhba2LZlvo0OJfKktp5k3J8pZGZWwwIBGSAD3/AP4W3d/8+EP/AH2aP+Ft3f8Az4Q/99mvmS8/aY0G306/1230DxDqXgrT7lra78XWdvC2nxFH2SyBTMLiSKNshpI4WT5WIJCk1veNvjFa+EfEnhvQLPw/rHirVNft7i6s4dGa0C+VCELsz3E8S9JFxgnPNAHvv/C27v8A58If++zR/wALbu/+fCH/AL7NeVeF9cvfEGmtc3/h7UvDMwkKCz1SS2eUgAfODbzSpg5x97PB46Z2KAO9/wCFt3f/AD4Q/wDfZo/4W3d/8+EP/fZrw34V/Ej/AIWZpet3n9nf2b/Zut3uj7PP83zPs8pj8zO1cbsZ2849TXa0Ad7/AMLbu/8Anwh/77NH/C27v/nwh/77NcFRQB3v/C27v/nwh/77NH/C27v/AJ8If++zXmeva3aeGtD1HV7+UQWNhbyXVxIeiRopZj+ABrm/g34q1vxz8MfD3iPxDZ2+nanq1sL42dqrBYYpCXhQ7iSWEZTceMtnAA4AB7h/wtu7/wCfCH/vs0f8Lbu/+fCH/vs189+MvjM/g06xcSeBfFmpaLpAJvdYs7e2ECKFDO6RyzpNKqKclo4mBwwUsQRXdaJrVj4k0ex1bTLmO906+gS5triM5WWN1DKw9iCDQB6V/wALbu/+fCH/AL7NH/C27v8A58If++zXBUUAd7/wtu7/AOfCH/vs0f8AC27v/nwh/wC+zXBUUAd7/wALbu/+fCH/AL7NH/C27v8A58If++zXBUUAd7/wtu7/AOfCH/vs0f8AC27v/nwh/wC+zXgXi74hX/hH4reCtDuYbU+HvEqXVolyVcTRX8aCWNS2dux41lGMZ3KOecV6BQB3v/C27v8A58If++zR/wALbu/+fCH/AL7NcFRQB3v/AAtu7/58If8Avs0f8Lbu/wDnwh/77NcFRQB3v/C27v8A58If++zR/wALbu/+fCH/AL7NcFRQB3v/AAtu7/58If8Avs0f8Lbu/wDnwh/77NcFRQB3v/C27v8A58If++zR/wALbu/+fCH/AL7NcFRQB3v/AAtu7/58If8Avs0f8Lbu/wDnwh/77NcFRQB3v/C27v8A58If++zR/wALbu/+fCH/AL7NcFRQB3v/AAtu7/58If8Avs0f8Lbu/wDnwh/77NcFRQB3v/C27v8A58If++zR/wALbu/+fCH/AL7NcFRQB3v/AAtu7/58If8Avs0f8Lbu/wDnwh/77NcFRQB3v/C27v8A58If++zR/wALbu/+fCH/AL7NcFRQB3v/AAtu7/58If8Avs0f8Lbu/wDnwh/77NcFRQB3v/C27v8A58If++zR/wALbu/+fCH/AL7NcFRQB3v/AAtu7/58If8Avs0f8Lbu/wDnwh/77NcFRQB3v/C27v8A58If++zR/wALbu/+fCH/AL7NcFRQB3v/AAtu7/58If8Avs0f8Lbu/wDnwh/77NcFRQB3v/C27v8A58If++zR/wALbu/+fCH/AL7NcFRQB3v/AAtu7/58If8Avs0f8Lbu/wDnwh/77NcFRQB3v/C27v8A58If++zR/wALbu/+fCH/AL7NcFRQB3v/AAtu7/58If8Avs0f8Lbu/wDnwh/77NcFRQB3v/C27v8A58If++zR/wALbu/+fCH/AL7NcFRQB3v/AAtu7/58If8Avs0f8Lbu/wDnwh/77NcFRQB3v/C27v8A58If++zR/wALbu/+fCH/AL7NcFRQB3v/AAtu7/58If8Avs0f8Lbu/wDnwh/77NcFRQB3v/C27v8A58If++zR/wALbu/+fCH/AL7NcFRQB3v/AAtu7/58If8Avs0f8Lbu/wDnwh/77NcFRQB3v/C27v8A58If++zR/wALbu/+fCH/AL7NcFRQB3v/AAtu7/58If8Avs0f8Lbu/wDnwh/77NcFRQB3v/C27v8A58If++zR/wALbu/+fCH/AL7NcFRQB3v/AAtu7/58If8Avs0f8Lbu/wDnwh/77NcFRQB3v/C27v8A58If++zR/wALbu/+fCH/AL7NcFRQB3v/AAtu7/58If8Avs0f8Lbu/wDnwh/77NcFRQB3v/C27v8A58If++zR/wALbu/+fCH/AL7NcFRQB3v/AAtu7/58If8Avs0f8Lbu/wDnwh/77NcFRQB3v/C27v8A58If++zR/wALbu/+fCH/AL7NcFRQB3v/AAtu7/58If8Avs1Z0v4oXWoanaWrWUKLPMkRYMcjcwGf1rzmtHw3/wAjFpf/AF9Rf+higD3qiiigAooooAKKKKACiiigAooooAKKKKAPBfEn/Ixap/19S/8AoZrwPxj/AMnb/Db/ALFvWf8A0ZaV754k/wCRi1T/AK+pf/QzXJ3ngvRtQ8Xab4nuLPzNc022ms7W681x5cUpQyLsB2nJjTkgkY4IyaAPjfwr8N/D2o/sq/E7xXc6es/ibTdQ1+803V5GZrnTJYLqWSJrSQnNvh1DHy9u4kk5zXtXibX/AAj4wk8JaR4g8EXXxP8AFVzoUOqtoqQW89vbwsADdMl3NHbKxcsgYHzcEgfLmvSrH4S+E9N8E6v4Rt9K8vw7qzXTXtn9olPmm4Zmn+cvvXcXb7pGM8Yqrr/wU8I+I7jSrm5sby0vNLsjptreaXqt3YXAtTtPktLbyo8iZRTtcsMjPUnIB8r+F/EV/J+zv4b8MSz6ho+g3fxIfwpcwtcnzrXS/tUuLR5ldsLhVgJVyNp2hiDz7d8Zvgn4B8O/A34lHSvB2i6dFJoN1ObW1skjthNDBK0UwhA8sSqWOJQu/hRuwox3Vn8D/Ath4G1Pwbb+GrOLwvqM0txcaWN3leZI25mTnMZDAFdhXYQCu3Aq54d+Ffhvw1HqKwWt3qB1CD7LdSa3qVzqkkkPP7nfdSSMI/mb5AQuWJxzQB89+OvBugeE/wBk/wAEvoeh6boz3994XuLttPtI4DcSm5tcySbAN7cn5jk81ueKPFEf7OvxR+KGoEZ0zxHoP/CT2Nv2fUrfbbTRIO7Sb7U46kk16tZfAnwZY+EIvCy2F9caBDc211BZXmr3lwsD27I8IiMkzGNEZExGpCcdK1PHHws8L/Ei60S58R6UupTaLdLe2LGaSPypQVYEhGG9cqpKPlTtGQcUAfLGj/DXVdH+IHgr4XXPhrQfGlho3g7+3JtK8T6nJb2dxqU90y3V0yLbziZ1LlVDp8gkJBya+hPgB4D8SfDnwvq2k68NOt7Q6rNcaRpul3st5Dp1k4UrbLJJFESEfzNoCgBSoHAwOl8a/DLw78QJtNuNZs5jfaa7SWWoWF7PY3duWUq4S4gdJFVgcMobDYGQcDGl4X8J6Z4N0w2GlQSRQtI00klxcSXE80hxl5ZpWaSRyABudicADOAKANeiiigAooooAKKKKACiiigAooooAKKKKACiiigAooooAKKKKACiiigAooooAKKKKACiiigAooooAKKKKANG6/5AWn/9dZv/AGSvGv2qf+TbfiX/ANgC8/8ARTV7Ldf8gLT/APrrN/7JXM+KvC+meNvDep6BrVt9t0nUrd7W6t/MaPzI3GGXcpDDIPUEGgD5wkt9et/in8FYfiHfafqfh5o2l0C40WzexSLVRbHZHdxySTGTMJcxsjoN4YMh4rmtJ8E6/wDHK/8Aive3Xg3wrr+sxeIb7RbHXNb16e3vtGSDAthaqlnN5ATcJQ0ciF2csexr6k8TfDfw54w0jSdM1fTVu7PSbu3vrFfNkRreeA5ikV1YMCv15BIOQTWVr3wS8I+IvEN5rk9nf2ep30ccd7LpOr3mnreqgIT7QlvKizEBiuZAx2/L0GKAPI/+EfuvGPxu8E+A/iY1r4kt9K8Drqc9hOnnafqOqecsE07RuoEpRQSu9fl83ICk1D8bPDY0Xxp8Jfht4e8O6Xe+EdSuNTvJvDuqajLaadcyQos0cDbYpv3Ss7yLB5Zj+RQFAXj27xT8JvCvjCHRkvtMa3k0bI0250q6m064s1KbCkU1u8ciIVwCgYKQBkcDFe++DHg/UvClt4dudKeXT7a6F/DMbycXkd0H3/aFuw/niYsTmTzN5yQSQSKAPnj4jfDXxJ8O/gH8d2vdO0Hw34X1LSluNL8O+H7+W6t7GYIwuGTfbwCNZD5bbEXG7ce/O/r3gfRfhnrfwM17w5Yrp2uanrEOmanqaMWutTt5rOVpFupSd8/zxow8wtgoCMYr2c/BfwjL4U1zw5c2F1qGm63H5OotqGp3V1c3MeMBGuZZWm2gE7RvwuTjGTWvq3gHQdcXw8L6w88eH7qO80399IvkTIjRq3DDdhXYYbI56ZoA8R+F3gXw38avEfxU1bxxpVt4j1iz8UXWi2v9ox75dLtIFQQratw1uSGMm+MqxZg2SQDWH4/8cD9mH4o/ES7VGGk+K/D7a7pcTkssms24W3eJSeS0oe3Y+uCa9v8AEHwP8HeJtfvtZu9PvIL/AFCNIr9tN1W7sY79UBCi5iglRJ8KxX94rZX5T8vFcf8AHD4TXPxO8dfCWzTQopfDegau2sX2ob40W3EMR8iBY9wZhJJsyApACc44oA6/4FfDv/hVfwm8N+G5GMt7bWokvpmOTLdSEyTuT3zI7/hivHvj/wD8Kr/4WPF9hHiI/GfZH5Y+G5I1ryt8X/Hz/wAsPK2+Xn7Vx5fTivp2qdpo2n2F9fXtrY21teXzK93cQwqslwyqEUyMBliFAUZzgACgDi/gX/wsT/hXOn/8LQ/s3/hK/wDlp/Z2P9XtXb5235POzu3eV8nTbxXB/ts6TYp+zf8AELU1srddSk0+3t3vBEvnNEtyjLGXxkqGZiFzgFie9e+Vw/xG+DPhb4sQvB4ni1S+spIRBLY2+uX1payqG3DfBDMkbnP8TKTwOeBgA8+/aWk+zt8GbiYsunx+ONN+0Nuwi5jlEZftjeV698dDip/jVbNqHx/+BMFvg3MN9qlzIF+8sAsmV2/3dzov1YV6HJ8J/DN34JvfCWoWl1rWg3mfOg1rUrnUJDnGCs08jyKVIBUqw2kArg80vhH4U+GvBOrXOradbXlxq1xAtq+o6tqd1qVyIVYsIlluZJHSPcS2xSFJ5IzQB8/+IvBPjH4Efsz+NPBs6+GtW8GWen6jHa61dX08V95E4dliazWApJLvkMalZ0DZU4B4Po2hfA+bXPC/wu1O68Qa54V8U+GdBSwWXS/srkGWCFZldbiCZSQYgMgDHNdYvwP8JNrFvqV5BquszW9x9rhg1rXb/UbWKYZKyLb3E7xKyknawTK/w4rR8W/DDQfGupW2o6gNTttQt4Wt0utI1i802UxlgxR2tpYy65GQGyAc4xk0Acd8C/G/iHWPEPxB8JeItQj1+fwnqkVpBryWywNeRSwrMqyon7vzY921igUH5TtU5zytr4T0X4u/tIfEnT/GunQa9beHLDTbfRbC/VZIrWO4iaSa4iX+CVpFC+aPnAjUBh0r2rwf4J0TwDow0vQNPj0+z8xpnCszyTSscvLLIxLySMeS7kse5NZPiz4Q+FfG2uQ6xqlhcDU47c2bXVjqFzZPPblgxhm8iRPOizz5cm5eW45OQD55+DuqeEPC3wP1ux18aj4q0y88ealplhYxzvdT6zO1w4jhkJdUmEgDFvOby2AJc4qPwX4L0zxN8Wvi18OIvBlx4A8La94UtLiXw9L9lSOO5Z5YftUcdrNLFGSqpnaQSYgSM8n35vgP4D/4RGXwzF4fjtNFfUf7XS3s55oGt7vzBIJoJEcPAwYceWyhRwMA4q34P+D/AIT8C6/d67o+nTR63eWy2l1qV3fXF3c3MauXXzZJpHaRgTgMxLBQq52qoAB84eA/Fl78dr34O+BdaZn1TwrLc6r4shbhhc6dIbW3Vx/00mIlx6JXQalobfCH4wXWv+OPCVt4m0zxB4jjfSfHtnOv9paQ8zRRW9jKh2yLADvXMLshUkOnztnuvgb8LL3wz8SPiv421fRU0W/8T6wq2sAljkLWUEYWOUlGYKZXMjlc56ZANdYvwN8GDxJBrbabcy3NvfNqcFrNqV1JYw3bbiZ47NpTAkmXdt6xg7mZs5JNAHP/ALW891b/ALNPxHe0B83+x5lbHXyyMSH/AL4LV6R4VWGPwvo626hbdbOERqowAuwYH5VH4w8M2vjXwnrXh++BNnqtlNZTY67JEKEj3wa574H6d4i0X4TeGNL8WWwtvEGm2a2F1iZZRL5JMayhlJyJFRX55G7BAIIoAxPjn4P8d+MvCev6doHifSNJ0i7sWhmtZNMf7ZKpB81FvDM0cO9MpvNtIU3EgEgY1P2f/Emk+LPgn4L1TQtNl0fR5dLhjtdPmfzGt0RfLCb/AOMDbgN/EMHjNR6t8AfBWtXepzXFnqkcOpzPPfafZ67f21jcu/8ArDJaxTrC2/8AjBTD5O7OTnvbGxttLsbeysreKzs7eNYobeBAkcSKMKqqOAAAAAOmKAPjjxVr198KbT4sfB7THa2vvEWpWx8JL0xDq0hjuBH/ALMMguH9s10Pi7wjPN8cPC/wysvCug+LPCfhvwbHd2Gh+J9Se2s3lExtzOyLbTrNIiBVG5Pl8xmBBavRfFnwsvfGX7UXgzxZd6KkeheFdHumh1RpYy1xezMEWLYG34jTe+4qBluCa7/xr8MvDvxAm0241mzmN9prtJZahYXs9jd25ZSrhLiB0kVWBwyhsNgZBwMAHjek6DH8H/hbeaJ8SLCHUNL1LxGYPDvhPw/eT3yNHMAYdNzIkCyR7hN8koEITAbgYHMfD3yvD/xi+LegaT4Pufh7odx4Rt9Tbw7L9lWNbn99EZ447WaWFN6KqnaQSYwSO59+vvgv4P1Lwmvhy60uWfTlu01ATSX1wbz7UjBluPtfmef5wKgeZ5m7AC5xxTPDvwS8G+FtS1LUrDS5v7T1Oy/s++v7u/ubq5u4dzECWWWRndhuIDsSwUKoO1VAAPDvhV8CYPEX7IGmL4Xe30nxz4i8NWyP4kugTcyKVjYW7zqPMWDYixbVPypjAJHPffs86vpFpq3ibwovw9t/hn4n0xbefUdH0uWOTTp45DIsNzAYtqEusZ3FkSThVbOwY9DX4Y+Gl8BWfgxNOaPw7ZwwwW1tHcyrJAsRUxMkwfzFdCqlXDbgVBBzzTvBfw18P/D9tSl0a0nW71KRZb2+vr2e9u7llUInmTzu8jBVGFUthecAZNAHmn7VDNDF8KZocC7Tx7pKxHdtOGMiuByM5Qvx6V7lXl/xC8D6t44+Lvw7mktF/wCET8OPc6zcXDyJ+9vgnlWsYTO75RJLITjGVXnPFeoUAFFFFABRRRQAUUUUAFFFFABRRRQAUUUUAFFFFABRRRQAUUUUAFFFFABRRRQAUUUUAFFFFABRRRQAUUUUAFFFFABRRRQAUUUUAFFFFABRRRQAUUUUAFFFFABRRRQAUUUUAFFFFABRRRQAUUUUAFFFFABRRRQAUUUUAFFFFABRRRQAUUUUAFFFFABRRRQAVo+G/wDkYtL/AOvqL/0MVnVo+G/+Ri0v/r6i/wDQxQB71RRRQAUUUUAFFFFABRRRQAUUUUAFFFFAHgviT/kYtU/6+pf/AEM1nVo+JP8AkYtU/wCvqX/0M1nUAFFFFABRRRQAUUUUAFFFFABRRRQAUUUUAFFFFABRRRQAUUUUAFFFFABRRRQAUUUUAFFFFABRRRQAUUUUAFFFFABRRRQAUUUUAFFFFAGjdf8AIC0//rrN/wCyVnVo3X/IC0//AK6zf+yVnUAFFFFABRRRQAUUUUAFFFFABRRRQAUUUUAFFFFABRRRQAUUUUAFFFFABRRRQAUUUUAFFFFABRRRQAUUUUAFFFFABRRRQAUUUUAFFFFABRRRQAUUUUAFFFFABRRRQAUUUUAFFFFABRRRQAUUUUAFFFFABRRRQAUUUUAFFFFABRRRQAUUUUAFFFFABRRRQAUUUUAFFFFABRRRQAUUUUAFFFFABRRRQAUUUUAFFFFABRRRQAUUUUAFFFFABRRRQAUUUUAFFFFABRRRQAUUUUAFFFFABWj4b/5GLS/+vqL/ANDFZ1aPhv8A5GLS/wDr6i/9DFAHvVFFFABRRRQAUUUUAFFFFABRRRQAUUUUAeC+JP8AkYtU/wCvqX/0M1nVo+JP+Ri1T/r6l/8AQzWdQAUUUUAFFFFABRRRQAUUUUAFFFFABRRRQAUUUUAFFFFABRRRQAUUUUAFFFFABRRRQAUUUUAFFFFABRRRQAUUUUAFFFFABRRRQAUUUUAaN1/yAtP/AOus3/slZ1aN1/yAtP8A+us3/slZ1ABRRRQAUUUUAFFFFABRRRQAUUUUAFFFFABRRRQAUUUUAFFFFABRRRQAUUUUAFFFFABRRRQAUUUUAFFFFABRRRQAUUUUAFFFFABRRRQAUUUUAFFFFABRRRQAUUUUAFFFFABRRRQAUUUUAFFFFABRRRQAUUUUAFFFFABRRRQAUUUUAFFFFABRRRQAUUUUAFFFFABRRRQAUUUUAFFFFABRRRQAUUUUAFFFFABRRRQAUUUUAFFFFABRRRQAUUUUAFFFFABRRRQAUUUUAFFFFABRRRQAVo+G/wDkYtL/AOvqL/0MVnVo+G/+Ri0v/r6i/wDQxQB71RRRQAUUUUAFFFFABRRRQAUUUUAFFFFAHneqaJpk2p3byWQeRpnZm81xkljk9arf2BpP/PgP+/r/AONauof8hC5/66t/M1yvjf4geH/hzpcWoeIdRWwhnnW1toljeae6mb7sMEMYaSaQ4OEjVmODxwaANX+wNJ/58B/39f8Axo/sDSf+fAf9/X/xrn/BfxS8PePru8s9Llv4NQtESWbT9Y0q70y6WNiQsohuoo5GjJVlDhSpKsM5BFdbQBS/sDSf+fAf9/X/AMaP7A0n/nwH/f1/8a57wb8TNL8ceJvGWh2EF5Fd+Fb+PTr17hEWOSR4I5wYiGJK7ZVHzBTkHjHNHjv4maX8PdS8J2WowXc0viXV00aza1RWWOZo5JA0m5hhMRNyMnJHFAHQ/wBgaT/z4D/v6/8AjR/YGk/8+A/7+v8A41dooApf2BpP/PgP+/r/AONH9gaT/wA+A/7+v/jV2igCl/YGk/8APgP+/r/40f2BpP8Az4D/AL+v/jV2igCl/YGk/wDPgP8Av6/+NH9gaT/z4D/v6/8AjV2igCl/YGk/8+A/7+v/AI0f2BpP/PgP+/r/AONXaKAKX9gaT/z4D/v6/wDjR/YGk/8APgP+/r/41dooApf2BpP/AD4D/v6/+NH9gaT/AM+A/wC/r/41dooApf2BpP8Az4D/AL+v/jR/YGk/8+A/7+v/AI1dooApf2BpP/PgP+/r/wCNH9gaT/z4D/v6/wDjV2igCl/YGk/8+A/7+v8A40f2BpP/AD4D/v6/+NXaKAKX9gaT/wA+A/7+v/jR/YGk/wDPgP8Av6/+NXaKAKX9gaT/AM+A/wC/r/40f2BpP/PgP+/r/wCNXaKAKX9gaT/z4D/v6/8AjR/YGk/8+A/7+v8A41dooApf2BpP/PgP+/r/AONH9gaT/wA+A/7+v/jV2igCl/YGk/8APgP+/r/40f2BpP8Az4D/AL+v/jV2igCl/YGk/wDPgP8Av6/+NH9gaT/z4D/v6/8AjV2igCl/YGk/8+A/7+v/AI0f2BpP/PgP+/r/AONXaKAI5tE0xtPtkNkCivIQvmvxnbnv7Cq39gaT/wA+A/7+v/jWrL/x4wf7z/8AstV6AKX9gaT/AM+A/wC/r/40f2BpP/PgP+/r/wCNct4H+NHgn4leJvE3h/wv4htdc1Tw28UWqx2Ydo7d5N21fNxsc/I4IRm2lSGweKoeMv2gvA3gXWNS0rUtSvbm/wBLt1utSh0fR73U/wCzomUsrXRtYZBbgqCw8wrlQSOOaAO4/sDSf+fAf9/X/wAaP7A0n/nwH/f1/wDGud8Q/Fzwf4Y8Kad4kvdetZNH1N4o9Onsd142oPL/AKtLaOEO87MOQsasSATjANHgf4seF/iJHq39iahM9zpEgi1CwvrK4sby0Zk3r5ttOiSoGXlSUAYA4JwaAOi/sDSf+fAf9/X/AMaP7A0n/nwH/f1/8a898H/tIeCvH39mSaAvibUbTUmVbXUE8H6utnJk4DfaGtREEz/GWCjua9PoApf2BpP/AD4D/v6/+NH9gaT/AM+A/wC/r/41z3jv4maX8PdS8J2WowXc0viXV00aza1RWWOZo5JA0m5hhMRNyMnJHFddQBS/sDSf+fAf9/X/AMaP7A0n/nwH/f1/8au0UAUv7A0n/nwH/f1/8aP7A0n/AJ8B/wB/X/xq7XB+Ivikuj/Fzwj4BtNNOo32tWl5qN3cCfYun2kAVRKy7TvLyyRxhcr1Y5+XBAOv/sDSf+fAf9/X/wAaP7A0n/nwH/f1/wDGvPbj9pT4e2epR2txq19b28l9/ZqatLot8ulNcbzH5YvzD9mJ3gpnzcbhtznivT6AKX9gaT/z4D/v6/8AjR/YGk/8+A/7+v8A41dooApf2BpP/PgP+/r/AONH9gaT/wA+A/7+v/jV2igCl/YGk/8APgP+/r/40f2BpP8Az4D/AL+v/jV2uG+M3xO/4U/4Hk8VT6b/AGlplnd2yaiVuBE1taySrHJcDKnf5YYMU4yAeRQB1n9gaT/z4D/v6/8AjR/YGk/8+A/7+v8A41cVgygg5B5BFLQBS/sDSf8AnwH/AH9f/Gj+wNJ/58B/39f/ABq7XkUn7WHwyh+1Sz6zqVrp1rqD6Xcaxc+H9Ri0yC5WbyWSS9a3FugEnyljIFz3oA9Q/sDSf+fAf9/X/wAaP7A0n/nwH/f1/wDGrisGUEHIPIIpaAKX9gaT/wA+A/7+v/jR/YGk/wDPgP8Av6/+NXaKAKX9gaT/AM+A/wC/r/40f2BpP/PgP+/r/wCNXaKAKX9gaT/z4D/v6/8AjR/YGk/8+A/7+v8A41dooApf2BpP/PgP+/r/AONH9gaT/wA+A/7+v/jV2igCl/YGk/8APgP+/r/40f2BpP8Az4D/AL+v/jWN40+IWl+AltDqdrrl0LosI/7F0C/1TG3Gd/2WGTy/vDG/GecZwcYfg749eDPHXiLVdB0671K11fSrNb++tNZ0O+0toLdiQsjfaoYxg4bHrtY9AaAO1/sDSf8AnwH/AH9f/Gj+wNJ/58B/39f/ABrgdC/aM8BeIdb0fS7fUdRtZ9ZYrpc+p6Hf2NrqDBdwFvcTwJFMSvzKEc7hyuRWt40+MnhTwFrdroup3t5ca5cwNdx6To2l3WqXggDbTM0FrFJIkW75fMZQueM54oA6j+wNJ/58B/39f/Gj+wNJ/wCfAf8Af1/8aoeCfHGhfEbwzZeIPDepw6tpF4u6K5hyOQcMrKQGR1IKsjAMpBBAIIrcoApf2BpP/PgP+/r/AONH9gaT/wA+A/7+v/jXPfDf4maX8UdN1e90qC7t4tL1e80aZbxFVmmtpDHIy7WbKEjgnBx1ArrqAKX9gaT/AM+A/wC/r/40f2BpP/PgP+/r/wCNXaKAKX9gaT/z4D/v6/8AjR/YGk/8+A/7+v8A41dooApf2BpP/PgP+/r/AONH9gaT/wA+A/7+v/jV2igCl/YGk/8APgP+/r/40f2BpP8Az4D/AL+v/jV2igCl/YGk/wDPgP8Av6/+NH9gaT/z4D/v6/8AjV2igCl/YGk/8+A/7+v/AI0f2BpP/PgP+/r/AONXaKAKX9gaT/z4D/v6/wDjR/YGk/8APgP+/r/41dooApf2BpP/AD4D/v6/+NH9gaT/AM+A/wC/r/41dooApf2BpP8Az4D/AL+v/jR/YGk/8+A/7+v/AI1dooApf2BpP/PgP+/r/wCNH9gaT/z4D/v6/wDjV2igCl/YGk/8+A/7+v8A40f2BpP/AD4D/v6/+NXaKAKX9gaT/wA+A/7+v/jR/YGk/wDPgP8Av6/+NXaKAKX9gaT/AM+A/wC/r/40f2BpP/PgP+/r/wCNXaKAKX9gaT/z4D/v6/8AjR/YGk/8+A/7+v8A41dooApf2BpP/PgP+/r/AONH9gaT/wA+A/7+v/jV2igCl/YGk/8APgP+/r/40f2BpP8Az4D/AL+v/jV2igCl/YGk/wDPgP8Av6/+NH9gaT/z4D/v6/8AjV2igCl/YGk/8+A/7+v/AI0f2BpP/PgP+/r/AONXaKAKX9gaT/z4D/v6/wDjR/YGk/8APgP+/r/41dooApf2BpP/AD4D/v6/+NH9gaT/AM+A/wC/r/41dooApf2BpP8Az4D/AL+v/jR/YGk/8+A/7+v/AI1dooApf2BpP/PgP+/r/wCNH9gaT/z4D/v6/wDjV2igCl/YGk/8+A/7+v8A40f2BpP/AD4D/v6/+NXaKAKX9gaT/wA+A/7+v/jR/YGk/wDPgP8Av6/+NXaKAKX9gaT/AM+A/wC/r/40f2BpP/PgP+/r/wCNXaKAKX9gaT/z4D/v6/8AjR/YGk/8+A/7+v8A41dooApf2BpP/PgP+/r/AONH9gaT/wA+A/7+v/jV2igCl/YGk/8APgP+/r/40f2BpP8Az4D/AL+v/jV2igCl/YGk/wDPgP8Av6/+NH9gaT/z4D/v6/8AjV2igCl/YGk/8+A/7+v/AI0f2BpP/PgP+/r/AONXaKAKX9gaT/z4D/v6/wDjR/YGk/8APgP+/r/41dooApf2BpP/AD4D/v6/+NWdL0TTIdTtHjsgkizIyt5rnBDDB61JVjT/APkIW3/XVf5igDuKKKKACiiigAooooAKKKKACiiigAooooA4fUP+Qhc/9dW/ma+cNa/4mn7enhq21L95aaZ4Dur7SY5PupdSXqRXEi/7XlCNfoxr6P1D/kIXP/XVv5mvP/iT8I9I+JUuj3093qGheIdFmM+l+INFmWK9si2PMVS6ujxyKNrxyI6MOq5AIAMH9qX4jat8KfgL4r8S6FNFa6zbxQ29pczRiRIJZ544FlKtwdhl3YOR8vII4PnnxQ0O9/Z7k+HXifQvFPirVbq78R6foOs2msa3dajb6pDduI5H8iaRo4JVcLIrQLGB8yY2tgepL8ELDWND1/SfGXiLX/iDZa1afYLmHXriGKIW+SdqQ2kUEStkk+bs83oN+FUCjof7PtjZ6t4evNe8W+JfG0HhxxNo1h4gmtTBZTBNiTYggiaaRUJVXnaQruLD5juoA8F1/wCIer/CvSf2svEugSLBrNt4isIbW4eESi3eaysoRMUPDbPM34OR8vII4rV+LXwnb4eeOfgBNaeLvEusWreL7aC9tde1SbUhc3AtLjbdK87M0LY3gpEVjO8fICor3JvgD4Tu4fiPbajFc6tYePrhbjV7O7kHlgi3jgCxFFVkG2JWzksG5BHGMCH9l/SbjVvB2qa74w8WeKdR8I3kd1pE+q3VsBCqRsnlMkMEaOGDAtIymUlV/eYyCAez0UUUAFFFFABRRRQAUUUUAFFFFABRRRQAUUUUAFFFFABRRRQAUUUUAFFFFABRRRQAUUUUAFFFFABRRRQAUUUUAFFFFAFiX/jxg/3n/wDZayde0Wz8S6HqGkahG0thf28lrcRxyvEzRupVgHQhlJBPKkEdiK1pf+PGD/ef/wBlrO1K1lvtOuraC8m06aaJo0vLYIZYGIIDoJFZCynkblZcjkEcUAfN/wCz94b0rwf+1V8ctF0TT7fStJsdL8Nw21naRiOKJBb3GAqjpWr+yBINS074uXd23n6hP8QdZiu3kUBiI2SONT6gRqgGccfmei8H/s5yeDfiPqvjaL4leMNQ1fWPsq6rHexaV5N9HbqyxRusdihQAOwzEUY55NWNa/Z1sbrxD4l1XQPGHijwSviba+tWPh+e1WC8lCGMzjzreV4ZWTCl4HjJ2K33huoA+aPgV4A8WzfDn4JeO/DukHxLZ+Cte8RRN4fiuIobiayubqaBJLZ5nSLdEASFd1DKSAw4z6j4N1TVfFX7aWvXFx4d1Dwos3w/ihu7HULm3mmDfbpBA8ot5JYlJBm2gSsSoJIXv7RN8K49N8I6J4a8H+IdW+H2laRGIIItBispS0YGAjfa7efOOu4YYkkknNHgn4Q6R4JtdeaO91TVda19t+reINQuv9Pu2ClEO+MIsQRThEhVFTqqgkkgHh5bx3+xT8JfCyXmseHfG3gHRLm10u9hh0ifTdTjt55xEs6Sm6njlZHlUmMxpuUHDKa9T/ak+Ier/Cv4CeLfEugSLBrNtBHDa3DwiUW7zTRwiYoeG2eZvwcj5eQRxUI/Z3g1a50UeLfHPivx5pmj3EV5aaTrr2KW32iIgxSy/ZrWF5yhGQJXdSfmIJAI9A8aeDdH+IfhPVfDXiCyXUNF1S3a2urZyV3ow5wQQQe4IIIIBHIoA+YPi18J2+Hnjn4ATWni7xLrFq3i+2gvbXXtUm1IXNwLS423SvOzNC2N4KRFYzvHyAqKi/ai8deGtJ8KfETV9B8dePrnx54ehkuLe58OyapLpel3EWJUtLhbWP7AACMOt0Gk2SfO2NpHrEP7L+k3GreDtU13xh4s8U6j4RvI7rSJ9VurYCFUjZPKZIYI0cMGBaRlMpKr+8xkGv4i/ZO0HxDa+NdLXxX4q0rwv4wubi91Xw7p11bx2slzNGFklWQwG4TLKshQS+WzZDIUZkIBzM3xK1PwP8cvAWv63q1zH4N+IPhdkmtbi4drTTtStoftQeNSdsYkhaUHA+YxKe1cpoa/FPxn+zdB410u717V7zxX4mXxJeaLaam1tfR+H3mO2ysZWdfIbyFif5GQnc4VgzA1037ZPwlfxx8C/Cnw50bTdV1K6uda0vTrW/tIXkbTolOya6mdF2ogg81Sx2g+Zjvivbdf+Hqal4b0nR9G13V/B40kxizutCliV40SMxiNo5o5IpE2HG2SNgCFYYZVIAOZ/Z28ZeG/GHgm5fw3feJZIrO8a3utJ8XvO+qaRcbEd7WY3BaYlS27LvJ98hX2BQvJeC7j+0/23PiY1wmJtM8J6PZ2hJ6xSTXMshHtvwP+A16d8Mfhbpnwt0/VIrK7v9W1DV7+XVNT1bVJEe6vbl8Au+xERQFVEVY0VVVAAOueG1rw3q3hv9rPw/4psrC8vNC8TeHZ9B1Oa2hLx2dxbSG4tpZWA+RXV7iMMcDdtHVhkA4/9sqHxtrvwr8S6fqOhaXB8M45IrjW9T0rUnu9abTYmWWbybSSGGFHygyxuHwgYqjsQtfQtnPY+LPCsE1hdSnTdSsle3urZ2ikMUkeVdGGGU7WBB4IrzTVv2cE8RaRPoGt/EXxvrfg+4Yifw7e3lo0U8Jbd9nkuhbC8eP+E7rgsyjazMCQfW7S1hsLWG2toUt7aFFjihiUKqKBgKAOgAGMUAfFVn8TvF2tfBrS/g+3iPUoPiafGp8D3WuRXMi34tIH+0yX/mbt+5rJVy+clnJyK6bxJ4k174jfHr4ieGZdC+Ims6D4Qt7GwsYPBPiKDSBHNcW4mkuZ3a+tZJpD8qoCZIwFYlQWOd/wj8KBrH7c3jf4iSaJqGn6fpOhWmm291d27xwX99Kp824gLAB9kCRwllyOcZ4r03xN8D7PVvHU/jHQvEuveBvEd5arZajd6AbVl1GJDmLz4rqCeMtHlgsiqrgOyliMAAHnem67fab8F/BVj8btd8Q+H/FFxLPavo+g3TnVNXMcjCFv+JZvuGcRLHK/2ZwAS2/K5FeSr8U9bh+Af7T1jo3iHxSLXwncO2gahrkl5Bq9nFNbRzeUz3AS5AR2fYZfn2kfMRg19M+KPgNp/iRfCF1H4l8R6V4i8LPO9h4itrqKe9PnxlLhZPtMUsTrJkEqY8KVUJsCgViR/sp+F/8AhE/iPoVxrXiK+Xx+EOtX93dxyXLSLCsRkjPlbULBd23bsUnCKiBVABzPj74d+NvD/wAHdPuPCereKPFmt3uoWF94nVNdmivtQsgxe6jsN8ojsmO7hIDF8q7Q27aaiTXvCnxJ/ZO+J9rol54lms4tK1K1vdJ8XvO+qaRP9kLvazG43TFlLBsu8n3sKxQKq+2eKPA8niDRNOsLHxJrfhi4090eDUNHliEvyoUKuk0ckMqlWPyyRsAcMMMqkeN/Fr4S3XgX9n3xt4Z8Gxax4n8VeOr02t7q14onuJpr11gmupzEiRxxxQZ4VEjVY1GBnkA9N/Z+1a7174E/DvUr7d9tu/D2nzzeZ97e1uhYngc5PpXzx8cJtJ/Z18Zalqnw4+J99pXjrXJ5tQPwve2l8Q2+t3TpNL8lkjfaLRppOTOjqny4xjivrPwx4etPCPhvSdD09CljplpFZW6k5IjjQIo/ICsXwZ8JvB/w91bXdV8PeHrLTNV127kvdT1CNN1xdyyOXYvK2WK7mYhM7VydoFAFj4b654g8TeB9H1TxT4d/4RPxBcw77zRvtaXX2V8kbfNQYbIAbjpnB5FfC8+ueKLf9l/4i6TdaNp1t8PNW8Za1pmq+KILx7q+0u2m1OVJblrBoo0ZFJC7luCy7g+whStfobXnOifAbwzo3w18T+BmN5qOg+IrjUbi+W8kUyE3sjvMqsqrgAyNt4yMDknmgDxz4k+JNVu/jn4d+GOn6X4017wno3hOPWHtvB2tQ6ZdXkjSm2iea6a6tnMSKhO2OX5ncFlIUYyNT8UfFLwb8K9K8La3NrXhW58SeP7fwxpGrave213q8GjTjzAzzRSyp54VZYRIzM/Csfmw1eyzfs36THaeDZdN8T+JNG8S+FtOGkWnii0ntn1C4s9oUwXIlgeGZSVR/miyGQMpUk51fEPwN0fxl8O7jwp4j1fXNeaa5W+Gt3d4Ev4LtGDRXELRokcLRsqlVjjWPg5Q7m3AHnvx4a8/Zn+B/jTxP4O1fxJe38sdpaW1vrGrzautrNJcLD9oia9eRg2Jh8rP5RMafKMsTnfD3QPH3hv4reD20bw18RNP8KSW9xa+JpfHfii01WOTEJa3uIlGoXDxy+au1hEqIRJyvyjHqX/CkbHWvD2vaL408Ra78Q9O1q2FlcQa/JbxxpCCThI7SGBFbcc+bt8wELhxtAE/gf4U3vg+7sZL34g+LvFlvYQ+Ta2mtXFqI0+Xbuc29vC87beMztJyd33sNQB8r+F4fEmtfsu/Ev4jXXxA8YN4p8O6jrtzosq63OkFmLS6leOJoFYR3KEpgrcLIAp2LtUAV6teeJtT+Mnxs8HeC77WNR0Tw8PBMfi2/tdDv5tPnvrmaUQxobiB0mWKP522oy7iy7twAFeg6R+zx4c0X4ReJ/h1Be6o+ieIX1F7q4kljNyhvHd5fLYRhRgyHblTjAzmn+IvgHpGsXPhTUdO1vWvC/iPwzZHTbHXtIkg+0taFArwSpNDJDKjFUfDRkhlBUrzkA8++Jyap8A/Gnwm1628TeINS8IyatJ4Z1e11fUpLpFivWJtJXLH52hmCRiWTdJsfDMx5rf/AGdda1b4h+KPib47udWvbjw7f622j6Bp7zu1rFa2OYJJ4kztBmnExLAZIRefSj+0t4HurP8AZS8beHbeLxH4/wBZvbZktmYNdX897JKpilxCgWNY5Nr4REjRU4CgV6b8Hfh7b/Cf4V+FfCFsQ6aPp8Nq8g/5ayBR5kh92csx92oAy/jv8PfCnxC8ByJ4v1q78MWGkzDU4PENjqp02fS5kR0Fyk+QqFVkcfPlfm5Brx79m34yeNfFXxCufDdjqcnxe+GlvFLt+JMmmHSjbzLJMotSTiPUCBHGvnW6qPm3NnIr3z4hfC3wn8WNP06w8YaFaeIrCwvU1CCzvlLweeqOis8edsg2yONrgrz04FdNBBHawxwwxrFDGoRI41CqqgYAAHQAUAVta1my8OaPf6tqVzHZ6dYwSXVzcSnCRRIpZ3J9AAT+FeG/sg6Tfa94b8Q/FbW4Wi1v4iX/APa0UchBe30xRssIM46CL5/rKe+a9Q+LPw0sfjD8P9W8H6pqGo6bpeqIsV3JpcqRTSRBgWi3MjAK4G1sDJViARnNb02g2knh59FiE1lYNamzUWU728kUezYPLkQhkIHRlIIwCCDQB8z/ALSl94qOqeA9U+IOkaVoXwz0LxXZ6hc33h7UZNSvWnWUJZNMksNuIIPMcGQx+e/KgADc1dP8EZjfftRftCy3TmS8tp9EtId6gGO2+xF1VT12l3kPTqc5PbpZP2dYdbbSYPF3jvxZ470bTLiK7h0bXHsUtpJoiDE8xtrWGSfYwDbZXZSwBYMQDWp4q+B9nrXjqXxlonibXvBHiS6s10+/vNBNqwv4UbdEJorqCeMtGS211VXAdgWIwAAcJ+ydC9r4i+OsMS7NNX4g3pt0X7gZoLdpdvplySfcn3qNba++NH7RXxG8P6r4h8QaNoXgyx0+306x0DU7jTd9xdxGaS7leF1MxXaqKkm6MbWyhLEn2H4c/DvRvhb4Vg0HQ45vsyO881zdzNNc3c8jFpZ5pG5eR2JZmPrgAAADnPFPwNsNe8dT+L9L8Ra94Q1u9sk07U5tBlt1GpW6NujWUTQybWTLhZItkgDkb+mADwv4B32l+EfgL4yi8aeNtR06BfHusWlzqenkW17qkpumXyY1gQyCSU5wtqFlz/qyuKg8E6heeNfiR8YPhj4U8T+O9P0O88LWupaXceI5tUt9S0q+dpYWa3lvgt0ImKRPyzLuD7SAWFet2v7Jfg3S/h/F4T0u+1vS7e08RHxRpuoQXSPd6dfeb5gaJpI3V1GWTEyyZVm3Fic1v+BfgTp3gn4han43l8Q6/wCI/E+p6dHpl5eazPCwljjlaRCI4oo44yN23EaqhC5Kl2d2APC/Cnxl1/49WfwD8OWeqXmi67cTT6v4wOnzvDLGmmEwTwPtYEJNdsilSeVBzkddWHxJqPgb47agnxSufGmktqniHb4U8SabfzN4be0fykt9Pmt0cwxzMWkUtcQ7mO5klUhCNT9mX4UDSfjd8cfiHLomoaJFrWuf2fpkGpW7ws0ESh7i4jVwD5c9w7OCBhtmRnNehav+z/ZeJPEFjd634u8Ua1odjqw1u28M31zbvYx3SszxkuIBcuiSNvWN5mRSqjbtVVAB6pRRRQAUUUUAFFFFABRRRQAUUUUAFFFFABRRRQAUUUUAFFFFABRRRQAUUUUAFFFFABRRRQAUUUUAFFFFABRRRQAUUUUAFFFFABRRRQAUUUUAFFFFABRRRQAUUUUAFFFFABRRRQAUUUUAFFFFABRRRQAUUUUAFFFFABVjT/8AkIW3/XVf5iq9WNP/AOQhbf8AXVf5igDuKKKKACiiigAooooAKKKKACiiigAooooA4fUP+Qhc/wDXVv5mq9WNQ/5CFz/11b+ZqvQAUUUUAFFFFABRRRQAUUUUAFFFFABRRRQAUUUUAFFFFABRRRQAUUUUAFFFFABRRRQAUUUUAFFFFABRRRQAUUUUAFFFFABRRRQAUUUUAWJf+PGD/ef/ANlqvViX/jxg/wB5/wD2Wq9ABRRRQAUUUUAFFFFABRRRQAUUUUAFFFFABRRRQAUUUUAFFFFABRRRQAUUUUAFFFFABRRRQAUUUUAFFFFABRRRQAUUUUAFFFFABRRRQAUUUUAFFFFABRRRQAUUUUAFFFFABRRRQAUUUUAFFFFABRRRQAUUUUAFFFFABRRRQAUUUUAFFFFABRRRQAUUUUAFFFFABRRRQAUUUUAFFFFABRRRQAUUUUAFFFFABRRRQAUUUUAFFFFABRRRQAUUUUAFFFFABRRRQAUUUUAFFFFABRRRQAVY0/8A5CFt/wBdV/mKr1Y0/wD5CFt/11X+YoA7iiiigAooooAKKKKACiiigAooooAKKKKAOH1D/kIXP/XVv5mq9WNQ/wCQhc/9dW/mar0AFFFFABRRRQAUUUUAFFFFABRRRQAUUUUAFFFFABRRRQAUUUUAFFFFABRRRQAUUUUAFFFFABRRRQAUUUUAFFFFABRRRQAUUUUAFFFFAFiX/jxg/wB5/wD2Wq9WJf8Ajxg/3n/9lqvQAUUUUAFFFFABRRRQAUUUUAFFFFABRRRQAUUUUAFFFFABRRRQAUUUUAFFFFABRRRQAUUUUAFFFFABRRRQAUUUUAFFFFABRRRQAUUUUAFFFFABRRRQAUUUUAFFFFABRRRQAUUUUAFFFFABRRRQAUUUUAFFFFABRRRQAUUUUAFFFFABRRRQAUUUUAFFFFABRRRQAUUUUAFFFFABRRRQAUUUUAFFFFABRRRQAUUUUAFFFFABRRRQAUUUUAFFFFABRRRQAUUUUAFFFFABRRRQAUUUUAFWNP8A+Qhbf9dV/mKr1Y0//kIW3/XVf5igDuKKKKACiiigAooooAKKKKACiiigAooooA8x1fxVY2+rXsTwXBeOd1JUrgkMRxVT/hMdP/597r81rnvEn/Ixap/19S/+hms6gDsv+Ex0/wD597r81o/4THT/APn3uvzWuNooA7L/AITHT/8An3uvzWj/AITHT/8An3uvzWuNooA7L/hMdP8A+fe6/NaP+Ex0/wD597r81rjaKAOy/wCEx0//AJ97r81o/wCEx0//AJ97r81rjaKAOy/4THT/APn3uvzWj/hMdP8A+fe6/Na89h8RaVca5caNFqdnJrFvCtxNp6TobiKJiQrtHncFJBAJGDitCgDsv+Ex0/8A597r81o/4THT/wDn3uvzWvPtO17TNYur+2sNRtL250+XyLyG3nWR7aTaG2SAHKNgg4ODgg1foA7L/hMdP/597r81o/4THT/+fe6/Na42igDsv+Ex0/8A597r81o/4THT/wDn3uvzWuD1XVrHQdNudR1K8t9O0+1jaWe7upViiiQDJZ3YgKAOpJqeGaO4hSWJ1likUMjoQVYEZBBHUUAdr/wmOn/8+91+a0f8Jjp//PvdfmtcbRQB2X/CY6f/AM+91+a0f8Jjp/8Az73X5rXG0UAdl/wmOn/8+91+a0f8Jjp//PvdfmtcbRQB2X/CY6f/AM+91+a0f8Jjp/8Az73X5rXG0UAdl/wmOn/8+91+a0f8Jjp//PvdfmtcbRQB2X/CY6f/AM+91+a0f8Jjp/8Az73X5rXG0UAdl/wmOn/8+91+a0f8Jjp//PvdfmtcbRQB2X/CY6f/AM+91+a0f8Jjp/8Az73X5rXG0UAdl/wmOn/8+91+a0f8Jjp//PvdfmtcbRQB2X/CY6f/AM+91+a0f8Jjp/8Az73X5rXG0UAdl/wmOn/8+91+a0f8Jjp//PvdfmtcbRQB3s3iqxXTbWUwXG13kAGVzxtz/Oqn/CY6f/z73X5rXPXX/IC0/wD66zf+yVnUAdl/wmOn/wDPvdfmtH/CY6f/AM+91+a1xtFAHZf8Jjp//PvdfmtH/CY6f/z73X5rXG0UAdl/wmOn/wDPvdfmtH/CY6f/AM+91+a1xtUrLXNO1K+v7K0v7W6vLB1ju7eGZXkt2ZQyrIoOUJUggHGQQaAO/wD+Ex0//n3uvzWj/hMdP/597r81rjaKAOy/4THT/wDn3uvzWj/hMdP/AOfe6/Na42sXVvGWj6H4g0PQ729EWra00y2FqI3dpvKTzJD8oIVVXqzYGSozkgEA9M/4THT/APn3uvzWj/hMdP8A+fe6/Na42igDsv8AhMdP/wCfe6/NaP8AhMdP/wCfe6/Na42igDsv+Ex0/wD597r81o/4THT/APn3uvzWuNooA7L/AITHT/8An3uvzWj/AITHT/8An3uvzWuNooA7L/hMdP8A+fe6/NaP+Ex0/wD597r81rjaxvCfjDR/HOkHU9DvBfWSzzWrP5bxsksUjRyIyuAysrKRggdPSgD0v/hMdP8A+fe6/NaP+Ex0/wD597r81rjaKAOy/wCEx0//AJ97r81o/wCEx0//AJ97r81rjaKAOy/4THT/APn3uvzWj/hMdP8A+fe6/Na42igDsv8AhMdP/wCfe6/NaP8AhMdP/wCfe6/Na42igDsv+Ex0/wD597r81o/4THT/APn3uvzWuNooA7L/AITHT/8An3uvzWj/AITHT/8An3uvzWuNooA7L/hMdP8A+fe6/NaP+Ex0/wD597r81rjaKAOy/wCEx0//AJ97r81o/wCEx0//AJ97r81rjaKAOy/4THT/APn3uvzWj/hMdP8A+fe6/Na42igDsv8AhMdP/wCfe6/NaP8AhMdP/wCfe6/Na42igDsv+Ex0/wD597r81o/4THT/APn3uvzWuNqlZa5p2pX1/ZWl/a3V5YOsd3bwzK8luzKGVZFByhKkEA4yCDQB3/8AwmOn/wDPvdfmtH/CY6f/AM+91+a1xtFAHZf8Jjp//PvdfmtH/CY6f/z73X5rXG0UAdl/wmOn/wDPvdfmtH/CY6f/AM+91+a15n4b8ZaP4uk1ZdIvRe/2VfSabeMsbqsdwgUvGGIAYruAJXIByM5BA2qAOy/4THT/APn3uvzWj/hMdP8A+fe6/Na42igDsv8AhMdP/wCfe6/NaP8AhMdP/wCfe6/Na42igDsv+Ex0/wD597r81o/4THT/APn3uvzWuNqC+vItOsri7nLCCCNpZCiM5CqCThVBJOB0AJNAHc/8Jjp//PvdfmtH/CY6f/z73X5rXnfhnxJpnjHw/p2uaNdpf6VqECXNrcxghZI2GVOCARwehAI6GtKgDsv+Ex0//n3uvzWj/hMdP/597r81rjaKAOy/4THT/wDn3uvzWj/hMdP/AOfe6/Na42qVxrmnWmq2mmT39rDqV4jyW1nJMqzTqmN7IhOWC7lyQOMjPWgDv/8AhMdP/wCfe6/NaP8AhMdP/wCfe6/Na42igDsv+Ex0/wD597r81o/4THT/APn3uvzWuNooA7L/AITHT/8An3uvzWj/AITHT/8An3uvzWuNooA7L/hMdP8A+fe6/NaP+Ex0/wD597r81rjaKAOy/wCEx0//AJ97r81o/wCEx0//AJ97r81rjaKAOy/4THT/APn3uvzWj/hMdP8A+fe6/Na42igDsv8AhMdP/wCfe6/NaP8AhMdP/wCfe6/Na42igDsv+Ex0/wD597r81o/4THT/APn3uvzWuNooA7L/AITHT/8An3uvzWj/AITHT/8An3uvzWuNooA7L/hMdP8A+fe6/NaP+Ex0/wD597r81rjaKAOy/wCEx0//AJ97r81o/wCEx0//AJ97r81rjaKAOy/4THT/APn3uvzWj/hMdP8A+fe6/Na42igDsv8AhMdP/wCfe6/NaP8AhMdP/wCfe6/Na42igDsv+Ex0/wD597r81o/4THT/APn3uvzWuNooA7L/AITHT/8An3uvzWj/AITHT/8An3uvzWuNooA7L/hMdP8A+fe6/NaP+Ex0/wD597r81rjaKAOy/wCEx0//AJ97r81o/wCEx0//AJ97r81rjaKAOy/4THT/APn3uvzWj/hMdP8A+fe6/Na42igDsv8AhMdP/wCfe6/NaP8AhMdP/wCfe6/Na42igDsv+Ex0/wD597r81o/4THT/APn3uvzWuNooA7L/AITHT/8An3uvzWj/AITHT/8An3uvzWuNooA7L/hMdP8A+fe6/NaP+Ex0/wD597r81rjaKAOy/wCEx0//AJ97r81q3pHiqxuNWsokguA8k6KCxXAJYDmuCrR8N/8AIxaX/wBfUX/oYoA96ooooAKKKKACiiigAooooAKKKKACiiigDwXxJ/yMWqf9fUv/AKGa+e/HEf8Awg/7U3gLxLvWOx8VaZc+F7vccDz483VsfdjtmQZ9a+hPEn/Ixap/19S/+hmvI/2gvhvrPxM8Ax2vhm8s9O8V6ZqNrq2kXl/uEMNxDIGy21WOChdTgHhiKAPB/hn4hvof2rLnxzcXDHQfHl/qnhi1VnIjQ6cIxbsoI6uYbv257EnPoPwXi1rxRffE/wAfaAdP+3+JPETafZ3Wph2hhsrFTapKEjwZfnWVhGHQNu++vWneJ/2e/EC/s7eD/CXhjU9PtPHHheSyv7LVLwyC2+2xtmdyQpba4eb+HndyB2ueIPgDqi/APwX4E0S6sZJdBlsZL+wvJpYLHWo4/wDj5t53RWYRylnY5RgSAGUgmgC94d+KninTvG/jzwb4nOjahquh6NDrthqOk2k1rDPBIJFKSwySylXWSI8rIQysPukGub0b4zfEaX9m3VPizqsPhu1/4pttVsNFhs53IlWIMJJZvtGCjkMwiVAyqygyEg5f8Pf2d9V8LePPGPiJNG8IeE7HXvDq6VDonhlXWG2nV5Dvd/JjEm4MpLhEI+7tOze3QyfBjW2/ZMPwvF1Yf2//AMIx/Yv2nzH+y+d5Ozdu2btme+zOO1AGHrXxc+J/hnUPh/Ld6T4ZvoPGz/YoNLhaeGXSrpoPORpLks63EYVJdwWGMjA2lu/X/D34ieIZvip4l+H3ip9Lv9S03T7XV7XU9HtJbSKa3mZ4yjwySylXR4z8wkIYOOFIOXeMvhbqviG++E81tcWaL4T1NL2+EruDIgs5YCIsKcndID823gHnPFT6X8NdTsf2hNe8dyT2h0i/8P2ukxQq7faBLFNJIzMu3btw4wQxOc8CgDj/ANtq4W1+BUkzh2SPW9JdhHGzsQL6E8KoJY+wBJ7Vyv7UXxU0XxV4F0HT7Ky8SQXD+KNHYPqXhfU7GHAvIycyz26ID6Atk9q9a/aC+Gup/Fj4djQdIntLe8/tOwvN967LHsguY5XGVVjkqhA464yR1pfj58NdT+Kfg3TtJ0me0t7m31rT9Sdrx2VDHBcJI4BVWO4hTgYxnqRQBg3vxBtvDnxs+IYm0HTPL0Pwla6vJqVtahdRuV33JMLyk/MgEI2qQMFjzzXKW3xc+KkmofCO7uLvwfBo/j6c7rWLSLuW40+M27XMaCT7WomJRSrSbECtg7COK1/i54X1DwbqXxc+JE120Ok3XgldPh/s3c99DLD9pZpAhAXAEqkHf1U5wBmvNfCHhm6+AunfCfxNcz+HfFMepz2Wi2On266i81ol3GA8mntcX08S4wrMIoYg8atyowKAN74bv45/4WR8fj4Rm0Gx+z+IVn8/Wraa7+0SiyixCI45IvLHCnzS79ceXxmvevhL8QI/ip8NfDni2O0awGr2SXLWrPv8lyMMm7A3AMCM4GcZwK534a/DDVfB3if4o6je3FnLB4p1cX9ksDuWjj+zRxYkyow25CflLDGOe1aXwH8Bah8L/hD4X8K6rNbXGoaXaeRNJZszRM25jlSyqSOe4FAHn3wc1CH4VfFH4p+Ar9xaaZHMfGOlO5AQWVzn7QB6LHOknH+3VP8AZ70nxhqvw9v/ABrpZ0vTNa8fatPr815rUMlz9ls2wtnGII3jMn7lEHMqbd2fm+7Wl+0x8Adf+Ll5ol/4T1i00LUlt7nRNVnui487SroATom1TmRSoKA4GWbJrV+MHwbv/Fi+BotFstH1jQPD0kiXXhDX7iSDTtQiMOyEuUilBaFlVlV4mXk9CAaAOB+IXxI1rxh+z/8AtA+HvEsennX/AArbXdhNdaTFJFbXUT2omhlWORnaNtj4ZN7AFThiDXo+h/EPUbH4leA/BMcFqdK1DwpLqkszI3niWJrdFCndt2kSNkFScgcivP8ARf2Yde0v4d/GrQoIvC+jS+OYv+JbYaMkkFjYMbURGNgIx8qvn51X5+W2IW2Du/E3wy8UWPjDwL4v8MDSL/VtD0qfRb7TdVu5bWC5glWJt8cyQylWWSFeDGQyseVIFAGRrX7SE3g/TfjJqutWVpJY+CtTt7CwihZoWuDNBAyCWRiwGZJ8FgoCrzg45z/Av7Rk938TPCvhXUPGXgPxx/wkUE4V/BchEmnXMURlKSqbmbzImUOFkxGcp935uG2v7NOv+JPCvxZ0rxd4gsDeeM9Ug1S1v9Kt2xZPFHD5QMT/AHhG8Kj73zquSVLED1HwbcfEi4urOPxVp3hfTraGH/SZ9I1C5vHu5NuPkSSCEQLu+blpTj5f9qgDt6KKKACiiigAooooAKKKKACiiigAooooAKKKKACiiigAooooAKKKKANG6/5AWn/9dZv/AGSue1/w7pXivSbjStb0yz1jS7jAmstQt0nhkwwYbkcFTggHkdQK6G6/5AWn/wDXWb/2SsyQuI2Maq0mDtVjgE9snBx+VAHy/H8K/BOuftXaLpnhfwb4f0LT/AVn/a+qXWk6XDbPLfXClbWBmRBkIm6bGepT0q5+03ovw20jw94xvL/wLea34yu7MzW+tf2Lcy/ZZmUJDINUkTybSOIhXP75FjCs2Mnn0r4C/DHU/hz4d1ifxHc2t94t8Qarcaxq1zZO7w+ZI2EjjZwG2JGsaDIHQ8U/xA3xXmOs6dp+l+DbuzuHkSy1S61K6gkhicYXzbQW8gkZMnOJ0D4/5Z5wADzHxEt94s1f4BfD7xJqkXiHTNV02bUtdnt7ndb6zJa2kZVXK4E0LySeYV5V9oyCK1fDOi2Hwr/asTwv4Ws4NE8MeIPC8mp3Oi2MYhtI7yC4jiE8cS4VGaNgrbQN21SckVOv7ON/4J8NfCw+DtTt7zxD8P1khhOsFoYNSgnXZcxO0au0OfvIQr7SoXBBJrrvBnw/8QXPxM1D4geMP7NtdWOnLo2naVo9xJcwWltvEsjtPJHE0kkkgHSNQqoo+Y5NAEfjj4geI5vilpHw+8H/ANmWmpy6bJrWo6rrFtJdQ2tqH8qNEgjliZ5HkPUuoVUb7xOBwfwFvPFcnj/46yXmm6XH4oXVrCM263bizkYWUaiQP5bOqsoD7SpIztJON1d144+HniOH4saR8Q/CK6VfalDpcuiX+l6xcyWkVxbNIJY3SeOGVldJB90oQwc8qRzxMnwC8e3nhz4xRzeKrCz8QeM5ra6sr7TfOt0gMcMamB9vzqh2GLerMxQlsAnbQB0lt8QPHPhv4uWHgTxFd+HdWfXdFur/AEnUtN024svJuLdlDxzwvcTb0IkRgyup+VhjkGucX9pDXbz4Bafr1ppmn/8ACx7vWY/C39kSK/2ZdV+0+TKpXfu8sKryj5s7QMmm+Bf2dtR0D4zeGPGsPhXwP4G07S9PvLC40vwvveS4Mqx7JXm+zwiQ5VhtZAVAzvfeQnPeHvh39q/be1+OzuVk8LaPAniu4sFB2w6zdQm1BPu0UbyexagDvdU+MPiC5+NmpeArHUvDOgXenWtpcWtnr8Mvn+IfMV3k+yOsy+UibChYJOQdxKYXDGjyr4l/bA8QvMd48L+FLW1t426RyXc7ySuvuVgiXPoPrR8evhT4r+Mml6h4YfS/CMui3E0T2PiC9lm/tDSB8nmPFB5LK8ww+2RZovvqCvykvFZ2v/CFftdESlvs3i7wmkcNxI53S3VjMd6n1YxTq2f9k0Aeu+KPCuleNNJfStatBf6bI6vLaSOwjmCnOyRQQJEOOUbKsOCCOK8N+Feg6Vov7UHjKz8BWNto/grTtDt7bWLHS4xDYf2w0pZdkaYQSrAAHKjPzIDz19V+L+n+NdW8AanY/D+703T/ABNdKIYb3VJXjjt0Jw8ilI3PmBc7cqQCQTnGDz3wT8H+Jfhxotj4al8LaBpWhwI8kt/aeJLjUL25uGO5pZRJYwh3diSzl+/AxgAAtfGz4lan8KbfwvrUcFpN4bl1mDT9ckmRjLbQTny45o2DAALK0e7cD8pOMGsvWvjZdaT8TvGtg0FqfB3gvw6uqazebGa5+1vvkSBDu24EMZYjaTl15Hfq/jN4X0rxp8J/Fui63IsGl3WmTrNcP0gAQsJfqhAb/gNeRfsv/Du68Zfs06hceMppLjV/iLDPe6pcqMOYpohBDtyOMQJGRnoTQBmeHv2sp5rzwRfXvivwBrNr4o1CCxk8MaBdeZquk/aTiAvJ9oYTlCUWUeTFgsSOmD6J8aPGHxG+HfhPxH4y06TwudG0KFrttGurW5muLy3jIaQi6WVFhkZN21PJkAZRlmDfLc+Gui/Ezwno+g+GNTi8L3Gk6TGlmdegu7g3N3bRDah+xeSqRSMiqCRO6q2SAwwteU/EX9lnxH40T4j2c+l+DPEN14juLibS/F3iJ5p9S0qF4h5drHCYGCLG4ZVeOZQoff5bEFGAO+8WfFrxdffE3wZ4V8G22kR23iPQZtYbUdYgkl+xKkkOHMaSp5gKSFdgKncyncApBr3Pxe8TzfGK98ARat4V0bU9Ns7OeK31q1mjk8SPIjvKbPE48lF8tlztuGU5JUhfm29H+E+r6f8AE7wN4jkubJrHQvCs2h3Mau/mPO7W5DINmCn7puSQeRx6ZPx6+FPiv4yaXqHhh9L8Iy6LcTRPY+IL2Wb+0NIHyeY8UHksrzDD7ZFmi++oK/KS4B7d9eteI/BW5Oj/ABv+NvheNs2cWpWOtxJknY13ajzRyOMvCW6/xHpXtVvD9nt4oi7SlFC75DlmwMZJ9a8U+AsZ8RfFL4yeNYyDYX+swaLaNtA3rYQiKRwe6mV5QP8AcNAHQfE5fitouvQa94FOjeJNHitfLu/CGqH7JNO6l28y2vACFkbKJtlXYAucgnNU/BPx4k+LGkawngrRbeTxRoN//Z+taH4iv2shYyAurATwQ3CSnchxsyCOSVPBufE74In4ua9AuveK9Zi8FJa+TP4U0uY2cN9IS4drmeMiWSMoyjygVGUzk5IroT8IPAr+E7PwvJ4N0Gfw3ZyebBpM2mwyW0cnPziNlK7/AJmy2MnceeTQAnhnVPHt1qix+IfDXhzS9O2MTcaZ4huL2YN2HlvYwjB7nfx6GuvrkPDPwf8AAXgvVF1Pw94I8OaFqKo0YvNM0m3t5gp6rvRAcHuM119AHyZ8SZvh5Z/tQ+M7z4i+Go/EGl2vhDT5kkm8NzaulqqzXRkkYxwyeSNo++20cdeKteCviZqHwJ/Zk8OXepXlgs2tau1j4bfXNVWW0sbOeWRrQ3NyrsDHFANx2v8AdVUDL1HsulfDnULP47eJfGc0to+kanoVlpcUAZjMJIZZ3cspXbtIlXGGJ4OQO/m1r+zX4j07wDJ4es9X0yGTw14rbxH4LkkWSSKGIM0iWl0uAVTMkseYycKVYDK7SAWvBv7TVr/wlviPRNW8UeFfGlppmgS+I01rwaQsawwsFmgliNxPtkGVZT5mGDdBjJ6/4Z+IviN4u0nw/wCK9VPhqx0DV4ReSaJHa3C3ljbyRl4j9rMrJNIB5e5fJjHzNhvlG7W/sXxX4+0LXtF8a6doej6RqWny2DW+i6jPfSyeapRnMskEAjAUkBQjEk53DGDj/C/w78SfCOi6B4U1hfDN5omkQiyfXIbu4e7vbaNSkWbQwqkMjKE3N58gBDYU5GADx66/bTX/AIRe48cW/irwF/Ykd6Qngt7nOuy2Yl8oy+Z9oAWY8yiH7Oflwu/J3V6befErx14g+OniHwF4bHh/TtO07SLLUxq2qWs9zIjStIChgSaMSbtgwd6bMHO/IAPhn8P/AIh/CHw/F4J0VPDWpeF7O5kGm61qF5cR3lvaySGTZLaJCUmdC7qGE8YcBSdpzXQ6D8NdT0v4+eLPHEs9o2k6to9jp8EKOxnWSF5WcsCu0KRIMYYng8CgDi7f9o3WG+E1nqLaLZzeObnxG3g6OyjlZbJtRWdoTNk5cQ7UaXby2Plzn561viR4w+J/wp+Hmv8Aia8fwx4mj0kW97J9g065s5HtVkP2tBE1xKN6xYdJPMwTuBTgE4Mn7OOvSeANQsotV0+08TWnjW58Y6JcDzJLYSGdpIopxtVsMjsj7Qdu7I3YwfVNFtfFPiW11W08baToFjpd1bfZhYaXfT3xlDBhIzyyQwYUqQoQRnud/OAAc/qHxYvdS+Lngjwr4ZSyvtN1LSZ9e1a8mVmaGywqWxiwwAaSR+pDfKjcdx2XjzS/EGseFL618La3D4e15tjWuoXFot1GhV1Yq0ZIyrqChOcgNkcgV8+fsL+Dbqx0DxP4ivr/APtaM3n/AAjmi3hH3tK093ihK/VzLn12ivoPx5oOr+JvCl9pmh+IZvCupXGxU1a3t0nkgXepfaj/AC7mQMoY/dLbhyKAPLPD/wC0BrPhPxdoPgn4teH7bw54j1uQ22k6rodz9s0zVZVEe4Iv+vtzukAAlTb8p+evYPEmk2Wu+H9Q0/Uo5pdPuIHjuI7d5UkeMj5lBiIfkcYU5Ocd64z4Y/APwh8KrqfUtNtbjVPEt2gW98Ta5cNe6pd4VVO+d+QCEXKptX5R8tdh4oGtnQbz/hHG09dbChrYaorm2ZgQSr7CGUMMjcM7SQ21sbSAfNXh+HwnB+0x4Fh+HPh4fD+0Wwvn1hbjRn8PrrMZTEUEVtNHE9y8bjzWdYyI1x8/zYqG11u1+KHxO+Jl74l+HGr/ABQsPDuqtoun6bHb2k9hp8UUSM8ixXk0Ub3Ers+WjDuFVVO0Mu/07WPh940+J3jLwbqHi210Hw5pPhfUf7Xig0XUptQuLy5EbIitJJbQCKMB2LABy/A+UZzHb/D/AMd/Dnxj421HwRF4f1rSvFN0NUNrruoT2b6femJY5GUxwTedG+xG2nyyCCASDkAHH/EDQ9F+M3wy+FOp+AvBcHirwTp+vR3s/h23trS2VbaOK4iki+z3LxRZWU7ShPUHqOa734Lax4Dh1zxF4c8OeBY/hv4kshDNqWiPpVtZTSxNu8qcNbFopoyd6hkdtpBB2nqngr4c+KPgv8OfD/h7widI8TXFvNPNqj65cS6f9pkmZ5XlieKOby/3jH92UYbTjcCMm14B+G+uRfEzXPiH4tk0+HXdQsIdItdL0iWSe3srSN2k5mdI2md3bcT5aBQAoB5JAE8cfEDxHN8UtI+H3g/+zLTU5dNk1rUdV1i2kuobW1D+VGiQRyxM8jyHqXUKqN94nA4P4C3niuTx/wDHWS803S4/FC6tYRm3W7cWcjCyjUSB/LZ1VlAfaVJGdpJxuruvHHw88Rw/FjSPiH4RXSr7UodLl0S/0vWLmS0iuLZpBLG6TxwysrpIPulCGDnlSOeJk+AXj288OfGKObxVYWfiDxnNbXVlfab51ukBjhjUwPt+dUOwxb1ZmKEtgE7aAOktviB458N/Fyw8CeIrvw7qz67ot1f6TqWm6bcWXk3Fuyh454XuJt6ESIwZXU/KwxyDXOL+0hrt58AtP1600zT/APhY93rMfhb+yJFf7Muq/afJlUrv3eWFV5R82doGTTfAv7O2o6B8ZvDHjWHwr4H8Dadpen3lhcaX4X3vJcGVY9krzfZ4RIcqw2sgKgZ3vvITnvD3w7+1ftva/HZ3KyeFtHgTxXcWCg7YdZuoTagn3aKN5PYtQB3uqfGHxBc/GzUvAVjqXhnQLvTrW0uLWz1+GXz/ABD5iu8n2R1mXykTYULBJyDuJTC4b17xBqy6D4f1LU5BlLK1luWA54RCx/lXkPx6+FPiv4yaXqHhh9L8Iy6LcTRPY+IL2Wb+0NIHyeY8UHksrzDD7ZFmi++oK/KS/r+oaPFqWg3OlXDNNDcWzW0jSHJdWQqSfUkGgDxX9n/wrqeqfsp+GrfS9ek0DW9etP7UudahgWaZZbqYzzuobjeQ7qGOQpIODjBz/wBjfQYPC8Hxb0m2lubiCz8dX0SzXk7TzyYgt8vJIxJZickk9STWr+zLqusw/s46RpWnWNneeJ/DTzeH7ix1C9e2iE9rOYWDyrFIy/IocYQ5yo4ByLPwJ8B+P/h/4h8Yvr+meGxpniXXrnXXm03Wriea1MkcarCI3s4xIAY+X3r977vHIB0Pxs+JWp/Cm38L61HBaTeG5dZg0/XJJkYy20E58uOaNgwACytHu3A/KTjBrL1r42XWk/E7xrYNBanwd4L8Orqms3mxmuftb75EgQ7tuBDGWI2k5deR36v4zeF9K8afCfxboutyLBpd1pk6zXD9IAELCX6oQG/4DXkX7L/w7uvGX7NOoXHjKaS41f4iwz3uqXKjDmKaIQQ7cjjECRkZ6E0AZnh79rKea88EX174r8Aaza+KNQgsZPDGgXXmarpP2k4gLyfaGE5QlFlHkxYLEjpg+ifGjxh8Rvh34T8R+MtOk8LnRtCha7bRrq1uZri8t4yGkIullRYZGTdtTyZAGUZZg3y3PhrovxM8J6PoPhjU4vC9xpOkxpZnXoLu4Nzd20Q2ofsXkqkUjIqgkTuqtkgMMLXlPxF/ZZ8R+NE+I9nPpfgzxDdeI7i4m0vxd4ieafUtKheIeXaxwmBgixuGVXjmUKH3+WxBRgDvvFnxa8XX3xN8GeFfBttpEdt4j0GbWG1HWIJJfsSpJDhzGkqeYCkhXYCp3Mp3AKQfZLFLmOxt0vZYbi8WNRNLBEYo3fHzMqFmKgnOAWbHTJ615do/wn1fT/id4G8RyXNk1joXhWbQ7mNXfzHndrchkGzBT903JIPI49PVpJEhjeSRgkaAszMcAAdSaAPFP2U7o2vhnxp4ZVt1t4Z8XappltyTtgMvnovI7CfHfpXtteJfsl20l94B17xa42x+MPEeoa9bKU2sLeSXZAT9Y4lb6MK9tPII6UAeKfFD4ifED4U2uneKNUfwzc+GZNYtLC90a1tbk3cEE8ohEkd4ZQsjqzo5U26DBZc5AZnX/wAR/HeufHfxH8P/AA6PD+nafpmk2epf2tqdrPcyI0rSKY/JSaMSBtgwd6bMHO/IA8q1X9kTxRrHhePSbrTfBF3r9vrCai3j29kmn1nUo0vBKqSFrfdAxiwpImlX5AgUK25PddB+Gup6X8fPFnjiWe0bSdW0ex0+CFHYzrJC8rOWBXaFIkGMMTweBQBxMf7RmtP8I7XURo1jJ48ufET+DorNZGFi2pLO0Jmyfn8jCNLsBLYGzdn56zb0+Mbf9rD4Z2nittHv0j0fWJLXVNHhktVm3Lb743t5JJShQgfMJGDBxwpBBuy/s569J8PdSsI9S02DxJbeNbjxjo0x3yW283DSxRTZQMoZGZGKg7d2Ruxg79v8O/HniL41eEvHXiGXQdOsNHsb6yOi6bcTXLRmYR4kE7wx+aWKcgogQKMbySQAey0UUUAFFFFABRRRQAUUUUAFFFFABRRRQAUUUUAFFFFABRRRQAUUUUAFFFFABRRRQAUUUUAFFFFABRRRQAUUUUAFFFFABRRRQAUUUUAFFFFABRRRQAUUUUAFaPhv/kYtL/6+ov8A0MVnVo+G/wDkYtL/AOvqL/0MUAe9UUUUAFFFFABRRRQAUUUUAFFFFABRRRQB4L4k/wCRi1T/AK+pf/QzWdWj4k/5GLVP+vqX/wBDNZ1ABRRRQAUUUUAFFFFABRRRQAVyfhr4R+BfBeqnU/D/AIL8PaFqRRozeabpUFvMVbG5d6IDg4GRntXWUUAFFFFABRRRQAUUUUAFFFFABRRRQAUUUUAFFFFABRRRQAUUUUAFFFFABRRRQAUUUUAFFFFABRRRQBo3X/IC0/8A66zf+yVnVo3X/IC0/wD66zf+yV5j8fPFWp+B/gn448QaNOLXVtN0i5urWdo1cRyLGSrbWBBwecEEUAd7RXiP7LPxM8Q+MvDer6F41vl1DxjoM8f2m7Fulv8Aa7W4jE1rceWgCqGRivAxmM+9ch8LfjV4x8fftKTwtqaL8OdRstSOjaatrFmRbOeCA3Rl2+YRJI02FzgADg5oA+naK8l1D9pDR7ex1XWbHw34i1zwjpNxJb3/AIn02CB7KAxvtncI0yzyxxHO54onXCttLYNaHin49aH4b8VeHfDttpur+I9U8Q6dJqWlposEcqXMaFON7SKqZDhgzlUwDlwSAQD0qivPdF+OXhvUfCviXXNRW88Nr4ZnkttasdViX7TYyKoYAiJpFk3KyMpiZwwcAc5Ar6F8cINT12x0bU/CPiTwvqmp2cl7pVtrMdqp1ERqGeOMx3DhJQpBMcxjbB6cNgA9KrP0/wAO6VpOoajf2OmWdnfak6yXt1b26Ry3TKu1WlYDLkLwC2cDivGP2ffjH4o8bN41HiPw5ri22neItTtor+RLFo7OGFhstGjt5mlklUZGUjcMejtXXWvxwtk8YaFoGseFfEfhr+3nlj0nUtVhtxbXciJ5nl/u53khdkDMqTJGx2sMBgVoA9JqneaNp+o3ljd3djbXV3Yu0tpPNCryW7spRmjYjKEqzKSMZBI6GvObX4/2GseMfEPhrRPCviPXtR8P3RtdTayitlit/wB2jq++WdAwcOQqrl8xvlQMEum/aI8LRfBO3+J6xahNoc6R+XZRxIb0zPMIRb+Xv2+aJDsK7sAg88UAeoUVBKsl1ZOI3e0lkjIV8KWiYjg4OQSD9RxXkXwL+LV3q3wh1bUfGt9G/iDwjcX2n+IbgIkf7y1ZiZdigBQ0QR+AB83FAHrWq6TY69ptzp2pWdvqOn3UbRT2l1EssUqEYKujAhgR1BFSWdnb6fZwWtrBHbWsCLFFBCgRI0UYVVUcAAAAAdMV4r8Ifij4vuvhT4e1nXvD+u+LvEOvJJqws9JtbWBLKzlkZoIzLM8EJKxmMbd7SnOSCMkZXxa+MCeM/gHpPivwne6poxuPEWmWc0bFrS8t2GoxQ3FtMqnKsCHRlyQRnkg8gH0LRXL6X8Q9O1b4h674Nhgul1PR7O1vriZ0UQsk5kCBCG3EjymzlQORgmudh+P/AIam8B6h4q8jUltbXVZ9Eishbh7u8vI52gEUMaMdxeRcLkjg5baASAD0qiuH8HfFa18UeKL7w1faHq3hXxHa2yXv9mayLcvNbM20TRvBLLG6hhtID7lOMgZGbHxR8bav8P8Aw9Dq+leENS8Zxx3Cre2Wjun2uK32sWliiYjzmBCjy1IJ3ZHSgDsKp6To9hoNillpljbadZIWZbe0hWKNSzFmIVQACWJJ9SSa5f4a/GLwh8W7S6l8M6zFe3Fm5ivdPlVoLyykDFSk0DgSRncrD5hg7Tgmue/aY+IusfC/4V3Gs6M8dnK95bWdxqssBnTS4JZRHJdmPo3lhsgH5c4zkZBAPVaK8u+DfgJfC8l7rOi/EG68aeG9eaTUHN3HZyiW7kYbriK4to4xtIUqUIYcLtK4IPFeJPiJ8TNP/aQ+H2kXv2HQPBWs3+p2UelxLHcXV/HBavIlzNLg+UGYKyRphgM7ySdqgH0NRXkPjTxdr3ib41ad8OPD+tyeGYINGfXdW1S1toprsoZRDBDD56PEuW3s7NG5woA2k5rg9Y+P3iP4S6d8WtE1q6j8Uaz4TSym0bUruBImvVviUt0uVhCJmOX5WKKgZADgHJoA+mqK8C8Y6z44+CNx4G1nVvGt14v0/VdXtdE1rT72wtIIYmuSFWe0MMSSJskGNkjy5Rjk7gGr32gAooooAKKKKACmyRpNG0ciq6MCrKwyCD1BFOooAo6HoOmeGdJt9L0fTrTSdMtl2wWdjAsMMQJJwqKAFGSTwO9XqKKACiiigAooooAKKKKACiiigArP0/w7pWk6hqN/Y6ZZ2d9qTrJe3VvbpHLdMq7VaVgMuQvALZwOK0KKACiiigCnp+jafpM17LY2NtZy3s32m6e3hVGnlKqpkcgfM21VG484UDtVyiigCrquk2Ovabc6dqVnb6jp91G0U9pdRLLFKhGCrowIYEdQRUlnZ2+n2cFrawR21rAixRQQoESNFGFVVHAAAAAHTFTUUAFFFFABUV1aw31tLb3EMdxbzIY5IZVDI6kYKkHggjjBqWigCCxsbbS7G3srK3is7O3jWKG3gQJHEijCqqjgAAAADpip6KKACiiigAooooAKKKKACiiigAooooAKKKKACiiigAooooAKKKKACiiigAooooAKKKKACiiigAooooAKKKKACiiigAooooAKKKKACiiigAooooAKKKKACiiigAooooAKKKKACtHw3/yMWl/9fUX/AKGKzq0fDf8AyMWl/wDX1F/6GKAPeqKKKACiiigAooooAKKKKACiiigAooooA8F8Sf8AIxap/wBfUv8A6Gazq0fEn/Ixap/19S/+hms6gAooooAKKKKACiiigAooooAKKKKACiiigAooooAKKKKACiiigAooooAKKKKACiiigAooooAKKKKACiiigAooooAKKKKACiiigAooooA0br/kBaf/ANdZv/ZK8l/aU0m+179n/wCIWnabZ3Go6hdaJdRQWlrE0ssrmMgKiKCWJPQAV61df8gLT/8ArrN/7JWdQB8j/F7wX8QPDC+CfEHw+0i5n1nxF4dh8GayiRMDY71Vob2VQOPJJmBLYA3AEjpXoGk/DV/BPx3+HVjo+mXS+GtE8FXmlLerCxhjYTWwRXkxgOwRmwTk4J9a94ooA+XPAd7rnw3+AepfC6/8I+Ib/wAZ2sV9plmtjpc8llqPnPIYbgXoU28SMJQW82RWTa2RnAOh4M+GOt+BfjB8GbCa2ub+z8P+BrnSrzVYYXa2WcG3AUyYwM7W2g4JA6cV9J0UAfKHxC+Efifx9Y/tE6Xp2mXSXWq6npN3pnnFrWPUPs8Fu7JFMcDkxsm4HCtjJGK7f4d6D4H8ReL/AA7q9n4c+Ip1zTUkuYpfF0+t+TpbPEUcH7fL5TuQxj/c+Z1z90bh7xRQB8+/CebxB4Gj+LegQ6BqH/CVzeINX1vRxdafONOvUlVZLf8A0wL5PzMQpQyBwQwwMZrzll8Z/EDxT8FtUvZPHms3dlrsF9rtpq3hlNN0/SJHtpQwjJtY5XVWLIGEkyAAb33Mhb7IooA8i+Buh6jpPjX4wT32n3VlBfeKftFpJcQtGtxF9jt13xkj5l3KwyMjII7V4to/g/U7f9p4fCryGfwbp+tyfEhJOihHTbHb49FvGeQD/ZzX2NXI+H/hnpvh74geKPGKXN5eax4gjtoJvtToY7eGBWCRQhVBVSWZjksSTnPagDrq+Sfjl8OfFv8AwtrW/D3h3R7678K/FSKwh1nUbSJjFpjW0oW6eVgNqCW1woycswI619bUUAeI/FfxF4p0H4gaNo9tP4i8OeA/7JeZdU8H+H/7VunvUkCi2kX7PcCGPyyGBMQ3EEbxtIPj2ieAfFkP7NOoaXd+H9dOtP8AEWO/a1u7MG7eH+1YpDO6wrsI2AsXj/d4BIO2vs+igDwvULq8+G37R3iXxBfaFrep6P4i0Cxgs7rRtMmvgLm3lmDQSeUreUWEyMrybU+9lhtNeR2/wv8AFut/AbSb3UPC2uWWo6L8QbzxLf8Ah60uXt9Qe0N1OZBbSRspeQJLuQxuN+35CSwz9oUUAePfCvw14Lm8bTeINC0Xxo2qQae1k2seLJdXASJ5FcwRpqUm85KBsxoVG3lgSAex+KOqeNtN8PQr4B0TTdZ165uFgD6xdmC0skKsTcShQXkVSFXYnzHfkdDXYUUAePeAv2f5NP8AH0PxE8ceIpvGPj+K2eztruO3WystPt2aQmGCBOWAErLvlZ2OAeDXfePPFlp4P0P7bqOlalqumySCC6XTLBr1oY2BzI8KAyPHwAdiuRuBI2hiOjqK7tY761mtplLQzI0bqGKkqRg8jkcdxQB8x/CHwroWpfHiw8afCXQrjw18O7rRHGsTx6dPplhq0zFfsnkW0ix7ii72MyR7cORuJY1e+MXi6O8+Pnwp1G20LxZd6f4YvtUGq3Vr4U1SWKHzLRokKMtuRKrPwGj3DvnHNfQPhvw7p/hHw9pmh6Tb/ZNL022jtLW33s/lxIoVF3MSxwABkkmtKgDwjxK194L/AGgtM+Ip0nWdS8Ja54aXRrl9N0y4urmxnSZp4mltY0MwV1Z1z5Z2MMNt3VwnjX4S+JvjBo/xh8V6VpV3pl7rx0uPw/YaohtLm5TTpBJveOTDQ+c+5UEm1gArMFzX1lRQB89+ONWuP2gn8A6HpXhrxFpkdtrVnr2s3GuaPc6dFYxWxEnk75kQTSvIVQCEuMBmJAAJ+hKKKACiiigAooooAKKKKACiiigAooooAKKKKACiiigAooooAKKKKACiiigAooooAKKKKACiiigAooooAKKKKACiiigAooooAKKKKACiiigAooooAKKKKACiiigAooooAKKKKACiiigAooooAKKKKACiiigAooooAKKKKACiiigAooooAKKKKACiiigAooooAKKKKACiiigAooooAKKKKACtHw3/AMjFpf8A19Rf+his6tHw3/yMWl/9fUX/AKGKAPeqKKKACiiigAooooAKKKKACiiigAooooA8n1rwc91rF/ML6BBJcSPtZXyMsTjpVL/hB3/6CFv/AN8v/wDE11uof8hC5/66t/M1XoA5r/hB3/6CFv8A98v/APE0f8IO/wD0ELf/AL5f/wCJrpaKAOa/4Qd/+ghb/wDfL/8AxNH/AAg7/wDQQt/++X/+JrpaKAOa/wCEHf8A6CFv/wB8v/8AE0f8IO//AEELf/vl/wD4mulooA5r/hB3/wCghb/98v8A/E0f8IO//QQt/wDvl/8A4mulooA5r/hB3/6CFv8A98v/APE0f8IO/wD0ELf/AL5f/wCJrpaKAOa/4Qd/+ghb/wDfL/8AxNH/AAg7/wDQQt/++X/+JrpaKAOa/wCEHf8A6CFv/wB8v/8AE0f8IO//AEELf/vl/wD4mulooA5r/hB3/wCghb/98v8A/E0f8IO//QQt/wDvl/8A4mulooA5r/hB3/6CFv8A98v/APE0f8IO/wD0ELf/AL5f/wCJrpaKAOa/4Qd/+ghb/wDfL/8AxNH/AAg7/wDQQt/++X/+JrpaKAOa/wCEHf8A6CFv/wB8v/8AE0f8IO//AEELf/vl/wD4mulooA5r/hB3/wCghb/98v8A/E0f8IO//QQt/wDvl/8A4mulooA5r/hB3/6CFv8A98v/APE0f8IO/wD0ELf/AL5f/wCJrpaKAOa/4Qd/+ghb/wDfL/8AxNH/AAg7/wDQQt/++X/+JrpaKAOa/wCEHf8A6CFv/wB8v/8AE0f8IO//AEELf/vl/wD4mulooA5r/hB3/wCghb/98v8A/E0f8IO//QQt/wDvl/8A4mulooA5r/hB3/6CFv8A98v/APE0f8IO/wD0ELf/AL5f/wCJrpaKAOa/4Qd/+ghb/wDfL/8AxNH/AAg7/wDQQt/++X/+JrpaKAOa/wCEHf8A6CFv/wB8v/8AE0f8IO//AEELf/vl/wD4mulooAx7jwe76VZxfboBskkO7a+Dnb7e1Uv+EHf/AKCFv/3y/wD8TXWy/wDHjB/vP/7LVegDmv8AhB3/AOghb/8AfL//ABNH/CDv/wBBC3/75f8A+JrpaKAOa/4Qd/8AoIW//fL/APxNH/CDv/0ELf8A75f/AOJrpaKAOa/4Qd/+ghb/APfL/wDxNH/CDv8A9BC3/wC+X/8Aia6WigDmv+EHf/oIW/8A3y//AMTR/wAIO/8A0ELf/vl//ia6WigDmv8AhB3/AOghb/8AfL//ABNH/CDv/wBBC3/75f8A+Jrpao32uabpl9p9leaha2l5qEjRWdvPMqSXLqhdljUnLkIrMQucBSegoAyP+EHf/oIW/wD3y/8A8TR/wg7/APQQt/8Avl//AImulooA5r/hB3/6CFv/AN8v/wDE0f8ACDv/ANBC3/75f/4mulooA5r/AIQd/wDoIW//AHy//wATR/wg7/8AQQt/++X/APia6WigDmv+EHf/AKCFv/3y/wD8TR/wg7/9BC3/AO+X/wDia6WigDmv+EHf/oIW/wD3y/8A8TR/wg7/APQQt/8Avl//AImulqjo2uab4j0+O/0nULXVLGRmVLqzmWaJirFWAZSQSGUqfQgjtQBkf8IO/wD0ELf/AL5f/wCJo/4Qd/8AoIW//fL/APxNdLRQBzX/AAg7/wDQQt/++X/+Jo/4Qd/+ghb/APfL/wDxNdLRQBzX/CDv/wBBC3/75f8A+Jo/4Qd/+ghb/wDfL/8AxNdLRQBzX/CDv/0ELf8A75f/AOJo/wCEHf8A6CFv/wB8v/8AE10tFAHNf8IO/wD0ELf/AL5f/wCJo/4Qd/8AoIW//fL/APxNdLRQBzX/AAg7/wDQQt/++X/+Jo/4Qd/+ghb/APfL/wDxNdLRQBzX/CDv/wBBC3/75f8A+Jo/4Qd/+ghb/wDfL/8AxNdLRQBzX/CDv/0ELf8A75f/AOJo/wCEHf8A6CFv/wB8v/8AE10tFAHNf8IO/wD0ELf/AL5f/wCJo/4Qd/8AoIW//fL/APxNdLRQBzX/AAg7/wDQQt/++X/+Jo/4Qd/+ghb/APfL/wDxNdLRQBzX/CDv/wBBC3/75f8A+Jo/4Qd/+ghb/wDfL/8AxNdLRQBzX/CDv/0ELf8A75f/AOJo/wCEHf8A6CFv/wB8v/8AE10tFAHNf8IO/wD0ELf/AL5f/wCJo/4Qd/8AoIW//fL/APxNdLRQBzX/AAg7/wDQQt/++X/+Jo/4Qd/+ghb/APfL/wDxNa+m65pusTX0NhqFrfS2E5tbuO2mWRreYKrGOQAnY+11bacHDA9xV6gDmv8AhB3/AOghb/8AfL//ABNH/CDv/wBBC3/75f8A+JrpaKAOa/4Qd/8AoIW//fL/APxNH/CDv/0ELf8A75f/AOJrpaKAOa/4Qd/+ghb/APfL/wDxNH/CDv8A9BC3/wC+X/8Aia6Wobu7g0+1murqaO2toUaSWaZgqRoBksxPAAAJJNAGB/wg7/8AQQt/++X/APiaP+EHf/oIW/8A3y//AMTW7p2o2msafbX1hdQ3tlcxrNBc28gkjljYAq6sDhlIIII4INWKAOa/4Qd/+ghb/wDfL/8AxNH/AAg7/wDQQt/++X/+JrpaKAOa/wCEHf8A6CFv/wB8v/8AE0f8IO//AEELf/vl/wD4mulooA5r/hB3/wCghb/98v8A/E0f8IO//QQt/wDvl/8A4mulooA5r/hB3/6CFv8A98v/APE0f8IO/wD0ELf/AL5f/wCJrpaKAOa/4Qd/+ghb/wDfL/8AxNH/AAg7/wDQQt/++X/+JrpaKAOa/wCEHf8A6CFv/wB8v/8AE0f8IO//AEELf/vl/wD4mulooA5r/hB3/wCghb/98v8A/E0f8IO//QQt/wDvl/8A4mulooA5r/hB3/6CFv8A98v/APE0f8IO/wD0ELf/AL5f/wCJrpaKAOa/4Qd/+ghb/wDfL/8AxNH/AAg7/wDQQt/++X/+JrpaKAOa/wCEHf8A6CFv/wB8v/8AE0f8IO//AEELf/vl/wD4mulooA5r/hB3/wCghb/98v8A/E0f8IO//QQt/wDvl/8A4mulooA5r/hB3/6CFv8A98v/APE0f8IO/wD0ELf/AL5f/wCJrpaKAOa/4Qd/+ghb/wDfL/8AxNH/AAg7/wDQQt/++X/+JrpaKAOa/wCEHf8A6CFv/wB8v/8AE0f8IO//AEELf/vl/wD4mulooA5r/hB3/wCghb/98v8A/E0f8IO//QQt/wDvl/8A4mulooA5r/hB3/6CFv8A98v/APE0f8IO/wD0ELf/AL5f/wCJrpaKAOa/4Qd/+ghb/wDfL/8AxNH/AAg7/wDQQt/++X/+JrpaKAOa/wCEHf8A6CFv/wB8v/8AE0f8IO//AEELf/vl/wD4mulooA5r/hB3/wCghb/98v8A/E0f8IO//QQt/wDvl/8A4mulooA5r/hB3/6CFv8A98v/APE0f8IO/wD0ELf/AL5f/wCJrpaKAOa/4Qd/+ghb/wDfL/8AxNH/AAg7/wDQQt/++X/+JrpaKAOa/wCEHf8A6CFv/wB8v/8AE0f8IO//AEELf/vl/wD4mulooA5r/hB3/wCghb/98v8A/E0f8IO//QQt/wDvl/8A4mulooA5r/hB3/6CFv8A98v/APE0f8IO/wD0ELf/AL5f/wCJrpaKAOa/4Qd/+ghb/wDfL/8AxNXdF8HPa6xYTG+gcR3Eb7VV8nDA46VsVY0//kIW3/XVf5igDuKKKKACiiigAooooAKKKKACiiigAooooA4fUP8AkIXP/XVv5mvBPFeuaz4K/a28Fedqd4/hPxhod3pK2D3DG1g1K2b7QkojJ2q7wmVcqATsGc4r3vUP+Qhc/wDXVv5mvEf2qfAfiTxh4B0rVPBGmxat448La3Z67o9nNOkCzyRybZYi7kKA8Lyqckdu+KAPJfhd8W/FGpftja5cX+r3lx8P/FE+peHdC095y1rBd6UsHmyIudoaU/a+gBPl8k4G3uvhL4u8V+JPEPxd8YaZDeeJ7O58RjQNB0i41I29lax2cYhlnO8sIkafzS7Rxu5CghHwBXK+JvgR438Ofsw/DdPC+kwat8VvB19a68tnJcxRrcXsrsb+MyswTDfaJ8ktzgYJOM7lz8JPHngL9mHwF4S8JfbG1awuLKXxPaaTfx2t/fwSOX1FLa6dlWOVpJGcP5iHCsFdSQaAOz8K/HTVLnxR458KeKvDFroXijwzpkWspDp2rG/tL+zkR9rxzNBE6sJInRlaIY4ILA1zWg/tPeJNW+AWr/F66+H0Gl+GLbw+2tWdrca2xvrt0iDshjFttjiJ3hZd5Zgqt5ahsDl/hv8ABnxXp/xc+IniY+F9a0TQtc8Hx6Xp8PiPxMdY1A3KyzZSV3uZ/LzuDBVleMKyncGZ0XopfhL4rb9go/DkaV/xWX/CFf2R/Zv2iL/j6+zbPL8zf5f3uN27b70AW9T/AGm/Enh++8FPq3wwu49L8bAw6ELPVY5r9bsxCWOC8gaNI4Ay+Yd6TShfL+YDJx2fw5+L2o+I/iB4k8CeKNAtfD3ivRrS21IR6bqZ1C0urOcsqSJK0MLhleN1ZGjGPlILBuOd+Inw48Ra7qXwHlsdO8+Pwzrcd3qx8+Nfs0Q0+eEtyw3/ALx1XCbjznpk1b0P4f6/Z/ta+KfGk1hs8NXvhOx0y3vvOjO+4juZndNgbeMK6nJUA54NAEX7YHiDVPDPwRur/R9Su9Kvl1fSYhc2M7wyhH1C3R13KQcMrMpHcEg9a9E+JnxD0n4T+A9b8Xa4Z/7L0m3M8qWsfmSycgKiLkZZmKqMkDLDJA5rhf2rvBevePvgvfaT4a0uTWtX/tHTrtLGKaKJ5EhvYZZArSuiA7EY8sM4rJ+LWieJv2jPhL4s8FjwbrngK/ubeK4sdR8RT6dJbPcQzxzRxt9kurhwC0Y3EpwucZOAQC8/xx8VeFNY8JDx54Fs/Dmg+J7yPTbTUNO1w381neSgG3hvIWtohHv+ZN0byqHAXOGDVSn/AGnns/hf8Q/Ek/hST+3/AAjrU2g/8I7DfB3vrkSRpbBJPLBAnE0RHyEjceGxzneMtB8cftAN4F0XW/At54H0/R9aste1nUNS1CznSZ7U71t7NbaaR33y4y8qxbUBOCxCih4o+C/iyb9p2PUNPsfP+HOu3mm6/rNy11Got7+whnSNBEXDt5hFk2QpGYTmgDu/+F/Q6jcfCKHRdH/tNviBG12u668v7BaJbCeWZsIwcqWjj2/LkuOayf2ttY13wP4B0fx7od9qFvH4Q1m11TVbOymdUvdN3eXdxyIpw6iNzJ8wODHntXOfs+/BnxT4R+KGpXXiPTRZeHvCtjc6F4Tm+0xSfarW4vpLl5NiMTHsjS0hCtg/I2ABX0F4i0Gy8VeH9T0XUoRcafqVrLZ3MTdHjkQo4/EE0AeK/H3xdqPibxN8JPA/hPV7yyl8U6uurXt/pc7xSDSLRRNN+8QgqsrNBH15Dkd60fHvx08VfDOTS9Y8ReArWx8EXmr22lS3415ZNSsvPk8qOea0WAxbPNKAiO5dgrhsZDKOF/ZJ+CnxA8F+JNQ1X4jwRJceHdHh8G+Gp0uElNzp8M0kjXbBGbYZf9HG1juHk8jpXnPjb4IfFrx94Dj0vXPDnijWfHkGvwX19r114xSPQru3i1BWU2mnpdeWD5IRgkttFtCud5kChwD2G01T+w/2vPilqXlef9j8B6XceXu279k962M4OM464revv2kfsf7Pvg74n/8ACO7/APhIn0lP7K+3Y+z/AG2eKL/W+X82zzc/dG7bj5c5Dk+GOt337RHxA165tTb+HNb8IWOj2+oCWNi06S3RkXZu3DasqHJABzwTg141ffDf4ual+z14C+FsXgBbe58L6lpKalq1xqtp9mvbWzvIyJbILKXJZY1kYTrEQu5QGbAoA928RfGDxDdePtb8I+AfCdj4p1Hw/aRXOsXGq60dNt4JJl3QW8ZSCdpJWQM5yqIoK/OS2B1Pwm+JenfF74f6T4r0yCe0tr5XD2t0B5tvNG7RyxNgkEpIjrkHBxkV4V4t+AdppHx68ZeMNX+D+m/GDQvFkFpNGfs2mzXukXNvEIXjK38samKVdrBo3yGQgrjaa9/+HOh23hvwXpthaeF9N8FwIrOuhaSIxBabnZto8tFTcc5baCNxbDMPmIB0tFFFABRRRQAUUUUAFFFFABRRRQAUUUUAFFFFABRRRQAUUUUAFFFFAFiX/jxg/wB5/wD2WsTxJ4ftfFWi3Ol3st9BbXG0PJpt/PYzjDBhtmgdJE5AztYZGQeCRW3L/wAeMH+8/wD7LVSVzHG7KjSMoJCLjLewyQPzoA+WrnwnF/w1h4Q8H+EfEHjCGy8O2MniLxObrxhqt9DKr5is7R457p1+Z90hBXlYwOhNWf2mNS8DeD9O8W3d78U/EFj8R5rbztD0LS/FdxDdrcMoS0ht9Lt5FSZXlA/1kMhbe29io+Xt/wBmf4eeIfDen+LfFvjey+weOPGWszalfWrTRztZWyHyrO08yMlWEcKr0JGXbmrPj3xV4v1bS/E/hi5+DF94lt7oTWdtOuqaa+lXsLrhGn86ZJkBB/eKIH24O3zOCQDivFvijxt4i1D4E/DrW7+98Oaz4ospdR8WXOiyfZ5sWtqjzW0cqHdCJJ5FBeMqwVSFZc5rQ8H3eofC/wDamf4d22s6vq/hLXvDL67bW2t6lPqM9hdwzpDII7i4d5THIjKdjOQrKSoG41z1v8AfGvwz8P8AwI1qwf8A4TrxH8OrafTtTsI7lYpL+0uYljkFs87Km6HCbBIyBkQgkHArvPBPg/xF4w+O158TvEfh+bwla2Oif8I/o+kX1xbz3rq8qzT3Ext5JIkBZURFWRzhWJ25C0AbnxB+Lmo6F8QND8CeE/D8HiXxZqNpNqksd/qDWFlZWUZCGaWdYZm3NIyoqLGxPzElQOfK/wBnTxXq998SP2hdXm8Jahba0us6ckmgGeDzvNWwiQhJWdY2QkFlckZQg7QTtrsvH3hLxP4W/aC0b4neH/Dtz4vsJvD8vhzVNL065t4byICb7RBPGLmaKJ13b0YFww3KQG5xwdr8PfjTb6P+0BrWl2Vn4a8ZeKLuyvdB+y30UwaOO2iR4hI4ISbYjR73UKJDuHygNQB6Rpvxq8U2PxNi8B+K/Bul6VrmpaNcatok2k6+99a3rQMFlt5GktYHhcb42z5bqVY85XFY7/tW20n7Odh8S7Tw5Lc61eXcWkR+FPte2b+1HuhatZ+b5fVZN3zbOVXIHNcZ4G+D/iZf2kPA3jOLwl4q0Lw3pek6lYXknjHxcdYvfOkWEoyxm7uVjjbBAMb5Yq29ECoW5rQfhvqC/txX/g6Fo5fAOl3jfExoA27ytSuITapEw/h/eiadR+NAHulx8bdd1P4oeIfBvhfwlZ61P4Ygsp9ba71r7HP/AKQrOqWcRhZZyEU/NI8CFiF3D5iuFC6+NP21rhZmElt4H8Ixm3iOP3V3qE7eY/18m2Vfo59a579pj4Xa18TtUlOg/DO6t/Hlk8Mfhv4labrFtaLp6NgO9w4mS52pvnzAIpkYEYOXITY8O27+EP22Nehu2Zm8WeC7O5huCAqTT2Vw8UygdiFnibA7E0Ae2eLvDI8XaK+mPqmp6TDK6GabSLk207xggtGJVG+MMOC0ZVwD8rKea8P+G0moeE/2rPE/gfQ9c1rWvBlt4YttTv7bWtUuNTbTdRknZIkSe4eSUCSFGcxl8DG4D5q9P+Nmt+NtB+G+q3Hw78OjxN4vdRDY2j3EMMcbMcGZzK6KwQZbZuBYgDjJI4f9m/Qb/wAA6YdEvPAXi6y1PUJJNR1rxd4gn0l21K9bl5JBbX0zjP3UQKVRVC54yQDr/i58W/8AhUt14OmvNK+16HretQ6Le6kLjZ/ZrTArBIybDvVpdqHldu8HmqOrfHaz0n4r+IfCkun40fw34bHiHW9fa4wllud/LgMew5Zo4pJM7hgKODni7+0L8O7b4rfBXxf4ZuZxaG7sJHgumbaLe4j/AHkMue22REbPoDXh37MvgfVfjh+zT448SeLHWx8R/FqK5e4nRd32e2+z/Y7YAZGVCR+YOefMPrQB32m/tHa9DH4L1zxH4Fh0HwV4wvYbHS9RTWRc30DXGTZm7tRAqRCUbf8AVzS7C6g9yNb4v/GLxl8LNB17xSvw/tdR8H6CvnX082vrBqMlurDzZ7e2WGSN0VCWAknidtrDavy7vPfgx8GtP8L2vhLSdX/Zv8N2HifRjDDdeMIrfSfsTtAQPtsEqlrsyPsEiq8KMGbDMuN1cr8ZvhH8UviFo/xb0PUdB8UeJNW1aW7i8M6nZ+Lxpugw6e0IMEEtpHcxl5QS6ES28iyPt3SLGdygHs/jf4/6lpPxG8JeDfCfhJfFV/4n0eXV7K8m1E2dtCkckQJnYQyFI9khbeFY7giBDvyHJ8b/ABJq3xF1vwfoPg7T9U1Hwza2Nx4gWTXjburXKF/LsVa3xc7VU/PK1upYgZHzFcvw/wDDLxLY/Gz4Y6/PpuzSdG8DXGj31x58R8m7Z7UrHtDbmyIn+ZQV+XryK5r9pj4Xa18TtUlOg/DO6t/Hlk8Mfhv4labrFtaLp6NgO9w4mS52pvnzAIpkYEYOXIQA+nB9MV4L+zzcf8I38XPjh4EjAWx07XbfXLONdoEceoW6yyIAOg85Jm6dXPWvdrVJI7eJJpPOmVAHk243Njk47ZNeB/AOE+IP2gPj74ugVG02XVNP8PwTKT+8ksrXE/t8sk5XI7qR2oA6f4tfEL4jfDfxHb6ppHgH/hPfAIs838WhXAGuWkyl2aSO3kIS5jKiNRGjCTcWPIwKuaH8ftE8ceGZ9V8E6XqnjW8s7v7FqOhaeLez1LTZRvDLcwXs1uYiGQrhjk9VDDJFP4tfD34jfEjxHb6XpHj7/hAvAJs8X8uhW4OuXczF1aOO4kBS2jCmNhIimTcGHAwat+H/ANm3wJ4W8LzaHpFlqmlR3V19uvtR07XL601K/uPnJkubyGZJ5iTI5w7leeAMDABteFfH2u+ItXWzv/ht4o8MW5RmOoarc6U8AI6KRbXs0mT2+THqRXa1xXhX4Q6F4N1ddSsL/wAUXFwqMgTVfFmq6jBg9cw3NzJGT6HbkdsV2tAHyX8RvFnhKP8Aas8UaP8AEP4jXvhDw/B4V065061/4TS70KE3Dz3QldFhuIhI+1UzkN0Fbnwq+MnibwD+zno2p+MLTV/EfiK/1qXQ/DNtqgW01DWEe4dLA3BdV8stEoZ5GXdsUuQzHB7K1+GGoX/7SHjzXdX0eG78Ha34TsNHD3DRyR3LpNdGaFosltuyVc7l2kNjJ5rxu9/Zq8aal8FLTwXqXh/T/EEfw88Y/wBp+G9P1i5iltvEOjRlzHaOTuEb+VM8I81doaJM/KSwAPbtD+Ol3pvjLW/C3xA0Oy8Karp+it4iiuNM1N9Ss7mwRtkziRoIXV42xuQx9GUgnJAk+GfxW8Z/EW10HxB/wgFvpvgrXFM9reSa4G1OC3ZGeGe4tDAsaK4C/LHPIy+Yvyn5tvL6D8G/D3ibw/4x0nS/gpp/wgXWdDutHk1b7JpcN9J56FSqLYvKDGOGJeRTuVQEb7y63wZ1D4gaL4R8LeBvEnw8ubafSrRNLv8AxCuqWZ0yaKGMxrNbhJWuGMgVCEkhjxubLDaNwBiXf7VGpQ+D7n4iw+C4J/hNb3xt217+2cag9ssohe9SyEBQwiTOMziQou7ZnC1u6t8dvEVz8adc+G3hXwRb61qGmaVaasdU1DWfsVl5czSApIVglkVvkG3Yjhstu2AZPkXwp/Zt0/4a+HIvBeu/s8eHPHOpWF3LDa+NJLXSTaX1u8heKa6aZjdxuivsdVhl5j+UsCMeweE/h7r2l/tU+PPF8+n+V4b1Lw7plhZ3gmjPmTQyTmRNgbeuA68lQDngmgCnD+1NpzfB2DxhJ4evhr82sHwyvheKVHmbWBObc2wm4Xy96lvNIH7sbtufkqXx58bvG/wn8C6z4n8W/DywSx0mS0luZtE8QteQi0kl2TygvaxSeZCuJCnl7WUjEmQQPNW+APjtfhneS2enQR+KdD+Jt3430rTLm6jEepQC5kZYvMUssbSxSNt3Y2tt3bRkj3S2m1H4uaD4i0HxR4D1LwtoF/YtZSJrF7Zy3Nz5qssgVLWWZAgUjDNIGJJ+TAyQCPxD8YE034seBvA+laWNam8RWd3qdzex3OxNPsoVTbOQEbeJJJERRlepOeMHoviJN4stvB2oTeB7bSrzxPHse1ttakkjtZQJFMiMyDcrGPeFPQMVzxmvmX9gfw7r2ot4r8UeKZ47670QReANJu0O4S2Wms6vMrd/Mlc5PrH7V9NfESHxZc+DtQh8D3OlWfieTYlrc61HJJaxAyKJHZUO5mEe8qOhYLnjNAHnngH9prT9Z16y8KeO/DmqfCzxzdHyrfSfEAVrW/kCxllsb5MwXWDKgwrB85+Tg16l4qsBqnhvU7R9WutCjmt3R9SspEjmtlx8zo7qyqQM/MRx1968r8A/sx6bo3iKy8XeO/EOp/FPx3anfBrHiDattYSEIGNjZJiG1yY1bKgvnPz8mvUfF2pavo/hy9vdB0ZfEOqwKHh0xrtbU3GGG5VkZSofbu27sKWABZASwAPmrwd4q0eT9o/wbpPwf8can438OtYXkvjBX8TXXiDT7SHYfsjieeaVYp2mUgIjglAxZcYNVLz4waJ8Qvit8R7fxdrvjK18OeEb/wDsiy0XwVFq2UZIkee9vJtLQyruZmSNZXWPETkKWDFe08UeGPFfxm+K3w21weBtQ+H0PhHUZNRuta1u6sHvLmFomjNjAtpcTkpKWBk8xkUBBgOejfD+h+N/gX46+JsmkeBb7x5oPivVD4h06XR76xt3trp4UjmguRczQ4UtErK8fmcMcjI5AMr40ajb6t8PPhDeeCNW8Xa54Em8QQPqOoeEtQ1W+vJtN8i43GSe1d7p18zYDliQwAPIxXo3wM1rwBqTeILbwZruv6hfWc0cWqab4n1TVZ76ycqWj32+pOZoAwJIIVQ+O+3jnfhH4R8W/s3/AAb8L+Hk8Mz+Pb77Td3Gqx+H7y3gNpJPLJPiBbuSFZIldynMit0backC18M/A3iTWPjr4n+KniDR38JQ3ujW2gafoVxcQz3bRRSvK9xcmB3iViz7UVJHwuSSCdoAOg+IPxc1HQviBofgTwn4fg8S+LNRtJtUljv9QawsrKyjIQzSzrDM25pGVFRY2J+YkqBz5X+zp4r1e++JH7QurzeEtQttaXWdOSTQDPB53mrYRIQkrOsbISCyuSMoQdoJ212Xj7wl4n8LftBaN8TvD/h258X2E3h+Xw5qml6dc28N5EBN9ognjFzNFE67t6MC4YblIDc44O1+Hvxpt9H/AGgNa0uys/DXjLxRd2V7oP2W+imDRx20SPEJHBCTbEaPe6hRIdw+UBqAPSNN+NXimx+JsXgPxX4N0vStc1LRrjVtEm0nX3vrW9aBgstvI0lrA8LjfG2fLdSrHnK4rHf9q22k/ZzsPiXaeHJbnWry7i0iPwp9r2zf2o90LVrPzfL6rJu+bZyq5A5rjPA3wf8AEy/tIeBvGcXhLxVoXhvS9J1KwvJPGPi46xe+dIsJRljN3crHG2CAY3yxVt6IFQtzWg/DfUF/biv/AAdC0cvgHS7xviY0Abd5WpXEJtUiYfw/vRNOo/GgD3S4+Nuu6n8UPEPg3wv4Ss9an8MQWU+ttd619jn/ANIVnVLOIwss5CKfmkeBCxC7h8xX1HWtVi0PRb/Urg7ILO3kuJCT0VFLH9BXzh+0x8Lta+J2qSnQfhndW/jyyeGPw38StN1i2tF09GwHe4cTJc7U3z5gEUyMCMHLkJ9Da5oZ17wnqGj3Uvmm9sZLSWUDbu3xlGbA6dTQB4R+zZo/ilv2TdL1Xw1cabB448W+b4hmv9WR3txcXtwZpJWVOXKRPhUyASiKSBkh/wCxneeIWs/izpniTxVqvjC80fxze2Eeo6tLucosFudqIPliTczERoAq7sAVa/ZP8U3lj+yX4PaDQ9Q1vV9BtTot1o9i9ul0bi1ma2kQGaWOMEFC3zOOB3JANX9mHS/GnhHxR8R4vEfw71zQbPxR4rvNftdQuLzTJYYIJIolRJRDdySCQmMjCoy8j5uuAD0j4ufFv/hUt14OmvNK+16HretQ6Le6kLjZ/ZrTArBIybDvVpdqHldu8HmqOrfHaz0n4r+IfCkun40fw34bHiHW9fa4wllud/LgMew5Zo4pJM7hgKODni7+0L8O7b4rfBXxf4ZuZxaG7sJHgumbaLe4j/eQy57bZERs+gNeHfsy+B9V+OH7NPjjxJ4sdbHxH8Worl7idF3fZ7b7P9jtgBkZUJH5g558w+tAHfab+0dr0MfgvXPEfgWHQfBXjC9hsdL1FNZFzfQNcZNmbu1ECpEJRt/1c0uwuoPcjW+L/wAYvGXws0HXvFK/D+11HwfoK+dfTza+sGoyW6sPNnt7ZYZI3RUJYCSeJ22sNq/Lu89+DHwa0/wva+EtJ1f9m/w3YeJ9GMMN14wit9J+xO0BA+2wSqWuzI+wSKrwowZsMy43Vyvxm+EfxS+IWj/FvQ9R0HxR4k1bVpbuLwzqdn4vGm6DDp7QgwQS2kdzGXlBLoRLbyLI+3dIsZ3KAez+N/j/AKlpPxG8JeDfCfhJfFV/4n0eXV7K8m1E2dtCkckQJnYQyFI9khbeFY7giBDvyPW7Nbi80uEanbW8V1LCBc28MpnhVivzorsil1zkAlVyOw6V4l4f+GXiWx+Nnwx1+fTdmk6N4GuNHvrjz4j5N2z2pWPaG3NkRP8AMoK/L15Fe79OTQB4P+xvevZ/DvxF4Pdt6+CvFGp+HoDlf+PeOYyQDj+7FKijgcKOK95r5+/Y1hOpeEfHni5FUWPi3xpq2r2Lrn95bCUQRyc/3hASPUEHvX0A2cHHWgDxbx78dPFXwzk0vWPEXgK1sfBF5q9tpUt+NeWTUrLz5PKjnmtFgMWzzSgIjuXYK4bGQyh+sfHTxHN8a9e+GnhfwRb6zqOl6Xaaq2qajrP2KyCTNIpSQrBLIrZQbdiOGy27YBk/Pnjb4IfFrx94Dj0vXPDnijWfHkGvwX19r114xSPQru3i1BWU2mnpdeWD5IRgkttFtCud5kCh/obwr8P9f039qrx74xubDy/DmqeHtMsbS986M+ZNFJOZE2Bt4wHXkqAc8E0AUV/amsT8GYvGB8O3h8RS6u3hmPwskytK+sic2/2UTY2+X5ilvOIH7sbtufkri77xJ4n1b9sr4U2PirwrF4evrXRNbkjuNP1H7fYXSOttxHM0UL71KkOrRLjKkFgeM9/gD44X4YX0ltpUQ8T6L8TbrxtpemzXkajULcXTusYkVisbSRSPt3kYYgNtGSO0/sPx946/aS+H/jW+8GSeGfCejaZqlm8eoX1rJfpNMsOGlSCWSMIxTCeW7n5WL7MgUAfQVFFFABRRRQAUUUUAFFFFABRRRQAUUUUAFFFFABRRRQAUUUUAFFFFABRRRQAUUUUAFFFFABRRRQAUUUUAFFFFABRRRQAUUUUAFFFFABRRRQAUUUUAFFFFABVjT/8AkIW3/XVf5iq9WNP/AOQhbf8AXVf5igDuKKKKACiiigAooooAKKKKACiiigAooooA4fUP+Qhc/wDXVv5mq9WNQ/5CFz/11b+ZqvQAUUUUAFFFFABRRRQAUUUUAFFFFABRRRQAUUUUAFFFFABRRRQAUUUUAFFFFABRRRQAUUUUAFFFFABRRRQAUUUUAFFFFABRRRQAUUUUAWJf+PGD/ef/ANlqvViX/jxg/wB5/wD2WvPfjr48vfhd8GfGvi/TYLe51DRNJub+3hugxieSOMsocKQSuQMgEH3FAHdUV4v+yv8AG3WPjP4Hv28VWVhpnjPRb02Wq2emCQW/zIs0EsQkJbY8MiMMk87vpXI/Dj9pvxJ8Qv2oNU8G2+maXH8PFttQXTdSCSm9vLiylghnkDb/AC/J82WRFwuSYzzQB9LUV5jr37Sfw88N6hfWt9rdwIdPulsb/VLfSry40yxnLKpjuL6OFreFlZlDCSRdmRu21peNPjp4I+HuvaZomua39n1jVLV7zT7C3tJ7ma9jRlVhAkSMZXy4xGmXIyQpAJAB3lFch4Y+LnhHxd4V1LxHYa1DFpGlyTQ6jNqMb2L6fJFzKlzHOqPAyjDESKp2kN0IJyPCX7QXgjxtffYtLv8AURetYnU7e1v9EvrKW8tRjMtsk8KG5UZX/Uh/vL/eGQD0aub0H4d+H/DPizxH4m06wMOu+IjAdTvHnllafyUKRKA7EIqqThUCjknGTmvK/gF+03B8VpPGMWr2d5pbaRr2pWdvcyeH9Qs7RLG3YbGuLiePyoptuS6O6MMfcWu00L9oDwP4i8Xad4attSvYNW1NJpNNXUNIvbKDUUiAZ2tZ5oUiuAFYNmJ2yp3DK80AeiVhaz4H0PxB4k8P+IL+xE2s6C0z6ddiR0aDzo/LlHykBlZcZVgRkKcZUEclcftFeAoPE2peHY9Uvb/W9MuHtr+y03Rr28e0ZEjctL5MLCOPEqYkbCE7gGJVgNC4+N/gi0+E8XxLl12MeCZLaO7TVFglbdHIwRMRhPM3FmC7du7JxjNAHdUVXmklnsHe0ZUmeImFp0baGI+UsvBxnGRwfpXmHwB+Mk/xK+Dw8TeJorTSNb0ua8sNft7cMsNpdWsjpNgMzELhQ4yScMOaAPRPE3hyw8YeHdT0LVYpJ9M1K3ktLqKKeSFnidSrKHjZWXIJGVIPvTvDvh/TvCfh/TdE0i1Wx0rTbaOztLaMkrFDGoVFBJJOFAHJzXjHwl/aWTxB8LdC8UeMreS11PxAZ9Q0/RfDuj3uo3cemmVlt5pYLdZpACgQtLtVNzgDBIFN+M3x1W4+BOh+O/hx4gins9U1vSbaHUYYVcPBNfxQTxlJUO1trOhDKGU5+6w4APeqKwLDx1oep+M9W8KW195mv6VbQXl5Z+VIPKimLiJt5Xa24xvwCSMcgZFYy/G3wQfBGr+L21+GHw5pV1cWN3ezRSRhLiGUwyRKjKGd/MGxQgJdiAu7IyAdxRXHeB/i54Y+Imoajp2j3d5HqmnLG91puraZdabeRI+dkhguY45CjYIDhdpIIzkGuxoAKwvBngfRPh9op0nQLEWFi1xNdsnmPIzzTSNJLIzuSzMzsxJJPXHQCuE0n9qH4eeJPHGoeGtC1oa7/ZNpJe6zrengSaTpEaLuH2m8yIlZgHwFLEeVJu27av2v7S3whvrqG2tvir4JuLiZxHHDF4is2d2JwFUCTJJJxgUAek0Vn+INYTw9oOparJDJcR2NtLdNDCMu4RCxVR6nGBXgHwZ1j4p/FpfCfxch8S+Gl8O67ZoreDo4Lox2tm87MXF0Jykl4i7VZjbqpKsg2DLUAfR9FfPf7XH7QfjP4IeD9TvvBng5NXn06yj1G91rWQ6aXaxNMIhGNhVp52Of3aldgIZmwQrdz8bPixdfDDwfpNxpmn2+q+Jtf1K10XR7C6nMMMl3O2A0jAMwjRQ8jYBJCYGM5AB6XRXiMfxQ8afDv4ueE/B/j658P61pvi2C5XTdY0PTp9O+y3dvGZZIZopbi43q8fKuHXBRgVOQRzNp8bPid40+GGufFXwnbeF18I2T3Vxpvh++tbiW+1axtpGV5ftizolu8ojkKL5EoX5Ms2TgA+lKKwfAPjKx+IngfQPFOmbhp+s2EGoQCT7ypKgcA+4zg+4reoAKKKKACmSxiaN423BWBU7WKnn0I5H1FPooA57wB8P9A+F/hOx8NeGLD+zNFst5ht/OkmILu0jkvIzOxLOxJYk5NdDRRQAUUUUAFFFFABRRRQAUUUUAFc3oPw78P+GfFniPxNp1gYdd8RGA6nePPLK0/koUiUB2IRVUnCoFHJOMnNdJRQAUUUUAYXhbwPofgmTWn0SxFh/bGoSareqkjssl1IFEkgViQhbYCQoAJycZJJ3aKKAMzxN4csPGHh3U9C1WKSfTNSt5LS6iinkhZ4nUqyh42VlyCRlSD707w74f07wn4f03RNItVsdK022js7S2jJKxQxqFRQSSThQByc1o0UAFFFFABVfULGHVLC5s7gM1vcRNDIEdkYqwIOGUgqcHqCCO1WKKAMrwr4W0rwP4a0zw/oVlHp2j6Zbpa2lrGSViiQAKuSSTwOpJJ6kk1q0UUAFFFFABRRRQAUUUUAFFFFABRRRQAUUUUAFFFFABRRRQAUUUUAFFFFABRRRQAUUUUAFFFFABRRRQAUUUUAFFFFABRRRQAUUUUAFFFFABRRRQAUUUUAFFFFABRRRQAUUUUAFWNP8A+Qhbf9dV/mKr1Y0//kIW3/XVf5igDuKKKKACiiigAooooAKKKKACiiigAooooA4fUP8AkIXP/XVv5mq9WNQ/5CFz/wBdW/mar0AFFFFABRRRQAUUUUAFFFFABRRRQAUUUUAFFFFABRRRQAUUUUAFFFFABRRRQAUUUUAFFFFABRRRQAUUUUAFFFFABRRRQAUUUUAFFFFAFiX/AI8YP95//Za8Y/bA/wCTWfit/wBi5e/+imr2eX/jxg/3n/8AZar0AfC/xW1vxL8AbzwZ418GaXNqNx8RfCll4QaCAfKmsrGv9nXL+wSSZTjsg4716D4P+Hlp8Kf2kPhH4RsHMkWlfD3U7dp2+9PL9qtDJKx7s7lnJ7ljX1PRQB8WfC/4h+Gfh7+yhrvw08VXEFl8R7eDVtMuvCEihtT1O7nlmMbW9rjzLhZ/ORldFKkNnOAcafw/8L6r4Q+P/wCzxofiE+Zrml/DW8tbsswcpMn2RHG7uRyue/419gUUAfDfxU8La94v0j9rXSfDMF5dai2s6Lciz05A886R2tpJMsaHhnaONvlwdxAXBzivTPh6vw/+KHxI8D+IbD44az8Sta0RLi80/S1OlsLVZrcxyG7SzsopIRtYDEzJ84VcbvlP0xRQB8t/ATx9Z+BIfjnohEd745sfFuva5b+EfPWPUb6BlSaFoojl2SRWTbIqlfmH0rzDVPjPqXxg8cfs8apJ4z8Ja8s/ii3vbjRfC2nT+dorS2c+2C7ujcyKHwXTY8ULuUchQEYD7zooA8A/ZptYV+J37QVwsMYuJPGSxvKFG9lWwtiqk9SAWbA7bj614Xovh69j+ONt+zfNau/hrTfF0vj0NtzCdFx9phtyD1Av5NpH+xX3nXnXhj4Rtovxo8Y/ES/1capea1ZWmmWNqLXyhptpDuZow+9vMMkjlycL0AxxmgD0WvhT4+2+r+APi345+GWh288Nr8clsTp81smUtrnetvqznHT/AEXEpJ7mvuuigD55+KXxik+EPjnw18PNO1Xwn8NPDi6C15beJPF0Ly2UvkusIsLeNZ7dfNVSjnMudpACHqPnvQbi7uP2P9VkvnZ7lvi1GzlrSW0+ZtdhYnyJSXiyST5bksucEk5r9CqKAPmu68aaF8I/2u/GuoeMNUtvD1h4i8L6YdJub5/LjvpLea4WaCEn/WTAyxfuly5DrgHNeEWMOq65+zToXia0bXdA0nSPizfa9rMltYqb/TbEX1yXne3ljkGYS6O6tG+3YxKnbX6F0UAeBfCDSfBPiX4tTeMdF+LupfFTX7XRX0t5kl06eytrZ50k2u9jaxIJd6ZVXfdtLkKQCR1H7R3wJH7QXgNfDh8Tal4bEdwtyfsbFra82/8ALC7hDKZ4DnJjDpyAc8V6rRQB4L8J9a+IPhG4X4b638NdE8I7LGaTR/E/g6Az+G2kGWYSWgMUtqQZEPls370iXbIMZrsbXQfi8l1C1z458Ey24cGSOLwZeI7LnkKx1VgpI7kHHoelek0UAU9X1S30PSb3UbvzfstpC9xL5MLzPsVSzbY0BZzgHCqCT0AJr4l8bR/DfRde0HXf2afF9uvj/V/EFrNc+GPB2tfadO1GGRlW4kvrBGeOGOOHeTLsj2Mc53bcfc1cv4O+HuneCdX8WalZTXM9z4l1P+1bz7QUISTyIoAke1RhAkK8NuOS3PPAB4P/AMFC/iD4W0f9m3xx4av/ABLo9j4jvrCGW00e5v4o7y4T7SnzRwlg7j5H5AP3T6GnftD+KNJ8XeBfht8QvCup2Xi3w14N8YWOqaxd6FMl+kFrGjx3En7otnyhKrsByqgtxivp6igD5l8Xa/oX7Qnx++Fg8Da1ZeKNL8J/2hq2savo86XVnaedatbwQtMhKea7szeWDuCoSQAQa4X4V/FTQfhn+yVf/DDxBew2nxM0Wzv/AA//AMIeCBql7dSPItv9ntgPMlSUTRMsiqVKsWJwGI+1KKAOF+BPgu7+HPwX8DeF9Qx9v0jRbSzudpBAlSJVcAjqNwNd1RRQAUUUUAFFFFABRRRQAUUUUAFFFFABRRRQAUUUUAFFFFABRRRQAUUUUAFFFFABRRRQAUUUUAFFFFABRRRQAUUUUAFFFFABRRRQAUUUUAFFFFABRRRQAUUUUAFFFFABRRRQAUUUUAFFFFABRRRQAUUUUAFFFFABRRRQAUUUUAFFFFABRRRQAUUUUAFFFFABRRRQAUUUUAFFFFABVjT/APkIW3/XVf5iq9WNP/5CFt/11X+YoA7iiiigAooooAKKKKACiiigAooooAKKKKAOH1D/AJCFz/11b+ZqvVjUP+Qhc/8AXVv5mq9ABRRRQAUUUUAFFFFABRRRQAUUUUAFFFFABRRRQAUUUUAFFFFABRRRQAUUUUAFFFFABRRRQAUUUUAFFFFABRRRQAUUUUAFFFFABRRRQBYl/wCPGD/ef/2Wq9WJf+PGD/ef/wBlqvQAUUUUAFFFFABRRRQAUUUUAFFFFABRRRQAUUUUAFFFFABRRRQAUUUUAFFFFABRRRQAUUUUAFFFFABRRRQAUUUUAFFFFABRRRQAUUUUAFFFFABRRRQAUUUUAFFFFABRRRQAUUUUAFFFFABRRRQAUUUUAFFFFABRRRQAUUUUAFFFFABRRRQAUUUUAFFFFABRRRQAUUUUAFFFFABRRRQAUUUUAFFFFABRRRQAUUUUAFFFFABRRRQAUUUUAFFFFABRRRQAUUUUAFFFFABRRRQAUUUUAFWNP/5CFt/11X+YqvVjT/8AkIW3/XVf5igDuKKKKACiiigAooooAKKKKACiiigAooooA4fUP+Qhc/8AXVv5mq9Z+seLbO21a9haznZo53QsJVAJDEZ+7VT/AITSy/58rj/v8v8A8TQBt0Vif8JpZf8APlcf9/l/+Jo/4TSy/wCfK4/7/L/8TQBt0Vif8JpZf8+Vx/3+X/4mj/hNLL/nyuP+/wAv/wATQBt0Vif8JpZf8+Vx/wB/l/8AiaP+E0sv+fK4/wC/y/8AxNAG3RWJ/wAJpZf8+Vx/3+X/AOJo/wCE0sv+fK4/7/L/APE0AbdFYn/CaWX/AD5XH/f5f/iaP+E0sv8AnyuP+/y//E0AbdFYn/CaWX/Plcf9/l/+Jo/4TSy/58rj/v8AL/8AE0AbdFYn/CaWX/Plcf8Af5f/AImj/hNLL/nyuP8Av8v/AMTQBt0Vif8ACaWX/Plcf9/l/wDiaP8AhNLL/nyuP+/y/wDxNAG3RWJ/wmll/wA+Vx/3+X/4mj/hNLL/AJ8rj/v8v/xNAG3RWJ/wmll/z5XH/f5f/iaP+E0sv+fK4/7/AC//ABNAG3RWJ/wmll/z5XH/AH+X/wCJo/4TSy/58rj/AL/L/wDE0AbdFYn/AAmll/z5XH/f5f8A4mj/AITSy/58rj/v8v8A8TQBt0Vif8JpZf8APlcf9/l/+Jo/4TSy/wCfK4/7/L/8TQBt0Vif8JpZf8+Vx/3+X/4mj/hNLL/nyuP+/wAv/wATQBt0Vif8JpZf8+Vx/wB/l/8AiaP+E0sv+fK4/wC/y/8AxNAG3RWJ/wAJpZf8+Vx/3+X/AOJo/wCE0sv+fK4/7/L/APE0AbdFYn/CaWX/AD5XH/f5f/iaP+E0sv8AnyuP+/y//E0AbdFYn/CaWX/Plcf9/l/+Jo/4TSy/58rj/v8AL/8AE0AbdFYn/CaWX/Plcf8Af5f/AImj/hNLL/nyuP8Av8v/AMTQB0cv/HjB/vP/AOy1XrPn8W2a6ZaSm0nKu8gC+auRjb/s+9VP+E0sv+fK4/7/AC//ABNAG3RWJ/wmll/z5XH/AH+X/wCJo/4TSy/58rj/AL/L/wDE0AbdFYn/AAmll/z5XH/f5f8A4mj/AITSy/58rj/v8v8A8TQBt0Vif8JpZf8APlcf9/l/+Jo/4TSy/wCfK4/7/L/8TQBt0Vif8JpZf8+Vx/3+X/4mj/hNLL/nyuP+/wAv/wATQBt0Vif8JpZf8+Vx/wB/l/8AiaP+E0sv+fK4/wC/y/8AxNAG3RWJ/wAJpZf8+Vx/3+X/AOJo/wCE0sv+fK4/7/L/APE0AbdFYn/CaWX/AD5XH/f5f/iaP+E0sv8AnyuP+/y//E0AbdFYn/CaWX/Plcf9/l/+Jo/4TSy/58rj/v8AL/8AE0AbdFYn/CaWX/Plcf8Af5f/AImj/hNLL/nyuP8Av8v/AMTQBt0Vif8ACaWX/Plcf9/l/wDiaP8AhNLL/nyuP+/y/wDxNAG3RWJ/wmll/wA+Vx/3+X/4mj/hNLL/AJ8rj/v8v/xNAG3RWJ/wmll/z5XH/f5f/iaP+E0sv+fK4/7/AC//ABNAG3RWJ/wmll/z5XH/AH+X/wCJo/4TSy/58rj/AL/L/wDE0AbdFYn/AAmll/z5XH/f5f8A4mj/AITSy/58rj/v8v8A8TQBt0Vif8JpZf8APlcf9/l/+Jo/4TSy/wCfK4/7/L/8TQBt0Vif8JpZf8+Vx/3+X/4mj/hNLL/nyuP+/wAv/wATQBt0Vif8JpZf8+Vx/wB/l/8AiaP+E0sv+fK4/wC/y/8AxNAG3RWJ/wAJpZf8+Vx/3+X/AOJo/wCE0sv+fK4/7/L/APE0AbdFYn/CaWX/AD5XH/f5f/iaP+E0sv8AnyuP+/y//E0AbdFYn/CaWX/Plcf9/l/+Jo/4TSy/58rj/v8AL/8AE0AbdFYn/CaWX/Plcf8Af5f/AImj/hNLL/nyuP8Av8v/AMTQBt0Vif8ACaWX/Plcf9/l/wDiaP8AhNLL/nyuP+/y/wDxNAG3RWJ/wmll/wA+Vx/3+X/4mj/hNLL/AJ8rj/v8v/xNAG3RWJ/wmll/z5XH/f5f/iaP+E0sv+fK4/7/AC//ABNAG3RWJ/wmll/z5XH/AH+X/wCJo/4TSy/58rj/AL/L/wDE0AbdFYn/AAmll/z5XH/f5f8A4mj/AITSy/58rj/v8v8A8TQBt0Vif8JpZf8APlcf9/l/+Jo/4TSy/wCfK4/7/L/8TQBt0Vif8JpZf8+Vx/3+X/4mj/hNLL/nyuP+/wAv/wATQBt0Vif8JpZf8+Vx/wB/l/8AiaP+E0sv+fK4/wC/y/8AxNAG3RWJ/wAJpZf8+Vx/3+X/AOJo/wCE0sv+fK4/7/L/APE0AbdFYn/CaWX/AD5XH/f5f/iaP+E0sv8AnyuP+/y//E0AbdFYn/CaWX/Plcf9/l/+Jo/4TSy/58rj/v8AL/8AE0AbdFYn/CaWX/Plcf8Af5f/AImj/hNLL/nyuP8Av8v/AMTQBt0Vif8ACaWX/Plcf9/l/wDiaP8AhNLL/nyuP+/y/wDxNAG3RWJ/wmll/wA+Vx/3+X/4mj/hNLL/AJ8rj/v8v/xNAG3RWJ/wmll/z5XH/f5f/iaP+E0sv+fK4/7/AC//ABNAG3RWJ/wmll/z5XH/AH+X/wCJo/4TSy/58rj/AL/L/wDE0AbdFYn/AAmll/z5XH/f5f8A4mj/AITSy/58rj/v8v8A8TQBt0Vif8JpZf8APlcf9/l/+Jo/4TSy/wCfK4/7/L/8TQBt0Vif8JpZf8+Vx/3+X/4mj/hNLL/nyuP+/wAv/wATQBt0Vif8JpZf8+Vx/wB/l/8AiaP+E0sv+fK4/wC/y/8AxNAG3RWJ/wAJpZf8+Vx/3+X/AOJo/wCE0sv+fK4/7/L/APE0AbdFYn/CaWX/AD5XH/f5f/iaP+E0sv8AnyuP+/y//E0AbdFYn/CaWX/Plcf9/l/+Jo/4TSy/58rj/v8AL/8AE0AbdFYn/CaWX/Plcf8Af5f/AImj/hNLL/nyuP8Av8v/AMTQBt0Vif8ACaWX/Plcf9/l/wDiaP8AhNLL/nyuP+/y/wDxNAG3RWJ/wmll/wA+Vx/3+X/4mj/hNLL/AJ8rj/v8v/xNAG3RWJ/wmll/z5XH/f5f/iaP+E0sv+fK4/7/AC//ABNAG3RWJ/wmll/z5XH/AH+X/wCJo/4TSy/58rj/AL/L/wDE0AbdFYn/AAmll/z5XH/f5f8A4mj/AITSy/58rj/v8v8A8TQBt0Vif8JpZf8APlcf9/l/+Jo/4TSy/wCfK4/7/L/8TQBt0Vif8JpZf8+Vx/3+X/4mj/hNLL/nyuP+/wAv/wATQBt1Y0//AJCFt/11X+YrnP8AhNLL/nyuP+/y/wDxNW9H8W2dzq1lCtnOrSTogYyqQCWAz92gD1CiiigAooooAKKKKACiiigAooooAKKKKAPBfEn/ACMWqf8AX1L/AOhmuX1fxhoPh/VNM03VNb03TdR1RzHYWd5dxxTXbjAKxIxBc/MOFB6iuo8Sf8jFqn/X1L/6Ga+Uf2n/AIa2/wAWPjR8N/D0tw9hdyaPrU9hqERIksruMWzwTrgg5Rwp68jI70AfSF9rmnaXeWNpeaha2l1fyGG0gnmVHuHClisak5chQWwMnAJq7Xybb/Ey5+JPib4FnWYUsfF2jeKL3StfsFx+4vYtPnDlRk/I/Dqe6sPSpdU+OHiTxjffEC80TxB4p0afQNSudK0bR9E8Fz6pZXctt95ru4W0lyZZMrtjliKIFJ5O6gD6torwrQ/iz4is/iV4YfxQX0bQPE3g1tWTR7yBIpNO1C32SXUZYgSf6uUZVyceWenNcJofx48d3XwJ8WTX99FH4/l1GyttFkW2jURR6oIHsvkK7W8sTspLAgmFsljkkA+rpJEhjaSRlRFBZmY4AA6kmqGn+JNI1bQk1uy1SyvNGkiM6ajb3CPbtGASXEgO0qMHnOOKtWcMsFlBDcTtdTJGqSTsoUyMBgsQAAMnnAAHNfHa3lx4P+CPxK+D1lIw1KDxQPDGlx7PmFnqkqSRkZPO2Kefn0j9BmgD66tfEmkX2grrltqllcaI0BuV1KK4RrYwgZMgkB27cAndnGKsabqVprOn21/p91DfWN1Gs0F1bSCSKWNhlXRlJDKQQQRwc18bR30/g/8AZ48b/By0kZNUt/FJ8FaYnzBzaX8qyRMCTk4t5pTkn/lmcnufZfipeWnw/wBHi07/AIXJZfDGO10zydEsWGnRtKY4woaX7YshmUMFwIvKwCQSSQQAe20V8vyfGjxx488CfAW+0LU7Xw7qfjeZ7fVJfsqTRqBaSs7xq4bBVkLoM4yFDZXIPU+LtS8b6Z8Yvh/4C0vxtdLp+paPqdzqeqXtjaSXsnlPD5cke2FYlkXzNozGUwSWRiAaAPd6K+b/AAjqXxJ8WXfxM8PXHxCmsF8GX8ltZaxZ6XZm9vt8C3EX2oPE0O2NZApEUcZfGcrg7vVfgT8QLr4qfB7wj4svoIra+1bT47i4igBEYkxh9oJJC7gSASSARyaAO7ooooAKKKKACiiigAooooAKKKKACiiigAooooAKKKKACiiigAooooAKKKKACiiigAooooA0br/kBaf/ANdZv/ZK57X/ABFpXhTSbjVdb1Oz0fS7fBmvdQuEghjywUbnchRkkDk9SK6G6/5AWn/9dZv/AGSs6gDhtJ+O3w11/UrbTtM+IXhXUdQunEUFpaa3bSyyueioiuSxPoBV7XPiz4H8Ma4mi6z4y8P6TrL7NunX2qQQ3B3/AHMRs4b5u3HNeZMX+LX7UygDzfDfw2tclsfJLrF0nTOefKtz07NL9Kt/tB3F/p/w98baHoPwyutYTWLKQ3WqRLaCx8yRBG880ayNcyvGgDYSB2bYqr6gA9g1rXNO8N6Xc6nq1/a6Xptsu+e8vZlhhiXOMs7EBRz1Jql4V8beHfHWnyX3hrXtM8Q2Uchhe50q8juo1kABKFo2IDYZTjrgj1r5zgOm694u/Zk8Ox6xD4s8NRaXc6pFeyqzLfXNpZxpBOQ2SGUu7gNyrf7QrsJof7G/bVtPsKeQmt+C5ZdSWMYWd4LuNYZG9WVZGUE9jigD3asXRfGej+Idc13R9PvPtGo6HNHBqEPlOvkvJGJEG5gA2UYH5SRzg815z448U+IPEnxu0n4c6Fr0vhW1i0WTX9S1OyhgmvJUMvkQwRCeOSNV3bnZijH5VA25JPH/AAMtfElj45+PMGpa7p39uQ6pYg6y1kRBsWxj2yyQ+YoDeWAWwwXdkgBfloA+kKK+a/CPxae4+OGneC9B+LUHxH0fXdDvJvtSNptxcaTdwsu1w9pFGhV1kPySIeYwQcEis+H46eMdT+BunaTBqMcHxZm8TDwVNefZ4yEu45szXXlFdm37MrS427RuHFAH1JXMa58QtN0Hxv4a8KSRXNxq+vLcywLborJDFAgaSWUlhtXLIgwCSzgYxkjx7x18UNX8N/Ge40LxN4zvPh3obRWa+G759Mgl03WZyjtOl3cSRMEYMgXykkgYqchsspGz4ZmXXP2wPGsswJk0Hwtp1jBnoBcTTTSEemdkYP8Auj0FAHsesaxYeH9MudS1S+ttN061QyT3d5KsUUSjqzOxAUe5NZ/hPx34a8eWk114Z8Q6V4itoH8qWbSb2K6SN8Z2s0bEA4IOD61pahpNjq8cKX1nb3qQzJcRLcRLIElQ7kdQRwykAgjkHpXh3w9EPjz9qHxh430FVHhvTdGj8NT38S4j1O/ScySFT/GIFCx7vViATt4APe6K8n/aI8ca58MND8P+L9PvfK0LTNYt08QWhhRhNYTN5LvuKllMbOknykZCkHisLXPjBq9j8R/iZqUNz5vgjwD4dWS6sY40JvNSeNrjAk2lgEhEYwGAzLyD2APdaK+VvCXxe8bXP/CBa1b6p4t8U3OuXtsus6FL4IubTS7O2ueTLbXJs0YLBuX55J5Q6hj3BG5+0f8AEu5+Gej+JNWg+Mmm6H4n022+36d4QkTT1ju41O5YpYpQ1zI0gDJvikjHIKoCDuAPo2ivA/E/jbxj4u+LngHw54e8Qt4X0XXvDM+sXzxWsE9xFtktyphMsbqHw5T5gy7XY7SwXGd4w+JWs+E/i8/h3xT461DwLowgsovDmq3OmW0lhrlwUdrgXtw0O1H3IF8qN7c7TlTllwAfRtc14B8faf8AETSLq+sIbq0azvrjTrq0vowk0E8MhR1YAkdgwIJyrKe9dL9eteHfB2b+zP2hfjjoUPy2f2nS9XEYGAstxabJT17mBSeO/egD3GivJvjJ4Y8XWV43jfwn8RLfwrJptiyXWl+JEEug3Mab3DTcq9u2WG6ZGztQDBArkvCP7TL+P/AOoatJqvh74cSabqh01vEHiBTe6DqhUyqTYTme1MwPl7skjaMjDfeAB9DUV5F8NPid/wAJV4ojsP8Ahbfw58Y7onf+y/DNp5d22B98H+0Z/lHf93+Ir12gDk/FHxc8C+B9SGneI/Gnh7QNQaMSi01TVYLaUoSQG2O4OCQecdjXS2N/bapY297ZXEV5Z3Eayw3EDh45UYZVlYcEEEEEdc184694yu/BP7Unj2/t/COteLok8G6dJPBogtmkjRZrsnKTTRl88gLGHYkYx0zyvhLxtcfBj9mHwe2halbNL408QvFp1xo9hNqEWkw3k80xWC3EYklaFAwEZj/1nBUgEEA+v6K+dPDvxg1/wrr3iw3cvivxb4O07w3Prqav4m8My6PNBcQfftd/2S3jkDoQ64jLDa2Sw6dh8KbPxvrPhzwz4z17xxPK+pWq6jf+H0061/s+KKWIusUDLGJ1ZN0fzvLJna2V+YbQD1uivjvT/wBoTxl4q8B/8LA0K/8AF1/q012biz8F2Pgm4m0qazWby/I+1rZszSmNWcyrcBA5xtwNtelza/418ZftGeKvBtn4vuPDXhrT9D0/UAtjYW0l4s0ryghJJo3UKdo3B0f7o27OSQD3mivme1+OnjBvhHp1qLmzm8a3njJ/A0esyWwEW9LiSM3phHyl/KjLbOE39tvy11fxUsfiJ8Nfhj4m17RPHWoeJLvSo4dTjt9V06yE0kcLl7mDfDDGuySIYH7verLkOc4AB7bRXjEHxS1Hx/8AGTwNpPhPUli8Mnw+3ibWWWJH+0QzgJZQ7ipKEt5jnaQSI+uOD6R488Kz+NPCl9o9trmp+G7m42NFqmkSiO5gZHVwVJBBBK4ZSMMpYd6AN+orq6hsbaW4uJY7e3hQySTSsFRFAyWJPAAHOTXzr4U+OXirwP8AFbS/hf4uvNJ+JOo3bGNdY8JIUvrFVWHMuqWQylupMpPmI+MAfJzX0FrWnWmraTd2l/p8WrWcsZEljNGkiTjrsKv8pz/tcUAY3hP4oeDfH1xPb+GPFuh+I57dBJNFpOpQ3TRqTgMwjYkDPc1Y8WePvDHgG3t5/E/iPSfDkNwxSGTVr6K1WRgMkKZGGSB2FeF6/rd54i/aW+F+oa94evvh3bWMN9BZTau0Ek2s3E0RH2MPayTRRoir5uJZQzsAEQ7Sao/DfWvGesfFr4weJdH8IaX4h1Gx1ptChvNZ1htPaK0ghjZLW3CW85wXZpG3eWpLoctzsAPedR+KHg3R/Dll4gv/ABboVloN8wW11S41KGO1uCQSBHKW2scK3QnofSp/CXxE8K+PluW8MeJtH8RralRO2k38V0Ii2dofy2O3ODjPXBryDVL7VP2kPA/w18b+C7KzgudH1/8AtK40rX7x7XDQLPbywmSKKbDCQnB2kEDPGcV3HgH4sXviDx1rngjxLoC+HPFWmW0WoLHa3wvbS8s5GKLNDMY42yHVlZXjUg4xuBzQB6PWLovjPR/EOua7o+n3n2jUdDmjg1CHynXyXkjEiDcwAbKMD8pI5wea858ceKfEHiT43aT8OdC16XwraxaLJr+panZQwTXkqGXyIYIhPHJGq7tzsxRj8qgbcknj/gZa+JLHxz8eYNS13Tv7ch1SxB1lrIiDYtjHtlkh8xQG8sAthgu7JAC/LQB9IUV81+Efi09x8cNO8F6D8WoPiPo+u6HeTfakbTbi40m7hZdrh7SKNCrrIfkkQ8xgg4JFZ8Px08Y6n8DdO0mDUY4PizN4mHgqa8+zxkJdxzZmuvKK7Nv2ZWlxt2jcOKAPqSivnfx18UNX8N/Ge40LxN4zvPh3obRWa+G759Mgl03WZyjtOl3cSRMEYMgXykkgYqchsspHufirVm0DwtrGpgb2srKa5CjuUQt/SgDN8C/ELTfiJFrU2lRXP2XS9Un0lridFVLiWEhZGiwxLIHLJkgZKNgYwTq6L4l0jxJ9tOkarZap9iuXs7r7FcJN5E643RPtJ2uMjKnkZHFeOfAHwLbeJ/2SvBuhzX+oWEOraVDd3d1ps5guHaZ/PmAkGSN5Z1Yj5sM2CDyM79jzQdP8Lx/FzR9Js4rDTLHxze29tawrhIo1gtwqgfSgD6Goryf9ojxxrnww0Pw/4v0+98rQtM1i3TxBaGFGE1hM3ku+4qWUxs6SfKRkKQeKwtc+MGr2PxH+JmpQ3Pm+CPAPh1ZLqxjjQm81J42uMCTaWASERjAYDMvIPYA91or5W8JfF7xtc/8ACBa1b6p4t8U3OuXtsus6FL4IubTS7O2ueTLbXJs0YLBuX55J5Q6hj3BG5+0f8S7n4Z6P4k1aD4yabofifTbb7fp3hCRNPWO7jU7lililDXMjSAMm+KSMcgqgIO4A+jagvro2VjcXCwS3TQxtIIIADJJgE7VyQMnoMkDJ614V4n8beMfF3xc8A+HPD3iFvC+i694Zn1i+eK1gnuItsluVMJljdQ+HKfMGXa7HaWC491sbeSzsbeCW6lvpYo1R7qcIJJSBguwRVUE9TtUDngAcUAZHgPxrpvxG8HaT4l0gy/2fqUCzxLcJslTPDI65OHVgVIycEGt6vDv2VZvsumfEfQYuLLQ/G2qWlqgGAkTus+0c9A0zen0r3GgAor5i+MXxhuPhbqlje23xh03WfEEOuWdrqHgZF09Y3t5pVidI4QDdxuqOsm5pnGVOV2themudd8a+L/2kPFnguy8YT+HPDWm6JYX6/YLC1ku1mkeVT5ck0bqFbaNwdH+6NuzkkA93rF1Dxno+l+KtJ8N3V55WtatDPPZ2vlOfNSHb5p3AbVxvX7xBOeM18/R/HTxefg9YWv22z/4TW88Yv4Fj1yS3URh1uHj+2mH7pk8qMts4TzO235atXug+I/D37WHwzt9X8TSeKNObR9Ye0ub61hhvY3224kSQwJHEycKVxGrDLAluDQB9I0UUUAFFFFABRRRQAUUUUAFFFFABRRRQAUUUUAFFFFABRRRQAUUUUAFFFFABRRRQAUUUUAFFFFABRRRQAUUUUAFFFFABRRRQAUUUUAFFFFABRRRQAUUUUAFaPhv/AJGLS/8Ar6i/9DFZ1aPhv/kYtL/6+ov/AEMUAe9UUUUAFFFFABRRRQAUUUUAFFFFABRRRQB4L4k/5GLVP+vqX/0M15z4g+G/9ufFTwl4z/tHyP7BtL61+w+Ru8/7QIxu37ht2+X02nOe2K9G8Sf8jFqn/X1L/wChms6gDxrxR+zbZ65+0B4b+KNjrL6VNp536jpa2/mR6lIsMkMMpbeNjokrLna2QFHGKvWnwi8SeD/EXiO78EeLrHRtI8QXjand6bq2jNfmC8cYmltpFuItgfCsUdZAGBI4JWvV6KAPKfjh8Cm+MfhXRdOTxHPo+raXKxTWWtVmlkjkt5Le4RlUxqDJHI2SuACAQOMUzXvgDbax8XPDvi+LVvsml6XHAZ9CW1DLdz26TraymXf8vl/aGONpyVXnivWaKACvHfEX7OsPiD9oLRfiX/bslta2UUZudBW2DR3lzElwkE7SbuDGty+BtPQcivYqKAPHtW/Z3h1T9ofTvid/b0kNrbwRmbw+LYGO4u44poorlpN3BWOdlA2noDn0m1b4KaynxF8V+JvDviq20eLxVbWtrqsN1pAu7mMQo0e61m85FiJRhxJHKoYbtpyVr1uigDxjwr+zkPDHh/4R6WviA3C+AJ5ZhIbLab7fBLFjHmHy8ebnPzfdx347LWPhv/a3xc8N+N/7R8r+xtNvdP8AsPkZ877Q0Lb/ADN3y7fK6bTnd1GOe1ooA4Lwr8K/+EZ1z4iaj/an2n/hLr1bzy/s+z7Ji1jg253Hf/q92cL1xjjNWvg38Ov+FSfC/wAOeD/7Q/tX+x7UW323yPJ87BJ3bNzbevTca7OigAooooAKKKKACiiigAooooAKKKKACiiigAooooAKKKKACiiigAooooAKKKKACiiigAooooA0br/kBaf/ANdZv/ZKzJA7RsI2VXwdrMMgHsSMjP51p3X/ACAtP/66zf8AslZ1AHBfBf4VL8I/Cdzp0upf23q+oahc6rqmrG3EBvLqaQsz7AzbQBtUDccBRzVXXPBvxGvpdWtdP+IOmWukX0khiN14b86/s43HKRzJcxxHbzsZ4GI43eZgk+j0UAeQX37OOm6b4Y8BWPhDU5PD2reB3LaNqVzD9sVlddtxHcR7kMiyqTu2shDYIIxit/wT8Mb3SfGep+MvE2tw+IfFF5ax6dFLZ2JsrSztEO/yoYTJK2Wcl2ZpGJO0DaABXoFFAHnfjj4W6jrHjzR/GvhnXYNA8S2NnLpsrX9g19aXdpIwfy5IlmhbcsiqysrjHzAgg8cXdfssjVvCvxP0fVPGF7qU/jia3upb6a1QPbTRIgX5Adrx74x+7wvyfJk/er3iigDyTS/gz4gn+KXhrxz4j8W2Wo3eh2V3p8OnaXov2K1MUwj+YBp5XDgocksVI2hVTDF/O/CfgOw179uPxjrunztJpfh7Tre4urVceSmsXMXlGQY43fZYxu75f3r6fooA8r+Knwl8S/FCw1nw9ceMbW28GayY1u7BtFEl9HECnmRQXImVED7CdzwyMpdiG+6Fw7iyHgP9q/R7rYI9L8XeGm0qN9pOLyykMyIW/wBqGWQjufKPpXuFFAHGfF/wXrfxE8Aan4d0HxMfCN5fqIpNUS0Nw6wk/vEUCSMqWHy7g2QCcc4Izvhf4B8T/DzT9N0R9W8Lnwtp9v8AZ7fTdG8O3FlImPukSyX0wPOScoSxJJOSTXolFAHIfGC30O6+FPi+LxKyJoDaVci+Z8fLF5TbiM9x1HuBXl/7KPwv+z/sy2Nj4pEmo3vi+2l1DWGuCRJOt0m0Kx6giDy19sV7/RQB5l4B+G/jTwTZ6Pob+PLbUPC2k7YreNtEC6nJbpxFDNdGdo2woVWZYEZguQVY5rkNe/Zn1i/0n4jeH9L8aW+leGfG93dX95G2iCfUIpZ4lV1W5M4QxblB2tEWCEqrqdrr75RQB5zpvwf/ALO8feEfE39reZ/YHh6TQfsv2bHn72hPm7t/y48n7uD97rxzR+Knwl8S/FCw1nw9ceMbW28GayY1u7BtFEl9HECnmRQXImVED7CdzwyMpdiG+6F9UooAjt4EtbeKGMbY41CKM5wAMCvF/wBnqBvEni74p/EA+Z9k1/XBYafu+69rYx/ZllX2eQTEewFe2UUAed+OvgL4R+J3jHTtf8WW1x4hj06ER2uiX87SaXHIC5M5tvuPKQ5Ul9wwq8AjNegwwx28KRRIsUUahURAAqgDAAA6Cn0UAFFFFAHFab8N/wCzvjBrvjr+0fM/tTSbTS/sHkY8vyZJX8zzN3O7zcbdoxt6nPHCR/sww2/hLWdBt/EtxaxjxI/ijw3cQ2qh9Cui3mBACxWaMSNISrBcrIy+jD3CigDidP8ABviLV7HVrHxxr+m+INOv7N7FtP0vSGsIGjcEO0nmTzuzEHaNrqoBOVJwRjfDn4ZeL/ANlo2gv45t9S8J6OPJtbdtGCajLbqCsMM9yZmjcKpUFkgjZtg5HOfT6KAPI/B/wc8T/Dmzfw94X8bW1h4KW6ee1sbrRftGoWMUj73ghujOI9ocvsMkEhUNg7sA10Wj/C/+yfjJ4j8ef2n5v9saZaab/Z/kY8nyGkbf5m75t3mdNoxjqc13VFAHis37NNtceA9W0F9fmi1KTxNceK9L1e3tVV9OvHmMsR2MzCQKSVYEjepYfLnI73w7oviW1XUJfGPiPTNbt5IREtrp+kGwtUQZ3s4kmndmIOD84XA+7nJPW0UAfMv7Cfga30XwH4h8TW9xNeWWuarNBpE1x95dJtXeG0Qew/eEezA173488Gw/EDwpfaBc6jqelW15sWW50i6NtchVdWKLIBlQwXa2OSrMOM5rfooA5f4e/DDwp8J9BTRvCOg2Wg6euC0drHhpWAwGkc5aRsADc5J461p+KNN1LVtBvLXR9YbQdTkUG31BbdLgROCCN0b8OpxhhkEgnDKcMNWigDyub4R6/wCLvFXhzV/HXifT9ZtvDt1/aGn6bomjvp0Ru9pRZZmkuZ2fYGbaqlBk5bdwBFdfB7xF4f8AFninWvAni6y8Ox+JmW51Cz1TRm1BI7pYxH9ot9txDsZlC7g/mKSoOByD6zRQB5ponwl1L4d+B9A8OfD/AMRQ6NHpryNPJrmnf2kt+ZCzO8oSWFxIZGL7ldRyRtIxi14D+Fdx4f8AGGs+MvEOsp4h8W6pbxWL3VvafZLW1tY2ZkhghLyMoLMWYtI5Zu4AAHoNFAHnfjj4W6jrHjzR/GvhnXYNA8S2NnLpsrX9g19aXdpIwfy5IlmhbcsiqysrjHzAgg8cXdfssjVvCvxP0fVPGF7qU/jia3upb6a1QPbTRIgX5Adrx74x+7wvyfJk/er3iigDyTS/gz4gn+KXhrxz4j8W2Wo3eh2V3p8OnaXov2K1MUwj+YBp5XDgocksVI2hVTDF/O/CfgOw179uPxjrunztJpfh7Tre4urVceSmsXMXlGQY43fZYxu75f3r6fooA8r+Knwl8S/FCw1nw9ceMbW28GayY1u7BtFEl9HECnmRQXImVED7CdzwyMpdiG+6F9Km0yCbS305kzatCbcoefkK7cflVqigDwn9mn+3IfgQPCNleWWmeKPCN7ceHZZr+ye5gQwTfI7RLLGzB4GjYEOPvg8jg7Pwe+EPiv4Y694kur3xbo2s6f4g1afWr22t9AltZVuJURcRSG8kCoNinDIx6/N6eu0UAch8YLfQ7r4U+L4vErImgNpVyL5nx8sXlNuIz3HUe4FeX/so/C/7P+zLY2PikSaje+L7aXUNYa4JEk63SbQrHqCIPLX2xXv9FAHmXgH4b+NPBNno+hv48ttQ8LaTtit420QLqclunEUM10Z2jbChVZlgRmC5BVjmuQ179mfWL/SfiN4f0vxpb6V4Z8b3d1f3kbaIJ9QilniVXVbkzhDFuUHa0RYISqup2uvvlFAHnOm/B/8As7x94R8Tf2t5n9geHpNB+y/ZsefvaE+bu3/Ljyfu4P3uvHPf319BpljcXl1KsNtbxtLLIxwERQSxPsADU9FAHjX7KOl3S/DG58TXscsF34x1e98SmCb70UdxITCv/flYj+Jr2UjIIoooA+c3/ZQ1g/DuDwBH46trfwjZamup2ccWhAXrMt4LlUuZzOVlHUbkjiYkIxJAZX9S0f4X/wBk/GTxH48/tPzf7Y0y003+z/Ix5PkNI2/zN3zbvM6bRjHU5ruqKAPF5P2bYpfAWr6D/wAJDNDqM3iafxVpurQ2wVrC7aczRAxlyJFUnawyu9SfukgjQ0/4N69dfFbw9498R+MI9V1HSbS7shp9jphtLLZMEAMaNNI6NlCWZnfd8oGwLg+sUUAFFFFABRRRQAUUUUAFFFFABRRRQAUUUUAFFFFABRRRQAUUUUAFFFFABRRRQAUUUUAFFFFABRRRQAUUUUAFFFFABRRRQAUUUUAFFFFABRRRQAUUUUAFFFFABWj4b/5GLS/+vqL/ANDFZ1aPhv8A5GLS/wDr6i/9DFAHvVFFFABRRRQAUUUUAFFFFABRRRQAUUUUAeC+JP8AkYtU/wCvqX/0M1nVo+JP+Ri1T/r6l/8AQzWdQAUUUUAFFFFABRRRQAUUUUAFFFFABRRRQAUUUUAFFFFABRRRQAUUUUAFFFFABRRRQAUUUUAFFFFABRRRQAUUUUAFFFFABRRRQAUUUUAaN1/yAtP/AOus3/sleX/tAaleaL8DfH9/p91PY31toV5NBdW0jRyxOsLFWVlIKkHkEcivULr/AJAWn/8AXWb/ANkrzj43eHdR8X/B3xtoekW/2vVNR0e6tbWDeqeZK8TKq7mIUZJHJIFAHAfAvUfhrq3/AAj8ui/EOXxF4rbT0mm09/Hl5qTFzEPNLWr3TrwSeqfKfTFYPhn4waD8K/g3qHiHw/4HuIbJ/GlzpMuk2uoPcTTTPfmCS4RpFJLMw3iLgZO0MOte9eCtPuNJ8G6DY3cflXVrYW8E0e4NtdY1VhkcHBB6V88L8GfGI+D8eif2P/xNB8Rf7dMH2qH/AI8v7VNx5u7ft/1Xzbc7u2M8UAeia58YPFHhu48I6HqHhPSYPGXii4uI7HT/AO33+xRxwwiVzNdfZciTnaI0ifJ6NjJHJ/H/AMZ/ELTU+E8mm6Va6Pc3viu0tr21OvywiaXbOPs7NFAwe2cLu3sA2AmYQche8+OPhuz8ZaJb6LrXw1k+I+gXAkM0Npc20VzaSgAI6efLCFyrSDzElDqcAKQxK+aTfCn4hQfBn4aLfwzeI/EvhjxPb69caW+opLdG0EswFstzMypLLFFMo3O4VvLIDdCQD6K0abUZ9LtpNWtbWy1FkzPb2dy1xCjeiyNHGWHuUX6V8nWy7/g78V/HmqeN/E2j63oev6z/AGfqP/CSXgt7doLhvs0P2VpTbuhYJH5bRkMG245FfWek302paZbXVxp9xpU8yB3srto2lhJ/hYxO6Ej/AGWYe9eLfBL4AaPoM/iHWvFPgjQz4nm8U6jqdlqlzZW1xdiB7gvBIswDMpwQQMgr6CgDc8D/ABe1a+134feF9e0X7NreveFTrt9P5uz7POnkLJD5W3u0x53DG3GD2p+If2iP7B8P/F7U/wDhH/P/AOFfzLF5X2zb9vzbRTZz5Z8v/W7ejfdz3xU3xI8N+ItL+Mng/wAfaJoFx4ptLPTb3R7/AE6xuLeG6jWZopI5o/PkjjYBoirAuD8wIBwa82vvhL8Q9e+G37QcGo+H7a31zxlc+fpNjaX0ciSJ9lhjRTIxUKw2bW3bRuDFcrgkA9M1L43at4b8DL4l13wgbI6pdW9n4e0e3vzNfX01wxWFJ1MSJbMRtZsPIFG7JyuDyv7ReseLL79m/wCKlv4o8NWGimPQ3kgudL1Y38E27IZCXhhdXXaCfkKkOMMTkDqvjV8Pde8VeBvCk/h+KGfxF4V1Wy1230+4lEaXjQKyvb+ZyFZldwrHjdtyQMkZvxeh8ZfF/wCCnxA8P2ngS/0O8vNJa3sbfVdQsvPup2zlQIZpI1QAD5nlUkkjaAMkAk8MfF7WtBm+H2m+I/CS6PoniWOOw02/XUhPcxXIt/MSO6gEYSIOqSYMcsuCFBAzxqfFT4reLPhtouteJF8D29/4V0VfNvJpdbWG/eFWHmzQW6wvG6qhLAPNG7bWG1eN1P4h+Ade1yP4OixsPPPh/XbS81L99GvkQpayxs3LDdhnUYXJ56Yryz4tfC34keOtK+KGjX+ieI/EGp6pJdR+HtRtPFI0/RIrFogYYZLWO4QvIDvQ+ZA4dtu6QIdygHsXiL4zXjeOdJ8I+ENGsdd1i/0Y6/v1XU20+3+y71RdjLBM0khJzt2AADJYZANrxJ8VNVt/FGjeE/DvhqPUvFd7p51a6stV1JbODTrUHZmaWNJyXMh2KsaODhzuAGTwXxU+Hlz4l8B6FoWofCu68WanpujwHStY0zVLW1udM1BEAwZXmikhUOkTb4TJuwcr8oDYmsfAPVrPxZ4L8VeK/CWn/GWaDwxD4e1u0njtZbhLmMmRb2H7YyRuCxdGyyPhlYZ+YUAe1/Cr4kr8SdH1KSbTm0fWNI1CbSdU05phMLe6jwWCSADzEKsrK2FJDDIByBz/AInvNCj/AGkPA9rc6B9p8QzaJqUtprX22RPssSPAJIvJHyvv8wHceV28da6T4W+HrHw74dlj0/wNYfD63uLhphpFilujdFUSTLbjyhIdvRWcYC/N2GB4k8F6zqH7RPgjxPb2fmaHpuianZ3V15qDy5ZXtzGuwncciN+QCBjkjIoA4ux/af8AEOqeA9f8bW3w8U+GfDt7d2+pSSa0ouZIreZklltIhCRLhFLFZHh5BUFvvH3zT7+DVNPtr22fzLa5iWaJx/ErAEH8iK+evC3wl8Wab+y58RfCNxpXl+IdWl11rKz+0RHzRcSzNB84fYu4Ov3iMZ5xXufgvT7jSPBug2N1H5V3a2FvDLHuB2usaqwyMg4IPIoA+cfjlq2j+E4bi38E/EXWtZ+M0mqxLp+hxeJZrp5JnlDtDPpySeRHAsO/JaJAqqCW3HJ6r44fE42vxS8JeALrVdU0XTL3T59X1RvD8M82o3qI6xx2sAt1adQzF3d4gHCRnDKNxEnxaXxp8Xvhtrfgi4+FdxZ6nqcbWi6pfanYTaVaPuwt2rrL9obZgSJ/o6vuCjC9Rc8TeAfFHg/4keCPHOj2c/jWTTdCk8OaxaxzQw3txGxjkS5jMzpGzeZGdytIvD5GTkEAp3WraJqPwR+JsXwy1fxNf+ILXT7mI2l9f6pPq1pd+Q3lKsV4xuIWPBUALu6jPWmfBvV/AsGteG9Pm1nxpZ+OJ7DzV07xdqOvQLdyLGBP5UN+4inKkkkIrbfvDAGa0PBPhfxbpPiz4k/Ey48NtBquvRWkGn+E5L2Fbgw2qsoaaZGeETSF3KgOVA2AuCWKs8UaD4p+M3jjwFNc+EtQ8FaJ4X1Ya3cXesXVnJc3MixukcECWs8w2kuS7Oy8AABsnAB7RqFjHqdhc2czTJFcRtE7W8zwyBWBBKyIQyNzwykEHkEGvmv4teCbbT/iH8O/BHhPX/GNnrms6h9vv7g+MtVnFvplth5yUkumX94SsQJH8TdxXuWk/DXSNF8RSa3b3mvyXjtI5iu/EeoXNrl85xbSTtCBzwAmF424wK4z4XeB9fl+LPj/AMf+K7E2F3eyx6PodrJNFKYNLgGQ4KEhfOlZ5CpORhQQMUAR/Gqb4faHdT6l47+I2o+Fy1ixtLC38Uz6UVVAxeSGG3kjedySOGEhyqhQMkHz5fHnxCh/Z7+F2maxeaho/jHxhrNvokuqNCi3ttaPJI/nMrKQs5toxklcqzk4BHHtHiXxp4m0fWL6xj+G+q+JdLMam2vtIv7ArKCvzpNHczwMjBsj5fMUqQcg5UeMW/7O/i7RfgzoEdnHYnxP4f8AFjeL9P8ADsNxts4IzK7/ANmRSlQABHIwVtqoHPZeaAOk1eG6+DHxw+HGn6PrOt33h/xcbvTdQ03WtXudSCSwwNNDcRPcySPG3DKyqwVgRkZUGvS/iv8AEqD4W+FV1NrCbV9Ru7qHTtN0y3YI95eTNtii3nhFJ5Zz91QxwTgHjP8AhH/EfxS+LXhDxJrHhe78IaF4SS5uIIdWubWa6vbyeMxDattLKiRRpuO5nDFmACgDNav7QXgTWfGnhnQ7zw7DHea54b1y01+1sZZfKF2YC2+EOSArMjuAW+XOMkDJAB59e+IPEWqftYfDOy8S+Go9CvbbR9YkSexv/ttlcI62/EcrRxPvUqQytGuMqQWB47Xxt8ZvEvw8k07Vde8FW1n4Pu9Ut9NkvRravqFp5z+VHNLbLD5WzzCoIS4dgrhsZBUZDaP438afH7wR4uu/Ccnh3wzpOnalasl9e28l6ksoiw0iQyugVimF2O5+Vi23IFeS+L/g78T/ABt4Kj07WdA8R6t40h1uG8vdaufFapo1zBFfKym1sUufLB8oKQklvFgK53FwocA+i/Dfxeg1Pxt498NavYrol14V8m5817jzEurGWMulyPlXaMrIrLzgp15FcdpP7SWoa94Z+HVxZeEorbxB47e5k0rTtU1Q29ultErSCWWcQOwZ49jLGsbE7+uAWrg/2xvCOrSeNPB9x4ZnW31HxxFJ4D1MBsMbOZhMZlHcxqk+T2EletfF7wTpWs+EdM8K3vwwb4geFVhMP2SyubaK4sWRVSJoxPLCFGwuPMjlDrgAKQxKgHovh+81DUNHt59V00aTqLAie0WdZ0RgSCUkAG5DjKkqrFSNyqcqNCvPfgH4a8TeEfhXo2meLruW71uMyu6z3Zu5LeN5WeKB5zzK0aMqF+cleCRg16FQAUUUUAFFFFABRRRQAUUUUAFFFFABRRRQAUUUUAFFFFABRRRQAUUUUAFFFFABRRRQAUUUUAFFFFABRRRQAUUUUAFFFFABRRRQAUUUUAFFFFABRRRQAUUUUAFFFFABRRRQAUUUUAFFFFABRRRQAUUUUAFFFFABRRRQAUUUUAFFFFABRRRQAUUUUAFFFFABWj4b/wCRi0v/AK+ov/QxWdWj4b/5GLS/+vqL/wBDFAHvVFFFABRRRQAUUUUAFFFFABRRRQAUUUUAeC+JP+Ri1T/r6l/9DNZ1aPiT/kYtU/6+pf8A0M1nUAFFFFABRRRQAUUUUAFFFFABRRRQAUUUUAFFFFABRRRQAUUUUAFFFFABRRRQAUUUUAFFFFABRRRQAUUUUAFFFFABRRRQAUUUUAFFFFAGjdf8gLT/APrrN/7JWdWjdf8AIC0//rrN/wCyVnUAFFFFABRRRQAUUUUAFFFFABRRRQAUUUUAFFFFABRRRQAUUUUAFFFFABRRRQAUUUUAFFFFABRRRQAUUUUAYGreA9D17xXoXiS/sjc6zoYmGnTtPIFg85NkhEYbYWK8bipIGcEZrfoooAKKKKACiiigAooooAKKKKACiiigAooooAKKKKACiiigAooooAKKKKACiiigAooooAKKKKACiiigAooooAKKKKACiiigAooooAKKKKACiiigAooooAKKKKACiiigAooooAKKKKACiiigAooooAKKKKACiiigAooooAKKKKACiiigAooooAKKKKACiiigAooooAK0fDf/ACMWl/8AX1F/6GKzq0fDf/IxaX/19Rf+higD3qiiigAooooAKKKKACiiigAooooAKKKKAPBfEn/Ixap/19S/+hms6tHxJ/yMWqf9fUv/AKGazqACiiigAooooAKKKKACiiigAooooAKKKKACiiigAooooAKKKKACiiigAooooAKKKKACiiigAooooAKKKKACiiigAooooAKKKKACiiigDRuv+QFp/wD11m/9krOrRuv+QFp//XWb/wBkrOoAKKKKACiiigAooooAKKKKACiiigAooooAKKKKACiiigAooooAKKKKACiiigAooooAKKKKACiiigAooooAKKKKACiiigAooooAKKKKACiiigAooooAKKKKACiiigAooooAKKKKACiiigAooooAKKKKACiiigAooooAKKKKACiiigAooooAKKKKACiiigAooooAKKKKACiiigAooooAKKKKACiiigAooooAKKKKACiiigAooooAKKKKACiiigAooooAKKKKACiiigAooooAKKKKACtHw3/yMWl/9fUX/oYrOrR8N/8AIxaX/wBfUX/oYoA96ooooAKKKKACiiigAooooAKKKKACiiigDgdSsbJ9Rumext3YyuSzJyTk8nmq/wDZ9h/0D7X/AL4/+vV7UP8AkIXP/XVv5msHxZ4q0rwP4a1PxBrl2LHSNNga5urgoz7I1GSQqgsx9AoJJ4AJoA0P7PsP+gfa/wDfH/16P7PsP+gfa/8AfH/16yvBfjTRviJ4W07xH4evRqGjahH5ttceW8ZZckHKOAykEEFWAIIIIrboAh/s+w/6B9r/AN8f/Xo/s+w/6B9r/wB8f/XrnvD/AMRtD8W6br97oVxNq6aHe3Wm3kVvbyLILq34lhVXC72BwAVypJ4Jq14G8Vf8Jx4R0vXv7H1bw/8Ab4RN/ZmuWv2a9t+SNssWTsbjpk9aANf+z7D/AKB9r/3x/wDXo/s+w/6B9r/3x/8AXqaigCH+z7D/AKB9r/3x/wDXo/s+w/6B9r/3x/8AXrD8efEDQPhnoH9teJb/APs3TPtEFp5/kyS/vZpFijXais3LuozjAzk4HNHjj4gaB8N9Jt9T8R3/APZ1jcXkFhHL5Mku6eaQRxJhFYjczAZIwM8kCgDc/s+w/wCgfa/98f8A16P7PsP+gfa/98f/AF6wLPxt9s8fal4W/sHW4PsVlFe/21NZ7dNn3sV8qKbd80q4yy44BHNdLQBD/Z9h/wBA+1/74/8Ar0f2fYf9A+1/74/+vXJ+BfippPxA8ReM9G063vIbrwpqS6XevdIipJKYklDRFWJK7XAywU5B4712VAEP9n2H/QPtf++P/r0f2fYf9A+1/wC+P/r1h+CPiBoHxG069vvD1/8Ab7eyvp9NuSYZImhuYX2SxssiqwKn2wQQRkEGjwz8QNA8Zav4i0zRr/7deeH7wafqSrDIqwXBRZPL3soVyFZSdhOM4ODxQBuf2fYf9A+1/wC+P/r0f2fYf9A+1/74/wDr1g/Ejx5YfC/wD4g8XarDc3Gm6JZS39xFZqrTPHGpZggZlBbA4yQPetrStRj1fS7O/hVlhuoUnRZAAwVlDAHB64NAEn9n2H/QPtf++P8A69H9n2H/AED7X/vj/wCvU1FAEP8AZ9h/0D7X/vj/AOvR/Z9h/wBA+1/74/8Ar1NRQBD/AGfYf9A+1/74/wDr0f2fYf8AQPtf++P/AK9TUUAQ/wBn2H/QPtf++P8A69H9n2H/AED7X/vj/wCvU1FAEP8AZ9h/0D7X/vj/AOvR/Z9h/wBA+1/74/8Ar1NRQBD/AGfYf9A+1/74/wDr0f2fYf8AQPtf++P/AK9TUUAQ/wBn2H/QPtf++P8A69H9n2H/AED7X/vj/wCvU1FAEP8AZ9h/0D7X/vj/AOvR/Z9h/wBA+1/74/8Ar1NRQBD/AGfYf9A+1/74/wDr0f2fYf8AQPtf++P/AK9TUUAQ/wBn2H/QPtf++P8A69H9n2H/AED7X/vj/wCvU1FAEP8AZ9h/0D7X/vj/AOvR/Z9h/wBA+1/74/8Ar1NRQA6axsjY26mxtyod8Ls4H3feq/8AZ9h/0D7X/vj/AOvV6X/jxg/3n/8AZa5/xh4u0nwD4V1XxHr139h0bS7Z7u8ufLeTyokG5m2oCxwB0AJoA0v7PsP+gfa/98f/AF6P7PsP+gfa/wDfH/168+8L/tCeB/F3iTTtAtb/AFHT9X1OB7jT7XXNDv8ASjfIgBc25uoYxMVVgxEZYhecYBNej0AQ/wBn2H/QPtf++P8A69H9n2H/AED7X/vj/wCvU1FAEP8AZ9h/0D7X/vj/AOvR/Z9h/wBA+1/74/8Ar1NRQBD/AGfYf9A+1/74/wDr0f2fYf8AQPtf++P/AK9TUUAQ/wBn2H/QPtf++P8A69H9n2H/AED7X/vj/wCvU1FAEP8AZ9h/0D7X/vj/AOvR/Z9h/wBA+1/74/8Ar1NRQBD/AGfYf9A+1/74/wDr0f2fYf8AQPtf++P/AK9YHjb4iaF8Pbayl1qe6D3sxgtbTT7C4v7q4cKXIjt7dHlfCqzEqpCgZOBUPgH4oeGvidb6hL4ev5LiTTrj7LfWd5Zz2d3aS4DbJbedEljJBBG5RkcjNAHS/wBn2H/QPtf++P8A69H9n2H/AED7X/vj/wCvXBSfHzwadeudIsrjV9cubW5+xXM2g+H9Q1O1guAQGikubaCSFHXI3Kzgpn5sU/xZ8dvCPgzxe3ha+k1m719bNNQex0bw9qOpulu7siyMbWCQKCyMOSOlAHdf2fYf9A+1/wC+P/r0f2fYf9A+1/74/wDr1T8O+ILXxRo1tqdnFew21wCUj1GwnsZxgkfNDOiSJyP4lGRg9CK0qAIf7PsP+gfa/wDfH/16P7PsP+gfa/8AfH/165f4b/EzS/ijpur3ulQXdvFper3mjTLeIqs01tIY5GXazZQkcE4OOoFddQBD/Z9h/wBA+1/74/8Ar0f2fYf9A+1/74/+vU1FAEP9n2H/AED7X/vj/wCvR/Z9h/0D7X/vj/69TUUAQ/2fYf8AQPtf++P/AK9H9n2H/QPtf++P/r1NRQBD/Z9h/wBA+1/74/8Ar0f2fYf9A+1/74/+vU1cja/EzS7r4qX/AIASC7GsWekQ6zJOyL9nMMkrxKobdu37o2JG3GCOe1AHUf2fYf8AQPtf++P/AK9H9n2H/QPtf++P/r1NRQBD/Z9h/wBA+1/74/8Ar0f2fYf9A+1/74/+vU1cr8Tfih4Y+Dng298V+MNUGj6BZtGs92YZJtpdwiDZGrMcswHAPWgDpP7PsP8AoH2v/fH/ANej+z7D/oH2v/fH/wBeqHhXxVpXjjw1pniDQr2PUdH1O3S6tLqMELLE4BVsEAjg9CAR0IBrmvA/xw8EfErxd4p8MeGtej1XW/DEwg1e3jglVbaQsyhfMZAjnKMDsZsEHNAHaf2fYf8AQPtf++P/AK9H9n2H/QPtf++P/r1NRQBD/Z9h/wBA+1/74/8Ar0f2fYf9A+1/74/+vU1ITtBJ6CgCL+z7D/oH2v8A3x/9ej+z7D/oH2v/AHx/9esbwL460P4l+E9P8TeG77+0tE1BWe2uvKki8wKxQna6qw+ZSOQOlb9AEP8AZ9h/0D7X/vj/AOvR/Z9h/wBA+1/74/8Ar1NRQBD/AGfYf9A+1/74/wDr0f2fYf8AQPtf++P/AK9ZvjDxbpXgPwvqviLXLhrPR9Lt3u7u4SGSYxRIMs2yNWY4HPAJqaLxHpk3h1NeS8ibR3tBfLeZ/dmApv8AMz6beaALn9n2H/QPtf8Avj/69H9n2H/QPtf++P8A69ZfgvxlpHxC8KaX4k0C5a90XVIFurS5eCSEyxNyrbJFVgCOeQOKy/G3xM0vwFrng/StQgvJrjxRqZ0mya2RGSOUQyTbpCzAhdsTDKhjkjjuADqP7PsP+gfa/wDfH/16P7PsP+gfa/8AfH/16mooAh/s+w/6B9r/AN8f/Xo/s+w/6B9r/wB8f/XqaigCH+z7D/oH2v8A3x/9ej+z7D/oH2v/AHx/9epq4T4rfGLQ/hPp0P277RqOvX6Tf2ToGmWs13fajLHGzlI4YY5H2jADSbdibhuIyMgHa/2fYf8AQPtf++P/AK9H9n2H/QPtf++P/r1y/wAL/iTp/wAUvCsWrWUc9ndRsLfUNOu7eaCewugitJBIk0ccgK7hyyLuBDAYIqv4H+NHgn4leJvE3h/wv4htdc1Tw28UWqx2Ydo7d5N21fNxsc/I4IRm2lSGweKAOw/s+w/6B9r/AN8f/Xo/s+w/6B9r/wB8f/XrgPGX7QXgbwLrGpaVqWpXtzf6XbrdalDo+j3up/2dEylla6NrDILcFQWHmFcqCRxzWv4g+Lfg/wAL+EbDxPfa/aHQ9ReKPT7mzJujfyS/6qO2SIM87v8AwpGGY4OAcUAdR/Z9h/0D7X/vj/69H9n2H/QPtf8Avj/69cr4D+LXhf4kXWqWeiXtx/aWlsi3umalp9zp17b71DIz29zHHKEYH5X27WwQCSDjsKAIf7PsP+gfa/8AfH/16P7PsP8AoH2v/fH/ANepqKAIf7PsP+gfa/8AfH/16P7PsP8AoH2v/fH/ANepqKAIf7PsP+gfa/8AfH/16P7PsP8AoH2v/fH/ANepqKAIf7PsP+gfa/8AfH/16P7PsP8AoH2v/fH/ANepqKAIf7PsP+gfa/8AfH/16P7PsP8AoH2v/fH/ANepqKAIf7PsP+gfa/8AfH/16P7PsP8AoH2v/fH/ANepqKAIf7PsP+gfa/8AfH/16P7PsP8AoH2v/fH/ANepqKAIf7PsP+gfa/8AfH/16P7PsP8AoH2v/fH/ANepqKAIf7PsP+gfa/8AfH/16P7PsP8AoH2v/fH/ANepqKAIf7PsP+gfa/8AfH/16P7PsP8AoH2v/fH/ANepqKAIf7PsP+gfa/8AfH/16P7PsP8AoH2v/fH/ANepqKAIf7PsP+gfa/8AfH/16P7PsP8AoH2v/fH/ANepqKAIf7PsP+gfa/8AfH/16P7PsP8AoH2v/fH/ANepqKAIf7PsP+gfa/8AfH/16P7PsP8AoH2v/fH/ANepqKAIf7PsP+gfa/8AfH/16P7PsP8AoH2v/fH/ANepqKAIf7PsP+gfa/8AfH/16P7PsP8AoH2v/fH/ANepqKAIf7PsP+gfa/8AfH/16P7PsP8AoH2v/fH/ANepqKAIf7PsP+gfa/8AfH/16P7PsP8AoH2v/fH/ANepqKAIf7PsP+gfa/8AfH/16P7PsP8AoH2v/fH/ANepqKAIf7PsP+gfa/8AfH/16P7PsP8AoH2v/fH/ANepqKAIf7PsP+gfa/8AfH/16P7PsP8AoH2v/fH/ANepqKAIf7PsP+gfa/8AfH/16P7PsP8AoH2v/fH/ANepqKAIf7PsP+gfa/8AfH/16P7PsP8AoH2v/fH/ANepqKAIf7PsP+gfa/8AfH/16sabY2SajasljbowlQhlTkHI5HNNqxp//IQtv+uq/wAxQB3FFFFABRRRQAUUUUAFFFFABRRRQAUUUUAcPqH/ACELn/rq38zXy7+2N8RPD1lr/wALPh7r+u2Ogab4g16LU9Vu9Su47aBbCxIuCjyOygeZMsCDnn5q+otQ/wCQhc/9dW/ma4S1+Fek2/xavviJJcXl1r1xpUejRRzuht7S2WQyMsShQQXfDMWZs7VAwBigD5l+Bvxy0DwLb/tF6D4Z1vTPE1j4VlvfGOiSWF2l1by2txCbh4leNiCI7jepG4Ebx0r1v4I/DGXWvAXg7xhrHjTxZqfiTVtNj1DU7hdfuVs7s3MBZ41tN/kQIpkGwwJG6+WmH+9u7XxB8F/D3iP4oad48uftK6va6Rc6FPBGyfZr6ymYMYp0ZSWCsCy7SvLHORxWV8P/AICwfDhtLstM8a+LJfC+kuzad4ZuLq3Nnaqd2yLzFgW5kjjDEKkszrgLkHaMAHkH7KPgHTtC0n4v6xaXuvfbbHxl4gs4RP4gv54disAGeF5mjkl/6aupkJ5LE1k/DHxf4q0nwP8Asw+Pr/xJq2o6ZrFpH4d8QwXt9LKlxJeJm1upNzYMizoqbyCxE2M9q+gPC/wRsPBviPxTf6Tr+tW2leJLqe/vfDxa2exF3MirLPGWhM6MxTdt83ZuZjt5qt/wzz4c/wCFE2HwoF5qi6FYWkFra34lj+3RGF1kimV/L2CRXRWB2YyOlAHzn4++KHjGZvEXiHRtU8RXWleNvH1r4I0m00e8jSW2sLZJI7qWyMzrDFNPNFOgkJUjAYMCFI9c+DWmeOdE+LmoRDw34y0T4b3ekeY0XjbxBb6tPDqSSqB5EgvbqYRvEzFlZtoaMEAEnPY3H7OvhK6+Duk/DiUXx0rSUiew1KOcR6hbXUTb0vElVQFnEhMm4LgkkFSpKnoPBvgO98L3095qfjTxH4vuZIhDG2svaxxwpnJ2xWsEEbMSB87qzgDAYAkEA8j/AG+GmT9nqVraOOW4Gv6MY45XKIzf2hBgMwDFQT3AOPQ9K479rnVviPefDzw5H4k8K+F9J0o+LtEL3OleJrm+nDfbo9oET6fCpBPU7xj0NfRXxZ+Fek/GTwj/AMI5rVxeWtl9ttb7zLB0STzLeZJkGWVhtLIAeM4zgjrR8VfhXpPxe8O2ejazcXlta2upWmqI9i6I5lt5VlRSWVhtLKARjOOhHWgDybXvHHiHRf2gPi7FZanI8Gk+ALPUrCwvLkiyiuvMvT5hRmCLu2IGbjIUZOBXjXw71Kw+I3iT4CT+GPiV4t8W+IL4yaj440618X37wwp9lMjPd28cwS0CXJjRIgkaOGKbWAr6L+MHwdlvNN+J3inwzaNrfjLxF4UOgR6RfzIllOsYmMa/wsGYzuCTIB937vJrxrw1pt9a2Pwvs/hlb/Fa38V2t5p41oeL5Nbj02KwVAt6s635+ysdpIVbYFg4Ux4VTQBZ+GXw3Tx58Tf2k2ufEfiPSYYvEgW2h0LVptN8mf7BF+/LwMjyMAQAkjNH8udhPNe5fsxeONW+JX7P/gTxLrs63Ws6hpkcl3cKip50oyrSbVAALFd2AAATxWz4N+EukeB9a8b6pYXN9LceLtQ/tK+W4dGSOTyUhxEAgIXagOGLHOee1XPhb8OdN+Efw/0Pwfo891c6ZpEH2eCW+dXmZck5cqqgnnsooA8ETxdZ/s0/tA/FSHVJBD4U8S6HJ47teNoW7tUEV/EvqzqsEn41V+G2haJ8O/gN4T/4WH4l13Sdf8ZXlx4h1HS/Dcl1HqGqX12ftDRotkpvG8lSgPkMownz5TIr1z47fs3+Ev2hoPD0Xik38Q0W8N1E2nTLE00bDEttKSrEwyAKHUYJ2jkYrW+JHwfsPiJq3hnWU1jVvDHiHw5LNJpur6K0HnRLNEY5oik8UsTo67chkJBRSCMcgHylP43ude/Zz/at8OrqWv6poXh6O6TSJPFK3Q1GG3nsVmMEn2pVuCqOz7DLl9pHJGDXsuk+INUh/aM+FmjR6leR6PceALu5m09Z3FvJKktmqSNHnaWUMwDEZAY+tdBa/ss+GYPCvxJ0SbWvEN+PiBGF1u/vLuOS5Z/IELSRnytqFgN23aUUnCKiBUG74w+B2neKLzwnqdlruteGNf8ADEElpYa1o725n+zyRqkkMiTwyxSI2yNvmjyGQFSOcgHgPjn41eLPh54c/ab1nTtQvr2/0jxHp2n6QksgnWwFxbWUZMSSkooDTM4UjaWPzdTXW/D3QPH3hv4reD20bw18RNP8KSW9xa+JpfHfii01WOTEJa3uIlGoXDxy+au1hEqIRJyvyjHeeGv2W/A3h7w7470GeHUNe0nxrc/bNZt9ZvGnMspjVHdZOHUsU353ZVjlNoCgbvgf4U3vg+7sZL34g+LvFlvYQ+Ta2mtXFqI0+Xbuc29vC87beMztJyd33sNQB6BRRRQAUUUUAFFFFABRRRQAUUUUAFFFFABRRRQAUUUUAFFFFABRRRQBYl/48YP95/8A2WvGP2wP+TWfit/2Ll7/AOimr2eX/jxg/wB5/wD2WuT+JHgOw+KHgHxB4R1Wa5t9N1uylsLiWzZVmSORSrFCysA2DxkEe1AHzO174g8VfGP4C6H4+0qw8JWFhBJrOh3mj376jHq15HaFDaySvFA1syxOZSnlyCQcBwVOcZfEXjf4y33xV1Ky0P4l3WraXrt9oXh258L+IrPTtN042h2xGS2kvoPPdpCXkM8UoKsFHyjFfS/jj4L6J490fwjY3l1qFlL4W1G01TTL6xmWO4jmgBUAkoVKuhZXXGCGPTgjJuvgDa23inXdb8M+MPEvgf8At+VbnVtP0J7Q2t5cAbWuNtxbytFK67VZoWj3bFJ+YbqAPOY9W8W/E74veCPh74y1C/8ADItPA8fibX9N0HUpLGa61GSUW5iN1bSCQRRMJW2xOAxK5LAAVB8bdS1vwP4n+Ffwu0aXxt4i0jXbjUr29Ol6xHHrE9vbKssdot9PNC4QNIoZ/OExSMLvYs2fW/GXwP0vxVrHh3XLHWtb8L+JtBt3srPXtKuI5bprV1AeCb7VHMk6MQrZkRmDKGDAk5ra/wDAPS/E2h6HBfeIvEUniPQ75tS07xcLqP8AtS3uHJ8wqTF5IjdSY2h8rytpxsGBgA8E8aX3xL8B/Af4+zzW3i7wp4etNLS98LXXiDXYb3VrWVkb7SguYbqeTYrqjIZJCw8wgHAwOo1W11f4WeIPgdrtp4u8SaxfeKNWi0fXo9X1WW4tb6Oezkl3i2J8m3dJIkKmBI+NwOQxz6rrnwLtvF3w48VeEPEvi3xL4ih8R25tLvUr2e3S4jixgLDHFAlvGRk8iLLZ+Ythcavib4R6P4qXwOt3c30Y8IajDqdh5MiDzJIoXhUS5Q5XbISQu05A5HSgDyX4caTd/tBeIfifrOueKvEmnLo/ia78OaNaeH9auNOi06O1Cr5pjhcJPK8jM5Nwsi4Crt25U53iD4v3v7O/xZ+LFp4k1a+1XQbnw1/wmehLqFw0nlywL5F1ZxZOFDSeQ6xqAAZWwOa9O1D9n2yXxV4g1zw94u8TeC/+EidJtZsNCmtRb3syrsM376CR4ZGTarPA8ZOxT94bq87/AGqPhGvxc+I3wO8ProupXlpY63JqGo6qsUsltBYQxB3t55iCMzyJAoDNlipPOKAPVP2efDfiHwr8GfC1n4s1a+1rxPJaC71O61Cd5ZPtExMrx5YkhUL7FA4AQYArxL49fGDxrY/E9/CPiLW3+BvwzmaGG38eRWn26TV2k4eBbogwaYcF8POCwMYZTivrKoL6xttUsbizvLeK7s7iNopredA8cqMMMrKeCCCQQeDmgDwL/hGvDPwp+Hfhix8J+OvH9npV8ZtQOteFdJPiefWZZdjvd3U5sLwbnLbwy+Wrb2wCAAvW/BvWv7U1PUV/4TD4g+JdsKnyvGXhT+x4ovm+9E/9m2m9uxXc2Bzgda7LwD8OPDXwt0OXRvCmkQaHpMl1NefYbUsIUklYs+xCSI1JPCLhR0AArpaAMjxVda9Z6PJJ4b03TtW1UMoS21XUJLGArn5iZUgmYEDoNhz6ivl/wZq2r+F/H37Q134kRdM+K19oUesQ2WmsJNOTToIJorRradvnldX3eY0scR3kbY9oBP0Z458CXPjCTTbix8W+IPCN9Ys5S50OaHEquuGSWG4ilhkHAILRllI+Vly2czwL8G9J8F6zrWu3Woal4q8T61FHb32ua68T3ElumfLgVIo44Y4l3MdscahixLbjzQB81/Dvxt8RPgT+xt4N8fW8nhPVPCum6LZahd+H47C5W+mgl2GaQX/2jYZ2aRpSDbYyzLubG9vbfEHwp8WXvxZuPiX4K8W6LpdxqHh+30hrDXNBmvo2WOWSZXDx3kBUky4IIbGKrWf7Jvhy10iz8NP4j8SXfw9s7wXkHge4ntm0xdshkjiL+R9peFJMOImnK5VQQVG2uw8VfC/U/EGuXWoaZ8R/F3hOO6hSKWw0lrGW3yoI3ot1azGJiDg+Wyg7QcZySAUP2fPi1efGDwPeX2rabBpOv6Pqt3oWq21nM01t9qtpNjvC7KGMbcMAwyN2DnGTwi2198aP2iviN4f1XxD4g0bQvBljp9vp1joGp3Gm77i7iM0l3K8LqZiu1UVJN0Y2tlCWJPsfw7+HmhfC3wpa+HfDto1rp1uzyfvZWmlmldi8kskjks7uzFizEkk1zXin4G2GveOp/F+l+Ite8Ia3e2Sadqc2gy26jUrdG3RrKJoZNrJlwskWyQByN/TAB4X8A77S/CPwF8ZReNPG2o6dAvj3WLS51PTyLa91SU3TL5MawIZBJKc4W1Cy5/1ZXFQeCdQvPGvxI+MHwx8KeJ/Hen6HeeFrXUtLuPEc2qW+paVfO0sLNby3wW6ETFIn5Zl3B9pALCvW7X9kvwbpfw/i8J6Xfa3pdvaeIj4o03UILpHu9OvvN8wNE0kbq6jLJiZZMqzbixOa3/AvwJ07wT8QtT8by+Idf8R+J9T06PTLy81meFhLHHK0iERxRRxxkbtuI1VCFyVLs7sAeF+FPjLr/wAerP4B+HLPVLzRdduJp9X8YHT53hljTTCYJ4H2sCEmu2RSpPKg5yOurD4k1HwN8dtQT4pXPjTSW1TxDt8KeJNNv5m8NvaP5SW+nzW6OYY5mLSKWuIdzHcySqQhGp+zL8KBpPxu+OPxDl0TUNEi1rXP7P0yDUrd4WaCJQ9xcRq4B8ue4dnBAw2zIzmvQtX/AGf7LxJ4gsbvW/F3ijWtDsdWGt23hm+ubd7GO6VmeMlxALl0SRt6xvMyKVUbdqqoAPVKpa1cQ2mj309xfjSreOCR5L9mRRbKFJMuXBQbR82WBXjkEVdrP8Q6DYeKtA1LRdVtxd6ZqVtJZ3VuzFRJFIpR1yCCMqSODnmgD5FvPiVoug/F74QXvgLxR491e38Ra3Jpeqya8dXk0fVbeW3kcTwtdoLXcJI1dDabV2s21dnA2vA/hnU/ix8Qvj/b63438YQWGja8bXSLPS9eubFLBmsomMiGF1ZsEgiN2MQOTsyxJ9C0n9lXSrOfwO+peNfF/iKLwVcwXGhW+pXNqsVsIomiCMsNtH5wKMoLy75BsG113Pv7jwb8JdI8D61431Swub6W48Xah/aV8tw6MkcnkpDiIBAQu1AcMWOc89qAPnPQPil4q+L3gv8AZs0DU9cvtMPjiC5vPEGqaRI1ndXYsoN/kpNCVaDznwzGPadqsqlQSD03wt8Hy+Cf20fGWn/25qmt2J8F2MtmNXuGuZ7WI3s/7kzuTJMAwZg0rM+G2liFFd7H+zD4Zs/h14J8KWOp6zp03gyVZ9D8QW80P9o2kg3BjlojE4dXZGR4irKfu5AI1PAfwF0bwH8QtU8bx6vres+JtW0+PT9QvdWuY5PtISRnWQokarG3zBdsYSMKowgOSQD0uiiigAr55/bu5+AeDyP+Ei0T/wBOMFfQ1cb8WfhXpPxk8I/8I5rVxeWtl9ttb7zLB0STzLeZJkGWVhtLIAeM4zgjrQB8z6H8UJv2YPC/xe+G8S+fqvh+8S58E2jMM3cOqOfsdumevl3LSoeMBVHoTVL4VaEv7Mni74wwWYW/uvCvw60y/mkkBIu7tBfzzSNzk+ZKXY8/xda+i/HP7PPg/wCIfxZ8FfEXV7e4fxD4SEosfLkUQyb/ALvmqVJby2yyYK4YnOelbFv8JdEh+IHinxbIbi7vPEem22lX1ncFGtTBD5u0Ku3OWEzhssQRjAHOQD5x8YWmveA/2V9P+NEHjfxLf+PrPTbPxDdTS6xcPpt+ZdjTWzaeX+ypCUlZF8uJWTajA7gSejt7PUfid+1t410HUvFHiew8K2nhfSb9ND0zWLiwTz5HnG/fCyyxkAciN1D8b9wUAdvp37LOgWek6Z4duPEviXVPAWmTxz2fgy+ubd9Oi8t/MhiZxALmWKNtpWOWd1+RQwYACu20r4V6To/xV17x/DcXjazrOnWumXEEjobdY4GdkKKF3BiZGySxHAwBQB8rXXxk8aab8CdI8Ow6hr2s6pd/Ea48Bf2tYTwrq8lhHPMAUnmZEFy0UQjEzspyS+4P81elfDvwl4yn+IWuaTc6B498PfC/U9EzKvifxat3e2+pJKoH2W5g1Ce6jR4i24eYFBj4xuOe4l/Zm8IXHgTW/Cs8upy2upa5ceJI74XKx3mn6hLMZlntpEVfLaNzlMg8cNuBIPVeDfAN74ZvLi71Pxp4i8YXMkXkRnWntY44UzkhYrWCCMsSB87qzgDAYAkEA+dv2Q9D8PeCf2OdF8Uah4r1bwrBcadN9t1W41yaS3s0W6kG6GG5aS3hY4C5SMElv7xzUnw/8eWOkftTeFPD/hDVPHU3hjxF4evpb3T/ABoNZMaz27xvDPbNqi+ZkrI6t5bFCNmQCAT6ZZ/sreG7b4Z+IPh3JrviC68EakHFpo001uF0gtO06m1lWETZSQhl855QNijBGQdPQ/2fbPT/AIjaJ461fxf4n8V+JdHtbmytrjVprVYhBMEDIYbe3ijGCmQ6qHJYh2cKgUA8a+B/w81/4v8Awa8X6xqXxA8YHxJdX+uaZo9zb6/d20emol3cRxYSOULKwbnfIGKqERdoQVF4U+Muv/Hqz+Afhyz1S80XXbiafV/GB0+d4ZY00wmCeB9rAhJrtkUqTyoOcjr9I/C/4Z6X8JfC76DpE95c2b313qBe9dGk8y4neZxlVUbQ0hA4zgDJPWvF/wBmX4UDSfjd8cfiHLomoaJFrWuf2fpkGpW7ws0ESh7i4jVwD5c9w7OCBhtmRnNAH0VrOk2uv6PfaZfRLPZXsD208TDh43UqwP1BNfD1v4q1i3/Zj1H4Cm9YeM4fE6/DKC42/ObGRt6XRXP3f7P3n/gNfdteVzfs3eEZvj7F8XW+3DxLHafZharMosmkEbRC5aPbuMwiZowxbG04x3oA4D4rR/D7RYLvwk3izx3Dqej6KkFlpPgWXVSdEjEOyKSVNMjIUttVl+2bx8h2gLuB4XS/HWq/EvwH+x/4m1yYXOsahrySXdxtC+bINOvFZyAAAWK7jgYyeK96179n3TtW8ca/4lsPFHiTw2/iOC3t9d0/R7iBINSWFWRCzPC80LGNvLL28kTYCkEMA1RaF+zX4Y8PeGfhlodre6sbP4f3f2zSmkmjLyv5UsWJz5eGXbM33QpyBz1yAc78H/Emr6nr37QEd5ql7dx6Z4llgsVnuHcWkY0+3cJECfkXczNhcDJJ714tovxU8Xa18K/2Z/C7Hxb4hbxdpM+o61PoOqR2+rX62sKOIheTzwlAzuGkZZUkKptB+Yg/RPiL9m/RPEHibxRqcfiDxFo1h4rSNPEGh6XdRRWmplI/KDsxiM0TGPajGCWPcEXOect/4Zl8MQfD3wR4XsdQ1jTbnwV5Z0HxFaTxDUrNlXaxDGMxuHQlHR42RlPK5AIAM79nqx8c6R4i8a2Ou6N4k0nwX5ltceHk8Xavb6lqEbOji6iM0dzcO0auqMvmyFh5hAOAALv7RngPwZruj6Z4o8U+Nb34b3nh2Rm0/wAVWGrjT3tTKU3xHfmKVZDGimN1bcBgYya7vwX4PuPCcN2b7xPrfiu9umUvea1JCGVVBCokVvFFCgGTkrGGbPzFsDFfxh8JvB/xA8QeH9a8S+HrLXdR0BpX0x79PNS2eTYWcRn5C2Y0IYglSuVI5oA8h/ZP+L/j34lSarba3bnxV4MtIIm0f4knSpNE/twtHGWH2CUluCz/AL5NsbbMBQa3/jN8JPGWpfEjwz8SvhxqejQeLNHsptJn0zxIkv2C+sppEd18yIGSKRSmVYKwJwCMZz7ZXkXxz8E+OdVl0rV/h74q17Q9Ya7srC9tbGWzktDYtcqbicw3kciCWOJpSGjwzfKGDhVUAEPwn+KsX7QOheN/CvinwtceFPEGjTvoviDQf7RE4RZoyUaK6h2FleJshgEZTkDoGPE/s/eG9K8H/tVfHLRdE0+30rSbHS/DcNtZ2kYjiiQW9xgKo6V694F+EOmfDvQNds9I1LU/7X1yeW91HxFdSRTX9xduoX7Qd0flBlAUKgjEahQAmMg8x4P/AGc5PBvxH1XxtF8SvGGoavrH2VdVjvYtK8m+jt1ZYo3WOxQoAHYZiKMc8mgDnf2QJBqWnfFy7u28/UJ/iDrMV28igMRGyRxqfUCNUAzjj8z8/wD7N7Tf8JJ+zXpl2zf2RDeeM59Pt2AMe6OaRISpz/DG8gXrgHgYOa+qta/Z1sbrxD4l1XQPGHijwSviba+tWPh+e1WC8lCGMzjzreV4ZWTCl4HjJ2K33huq94i/Z78J6x4T8KaHpiXfhX/hE5Y5/D+oaJKqXOmuo2nYZFkVw6FldZVcOGJYE4IAOH1OF4f29NCltV2ib4fXQvSn8SrfxeVv+hZsfVvevoSuF8A/COw8D69q/iG41fVfFPijVUjgudc1x4TceRGD5cEaQRRRRRqSzbUjXczFm3Hmu6oAKKKKACiiigAooooAKKKKACiiigAooooAKKKKACiiigAooooAKKKKACiiigAooooAKKKKACiiigAooooAKKKKACiiigAooooAKKKKACiiigAooooAKKKKACiiigAqxp//ACELb/rqv8xVerGn/wDIQtv+uq/zFAHcUUUUAFFFFABRRRQAUUUUAFFFFABRRRQBw+of8hC5/wCurfzNV6sah/yELn/rq38zVegAooooAKKKKACiiigAooooAKKKKACiiigAooooAKKKKACiiigAooooAKKKKACiiigAooooAKKKKACiiigAooooAKKKKACiiigAooooAsS/8eMH+8//ALLVerEv/HjB/vP/AOy1XoAKKKKACiiigAooooAKKKKACiiigAooooAKKKKACiiigAooooAKKKKACiiigAooooAKKKKACiiigAooooAKKKKACiiigAooooAKKKKACiiigAooooAKKKKACiiigAooooAKKKKACiiigAooooAKKKKACiiigAooooAKKKKACiiigAooooAKKKKACiiigAooooAKKKKACiiigAooooAKKKKACiiigAooooAKKKKACiiigAooooAKKKKACiiigAooooAKKKKACiiigAooooAKKKKACrGn/wDIQtv+uq/zFV6saf8A8hC2/wCuq/zFAHcUUUUAFFFFABRRRQAUUUUAFFFFABRRRQBw+of8hC5/66t/M1XqxqH/ACELn/rq38zVegAooooAKKKKACiiigAooooAKKKKACiiigAooooAKKKKACiiigAooooAKKKKACiiigAooooAKKKKACiiigAooooAKKKKACiiigAooooAsS/8eMH+8/8A7LVerEv/AB4wf7z/APstV6ACiiigAooooAKKKKACiiigAooooAKKKKACiiigAooooAKKKKACiiigAooooAKKKKACiiigAooooAKKKKACiiigAooooAKKKKACiiigAooooAKKKKACiiigAooooAKKKKACiiigAooooAKKKKACiiigAooooAKKKKACiiigAooooAKKKKACiiigAooooAKKKKACiiigAooooAKKKKACiiigAooooAKKKKACiiigAooooAKKKKACiiigAooooAKKKKACiiigAooooAKKKKACiiigAqxp/wDyELb/AK6r/MVXqxp//IQtv+uq/wAxQB3FFFFABRRRQAUUUUAFFFFABRRRQAUUUUAeV6z4witdYvoTYFzHPIhbz8ZwxGcbap/8JtD/ANA0/wDgR/8AY1i+JP8AkYtU/wCvqX/0M1i6lqVnoun3N/qF1BY2NtG0091cyCOKJFGWZmYgKAOSTwKAO0/4TaH/AKBp/wDAj/7Gj/hNof8AoGn/AMCP/sa4nSdYsPEGmW2paXe2+paddIJYLu0lWWKVD0ZXUkMD6g1boA6v/hNof+gaf/Aj/wCxo/4TaH/oGn/wI/8Asa4CDxRo93Y6je2up2t5babJLDeSWsomEEkX+sjfZnDr3XqPSovBvjHSPiB4X03xFoF39v0bUYhNa3PlPH5iEkZ2uAw6HqBQB6J/wm0P/QNP/gR/9jR/wm0P/QNP/gR/9jXKUUAdX/wm0P8A0DT/AOBH/wBjR/wm0P8A0DT/AOBH/wBjXD6xrmneHbE3uq39rplmrpGbi8mWKMM7BUXcxAyzEADuSBV2gDq/+E2h/wCgaf8AwI/+xo/4TaH/AKBp/wDAj/7GuUooA6v/AITaH/oGn/wI/wDsaP8AhNof+gaf/Aj/AOxrlKoazr2meHbVLnVtRtNMtpJUgSa8nWFGkdgqICxALMSAB1JOBQB3X/CbQ/8AQNP/AIEf/Y0f8JtD/wBA0/8AgR/9jXFarq1joOm3Oo6leW+nafaxtLPd3UqxRRIBks7sQFAHUk1NbXMV5bxXFvKk8EqCSOWNgyupGQwI4II70Adf/wAJtD/0DT/4Ef8A2NH/AAm0P/QNP/gR/wDY15zeeNNG0/xdpvhi4vPL1zUraa8tbXynPmRRFBI24DaMGROCQTngHBrboA6v/hNof+gaf/Aj/wCxo/4TaH/oGn/wI/8Asa5SigDq/wDhNof+gaf/AAI/+xo/4TaH/oGn/wACP/sa5SigDq/+E2h/6Bp/8CP/ALGj/hNof+gaf/Aj/wCxrlKKAOr/AOE2h/6Bp/8AAj/7Gj/hNof+gaf/AAI/+xrlKKAOr/4TaH/oGn/wI/8AsaP+E2h/6Bp/8CP/ALGuUooA6v8A4TaH/oGn/wACP/saP+E2h/6Bp/8AAj/7GuUooA6v/hNof+gaf/Aj/wCxo/4TaH/oGn/wI/8Asa5SigDq/wDhNof+gaf/AAI/+xo/4TaH/oGn/wACP/sa5SigDq/+E2h/6Bp/8CP/ALGj/hNof+gaf/Aj/wCxrlKKAOr/AOE2h/6Bp/8AAj/7Gj/hNof+gaf/AAI/+xrlKKAOr/4TaH/oGn/wI/8AsaP+E2h/6Bp/8CP/ALGuUooA7e48YRJpdpL9gJDySDb5/TG3/Z96p/8ACbQ/9A0/+BH/ANjWLdf8gLT/APrrN/7JWJqurWOg6bc6jqV5b6dp9rG0s93dSrFFEgGSzuxAUAdSTQB2v/CbQ/8AQNP/AIEf/Y0f8JtD/wBA0/8AgR/9jXlfhT4reCvHl9LZeGvGGgeIryKPzZLfSdTgupETIG4rGxIGSBn3FdTQB1f/AAm0P/QNP/gR/wDY0f8ACbQ/9A0/+BH/ANjXKUUAdX/wm0P/AEDT/wCBH/2NH/CbQ/8AQNP/AIEf/Y1ylFAHV/8ACbQ/9A0/+BH/ANjR/wAJtD/0DT/4Ef8A2NcpRQB1f/CbQ/8AQNP/AIEf/Y0f8JtD/wBA0/8AgR/9jXKUUAdX/wAJtD/0DT/4Ef8A2NH/AAm0P/QNP/gR/wDY1ylFAHV/8JtD/wBA0/8AgR/9jR/wm0P/AEDT/wCBH/2NefeJvFuh+C9LOpeIdZ0/QdODiM3mp3UdtCGPRd7kDJ9M0vhnxZofjTS11Lw9rOn67pzO0YvNMukuISw6rvQkZHcZoA9A/wCE2h/6Bp/8CP8A7Gj/AITaH/oGn/wI/wDsa8p1z4s+B/DGuJous+MvD+k6y+zbp19qkENwd/3MRs4b5u3HNHir4s+B/AuoJYeJPGXh/wAP3zxiZbXVdUgtpWQkgMFdwSMgjPTg0Aerf8JtD/0DT/4Ef/Y0f8JtD/0DT/4Ef/Y1wmg+INL8VaTb6poupWer6ZcAmG9sJ0nhkAJBKuhKnBBHB6g1oUAdX/wm0P8A0DT/AOBH/wBjR/wm0P8A0DT/AOBH/wBjXnXhXxno/ja1vrnRbz7bDZXs+nXDeU8ey4hfZImGAzhhjI4PYmtqgDq/+E2h/wCgaf8AwI/+xo/4TaH/AKBp/wDAj/7GuUooA6v/AITaH/oGn/wI/wDsaP8AhNof+gaf/Aj/AOxrlKKAOr/4TaH/AKBp/wDAj/7Gj/hNof8AoGn/AMCP/sa5SigDq/8AhNof+gaf/Aj/AOxo/wCE2h/6Bp/8CP8A7GuUrFh8Z6PP4yufCqXm7XreyTUZbTyn+W3d2RX342nLIwwDnjpQB6L/AMJtD/0DT/4Ef/Y0f8JtD/0DT/4Ef/Y1ylFAHV/8JtD/ANA0/wDgR/8AY0f8JtD/ANA0/wDgR/8AY1ylZ3iHxJpHhHSZtU13VLLRdMh2+be6hcJBDHkhRudyFGSQBk9SKAO8/wCE2h/6Bp/8CP8A7Gj/AITaH/oGn/wI/wDsa42xv7bVLG3vbK4ivLO4jWWG4gcPHKjDKsrDgggggjrms/SvGGg67q+paVput6dqGqaYwS+sbW7jlntGOcCVFJZCcH7wHQ0Aehf8JtD/ANA0/wDgR/8AY0f8JtD/ANA0/wDgR/8AY1ylFAHV/wDCbQ/9A0/+BH/2NH/CbQ/9A0/+BH/2NcpRQB1f/CbQ/wDQNP8A4Ef/AGNH/CbQ/wDQNP8A4Ef/AGNcPouuad4k0uDUtJ1C11TTrgEw3dlMs0MgBIJV1JB5BHB6irtAHV/8JtD/ANA0/wDgR/8AY0f8JtD/ANA0/wDgR/8AY1ylFAHV/wDCbQ/9A0/+BH/2NH/CbQ/9A0/+BH/2NcRrGsWHh/TLnUtUvrbTdOtUMk93eSrFFEo6szsQFHuTU63ULWouVmjNuU8wTBhsK4zuz0xjnNAHYf8ACbQ/9A0/+BH/ANjR/wAJtD/0DT/4Ef8A2NcPo2tad4j0u21PSb+11TTrlPMgvLOZZoZV/vK6khh7g1R8QeNNG8Lajodjql59lutbu/sOnx+U7+dN5bSbMqCF+VGOWwOOucUAejf8JtD/ANA0/wDgR/8AY0f8JtD/ANA0/wDgR/8AY1ylFAHV/wDCbQ/9A0/+BH/2NH/CbQ/9A0/+BH/2NcpRQB1f/CbQ/wDQNP8A4Ef/AGNH/CbQ/wDQNP8A4Ef/AGNcpRQB1f8Awm0P/QNP/gR/9jR/wm0P/QNP/gR/9jXKV594J+PXgX4ieMdY8NeHvEem6pqOmrG5+y30Eq3Csu5jDskLOE4DnAAJAz1oA9s/4TaH/oGn/wACP/saP+E2h/6Bp/8AAj/7GuC1rxLpHhv7ENW1Wy0v7dcpZ2v224SH7RO/3Io9xG5zg4UZJx0qXWtc07w3pdzqerX9rpem2y757y9mWGGJc4yzsQFHPUmgDuP+E2h/6Bp/8CP/ALGj/hNof+gaf/Aj/wCxrzrwr428O+OtPkvvDWvaZ4hso5DC9zpV5HdRrIACULRsQGwynHXBHrVK3+KPgy68VN4Yh8XaFN4lV2jOjR6lC14GVSzL5IbfkKCSMcAE0Aepf8JtD/0DT/4Ef/Y0f8JtD/0DT/4Ef/Y1ylFAHV/8JtD/ANA0/wDgR/8AY0f8JtD/ANA0/wDgR/8AY1ylFAHV/wDCbQ/9A0/+BH/2NH/CbQ/9A0/+BH/2NcpRQB1f/CbQ/wDQNP8A4Ef/AGNH/CbQ/wDQNP8A4Ef/AGNcpRQB1f8Awm0P/QNP/gR/9jR/wm0P/QNP/gR/9jXKUUAdX/wm0P8A0DT/AOBH/wBjR/wm0P8A0DT/AOBH/wBjXKUUAdX/AMJtD/0DT/4Ef/Y0f8JtD/0DT/4Ef/Y1ylFAHV/8JtD/ANA0/wDgR/8AY0f8JtD/ANA0/wDgR/8AY1ylFAHV/wDCbQ/9A0/+BH/2NH/CbQ/9A0/+BH/2NcpRQB1f/CbQ/wDQNP8A4Ef/AGNH/CbQ/wDQNP8A4Ef/AGNcpRQB1f8Awm0P/QNP/gR/9jR/wm0P/QNP/gR/9jXKUUAdX/wm0P8A0DT/AOBH/wBjR/wm0P8A0DT/AOBH/wBjXKUUAdX/AMJtD/0DT/4Ef/Y0f8JtD/0DT/4Ef/Y1ylFAHV/8JtD/ANA0/wDgR/8AY0f8JtD/ANA0/wDgR/8AY1ylFAHV/wDCbQ/9A0/+BH/2NH/CbQ/9A0/+BH/2NcpRQB1f/CbQ/wDQNP8A4Ef/AGNH/CbQ/wDQNP8A4Ef/AGNcpRQB1f8Awm0P/QNP/gR/9jR/wm0P/QNP/gR/9jXKUUAdX/wm0P8A0DT/AOBH/wBjR/wm0P8A0DT/AOBH/wBjXKUUAdX/AMJtD/0DT/4Ef/Y0f8JtD/0DT/4Ef/Y1ylFAHV/8JtD/ANA0/wDgR/8AY0f8JtD/ANA0/wDgR/8AY1ylFAHV/wDCbQ/9A0/+BH/2NH/CbQ/9A0/+BH/2NcpRQB1f/CbQ/wDQNP8A4Ef/AGNH/CbQ/wDQNP8A4Ef/AGNcpRQB1f8Awm0P/QNP/gR/9jR/wm0P/QNP/gR/9jXKUUAdX/wm0P8A0DT/AOBH/wBjVzRvGEV1rFjCLAoZJ40DefnGWAzjbXEVo+G/+Ri0v/r6i/8AQxQB71RRRQAUUUUAFFFFABRRRQAUUUUAFFFFAHgviT/kYtU/6+pf/QzXgX7Suqf23J4G+G9vMVuvGGtRJdIoOf7OtiLi6z7MESM54IkPbNe++JP+Ri1T/r6l/wDQzXjviT4AaF48+K0ni/xfb6d4psIdKXTNO0PUtNjmgtCZPMlmPmFg8jEKAQq7VUjnNAHAfB/xtF8I9K+MvhO+JnXwFeXes2VtnaW02eNruJF46KxkTIGBgV2fwu0nx34n8L+HPFWsePrpLnWLRb280W306z+w26TxFkS2Plecrxlo8PLJKDsbKHcNsH/DLvhLTfiH/wAJBoFjpvhzR73Q7rQdZ8P6bpscFvqMMpDK58sqEdTkFtrFlOOMVrfDn4Z+L/ANnouhN45t9R8J6OPJtbdtGCajLbqCsMM9yZmjcKpUFkgjZtg5HOQDzT9mPw/q2j6f8UdSPjDWb1LTxbrkRsbiGyEM8qsP9IcpbK/mE8kKyp6IBxTvh98WvGkmi/APxLrWrfb9E8XWR03WUNrCn/Ewli8y2nBRAVyY5IyoIX5l4zzXpXg34R6n4I1nxill4htZvDHiK/utVbT59NY3dtc3Cr5m25EwVo9wZgpi3fNjfxWfH+z/AOV+z/ofw3j17ZfaLBafYteFnzFc20iyRTiHzOzIMrv6EjNAHmvjn4+eKtHvPFd7Zao8Wi6l4rtfBmgNb6Sb17J0iJvrxIo0Mlw4cSIifMN0Y+UjIPb/AAm8c+JLv4pX3h+W68VeJvCkulfbodc8T+GJdJltbpZFRrbcbS2jkDKwdcJuG18kjpoyfs62bfB7w/4Oj1q4ttY0K5j1Wy8RQQgSJqau0pujExIYPJJIWjJOVdl3Zww7bwno/i6zvJrjxP4l0/V18vy4bXSdHNhCpzku/mTzuz8YGHVQCcqTggA8+/bA/wCSI3f/AGF9J/8AThb113x1+Itz8J/hR4g8UWNrDeahZxIlpBcEiJp5ZEij3452h5FJAIyAeR1p/wAafhrN8Wvh/deHLfVE0aeS5tbqO8ktTcqjQzpMAYw6FgTHj7w61ma58L9f+I3hPXfC/wAQNe0fV9D1S28kLoOizadcQSBgyyiSS7uASpUEDZ1API4IByXjLWPGnwTuPBet6p42uvFmn6pq9romr6Zf2FpFFG1ywVZ7VoIUkTy5B9yVpMoxydwDViX3xV8bWHg/4l+G11qGTx/p/ieLQ9EvpreEbIr1oms5GjC7W2RyvnKnPlHIbnPeR/B7xF4jvvDQ8c+MLXxHpXh66jv7Sz0/RzYvdXUQxDNdu08vmbCS4WNYlL4JBAC0/XPgPFq3x00r4hx6w1rBbxRfbNGW2yt7PClwlvMZN42lFuXGNpztXpigDmfDvxc1/wAfar8FrLS777DLrGnXGteIkWCMkxW8aRPDhlOzNzKoO0hh5ZFeg/HL4d/8LW+E3ibwujCO6vrRvskpOPKuUw8L57YkVDn2rF+FvwLj+G3jnxR4hbWDqcepFotNsjaiJdLt3uJrmSFW3tv3SzE5wuAqjHFeqUAfKXiz4hTftCfBX4V+F4x5GqePL+K11qDJDQQWRMmog+nzQiPB/wCeoHet79or4jTfC3QvEOpWnxi0zQPEmlWv23TPBzJp6xXUSHcsMkMoa5dpArJvikjHIKoCDu6r4d/s2WXw++MXiTxxFrU15aagbhtN0VoAsWlvcukl2yPuO4yPGp6LtGRzmsjXv2Z9Yv8ASfiN4f0vxpb6V4Z8b3d1f3kbaIJ9QilniVXVbkzhDFuUHa0RYISqup2uoAt/qw1/9pf4R6mI/KF74R1S5EZOdu9rNsfhmsyx+Lniyb9kzx94zfVc+JdLOuC0vvs0X7r7PczJD8mzYdqoo5U5xzmvSLT4P/ZfHXgfxH/a27/hGdDuNF+zfZsfafNEH73dv+THkfdw2d3UY54bxB+zDrOqeCfGPgbT/Hp0fwX4gubu8S1h0kPe2r3DGR4ftBm2vb+aWJTylcq23zB1oApeNvjPqU3xA8NeDI9a17QIj4dj1/UtS8N+HX1a9nd28uOFUW2uEiTIZ2dojnCKpXJz33wA8X+JPFnhfVl8TW2o/aNN1WaxtNS1TSZdMm1O1UK0Vy1vIiFSQ+1sKqlkbAHQM134N348TeH/ABT4X8RQ6H4n0zTBotxNfaebyzv7P7wSSBZYmDLIA6usgIywO4HjuvC+n6xpumFNd1iPWtSkkaSSe3sxawJnGEij3OyoMfxu7ZJ+bGAADXooooAKKKKACiiigAooooAKKKKACiiigAooooAKKKKACiiigAooooA0br/kBaf/ANdZv/ZK8a/ap/5Nt+Jf/YAvP/RTV7Ldf8gLT/8ArrN/7JXCfFTwN/wsz4beJvCf23+zf7asJrH7Z5Xm+T5ild+zcu7GemR9aAPAv7Wm+Inxg+Cel3Xh+98EanoNtLrMV3rXkGXUrf7MYZLe0e3kmRgSytIsjowUKdpzxDqnxw8SeMb74gXmieIPFOjT6BqVzpWjaPongufVLK7ltvvNd3C2kuTLJldscsRRApPJ3V7L46+Dp8XWfgR7TWW0nWPCOo299a6gtsJfNVEMc0LJuGFljLKcNxwecYNC0+EXiTwf4i8R3fgjxdY6NpHiC8bU7vTdW0Zr8wXjjE0ttItxFsD4VijrIAwJHBK0Ac9H8RPF3xJ8beDvCNpcXXw/muvC0fifW5IraJ7+F5GESWiLcxukeH3ly0bN8gA28kwfFb4ieIPhvfeA/A03ifVJ9Q164vJbnxJpvh77bqEdnb4cKltDFIhmYPGhk8koAHby1yMdn4s+EWo3/jLQvGXhzxIuk+LdNsG0m4vNT08XlvqNox3FZ4Y3gO8SASKyMgBLDaQcCHxL8H9a8SxeGNYl8XLD498PXc11Z60mmL9k2zfLNbNaCQFoGjwoBl8wFVbzCRyAeWat8YvHOg/Cn4y3MN3r048OWEd74f8AFPiDw42mXFx5iMXjeGW3ijkaJ0xuWIAq65GeT09x4n8b+A9c+Fmpat4tbxDa+Lr5NL1LSXsLeC1tnltnljltSiCVdrRbSJZJdwc9DjHX+MPhX4j+Ivwt8XeFPEvi21nu9etGs0utP0f7PbWakY3LC0zyMx/i3TEHAwF5zf8AFnwn/wCEoX4er/av2b/hE9Ug1L/j33/avLgki2ffGzPmZz82MYx3oA47wvq3jL4ya746vdN8Y3Pg7S9B1mfQtMs9PsbW4SeS3A82a6M8TO4aRsBImiwq/eydwanxi1H4d/Ej4m6L401FbzTNN0ZfFejzeSkJFkqFLiAbR82yVBgsWYiUAngVtW/wd8Q+E/Evie98EeL7PQdK8SXf9o3un6hoxvmt7tl2yzWsgnjEZcBWKyJKodScYJWvNv2svANn8QviF8HPDUd5KNZ1LUJra+27Q1zo6Is14su0D5S0UQHGMscdaAPZ/gXceKdQ+E/hy/8AGt2LzxLf2wvbrEKRCHzSZEh2ooHyIyp0ySpyT1rzX4ifHrxJffFiT4XeFotM8Faoyx48SeNCY47tXIUjTLcEfbJF3AjLqoZGUg19CKoVQAMAcACsPxp4F8PfEbQZtF8T6NZa7pc3LW19CJFDYIDrnlXAJwy4YZ4IoA8x1KfUPgr4T0aw1b4z+H7LVbuWe4u9X+IECyG/lYqzi2jW7tlhjQscRrvCqyjjGTv/AAn+IH/CY6hfw/8ACy/A3jryYlf7P4TtvKlgycb5D9uuMqeg4XnueldH8N/h3p/wt8LxeHtJvNRutKt5HNpHqV01y1rET8lvG7fN5UYwqBiSAAMmupoAwPFzJYW1tq0fhefxTqVjJutbeyW1FzEXBRnje4ljRflJB+cEgkc9K8B+HPiC60fxj8ffEtzaN4Z8TSWsWoR+EJl3zQwwW8ixXbsv7mVpivzGF5FXaqs5YED3fxlo3ijUpNPn8L+JbXQZrdnE8Go6WL+1ukYYG5VlikVlIypWQDlgytxt5zwn8HWtfFHiDxT4s1WHxN4j1qxTSZmt7I2dnBYqWPkRQmSRhuZmZmeRySeNoGKAPF/hP8R/EHwX/Zy8P+MdS8DWc/he4toNW1rVYNZ3avcPc7TNeyW/keW5Lvux9o3bNvCkbF9N17wj420341X3j/wtpvh/X9PvvD1vpf2XUtYmsJQ8c0su5SlrMrAiRQMle9ZcX7NeryeBbT4c33jZLz4aW8ip/Z39lFNTltEffHaSXgn2GMEKpKwKxRduQSWr0DxF4c8dvqk8nhnxfo2k6XJCkaWOq+HnvWt3UEFopI7qDgjadrh8EcHBwACT4R/FC1+LPhI6vDYXGkXltdzadqGmXbK0lndwvsliLISrgEZDA4IIPGcDibjxB4q+JXxm8YeF9E8UzeD9J8I2lorvY2ttcT3t5coZVMvnxuBCiKo2x7WYu3zjAA7v4W/DXT/hV4V/sexubjUJZrma+vdQvCpmvLqZy8sz7QFBJPQAAAAdqwda+E+s2/xG1Pxf4R8TweH7rWrOGz1e2vtNN9HN5RIimhxNH5UqqzrlvMQjblOOQDzb9nmbVLH4M+NJ9V8T6b4VuofF2sNqmtxwqIIFFw3mvD57FI+eVaXzFX+JXqv4T+J3iHxh4k+J3gfwf8TbfxpNa6DBqug+Joo7C4ktbl96NbyG3jWCQb40YZjDASEHPBrpIv2WPsfw9h8PQeK5rnUbLxYfFtlqep2IuAZ/OMgjuYg6+cMMwJVo8sQw24xXVeB/hDq+g/FTV/HuveKIdc1XVNJh0uW1tNM+x20Iild1MQMsjBcNyHZzu3HcAQigHCWHx21v4maL8E7fwxdLpWseK52vdaIiSU21pZqft0WHUhS022INgH5uMdRLofxS1aX43ar4d8WeMbrwXqo1Z49B8N3emwjTNZ05RGFkjuXj3yzvvbhJ12uAPLYKwbG/Zh8B2H/C7vjF4t02dp9BttWl0XR4+PLt2ZhcX4jxxtNwwHH9wjtXo/iz4O+IfHurabb+IfGFre+FNP1qPWobGLRhFfu0TmSGF7oTFPLVyvKwK7KgBbJZmAPWKiulma2lW3kjiuChEckqF0VscEqCCQD2BGfUdalrL8VeHbfxd4Z1fQrySaK01O0msppLdtsipIhRipwcNhjg+tAHz3e/GNvCvxe8B6VpvxdsfiB/bmqzaRrPh5DpzGyYxOyywi3RZoljkj2bZmlyHwW3Dcb3h3V/iF8SfGXxfsIPH1x4c0/w3qptNKXT9Ms5JVY2scgWVponDxBmztCq5Jb95jAGjpf7OPiAR/Da21fxtY3OneA7u3n0+00zw+LMXCxwPCfPJuJMuQww0exR8+UbcpTuvAvwp/4QrxB8QdT/ALU+2f8ACWamNR8r7P5f2X9wkWzO47/uZzheuMd6APLrH44eJ/iN4T+Cmn6bdweGdd8exS3OoanaxJI1pFaxB7gW0cwdN0jYVTIHCqxOGIyJ/hvpevaL+1x4stNd1pfEBj8I2f2S/e3SG4eE3cxAnEYWMyBtw3RoilQvyg5zuad+zfNoXgH4daVpXiYW3ibwM5fTtaksC8EwcMk0c1sJQWjdGIwJFIIUhuMHe8EfB/U/DvxS1bx3rPipte1TVNKh02e3WyFvbwmOVnBgXexSPDY2MXbO5i7ZwAD0+iiigArwX9tq2hvfgTJb3ESTwTa3pMckUihldTfQgqQeoI7V71XCfGj4X/8AC3vBP/CPf2n/AGT/AKfZ332n7P53+onSbbt3L97ZjOeM5welAHjfw9+JI+APw1+JXhHUw11e/Dydl0i3PL3tlc/PpyKO5LP5OAScoPpXOfA7RP8Ahn/xl8VLrUx9v1XTvB2n67rMwbDXd4xvZ7hi2MnL5UEgkKFHavYviN+zdpPxF+MXg/x7cajNanRMfbNLjjzFqflsZLXzDuH+qkZmGVbOcfL1rdb4O2d54/8AG3iDUbtb6w8U6PbaNcaW0G0JHEJgxMm75t4mIxtGMdTngA8s8QeLviJ4N+Bth8X73xjJeXUdrbaxqPhX7BarpbW0u3fbwsIvtCuiSAq7TNl05G1sDa/4STxl46/aI8T+EtO8Yz+HfC1loOn6lH9hsLaS8EsrSj5JJo3UKwUbg6OflG3ZyTej/Z51q88F6f4A1nxsmqfDuzMUX2EaV5Wp3VrEwaK2nu/OKMnyorFIEZlXGVySez0X4XDR/jF4j8djUvMGr6XaaaNOFvt8nyGkbf5m75t3mYxtGMdTQB4rd/tFeJdJ+DVit5d7/Flx4um8FHW7TSnum/dzSIb1bSIEvL5Ue4RqpUyH7u35a6bwH4q8V6/461nwrHrnjS/8N3Wj/bLbxVrXhb+y7vT7pZVRoFM1jFBKHVg65hYja+SeMazfs1wSeCNS0b/hIZ4NUbxPceLNK1i3tgrafePM0sWY2ZllVdxVgSN6sw+UkEegeFNG8W2t1PP4o8S6fq6mPy4bXSNINhCvOS7+ZPO7PxgYdVAJypOCADxX9j7QtYsP2Z9A1CDxjdIJ7KbyINVtbaSy0/bcSbnURpFI3AJ/eSsATnoMVN4D+MKf8L90bwhpPxStviloGs6PdXMj+Zp00+m3MDoQfMso412SI5G11JBjyGxkVr2/7M13/wAKU1z4V3XiuGfwtMjppMsel7LyzBuDOgnczNHcKrbVIEce5QQeuRt6X8GfEE/xS8NeOfEfi2y1G70Oyu9Ph07S9F+xWpimEfzANPK4cFDklipG0KqYYuAcL8Nbz4qfFL4ZeKPEUfj+fT9WhudWsNFs7PTbIws0NxMkT3HmQMzNkKgCMq7UUncxY1asPjtrfxM0X4J2/hi6XStY8Vzte60REkptrSzU/bosOpClptsQbAPzcY6j1b4Q/Df/AIVV4Rk0P+0f7U3ahe3/ANo8jycfaLiSbZt3N93ftznnGcDpXiv7MPgOw/4Xd8YvFumztPoNtq0ui6PHx5duzMLi/EeONpuGA4/uEdqAPozxR4ds/F3hvVdD1CMS2OpWstpOh7pIhVv0NfKlr8Qtbh/ZLvPAvnAeP7XUv+FbI245a4ZxAkwOM4+zHzc/7JNfX1eNTfs2WUn7QifEsa1Mlnhbp/DwgHkyaisDW63hk3dRCxXaF6gNmgDM8fR2Hwo8J2Ggx/GSx+GUGnaQLbRLIrp0bTGKILvlF4shmG4LxF5XUgkkgjkLjx/d/FLw/wDsv+K7+GOC/wBV11Z7iOEEIJf7Pug5UEnClgSBk4Br0zVvgprKfEXxX4m8O+KrbR4vFVta2uqw3WkC7uYxCjR7rWbzkWIlGHEkcqhhu2nJWqfh39nEeH/Cfwl0NfEBnXwDe/axMbLab79zNFtx5n7v/XZzlvu9OeAC38N/Heua/q3xhhv77z4tA1ySz01fJjXyIhZwyBeFG753Y5bJ5xnFeW2v7QXiK7+GnwRsrvWNRtdc8aWD32p67pGhnUbyOKCNXk8i2ihkUPIzKu4xOqLuO3oR6hqXwP1lPEnjO58PeMz4f0TxgyTapaLpomu4ZxCIXltLgyhYi6Kmd8UuCpIxnipY/s4vongb4cafpHiVrLxT4Ei8rTdcey8yGZGQRzxzW3mDdHIgwQJFZSFIYYwQC18CvGniTXtd8X6Pq517VdG02S3l0nxD4g0CXSLi8jlVjJE8bQQq7RMmNyRqCHXIzyW/tCfHq5+DMeiWlnoYuLvW5jbRa5q832TQ9NbgB7y5wxQZOQgGXCsAQa9B8I6X4j0+K5k8S69a61dzMuxdP037DbQqB/CjSyyFjn5i0hHAwF5ztXlnb6lZz2l3BHdWs6NFLBMgdJEYYZWU8EEEgg9aAPGPD+l+K/CPhnWfHXi/4uaNLf6hbQGC6ubYR+GdKhZ1YCOITxmUsXZRO8wZg0fHGCng34uf254o02w/4XZ8LfEPnyhP7L0ay2XdzwfkiP8AakuG/wCAN06V13w8+B3hb4UeINZ1HwlBc6JZasA9xodtORpqzbiTPHAeInI2qdmF2oo28Zr0CgDivjT4EvPid8KPFXhSwvxpd7q1hJaxXTZ2qzDgNjnafutjsTwelebeA/isNG17wX4J+JHw5k8E+JVRrXQtQhSG80maRIzHttbiM7oHeMORE6oQnBJyAfafFGnanqug3Vto2r/2FqjBTb35tkuVjYMDho2wHU42sAVOGO1lOGHjngXwP4s+LmoeHPFnxMubWA+G9VvJtL0LT9Gl09Wmjkkt4rufz5pXYGMeYirsA8wEl+KAOW/aq+G+k2virwB4zme6v9cuPHGh2kDXk2+OwgEo3RW6YAjDsodjyzHqcAAdd8YAmuftFfBbw/fpFcaSH1PWfssy7le6t4FED46ZQyuwz0PIOQK1fjN8IPF3xWvtIW28X6Lo2k6Rq9nrVlby+H5rmfz7c7lWSUXqKyFs5CopwQM8ZOl40+E+q+NIfCWry+IbTT/Hnhm5e5s9atNMb7I/mDZNFJatOWMUkeFKiYMCqsGGMUAeP/HbWr34d/HDxbrPh9vsV5efDHUb26eMcST20oFvK2P40DlQx7HFO+KnhPS/Df7A9oNLtorWTRtF0/V7C4t12vFeKYpftCnGQ5dmYt1O9s9TXrui/Bg3ms+I9c8b6pB4p1nW9N/sRxa2JsrO208g7oIoTLKwLszM7NIxJwBtAArnLX9nnXLjwlpHgXW/G8er/D7TJYttgukmLUbu2hfdBbXF357IyDbGGKQxs4jAyuTkA9n02aS4061lmG2WSJWcYxhiATx9as0dOBwKKACiiigAooooAKKKKACiiigAooooAKKKKACiiigAooooAKKKKACiiigAooooAKKKKACiiigAooooAKKKKACiiigAooooAKKKKACiiigAooooAKKKKACiiigArR8N/wDIxaX/ANfUX/oYrOrR8N/8jFpf/X1F/wChigD3qiiigAooooAKKKKACiiigAooooAKKKKAPBfEn/Ixap/19S/+hms6tHxJ/wAjFqn/AF9S/wDoZrOoAKKKKACiiigAooooAKKKKACiiigAooooAKKKKACiiigAooooAKKKKACiiigAooooAKKKKACiiigAooooAKKKKACiiigAooooAKKKKANG6/5AWn/9dZv/AGSs6tG6/wCQFp//AF1m/wDZKzqACiiigAooooAKKKKACiiigAooooAKKKKACiiigAooooAKKKKACiiigAooooAKKKKACiiigAooooAKKKKACiiigAooooAKKKKACiiigAooooAKKKKACiiigAooooAKKKKACiiigAooooAKKKKACiiigAooooAKKKKACiiigAooooAKKKKACiiigAooooAKKKKACiiigAooooAKKKKACiiigAooooAKKKKACiiigAooooAKKKKACiiigAooooAKKKKACiiigAooooAKKKKACiiigArR8N/8jFpf/X1F/wChis6tHw3/AMjFpf8A19Rf+higD3qiiigAooooAKKKKACiiigAooooAKKKKAPBfEn/ACMWqf8AX1L/AOhms6tHxJ/yMWqf9fUv/oZrOoAKKKKACiiigAooooAKKKKACiiigAooooAKKKKACiiigAooooAKKKKACiiigAooooAKKKKACiiigAooooAKKKKACiiigAooooAKKKKANG6/5AWn/wDXWb/2Ss6tG6/5AWn/APXWb/2Ss6gAooooAKKKKACiiigAooooAKKKKACiiigAooooAKKKKACiiigAooooAKKKKACiiigAooooAKKKKACiiigAooooAKKKKACiiigAooooAKKKKACiiigAooooAKKKKACiiigAooooAKKKKACiiigAooooAKKKKACiiigAooooAKKKKACiiigAooooAKKKKACiiigAooooAKKKKACiiigAooooAKKKKACiiigAooooAKKKKACiiigAooooAKKKKACiiigAooooAKKKKACiiigAooooAK0fDf8AyMWl/wDX1F/6GKzq0fDf/IxaX/19Rf8AoYoA96ooooAKKKKACiiigAooooAKKKKACiiigDy3WPCFtdavfTNqEqNJO7lRbAgZYnGd/NU/+EJtf+glN/4Cj/45XTah/wAhC5/66t/M1XoAwf8AhCbX/oJTf+Ao/wDjlH/CE2v/AEEpv/AUf/HK3qKAMH/hCbX/AKCU3/gKP/jlH/CE2v8A0Epv/AUf/HK3qKAMH/hCbX/oJTf+Ao/+OUf8ITa/9BKb/wABR/8AHK3qKAMH/hCbX/oJTf8AgKP/AI5R/wAITa/9BKb/AMBR/wDHK3qKAMH/AIQm1/6CU3/gKP8A45R/whNr/wBBKb/wFH/xyrmreJtH0G70211PVbHTrrUpvs1jDd3KRPdS4LeXErEF2wCdq5OBWlQBg/8ACE2v/QSm/wDAUf8Axyj/AIQm1/6CU3/gKP8A45W9RQBg/wDCE2v/AEEpv/AUf/HKP+EJtf8AoJTf+Ao/+OVvUUAYP/CE2v8A0Epv/AUf/HKP+EJtf+glN/4Cj/45W9RQBg/8ITa/9BKb/wABR/8AHKP+EJtf+glN/wCAo/8Ajlb1FAGD/wAITa/9BKb/AMBR/wDHKP8AhCbX/oJTf+Ao/wDjlb1FAGD/AMITa/8AQSm/8BR/8co/4Qm1/wCglN/4Cj/45W9RQBg/8ITa/wDQSm/8BR/8co/4Qm1/6CU3/gKP/jlb1FAGD/whNr/0Epv/AAFH/wAco/4Qm1/6CU3/AICj/wCOVvUUAYP/AAhNr/0Epv8AwFH/AMco/wCEJtf+glN/4Cj/AOOVvUUAYP8AwhNr/wBBKb/wFH/xyj/hCbX/AKCU3/gKP/jlb1FAGD/whNr/ANBKb/wFH/xyj/hCbX/oJTf+Ao/+OVvUUAYP/CE2v/QSm/8AAUf/AByj/hCbX/oJTf8AgKP/AI5W9RQBg/8ACE2v/QSm/wDAUf8Axyj/AIQm1/6CU3/gKP8A45W9RQBg/wDCE2v/AEEpv/AUf/HKP+EJtf8AoJTf+Ao/+OVvUUAZs/hC2bS7SI6hKAkkhDfZhznb23+1U/8AhCbX/oJTf+Ao/wDjldNL/wAeMH+8/wD7LVegDB/4Qm1/6CU3/gKP/jlH/CE2v/QSm/8AAUf/AByt6igDB/4Qm1/6CU3/AICj/wCOUf8ACE2v/QSm/wDAUf8Axyt6igDB/wCEJtf+glN/4Cj/AOOUf8ITa/8AQSm/8BR/8creooAwf+EJtf8AoJTf+Ao/+OUf8ITa/wDQSm/8BR/8creooAwf+EJtf+glN/4Cj/45R/whNr/0Epv/AAFH/wAcreooAwf+EJtf+glN/wCAo/8AjlH/AAhNr/0Epv8AwFH/AMcreooAwf8AhCbX/oJTf+Ao/wDjlH/CE2v/AEEpv/AUf/HK3qKAMH/hCbX/AKCU3/gKP/jlH/CE2v8A0Epv/AUf/HK3qKAMH/hCbX/oJTf+Ao/+OUf8ITa/9BKb/wABR/8AHK3qKAMH/hCbX/oJTf8AgKP/AI5R/wAITa/9BKb/AMBR/wDHKv6P4g0vxFDcS6VqVpqcVvcSWs0lnOsqxzRnbJGxUnDqeCp5B61foAwf+EJtf+glN/4Cj/45R/whNr/0Epv/AAFH/wAcreooAwf+EJtf+glN/wCAo/8AjlH/AAhNr/0Epv8AwFH/AMcreooAwf8AhCbX/oJTf+Ao/wDjlH/CE2v/AEEpv/AUf/HK3qKAMH/hCbX/AKCU3/gKP/jlH/CE2v8A0Epv/AUf/HKv654g0vwzp5v9Y1K00qxV0iNzfTrDEHdgiLuYgZZmVQO5IA61foAwf+EJtf8AoJTf+Ao/+OUf8ITa/wDQSm/8BR/8creqjrWuad4a0m61TV9QtdK0y0jMtxe3sywwwoOrO7EKoHqTQBn/APCE2v8A0Epv/AUf/HKP+EJtf+glN/4Cj/45Wza3UN9aw3NtNHcW8yCSOaJgyOpGQykcEEHORUtAGD/whNr/ANBKb/wFH/xyj/hCbX/oJTf+Ao/+OVvUUAYP/CE2v/QSm/8AAUf/AByj/hCbX/oJTf8AgKP/AI5W9RQBg/8ACE2v/QSm/wDAUf8Axyj/AIQm1/6CU3/gKP8A45W9RQBg/wDCE2v/AEEpv/AUf/HKP+EJtf8AoJTf+Ao/+OVd1PxHpOi3mnWmoapZ2F3qUxt7KC6uEjkupApYpErEF22gnC5OATWjQBg/8ITa/wDQSm/8BR/8co/4Qm1/6CU3/gKP/jlb1FAGD/whNr/0Epv/AAFH/wAco/4Qm1/6CU3/AICj/wCOVvUUAYP/AAhNr/0Epv8AwFH/AMco/wCEJtf+glN/4Cj/AOOVch8TaPc+ILnQodVsZdbtoVuZ9NS5Q3MUTEhZGjB3KpIIDEYOK0qAMH/hCbX/AKCU3/gKP/jlH/CE2v8A0Epv/AUf/HK3qKAMH/hCbX/oJTf+Ao/+OUf8ITa/9BKb/wABR/8AHK3qKAMH/hCbX/oJTf8AgKP/AI5R/wAITa/9BKb/AMBR/wDHK3qKAMH/AIQm1/6CU3/gKP8A45R/whNr/wBBKb/wFH/xyt6igDB/4Qm1/wCglN/4Cj/45R/whNr/ANBKb/wFH/xyt6igDB/4Qm1/6CU3/gKP/jlH/CE2v/QSm/8AAUf/AByt6qFh4g0vVNQ1GwstStLy+051ivba3nV5bV2UOqyqDlCVIYBsZBBoAof8ITa/9BKb/wABR/8AHKP+EJtf+glN/wCAo/8Ajlb1FAGD/wAITa/9BKb/AMBR/wDHKP8AhCbX/oJTf+Ao/wDjlb1FAGD/AMITa/8AQSm/8BR/8co/4Qm1/wCglN/4Cj/45W9RQBg/8ITa/wDQSm/8BR/8co/4Qm1/6CU3/gKP/jlb1FAGD/whNr/0Epv/AAFH/wAco/4Qm1/6CU3/AICj/wCOVvUUAYP/AAhNr/0Epv8AwFH/AMco/wCEJtf+glN/4Cj/AOOVvUUAYP8AwhNr/wBBKb/wFH/xyj/hCbX/AKCU3/gKP/jlb1FAGD/whNr/ANBKb/wFH/xyj/hCbX/oJTf+Ao/+OVvUUAYP/CE2v/QSm/8AAUf/AByj/hCbX/oJTf8AgKP/AI5W9RQBg/8ACE2v/QSm/wDAUf8Axyj/AIQm1/6CU3/gKP8A45W9RQBg/wDCE2v/AEEpv/AUf/HKP+EJtf8AoJTf+Ao/+OVvUUAYP/CE2v8A0Epv/AUf/HKP+EJtf+glN/4Cj/45W9RQBg/8ITa/9BKb/wABR/8AHKP+EJtf+glN/wCAo/8Ajlb1FAGD/wAITa/9BKb/AMBR/wDHKP8AhCbX/oJTf+Ao/wDjlb1FAGD/AMITa/8AQSm/8BR/8co/4Qm1/wCglN/4Cj/45W9RQBg/8ITa/wDQSm/8BR/8co/4Qm1/6CU3/gKP/jlb1FAGD/whNr/0Epv/AAFH/wAco/4Qm1/6CU3/AICj/wCOVvUUAYP/AAhNr/0Epv8AwFH/AMco/wCEJtf+glN/4Cj/AOOVvUUAYP8AwhNr/wBBKb/wFH/xyj/hCbX/AKCU3/gKP/jlb1FAGD/whNr/ANBKb/wFH/xyj/hCbX/oJTf+Ao/+OVvUUAYP/CE2v/QSm/8AAUf/AByj/hCbX/oJTf8AgKP/AI5W9RQBg/8ACE2v/QSm/wDAUf8Axyj/AIQm1/6CU3/gKP8A45W9RQBg/wDCE2v/AEEpv/AUf/HKP+EJtf8AoJTf+Ao/+OVvUUAYP/CE2v8A0Epv/AUf/HKuaP4QtrXV7GZdQldo50cKbYAHDA4zv4rSqxp//IQtv+uq/wAxQB3FFFFABRRRQAUUUUAFFFFABRRRQAUUUUAcPqH/ACELn/rq38zXxx+2N8N9Q+KHx2+EunaHqLaT4nsdL1rVdEvlbCxX9v8AZJIN/ByhYbWGD8rHivsfUP8AkIXP/XVv5mvK/Fnwz1TXvjx8P/G1vPaJpXh/T9UtLqGR3E7vciERlAFKkDymzlh1GM0AeJX3xWh+MviL9mnxD9lbTdUXxPf2eraXJnzNPv4tOuUuLdsgHKuDjI5BU96k8YftjSDVPH82ieN/hr4dtvCN5Np8Ph/xTdn+09bmtxmcowuYvsyM37qM+VPuZSx4IWug8Ufss6u37VPhf4leGtSsLLwsLxtU1/R7hnWSS+FpLbJcW6qhXc6SASbmXJjB5JrofDHw2+IPwf8AEXjOLwVa+GfEHhjxJq0uvRrrepXFhc6bdT/8fCbYraZbiLcquvzRMNzKSRhqAH+Cf2gr3xR8SPDlpcWdraeDvFXguPxTo9yyOLpZVZDcQytuKMFjmiYYVSOevbiPD/7WfiXWP2evGvjCbRNNtvGOn6jDZaPpYWRobgXot30wyLvDEul1FvCsDkNgL0HY/tLfA3xV8WvDnhi48M6tpdh400c3Fu+oXSywW8ltd2kltdqiqJWXO9JFUlhmNQW71Q8Rfs06jefGbwtqml3Om23w+tF0241TTZGcXM1zpyXC2XlqE2bAZYi2WH+oXAoA9+sPtIsbYXrRNeeWvnNApWMyYG4qCSQM5wCTx3r4k/aE1DU/HHjj4j/EjQpEnHwVOnrpW0gh7lHW61UA+9uY4SDnlSOOa+3L5rlbK4NmkUl2I2MKTuUjZ8HaGYAkDOMkA49DXzz8Kf2N9E0H4dyad4y1HW9T8R6zLc33iKTR/FWrWVje3Vw7NLiCKeNGXawTJjBZVG4c0Adb8QvjVepL8ONG8DRWN5rfj5mm0+/1JWktLOzjgE81y8aOjykIyKsaumWcZdQOfLv2yLH4jJ+zD4mj1zWfC8ph1LT91xp+kXKfa4DeWvl4ie6b7O6Sk5+eYOijHllvlseD/wBl/wAdeA/Bvw3+wa1o+o+KPhvqd/HowvJ5ktdS0e5Yqbe4kERaCURFcMqShTEo+YMSO/8Aip8NfHPxu+CPizwxrjeHvDut37wy6ZDp9xPe20LQSxTIJp3jiZw8kWCViXYrcByMkApfEbXNc8KeJPg3YeKLXwp4t1XVvFL2f9pLoT24sl+xzyrJapJcTNFNmMKX3nIYjAqlY/tHaxo/wp+LureJrHT4fF3gG+vbI2VqkiQXfyh9PcKXZsTJJCPvfeLYx0HQeMPh34y+JGrfCrWdVtdC0W+8L+In1XULSz1Ka8ieH7LPCohka2iLOTKpKsigDPzHHOB8Sv2ddc8YfHDT9fsL/T4PBOozabd+JtPnkkFxcz6dJLLamNAhVgzPEr7mX5Yl69KAOX1L9qTW4fFNz4O1Lxv8M/h14k8P6RZy63P4rdjFd6lcQrL9ntYTdwlYox96UySHLqAvBJ9p+APxai+OHwl0HxlHbR2b36yxzQwTedEs0UrwyeW+BvQvGxVscqQa5e6+GvjTwF8YPFXjXwLBoOu2Xi6C2/tbSNe1CbTmt7q2Tyo5oJ4refcrxkho2QYKKwbkivWfDy6sui2v9uvZPqxXdcf2ejrArEk7U3ksQowu443Y3bVztABo0UUUAFFFFABRRRQAUUUUAFFFFABRRRQAUUUUAFFFFABRRRQAUUUUAFFFFABRRRQAUUUUAWJf+PGD/ef/ANlrxj9sD/k1n4rf9i5e/wDopq9nl/48YP8Aef8A9lrzv48eA9Q+KHwX8a+EdKmtrfUtb0m4sLeW8ZlhSSRCqlyqsQuTzgE+1AHzD4LsfBd98avg7afCXw6vgvxFp9o9/wCKduiyeH/tmktblCHgmjha9DXAQq6JIqMm4suRnpfGH7Y0g1Tx/Nonjf4a+HbbwjeTafD4f8U3Z/tPW5rcZnKMLmL7MjN+6jPlT7mUseCFr074jfBnXdck+FGueHLvT7TxV4Kv4TJLdtIsV1YvF5N7bhlUt864ZcjG5FzjqKXhj4bfEH4P+IvGcXgq18M+IPDHiTVpdejXW9SuLC5026n/AOPhNsVtMtxFuVXX5omG5lJIw1AEKfHzW/iV4g8DeHvh7Bp+mXniDwyni671TX7Z7uKwspNqxRC3iliaSV5GIz5iKoRj8xOBB8V/j1rfwhtvBXhvxFrfgrQ/F3iS7uoz4g1SSS30a1tbc7nuGieVW8x0aNVg88DfIf3rBfm2/GPwv8Y2fxW8P/EvwpPouqeIIdFbw/rWlarNNp9pfW5fzklhlRLhoXSbJClHDK5BYFQTW8bfC/x34p1TwJ49hk8O23xB8K3V2yaV5s/9mXNncgRy2rXPlmUOEVWWcQ43rzEAxwAef/8ADX2op8M/jTeWGp+EfGOv+ALKK/tda8PlpNJ1GKZGaLMazyNG6mN0dBM3QEEZwOyj+LnxC8K+IfhnceLoPDcugeObsaaLDSIJ1utJuJLdp4Sbh5St0h8t0bEMJBZSMgEHW+KPgP4g/GT4G+PvCurQ+GtD1jXNPey062sr64ureEkcvNctBGzBjj5VgG3b1fPy2/iB8I9Y8VR/CFbS5sYz4Q1y11O/86Rx5kcVrLCwiwhy26QEBtowDyOlAGTpHxI+IfxU8SeN/wDhBX8NaPoXhfU5NEj/AOEgsri6l1a8hUNPiSGeMWsYZljDbJm4ZtvGw29B+Ol5pPxI+KHhjxvHYabH4YsIfENhdWYcLPpLxNvdy7Hc8csciswCggpwOao+Hvhr8RPhL4o8cL4Jj8Na34c8UarJrsX9vahc2lxpV5OMXAEccEouYiyrIo3wnlkzjDV5j+218Obrxh46+EthpWoraa/4suJvCOsC3Uq13ozhLm7IGTgIICRkn/WkZNAH0F8AvGHiX4hfCHw14o8W2Fnpesazb/b/ALFZI6pDBIxaBTuZjv8AKMZbn7xPA6VxHjX9pe7vviJq/wAM/hZ4aPjTx9paRtqj6hcCw0zR0kA2yzyuN82N6N5cCOWUt8wIxXulvbxWdvFBBGsUMShEjQYCqBgAD0Argvip8CPBnxiW0m8Q6WV1nTzv07X9Ome01PT3GdrwXMZDpgndtyVJAJU4oAzNAh+MfhvwfpyagPCvjnxRcyzXGoyTX82i2dluIKW9sEtLhpY0yyh5NrkKCcliB1Hg3UvHN9dXC+LPDvh/RbdUBgk0bX59Rd2zyGWSytwox3Bb6d65fQP2f9GuvB+naF8R/sPxdk0mWZdN1TxdpFtc3cNuxGyN3ZSHkCqgaXCmQqCwzXUeDfhL4G+HN1cXPhPwZ4f8MXFygjnm0bS4LR5VByFYxopYA84NAGf8YPD/AIM1nw9bXHjnw/ceJ9IsbgSrpsWlXWrI8jAoGeygSTzgAxILRsEPzcEZrwb9n7xFY+Er34/694YsU8O+B9JZLnTPBtwn2OeylhtZGnnax/1lnHcMqsiOiMypv2Ddz9FeOZvHFpJps/g2y8P6pGrOt9Ya5dz2RdSvyPFcRRTbSrA5RoW3BuGTb83AeFPgtrOtfELxj458dtptpqHiDRI/DaaJoNzLPb29krOzM9xJHE0srtI3PlIEAAG7lqAPB/hj4i8C2Pwo8MfEv4rfCjVPEdxqq22pan8SPEGlWN9HbzTlSrIskzXcNrE7LGgSARqFDLlW3t6D8VPhb/af7SF/4x174Nn4reFZPC1rYWxSHSro29ylzNI+Ir24jIyjrygOc4of9n34lat8E7H4JarfeHD4JhSLTZ/FUF5OdTn0yJwyRCyNv5STMiJEZPtDBRucKTha9f8AEU/xM0XVJbbwpoPhHWdCFvGto2ra1dafcQOAQyuqWlwsq8KQwKHkgg43EAl+B/ijwX4t+G+nXngHT4dG8PRPLbDSYtPFg1hOkjCa3kt9q+VIkm4MuOvIJBBPKat8SfG/jD4veJfBfgL+wdNt/CllbzapqPiC0muxdXVwpkhtokimi8pRGpZpW3nLqBGcZPRfAf4Sv8H/AAXdadeakusa1qmp3Wt6rfRQmGKW7uJC8nlxlm2IPlUAknC5PJrm9Q+GfjXwf8ZvE/jbwOugaja+LbK1g1Sz1y6mtWtLm2BjiuYjFDJ5ymNiGiYx8ouJBngA4r9ku68W33wh8YyadY6VpPiW58ca19oi1CeS5trBmum8wjy1Q3Gw9FzFvx99K1v+FvfE3T/EHxQ8CSx+GNa8b6BoEHiHQb6zsLm2s72OQSL5E9u1xI6OJIWAKzEEOpwCCDgR/su+OLf4L3fhefXtI1rVZfG03iW8tppJrTT9es5LgvJZ3WxGaJZFYlkCyoCqqd65NdD8Dv2d9T+G/wAafEfjZ9B8GeENI1jQ7fTk8PeEEZYraaOd2LM3kRLKWUqTJsjPOzaQm9wCxP8AtJ3nirw38E7nwTaWdzqnxEu4nkgv1Z1s7GKEy374V1+ePAjGSRuYcHoX+Bfjh4i+IHxh8WeG7bU/Cuj/APCOaw9hL4Q1KKYa1d2aLHnUEmEwVY280Mii3dSAqmRS+U84/ZQ+GJ039ov4sXkF2t34R8G31xoXhuFQdlo95It9fRLnujtEmfTivQfiZ8F/GXxb8a+FptZ0zwdp9r4d8QRapa+LrGedtYFpFKZVtY4GgxCXxGkjC5ZSAzeXyFUA+gq87+JT/E2O31S78H33hPS7extHmgTXLG6vnvpAhbaximgFsoIxuHnkhs4Xbtb0Svm34l/s5674y+K3ifXLvQ/BfjzRdasrW104+NWlmfwyyKyTNa2pgkjlVyUlIWS3ZmBUuBhgAV9S/ai8Ta94J+BGt+ENE0n7V8R7oW1xa6xLLstCbWSRisiYJ2OhPKneq4+QtuXqdD+Nmu+D/GXj/wAMfEN9Kv38M6BH4oi1jQbOSzjnsiJVkja3lnlKSI8DYbzSGDrwuDnlfCP7MXifw74N/Z40ebUNJkn+Hd89zqkkcsu2dDbzRjyMx5Y5kU/Nt4B59e5174HXPij4xeM9f1Ke1PhnxF4Mj8MPBG7faQ3mztIxUpt27Jhg7icg5GKAPB/j54u+KPjL9m3RPFGu2PhtPDviLU9HvDpNlHNFe6PBJfwSW5ed5HS7YrsRwscOGfI3AYr7ar5W8QfAP4u+J/gnoPwyudT8JWun+H5tPWPVo57iSbV7e0uI2jEkRgC2jeXGrHa0+5wFBRSWr6poA+af21o9EmPwdTxHpX9uaG3je3F3p/8AZj6l56fZLr5fsyI7S9vlCMfapvFt98O/A/7OvxT1/wABfDXStKgstJmuLvStZ8Ez6Ra6g0cTMizQTQQGePqDjIGSMjNeifGL4Z6p8Qtd+Gt7p09pDF4a8TRazeLdO6tJCsE0ZWPapy+ZV4OBgHmtD48eA9Q+KHwX8a+EdKmtrfUtb0m4sLeW8ZlhSSRCqlyqsQuTzgE+1AHnPiL4reOIfiR8PPAHgvT/AA7ZRa94Zk1Wa91C1leLTfJe3GUhjmj8xNsjIIgyncyHeFVgW3Xxs8WT/HC++G8Os+D9C1bSrGxuIbXXrSeOXxQ8qO8xsSLgeRGnlsmdt0yncSpC/N09p8ItYt/jR4H8Xtc2J03Q/ClzoVzEJH8555JLdlZBswUxC2SSDyOPTnv2i/g74x+OWkal4Sk0jwXNoVzNC+n+Jb6acanoo+TzZIbfyHV5xiTZIs8I+dQV+UlwDlrnTfHM37eGo/2f4h8P2o/4QeCRRc6DPPiz/tF/3JIvUzLu3HzuFwQPK4yfVf2qP+Tavil/2LWof+k71na58MfFek/HzSviD4b/ALJ1m0k8Or4b1Oz1m+ltJo0S5Ey3MTpBMJWw0gMbBASF+cZOOv8AjR4LvfiN8IfGfhXTZbeDUNa0i60+3kumZYlkliZFLlVYhckZwCfY0AfJelp8OJdS+BifAxfDo+IP26xbXpfBAh+XSREhvxqRtvl2E+XgT8mULt5Br6R+HXxY1fxdqvxctry2so4/COtyabYmBHBkjW0hmBly5y26RhldowBx3rv/AAbo83h3wfoelXLRvcWNjBayNESULJGqkqSAcZHcCvGp/hH8RPDHi74m/wDCH3nh1ND8dTpf/wBpapLN9r0e6NstvKVtliKXSkRo6hpYsEsDuA5AOYj/AGlPH+sfDP4C6poukaBP4j+IzGC6juUmS1tXNpJKJUAk3bEZAzKSxZVKghmDDuNc+IfjxPiF4f8AhhpF54em8WyaTNruseI7nSpxYW9qs3lRJFZC78xpJHOPmuAFEbN82do5/wAIfs4+JPD/AIX/AGedMnvtLkm+HcrPqrRyy7ZwbKWAeRmP5vmkU/Ns4B78V1nj/wCGPii3+Mmj/E3wQ2lXuqx6TJoGqaLrl3LaQXVoZDNHJHPHFMY5I5exiYMrkZUgZAPMP2iJPGtt4w/Z4F9FoV/4sTxfcxq9q81vYyr9knCylWDvH+7w5j3PhgVEhHz16d4D+JPjAfFDxb8O/FC6Jq2uabpNtrem6npNvNp9tdQzNJH5UsTyXDRMssR+cO4KuDtBUg1PGPwt8bfELxJ8Jdf1eXQLK88L6/PquoWllNO0awPbyxJFC7RgzON65dliBwSFXpVnxB8Gte1j4weM/FNnrcWi2mt+DI/DlpeWrub2zuhLO/nhcBcKJVKkPnK9B1oAzdf+JfxC+GfxI+H1h4sn8L6r4e8Y6lLpHk6Pp9zbXWmXJhaaH97JPItyn7t0ZvLhOSrBRyog8C/HDxF8QPjD4s8N22p+FdH/AOEc1h7CXwhqUUw1q7s0WPOoJMJgqxt5oZFFu6kBVMil8p5x4X/ZD8SWuvfCnVJ/C/w78N6j4P1KC81bWtHlnudS1/EEiSyyTvbRurFyHKO0u8uSZFMf7z0H4mfBfxl8W/GvhabWdM8Hafa+HfEEWqWvi6xnnbWBaRSmVbWOBoMQl8RpIwuWUgM3l8hVAOM8YftjSDVPH82ieN/hr4dtvCN5Np8Ph/xTdn+09bmtxmcowuYvsyM37qM+VPuZSx4IWvpX4feMrX4ieA/Dvimyikgs9a0631GGKX76JLGrhT7gNivK/DHw2+IPwf8AEXjOLwVa+GfEHhjxJq0uvRrrepXFhc6bdT/8fCbYraZbiLcquvzRMNzKSRhq9tsVuY7K3W8linu1jUTSwRGKN3x8zKhZioJzgFmIHGT1oA8Vm8dHTv2g/iPp9voGhx3Wk+DbPVE1dbPF/cM0lyBDNMGy8S+SpVeMFm5544Pw9+0Z8Tl+CngT4ueILPwonhvWJtPh1HQtPtrn7WkNzKsH2mK5abaCHkR/IMLfKCvmk/NXp158INZuPjJ4+8Wrc2I07X/ClroVrEZH85J43uWZnGzATEyYIJPB46Z5G4/Zy8Sy/si+EvhYL7Sv+Eh0lNKWe5Msv2Rvs11FNJtby9xysbBcoMkjOOtAH0TcQrc28kLlwkilCY3ZGAIxwykEH3ByK+MfHWj/AA/8P/FH4UaZ8M/CkngHxLF4nijvfFF9oc+hx3NogIuLR7u6jjOoS3AICopmZyGkJGNx+yNVS9k0u7TTZre31FoXFtNdRNLCku07GdFZSyg4yoZSRxkda8L+IHw3+Jvx18PaZ4U8Y2HhPwvoIvrS+1LUND1i61C6n+zypMI4IpLSBYS7ov7wySFFyArE5ABxfj7xCvxI/ag8TeE9b8D6v8SfDnhHSLGSDwvYpbNYvc3Qkd7q7W7mht5GRVjSNHZmG52ReGZHeOtG8P8Axu/ZZ1/w58J/AcVi1lr1tb6j4LWxtNNkt7i3vIJbqCSMssG/yxnIcq4IwxzXpWvfDXxj4W+NWqfEPwMmi6uuv6Xb6drGia7fzWC+Zbs5guIp44J+dsjo0ZjAPBDZyDD8PfhX40+FnhHxBqOmTaDrfj3xNrza/rEF7LPbaduk2q9tBKiO6LHGqqsrRMWKksg3YUApfCLUvhp4Z+JkvhjTvhLH8IvG13p7XNvDNoun2r6laK6+Z5VzZSSxvsbYWjMgYZVtuOR7N4k8M6P4x0W50fX9Jsdc0m52iew1K2S4glwwYbo3BVsMARkdQDXlWl/CvxT40+MGj+P/AB9Domljw/p91p+k6Fod5LfozXIQTzz3EsEG7KIEEQiwOWLHOB3HhP4ReB/hzcXV74P8EeG/DV/PEYnm0nS4LJpVzkI7xICVyAe/TOKAPnaP4QeAvEH7Y2haT4S8C+G/D2m/Dmx/trVrzR9IgtXm1C5UrZ27tHGMhI982M9Sh7Ve/aw0L4WaL4Z8cXuo/D2+1/xzeWRnttd/sG6m+yTsojhlGryJ5FlFEVV2/fxrGFZsZPzeqfs6/CfVvhf4Y1u48UXVnqHjPxLrF1retXVhJJJB5sjYjiiaQK3lxxLGgyo6Hin+JX+Mcx1zTNM0jwNeWNy8sdhq93qt5byQQuML5tmLaQSumTnbcIJMZ/dZwADybxOuoeMta/Zx+GvinV4vEuk6xpc+q+Ibi1uw9trklpZxFFcrgTwPLL5hU5V9q5BGa2PCeh6d8H/2xI/CPhCxt9A8JeJPCMurXWhafEILKO+t7mOIXEUKgIjvGwV9oG7YpOSKsr+y5qPgLwr8IG8D6tbX3ib4brLBAdcLwW+q29wuy7ikeNZGgz99GCSbCirggk12fgX4b+JLr4sal8SPG39lWesHS10PTNH0S5ku7eztPMEsrvcSRRNLJJIF6RoFVFHzEk0AM+IHxK8UT/F3Rfhr4IGk2WrTaXLr2p6xrdrJeQWlosnkxolvHNCzySSnqZFVVRuGJwPOv2dL3xjJ8SP2hZb7S9Ij8XJrOnRm3W9kFjKy2ESiUSCNnVXUBwhUld2wk43V6F8QPhn4nh+MmifEzwUuj3+qQ6RNoGpaRrd3JZxXNq0gmjkS4jhmZHSQfdMZDK55Ujngpf2cfiNfeF/jfHP4w06y8SeOp7W8sNQ0rz7ZLcxQRo1u+350jOwwl1ZmKEvgMdlAHUWvxI+IPhb40ad8PPE174Z1p/EOhXmo6NqmlaVc2PkXVsyB4riF7mffGVlRgyyKflYEcg1zC/tS+Ib79nHTPEVlpWm/8LRvNcj8If2LKkn2RNY+1eRKpXzN/lhVeYDfnYBk9ab8Pf2Y9T8N/HTwn48g8H/D/wCH+maTpt9p1zpHhHe8ty0qx+XM8/2aASHKsNjICgGd7+YQnM+Gfhibz9v3xHHY3ay+ENDt4/GFzpyg7INcvIDaAn3aGOSX2LUAei6t8bvEt18fNV+HWn6p4T8N3umWllc2lj4kgm+0eJvNR3l+xusyCJE8tkLCO4YEMSmFw3voz3614F+0X8HfGPxy0jUvCUmkeC5tCuZoX0/xLfTTjU9FHyebJDb+Q6vOMSbJFnhHzqCvykv7zawm3t4ojI8pjQL5khyzYGMk+poAlooooAKKKKACiiigAooooAKKKKACiiigAooooAKKKKACiiigAooooAKKKKACiiigAooooAKKKKACiiigAooooAKKKKACiiigAooooAKKKKACiiigAqxp/wDyELb/AK6r/MVXqxp//IQtv+uq/wAxQB3FFFFABRRRQAUUUUAFFFFABRRRQAUUUUAcPqH/ACELn/rq38zVerGof8hC5/66t/M1XoAKKKKACiiigAooooAKKKKACiiigAooooAKKKKACiiigAooooAKKKKACiiigAooooAKKKKACiiigAooooAKKKKACiiigAooooAKKKKALEv/AB4wf7z/APstV6sS/wDHjB/vP/7LVegAooooAKKKKACiiigArMu/DOj3+uWGtXOk2NzrOnpJHZ6jNbI1xbJIAJFjkI3IGAGQCM45rTooAKKKKACiiigAooooAKKKKACiiigAooooAzNB8M6P4WguYdF0mx0iG6uJLyeOwtkgWWdzl5XCgbnY8ljye5rToooAKKKKACiiigAooooAKKKKACiiigAooooAKKKKACiiigAooooAKKKKACiiigAooooAKKKKACiiigAooooAKKKKACiiigAooooAKzNN8M6Po2p6nqWn6TY2Oo6o6SX93bWyRy3bou1GldQC5VeAWJwOK06KACiiigAooooAKKKKACiiigAooooAKKKKACiiigAooooAKKKKACiiigAooooAKKKKACiiigAooooAKKKKACiiigAooooAKKKKACiiigAooooAKKKKACiiigAqxp//ACELb/rqv8xVerGn/wDIQtv+uq/zFAHcUUUUAFFFFABRRRQAUUUUAFFFFABRRRQBw+of8hC5/wCurfzNV6sah/yELn/rq38zVegAooooAKKKKACiiigAooooAKKKKACiiigAooooAKKKKACiiigAooooAKKKKACiiigAooooAKKKKACiiigAooooAKKKKACiiigAooooAsS/8eMH+8//ALLVerEv/HjB/vP/AOy1XoAKKKKACiiigAooooAKKKKACiiigAooooAKKKKACiiigAooooAKKKKACiiigAooooAKKKKACiiigAooooAKKKKACiiigAooooAKKKKACiiigAooooAKKKKACiiigAooooAKKKKACiiigAooooAKKKKACiiigAooooAKKKKACiiigAooooAKKKKACiiigAooooAKKKKACiiigAooooAKKKKACiiigAooooAKKKKACiiigAooooAKKKKACiiigAooooAKKKKACiiigAooooAKKKKACrGn/wDIQtv+uq/zFV6saf8A8hC2/wCuq/zFAHcUUUUAFFFFABRRRQAUUUUAFFFFABRRRQBzF5oF3NdzSKF2s7MPm7E1F/wjd7/dT/vqusooA5P/AIRu9/up/wB9Uf8ACN3v91P++q6yigDk/wDhG73+6n/fVH/CN3v91P8AvqusooA5P/hG73+6n/fVH/CN3v8AdT/vqusooA5P/hG73+6n/fVH/CN3v91P++q6yigDk/8AhG73+6n/AH1R/wAI3e/3U/76rrKKAOT/AOEbvf7qf99Uf8I3e/3U/wC+q6yigDk/+Ebvf7qf99Uf8I3e/wB1P++q6yigDk/+Ebvf7qf99Uf8I3e/3U/76rrKKAOT/wCEbvf7qf8AfVH/AAjd7/dT/vqusooA5P8A4Ru9/up/31R/wjd7/dT/AL6rrKKAOT/4Ru9/up/31R/wjd7/AHU/76rrKKAOT/4Ru9/up/31R/wjd7/dT/vqusooA5P/AIRu9/up/wB9Uf8ACN3v91P++q6yigDk/wDhG73+6n/fVH/CN3v91P8AvqusooA5P/hG73+6n/fVH/CN3v8AdT/vqusooA5P/hG73+6n/fVH/CN3v91P++q6yigDk/8AhG73+6n/AH1R/wAI3e/3U/76rrKKAOT/AOEbvf7qf99Uf8I3e/3U/wC+q6yigDk/+Ebvf7qf99Uf8I3e/wB1P++q6yigDmJNAu2tokAXcrMT83rj/Cov+Ebvf7qf99V1lFAHJ/8ACN3v91P++qP+Ebvf7qf99V1lFAHJ/wDCN3v91P8Avqj/AIRu9/up/wB9V1lFAHJ/8I3e/wB1P++qP+Ebvf7qf99V1lFAHJ/8I3e/3U/76o/4Ru9/up/31XWUUAcn/wAI3e/3U/76o/4Ru9/up/31XWUUAcn/AMI3e/3U/wC+qP8AhG73+6n/AH1XWUUAcn/wjd7/AHU/76o/4Ru9/up/31XWUUAcn/wjd7/dT/vqj/hG73+6n/fVdZRQByf/AAjd7/dT/vqj/hG73+6n/fVdZRQByf8Awjd7/dT/AL6o/wCEbvf7qf8AfVdZRQByf/CN3v8AdT/vqj/hG73+6n/fVdZRQByf/CN3v91P++qP+Ebvf7qf99V1lFAHJ/8ACN3v91P++qP+Ebvf7qf99V1lFAHJ/wDCN3v91P8Avqj/AIRu9/up/wB9V1lFAHJ/8I3e/wB1P++qP+Ebvf7qf99V1lFAHJ/8I3e/3U/76o/4Ru9/up/31XWUUAcn/wAI3e/3U/76o/4Ru9/up/31XWUUAcn/AMI3e/3U/wC+qP8AhG73+6n/AH1XWUUAcn/wjd7/AHU/76o/4Ru9/up/31XWUUAcn/wjd7/dT/vqj/hG73+6n/fVdZRQByf/AAjd7/dT/vqj/hG73+6n/fVdZRQByf8Awjd7/dT/AL6o/wCEbvf7qf8AfVdZRQByf/CN3v8AdT/vqj/hG73+6n/fVdZRQByf/CN3v91P++qP+Ebvf7qf99V1lFAHJ/8ACN3v91P++qP+Ebvf7qf99V1lFAHJ/wDCN3v91P8Avqj/AIRu9/up/wB9V1lFAHJ/8I3e/wB1P++qP+Ebvf7qf99V1lFAHJ/8I3e/3U/76o/4Ru9/up/31XWUUAcn/wAI3e/3U/76o/4Ru9/up/31XWUUAcn/AMI3e/3U/wC+qP8AhG73+6n/AH1XWUUAcn/wjd7/AHU/76o/4Ru9/up/31XWUUAcn/wjd7/dT/vqj/hG73+6n/fVdZRQByf/AAjd7/dT/vqj/hG73+6n/fVdZRQByf8Awjd7/dT/AL6o/wCEbvf7qf8AfVdZRQByf/CN3v8AdT/vqj/hG73+6n/fVdZRQByf/CN3v91P++qP+Ebvf7qf99V1lFAHJ/8ACN3v91P++qP+Ebvf7qf99V1lFAHJ/wDCN3v91P8Avqj/AIRu9/up/wB9V1lFAHJ/8I3e/wB1P++qP+Ebvf7qf99V1lFAHJ/8I3e/3U/76o/4Ru9/up/31XWUUAcn/wAI3e/3U/76o/4Ru9/up/31XWUUAcn/AMI3e/3U/wC+qP8AhG73+6n/AH1XWUUAcn/wjd7/AHU/76o/4Ru9/up/31XWUUAcn/wjd7/dT/vqj/hG73+6n/fVdZRQByf/AAjd7/dT/vqj/hG73+6n/fVdZRQByf8Awjd7/dT/AL6o/wCEbvf7qf8AfVdZRQByf/CN3v8AdT/vqj/hG73+6n/fVdZRQByf/CN3v91P++qP+Ebvf7qf99V1lFAHJ/8ACN3v91P++qP+Ebvf7qf99V1lFAHJ/wDCN3v91P8Avqj/AIRu9/up/wB9V1lFAHJ/8I3e/wB1P++qP+Ebvf7qf99V1lFAHJ/8I3e/3U/76o/4Ru9/up/31XWUUAcn/wAI3e/3U/76qWz0C7hu4ZGC7VdWPzdga6eigAooooAKKKKACiiigAooooAKKKKACiiigAooooAKKKKACiiigAooooAKKKKACiiigAooooAKKKKACiiigAooooAKKKKACiiigAooooAKKKKACiiigAooooAKKKKACiiigAooooAKKKKACiiigAooooAKKKKACiiigAooooAKKKKACiiigAooooAKKKKACiiigAooooAKKKKACiiigAooooAKKKKACiiigAooooAKKKKACiiigAooooAKKKKACiiigAooooAKKKKACiiigAooooAKKKKACiiigAooooAKKKKACiiigAooooAKKKKACiiigAooooAKKKKACiiigAooooAKKKKACiiigAooooAKKKKACiiigAooooAKKKKACiiigAooooAKKKKACiiigAooooAKKKKACiiigAooooAKKKKACiiigAooooAKKKKAP//Z)"
      ],
      "metadata": {
        "id": "YxRhxrh8NJex"
      },
      "id": "YxRhxrh8NJex"
    },
    {
      "cell_type": "markdown",
      "source": [
        "![MarketingSegmentation1.jpg](data:image/jpeg;base64,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)"
      ],
      "metadata": {
        "id": "X5Rpx_MeBl7R"
      },
      "id": "X5Rpx_MeBl7R"
    },
    {
      "cell_type": "markdown",
      "source": [
        "![MarketingSegmentation2.jpg](data:image/jpeg;base64,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)"
      ],
      "metadata": {
        "id": "lx9-b5slpQuw"
      },
      "id": "lx9-b5slpQuw"
    },
    {
      "cell_type": "markdown",
      "source": [
        "Customer segmentation will be based on the domain rules as per the segment definition based on Recency and Monetary Value"
      ],
      "metadata": {
        "id": "WHvSDezMt-KW"
      },
      "id": "WHvSDezMt-KW"
    },
    {
      "cell_type": "code",
      "execution_count": null,
      "id": "b946e83e",
      "metadata": {
        "id": "b946e83e"
      },
      "outputs": [],
      "source": [
        "# Do RFM analysis for year 2015\n",
        "customers_2015 = rfm[['CustomerId','AveragePurchaseAmount','Recency','Frequency', 'FirstPurchase']].copy()"
      ]
    },
    {
      "cell_type": "code",
      "execution_count": null,
      "id": "79781007",
      "metadata": {
        "id": "79781007"
      },
      "outputs": [],
      "source": [
        "# Function to determine segment based on recency, first purchase and average purchase amount\n",
        "def get_mgr_segment(iv_recency, iv_firstpurchase, iv_avgpur):\n",
        "    if iv_recency > (365 * 3):\n",
        "        rv_segment = \"Inactive\"\n",
        "        return rv_segment\n",
        "    elif iv_recency > ( 365 * 2) and iv_recency <= (365 * 3):\n",
        "        rv_segment = \"Cold\"\n",
        "        return rv_segment\n",
        "    elif iv_recency > 365 and iv_firstpurchase <= (365 * 2):\n",
        "        rv_segment = \"New Warm\"\n",
        "        return rv_segment\n",
        "    elif iv_recency > 365 and iv_avgpur < 100:\n",
        "        rv_segment = \"Warm Low Value\"\n",
        "        return rv_segment\n",
        "    elif iv_recency > 365 and iv_avgpur >= 100:\n",
        "        rv_segment = \"Warm High Value\"\n",
        "        return rv_segment\n",
        "    elif iv_recency <= 365 and iv_firstpurchase <= 365:\n",
        "        rv_segment = \"New Active\"\n",
        "        return rv_segment\n",
        "    elif iv_recency <= 365 and iv_avgpur < 100:\n",
        "        rv_segment = \"Active Low Value\"\n",
        "        return rv_segment\n",
        "    elif iv_recency <= 365 and iv_avgpur >= 100:\n",
        "        rv_segment = \"Active High Value\"\n",
        "        return rv_segment\n",
        "\n",
        "    "
      ]
    },
    {
      "cell_type": "code",
      "execution_count": null,
      "id": "854eb8a7",
      "metadata": {
        "id": "854eb8a7"
      },
      "outputs": [],
      "source": [
        "# Assign the customers to Segment based on the definition\n",
        "customers_2015['Segment'] = customers_2015.apply(lambda x: get_mgr_segment(x['Recency'],x['FirstPurchase'], x['AveragePurchaseAmount']),axis=1)"
      ]
    },
    {
      "cell_type": "code",
      "execution_count": null,
      "id": "c154bd22",
      "metadata": {
        "id": "c154bd22",
        "outputId": "ce8ef41c-c62b-4efa-b86f-11a60d102761"
      },
      "outputs": [
        {
          "data": {
            "text/html": [
              "<div>\n",
              "<style scoped>\n",
              "    .dataframe tbody tr th:only-of-type {\n",
              "        vertical-align: middle;\n",
              "    }\n",
              "\n",
              "    .dataframe tbody tr th {\n",
              "        vertical-align: top;\n",
              "    }\n",
              "\n",
              "    .dataframe thead th {\n",
              "        text-align: right;\n",
              "    }\n",
              "</style>\n",
              "<table border=\"1\" class=\"dataframe\">\n",
              "  <thead>\n",
              "    <tr style=\"text-align: right;\">\n",
              "      <th></th>\n",
              "      <th>CustomerId</th>\n",
              "      <th>AveragePurchaseAmount</th>\n",
              "      <th>Recency</th>\n",
              "      <th>Frequency</th>\n",
              "      <th>FirstPurchase</th>\n",
              "      <th>Segment</th>\n",
              "    </tr>\n",
              "  </thead>\n",
              "  <tbody>\n",
              "    <tr>\n",
              "      <th>0</th>\n",
              "      <td>10</td>\n",
              "      <td>30.000000</td>\n",
              "      <td>3829</td>\n",
              "      <td>1</td>\n",
              "      <td>3829</td>\n",
              "      <td>Inactive</td>\n",
              "    </tr>\n",
              "    <tr>\n",
              "      <th>1</th>\n",
              "      <td>1000</td>\n",
              "      <td>22.500000</td>\n",
              "      <td>1120</td>\n",
              "      <td>2</td>\n",
              "      <td>3710</td>\n",
              "      <td>Inactive</td>\n",
              "    </tr>\n",
              "    <tr>\n",
              "      <th>2</th>\n",
              "      <td>100000</td>\n",
              "      <td>35.000000</td>\n",
              "      <td>2072</td>\n",
              "      <td>2</td>\n",
              "      <td>2750</td>\n",
              "      <td>Inactive</td>\n",
              "    </tr>\n",
              "    <tr>\n",
              "      <th>3</th>\n",
              "      <td>100010</td>\n",
              "      <td>27.857143</td>\n",
              "      <td>413</td>\n",
              "      <td>7</td>\n",
              "      <td>2750</td>\n",
              "      <td>Warm Low Value</td>\n",
              "    </tr>\n",
              "    <tr>\n",
              "      <th>4</th>\n",
              "      <td>100020</td>\n",
              "      <td>30.000000</td>\n",
              "      <td>2750</td>\n",
              "      <td>1</td>\n",
              "      <td>2750</td>\n",
              "      <td>Inactive</td>\n",
              "    </tr>\n",
              "  </tbody>\n",
              "</table>\n",
              "</div>"
            ],
            "text/plain": [
              "  CustomerId  AveragePurchaseAmount  Recency  Frequency  FirstPurchase  \\\n",
              "0         10              30.000000     3829          1           3829   \n",
              "1       1000              22.500000     1120          2           3710   \n",
              "2     100000              35.000000     2072          2           2750   \n",
              "3     100010              27.857143      413          7           2750   \n",
              "4     100020              30.000000     2750          1           2750   \n",
              "\n",
              "          Segment  \n",
              "0        Inactive  \n",
              "1        Inactive  \n",
              "2        Inactive  \n",
              "3  Warm Low Value  \n",
              "4        Inactive  "
            ]
          },
          "execution_count": 45,
          "metadata": {},
          "output_type": "execute_result"
        }
      ],
      "source": [
        "# Check the first 5 entries\n",
        "customers_2015.head()"
      ]
    },
    {
      "cell_type": "code",
      "execution_count": null,
      "id": "0fbb6ad3",
      "metadata": {
        "id": "0fbb6ad3",
        "outputId": "532b5e1f-b579-4cdb-9888-ec4162b07c4e"
      },
      "outputs": [
        {
          "data": {
            "text/plain": [
              "Inactive             49.725797\n",
              "Active Low Value     17.988815\n",
              "Cold                 10.332845\n",
              "New Active            8.209806\n",
              "New Warm              5.093120\n",
              "Warm Low Value        4.892219\n",
              "Active High Value     3.111256\n",
              "Warm High Value       0.646142\n",
              "Name: Segment, dtype: float64"
            ]
          },
          "execution_count": 46,
          "metadata": {},
          "output_type": "execute_result"
        }
      ],
      "source": [
        "# Check the % of customers in each segment\n",
        "customers_2015['Segment'].value_counts() * 100 / len(customers_2015)"
      ]
    },
    {
      "cell_type": "code",
      "execution_count": null,
      "id": "c314d1b7",
      "metadata": {
        "id": "c314d1b7",
        "outputId": "ba8b2985-adc4-4ff1-8e96-62d0c4eb6fab"
      },
      "outputs": [
        {
          "data": {
            "image/png": "[encoded data removed]",
            "text/plain": [
              "<Figure size 720x576 with 1 Axes>"
            ]
          },
          "metadata": {},
          "output_type": "display_data"
        }
      ],
      "source": [
        "# Visualize the customer segmentation for year 2015\n",
        "plt.figure(figsize = (10, 8))\n",
        "plt.pie(customers_2015['Segment'].value_counts() * 100 / len(customers_2015), labels = customers_2015['Segment'].value_counts().index)\n",
        "plt.title(\"Customer wise segment for the year 2015\")\n",
        "plt.show()"
      ]
    },
    {
      "cell_type": "code",
      "execution_count": null,
      "id": "73de5d7b",
      "metadata": {
        "id": "73de5d7b"
      },
      "outputs": [],
      "source": [
        "# Get the RFM for customers for years 2015 and before\n",
        "customers_2015_segment = pd.DataFrame(columns=['Segment','Recency','Frequency','AveragePurchaseAmount'])\n",
        "customers_2015_segment['Segment'] = customers_2015['Segment']\n",
        "customers_2015_segment['Recency'] = customers_2015['Recency']\n",
        "customers_2015_segment['Frequency'] = customers_2015['Frequency']\n",
        "customers_2015_segment['AveragePurchaseAmount'] = customers_2015['AveragePurchaseAmount']"
      ]
    },
    {
      "cell_type": "code",
      "execution_count": null,
      "id": "9a1cfc93",
      "metadata": {
        "id": "9a1cfc93"
      },
      "outputs": [],
      "source": [
        "# Get the average value\n",
        "customers_2015_grp = customers_2015.groupby('Segment').mean()"
      ]
    },
    {
      "cell_type": "code",
      "execution_count": null,
      "id": "a3323f58",
      "metadata": {
        "id": "a3323f58",
        "outputId": "1224b107-973d-41ef-85e4-704015c12660"
      },
      "outputs": [
        {
          "data": {
            "text/html": [
              "<div>\n",
              "<style scoped>\n",
              "    .dataframe tbody tr th:only-of-type {\n",
              "        vertical-align: middle;\n",
              "    }\n",
              "\n",
              "    .dataframe tbody tr th {\n",
              "        vertical-align: top;\n",
              "    }\n",
              "\n",
              "    .dataframe thead th {\n",
              "        text-align: right;\n",
              "    }\n",
              "</style>\n",
              "<table border=\"1\" class=\"dataframe\">\n",
              "  <thead>\n",
              "    <tr style=\"text-align: right;\">\n",
              "      <th></th>\n",
              "      <th>Segment</th>\n",
              "      <th>AveragePurchaseAmount</th>\n",
              "      <th>Recency</th>\n",
              "      <th>Frequency</th>\n",
              "      <th>FirstPurchase</th>\n",
              "    </tr>\n",
              "  </thead>\n",
              "  <tbody>\n",
              "    <tr>\n",
              "      <th>0</th>\n",
              "      <td>Active High Value</td>\n",
              "      <td>240.045740</td>\n",
              "      <td>88.820244</td>\n",
              "      <td>5.888307</td>\n",
              "      <td>1985.909250</td>\n",
              "    </tr>\n",
              "    <tr>\n",
              "      <th>1</th>\n",
              "      <td>Active Low Value</td>\n",
              "      <td>40.724525</td>\n",
              "      <td>108.361002</td>\n",
              "      <td>5.935406</td>\n",
              "      <td>2003.801992</td>\n",
              "    </tr>\n",
              "    <tr>\n",
              "      <th>2</th>\n",
              "      <td>Cold</td>\n",
              "      <td>51.739893</td>\n",
              "      <td>857.781398</td>\n",
              "      <td>2.303205</td>\n",
              "      <td>1432.117183</td>\n",
              "    </tr>\n",
              "    <tr>\n",
              "      <th>3</th>\n",
              "      <td>Inactive</td>\n",
              "      <td>48.112771</td>\n",
              "      <td>2178.110832</td>\n",
              "      <td>1.814479</td>\n",
              "      <td>2546.168377</td>\n",
              "    </tr>\n",
              "    <tr>\n",
              "      <th>4</th>\n",
              "      <td>New Active</td>\n",
              "      <td>77.133847</td>\n",
              "      <td>84.990741</td>\n",
              "      <td>1.045635</td>\n",
              "      <td>90.013889</td>\n",
              "    </tr>\n",
              "    <tr>\n",
              "      <th>5</th>\n",
              "      <td>New Warm</td>\n",
              "      <td>66.599026</td>\n",
              "      <td>509.304904</td>\n",
              "      <td>1.044776</td>\n",
              "      <td>516.622601</td>\n",
              "    </tr>\n",
              "    <tr>\n",
              "      <th>6</th>\n",
              "      <td>Warm High Value</td>\n",
              "      <td>327.407457</td>\n",
              "      <td>455.126050</td>\n",
              "      <td>4.714286</td>\n",
              "      <td>2015.352941</td>\n",
              "    </tr>\n",
              "    <tr>\n",
              "      <th>7</th>\n",
              "      <td>Warm Low Value</td>\n",
              "      <td>38.591926</td>\n",
              "      <td>474.377358</td>\n",
              "      <td>4.531632</td>\n",
              "      <td>2063.639290</td>\n",
              "    </tr>\n",
              "  </tbody>\n",
              "</table>\n",
              "</div>"
            ],
            "text/plain": [
              "             Segment  AveragePurchaseAmount      Recency  Frequency  \\\n",
              "0  Active High Value             240.045740    88.820244   5.888307   \n",
              "1   Active Low Value              40.724525   108.361002   5.935406   \n",
              "2               Cold              51.739893   857.781398   2.303205   \n",
              "3           Inactive              48.112771  2178.110832   1.814479   \n",
              "4         New Active              77.133847    84.990741   1.045635   \n",
              "5           New Warm              66.599026   509.304904   1.044776   \n",
              "6    Warm High Value             327.407457   455.126050   4.714286   \n",
              "7     Warm Low Value              38.591926   474.377358   4.531632   \n",
              "\n",
              "   FirstPurchase  \n",
              "0    1985.909250  \n",
              "1    2003.801992  \n",
              "2    1432.117183  \n",
              "3    2546.168377  \n",
              "4      90.013889  \n",
              "5     516.622601  \n",
              "6    2015.352941  \n",
              "7    2063.639290  "
            ]
          },
          "execution_count": 50,
          "metadata": {},
          "output_type": "execute_result"
        }
      ],
      "source": [
        "# Build the dataframe for customers for year 2015\n",
        "customers_2015_grp.reset_index()"
      ]
    },
    {
      "cell_type": "code",
      "execution_count": null,
      "id": "393e9406",
      "metadata": {
        "id": "393e9406",
        "outputId": "ef7fd6fc-ac94-4309-94cb-c7a0d5cfafc6"
      },
      "outputs": [
        {
          "data": {
            "text/html": [
              "<div>\n",
              "<style scoped>\n",
              "    .dataframe tbody tr th:only-of-type {\n",
              "        vertical-align: middle;\n",
              "    }\n",
              "\n",
              "    .dataframe tbody tr th {\n",
              "        vertical-align: top;\n",
              "    }\n",
              "\n",
              "    .dataframe thead th {\n",
              "        text-align: right;\n",
              "    }\n",
              "</style>\n",
              "<table border=\"1\" class=\"dataframe\">\n",
              "  <thead>\n",
              "    <tr style=\"text-align: right;\">\n",
              "      <th></th>\n",
              "      <th>AveragePurchaseAmount</th>\n",
              "      <th>Recency</th>\n",
              "      <th>Frequency</th>\n",
              "      <th>FirstPurchase</th>\n",
              "    </tr>\n",
              "    <tr>\n",
              "      <th>Segment</th>\n",
              "      <th></th>\n",
              "      <th></th>\n",
              "      <th></th>\n",
              "      <th></th>\n",
              "    </tr>\n",
              "  </thead>\n",
              "  <tbody>\n",
              "    <tr>\n",
              "      <th>Inactive</th>\n",
              "      <td>48.112771</td>\n",
              "      <td>2178.110832</td>\n",
              "      <td>1.814479</td>\n",
              "      <td>2546.168377</td>\n",
              "    </tr>\n",
              "    <tr>\n",
              "      <th>Cold</th>\n",
              "      <td>51.739893</td>\n",
              "      <td>857.781398</td>\n",
              "      <td>2.303205</td>\n",
              "      <td>1432.117183</td>\n",
              "    </tr>\n",
              "    <tr>\n",
              "      <th>Warm High Value</th>\n",
              "      <td>327.407457</td>\n",
              "      <td>455.126050</td>\n",
              "      <td>4.714286</td>\n",
              "      <td>2015.352941</td>\n",
              "    </tr>\n",
              "    <tr>\n",
              "      <th>Warm Low Value</th>\n",
              "      <td>38.591926</td>\n",
              "      <td>474.377358</td>\n",
              "      <td>4.531632</td>\n",
              "      <td>2063.639290</td>\n",
              "    </tr>\n",
              "    <tr>\n",
              "      <th>New Warm</th>\n",
              "      <td>66.599026</td>\n",
              "      <td>509.304904</td>\n",
              "      <td>1.044776</td>\n",
              "      <td>516.622601</td>\n",
              "    </tr>\n",
              "    <tr>\n",
              "      <th>Active High Value</th>\n",
              "      <td>240.045740</td>\n",
              "      <td>88.820244</td>\n",
              "      <td>5.888307</td>\n",
              "      <td>1985.909250</td>\n",
              "    </tr>\n",
              "    <tr>\n",
              "      <th>Active Low Value</th>\n",
              "      <td>40.724525</td>\n",
              "      <td>108.361002</td>\n",
              "      <td>5.935406</td>\n",
              "      <td>2003.801992</td>\n",
              "    </tr>\n",
              "    <tr>\n",
              "      <th>New Active</th>\n",
              "      <td>77.133847</td>\n",
              "      <td>84.990741</td>\n",
              "      <td>1.045635</td>\n",
              "      <td>90.013889</td>\n",
              "    </tr>\n",
              "  </tbody>\n",
              "</table>\n",
              "</div>"
            ],
            "text/plain": [
              "                   AveragePurchaseAmount      Recency  Frequency  \\\n",
              "Segment                                                            \n",
              "Inactive                       48.112771  2178.110832   1.814479   \n",
              "Cold                           51.739893   857.781398   2.303205   \n",
              "Warm High Value               327.407457   455.126050   4.714286   \n",
              "Warm Low Value                 38.591926   474.377358   4.531632   \n",
              "New Warm                       66.599026   509.304904   1.044776   \n",
              "Active High Value             240.045740    88.820244   5.888307   \n",
              "Active Low Value               40.724525   108.361002   5.935406   \n",
              "New Active                     77.133847    84.990741   1.045635   \n",
              "\n",
              "                   FirstPurchase  \n",
              "Segment                           \n",
              "Inactive             2546.168377  \n",
              "Cold                 1432.117183  \n",
              "Warm High Value      2015.352941  \n",
              "Warm Low Value       2063.639290  \n",
              "New Warm              516.622601  \n",
              "Active High Value    1985.909250  \n",
              "Active Low Value     2003.801992  \n",
              "New Active             90.013889  "
            ]
          },
          "execution_count": 51,
          "metadata": {},
          "output_type": "execute_result"
        }
      ],
      "source": [
        "# Sort the dataframe based on predefined index\n",
        "#customers_2015_grp.set_index(\"Segment\")\n",
        "customers_2015_grp.reindex([\"Inactive\", \"Cold\", \"Warm High Value\", \"Warm Low Value\", \"New Warm\", \n",
        "                            \"Active High Value\", \"Active Low Value\" , \"New Active\"])"
      ]
    },
    {
      "cell_type": "markdown",
      "source": [
        "Managerial Segment is also created for year 2014 as this will be used later for computing transition within segments and for computing future revenues of company"
      ],
      "metadata": {
        "id": "NY5BFN0dulTJ"
      },
      "id": "NY5BFN0dulTJ"
    },
    {
      "cell_type": "code",
      "execution_count": null,
      "id": "ce776df4",
      "metadata": {
        "id": "ce776df4"
      },
      "outputs": [],
      "source": [
        "# Build the dataframe for customers who visited the store on 2014\n",
        "df2014 = df[df[\"DaysSince\"] > 365]"
      ]
    },
    {
      "cell_type": "code",
      "execution_count": null,
      "id": "0e0970d3",
      "metadata": {
        "id": "0e0970d3",
        "outputId": "40308caf-0357-4f99-95bb-67128caf1845"
      },
      "outputs": [
        {
          "data": {
            "text/html": [
              "<div>\n",
              "<style scoped>\n",
              "    .dataframe tbody tr th:only-of-type {\n",
              "        vertical-align: middle;\n",
              "    }\n",
              "\n",
              "    .dataframe tbody tr th {\n",
              "        vertical-align: top;\n",
              "    }\n",
              "\n",
              "    .dataframe thead th {\n",
              "        text-align: right;\n",
              "    }\n",
              "</style>\n",
              "<table border=\"1\" class=\"dataframe\">\n",
              "  <thead>\n",
              "    <tr style=\"text-align: right;\">\n",
              "      <th></th>\n",
              "      <th>CustomerId</th>\n",
              "      <th>Amount</th>\n",
              "      <th>Date</th>\n",
              "      <th>Year</th>\n",
              "      <th>DaysSince</th>\n",
              "    </tr>\n",
              "  </thead>\n",
              "  <tbody>\n",
              "    <tr>\n",
              "      <th>0</th>\n",
              "      <td>760</td>\n",
              "      <td>25.0</td>\n",
              "      <td>2009-11-06</td>\n",
              "      <td>2009</td>\n",
              "      <td>2247</td>\n",
              "    </tr>\n",
              "    <tr>\n",
              "      <th>1</th>\n",
              "      <td>860</td>\n",
              "      <td>50.0</td>\n",
              "      <td>2012-09-28</td>\n",
              "      <td>2012</td>\n",
              "      <td>1190</td>\n",
              "    </tr>\n",
              "    <tr>\n",
              "      <th>2</th>\n",
              "      <td>1200</td>\n",
              "      <td>100.0</td>\n",
              "      <td>2005-10-25</td>\n",
              "      <td>2005</td>\n",
              "      <td>3720</td>\n",
              "    </tr>\n",
              "    <tr>\n",
              "      <th>3</th>\n",
              "      <td>1420</td>\n",
              "      <td>50.0</td>\n",
              "      <td>2009-07-09</td>\n",
              "      <td>2009</td>\n",
              "      <td>2367</td>\n",
              "    </tr>\n",
              "    <tr>\n",
              "      <th>4</th>\n",
              "      <td>1940</td>\n",
              "      <td>70.0</td>\n",
              "      <td>2013-01-25</td>\n",
              "      <td>2013</td>\n",
              "      <td>1071</td>\n",
              "    </tr>\n",
              "    <tr>\n",
              "      <th>...</th>\n",
              "      <td>...</td>\n",
              "      <td>...</td>\n",
              "      <td>...</td>\n",
              "      <td>...</td>\n",
              "      <td>...</td>\n",
              "    </tr>\n",
              "    <tr>\n",
              "      <th>51237</th>\n",
              "      <td>122530</td>\n",
              "      <td>40.0</td>\n",
              "      <td>2011-10-14</td>\n",
              "      <td>2011</td>\n",
              "      <td>1540</td>\n",
              "    </tr>\n",
              "    <tr>\n",
              "      <th>51238</th>\n",
              "      <td>163230</td>\n",
              "      <td>30.0</td>\n",
              "      <td>2011-11-12</td>\n",
              "      <td>2011</td>\n",
              "      <td>1511</td>\n",
              "    </tr>\n",
              "    <tr>\n",
              "      <th>51239</th>\n",
              "      <td>154410</td>\n",
              "      <td>100.0</td>\n",
              "      <td>2013-11-15</td>\n",
              "      <td>2013</td>\n",
              "      <td>777</td>\n",
              "    </tr>\n",
              "    <tr>\n",
              "      <th>51240</th>\n",
              "      <td>189270</td>\n",
              "      <td>30.0</td>\n",
              "      <td>2014-12-23</td>\n",
              "      <td>2014</td>\n",
              "      <td>374</td>\n",
              "    </tr>\n",
              "    <tr>\n",
              "      <th>51242</th>\n",
              "      <td>9830</td>\n",
              "      <td>50.0</td>\n",
              "      <td>2011-11-30</td>\n",
              "      <td>2011</td>\n",
              "      <td>1493</td>\n",
              "    </tr>\n",
              "  </tbody>\n",
              "</table>\n",
              "<p>45046 rows × 5 columns</p>\n",
              "</div>"
            ],
            "text/plain": [
              "      CustomerId  Amount       Date  Year  DaysSince\n",
              "0            760    25.0 2009-11-06  2009       2247\n",
              "1            860    50.0 2012-09-28  2012       1190\n",
              "2           1200   100.0 2005-10-25  2005       3720\n",
              "3           1420    50.0 2009-07-09  2009       2367\n",
              "4           1940    70.0 2013-01-25  2013       1071\n",
              "...          ...     ...        ...   ...        ...\n",
              "51237     122530    40.0 2011-10-14  2011       1540\n",
              "51238     163230    30.0 2011-11-12  2011       1511\n",
              "51239     154410   100.0 2013-11-15  2013        777\n",
              "51240     189270    30.0 2014-12-23  2014        374\n",
              "51242       9830    50.0 2011-11-30  2011       1493\n",
              "\n",
              "[45046 rows x 5 columns]"
            ]
          },
          "execution_count": 53,
          "metadata": {},
          "output_type": "execute_result"
        }
      ],
      "source": [
        "df2014"
      ]
    },
    {
      "cell_type": "code",
      "execution_count": null,
      "id": "05fe8824",
      "metadata": {
        "id": "05fe8824",
        "outputId": "43186732-ef30-4e8c-fa83-06cbd8e25623"
      },
      "outputs": [
        {
          "name": "stderr",
          "output_type": "stream",
          "text": [
            "C:\\Users\\DEBOPR~1\\AppData\\Local\\Temp/ipykernel_26048/1535666333.py:1: SettingWithCopyWarning: \n",
            "A value is trying to be set on a copy of a slice from a DataFrame.\n",
            "Try using .loc[row_indexer,col_indexer] = value instead\n",
            "\n",
            "See the caveats in the documentation: https://pandas.pydata.org/pandas-docs/stable/user_guide/indexing.html#returning-a-view-versus-a-copy\n",
            "  df2014['DaysSince'] = df2014['DaysSince'] - 365\n"
          ]
        }
      ],
      "source": [
        "# Change the recency value based on 2014 date(1 year before)\n",
        "df2014['DaysSince'] = df2014['DaysSince'] - 365"
      ]
    },
    {
      "cell_type": "code",
      "execution_count": null,
      "id": "5d5618da",
      "metadata": {
        "id": "5d5618da",
        "outputId": "79d2bc2c-e8ee-4426-afc5-fae6a6b8c811"
      },
      "outputs": [
        {
          "data": {
            "text/html": [
              "<div>\n",
              "<style scoped>\n",
              "    .dataframe tbody tr th:only-of-type {\n",
              "        vertical-align: middle;\n",
              "    }\n",
              "\n",
              "    .dataframe tbody tr th {\n",
              "        vertical-align: top;\n",
              "    }\n",
              "\n",
              "    .dataframe thead th {\n",
              "        text-align: right;\n",
              "    }\n",
              "</style>\n",
              "<table border=\"1\" class=\"dataframe\">\n",
              "  <thead>\n",
              "    <tr style=\"text-align: right;\">\n",
              "      <th></th>\n",
              "      <th>CustomerId</th>\n",
              "      <th>Amount</th>\n",
              "      <th>Date</th>\n",
              "      <th>Year</th>\n",
              "      <th>DaysSince</th>\n",
              "    </tr>\n",
              "  </thead>\n",
              "  <tbody>\n",
              "    <tr>\n",
              "      <th>0</th>\n",
              "      <td>760</td>\n",
              "      <td>25.0</td>\n",
              "      <td>2009-11-06</td>\n",
              "      <td>2009</td>\n",
              "      <td>1882</td>\n",
              "    </tr>\n",
              "    <tr>\n",
              "      <th>1</th>\n",
              "      <td>860</td>\n",
              "      <td>50.0</td>\n",
              "      <td>2012-09-28</td>\n",
              "      <td>2012</td>\n",
              "      <td>825</td>\n",
              "    </tr>\n",
              "    <tr>\n",
              "      <th>2</th>\n",
              "      <td>1200</td>\n",
              "      <td>100.0</td>\n",
              "      <td>2005-10-25</td>\n",
              "      <td>2005</td>\n",
              "      <td>3355</td>\n",
              "    </tr>\n",
              "    <tr>\n",
              "      <th>3</th>\n",
              "      <td>1420</td>\n",
              "      <td>50.0</td>\n",
              "      <td>2009-07-09</td>\n",
              "      <td>2009</td>\n",
              "      <td>2002</td>\n",
              "    </tr>\n",
              "    <tr>\n",
              "      <th>4</th>\n",
              "      <td>1940</td>\n",
              "      <td>70.0</td>\n",
              "      <td>2013-01-25</td>\n",
              "      <td>2013</td>\n",
              "      <td>706</td>\n",
              "    </tr>\n",
              "    <tr>\n",
              "      <th>...</th>\n",
              "      <td>...</td>\n",
              "      <td>...</td>\n",
              "      <td>...</td>\n",
              "      <td>...</td>\n",
              "      <td>...</td>\n",
              "    </tr>\n",
              "    <tr>\n",
              "      <th>51237</th>\n",
              "      <td>122530</td>\n",
              "      <td>40.0</td>\n",
              "      <td>2011-10-14</td>\n",
              "      <td>2011</td>\n",
              "      <td>1175</td>\n",
              "    </tr>\n",
              "    <tr>\n",
              "      <th>51238</th>\n",
              "      <td>163230</td>\n",
              "      <td>30.0</td>\n",
              "      <td>2011-11-12</td>\n",
              "      <td>2011</td>\n",
              "      <td>1146</td>\n",
              "    </tr>\n",
              "    <tr>\n",
              "      <th>51239</th>\n",
              "      <td>154410</td>\n",
              "      <td>100.0</td>\n",
              "      <td>2013-11-15</td>\n",
              "      <td>2013</td>\n",
              "      <td>412</td>\n",
              "    </tr>\n",
              "    <tr>\n",
              "      <th>51240</th>\n",
              "      <td>189270</td>\n",
              "      <td>30.0</td>\n",
              "      <td>2014-12-23</td>\n",
              "      <td>2014</td>\n",
              "      <td>9</td>\n",
              "    </tr>\n",
              "    <tr>\n",
              "      <th>51242</th>\n",
              "      <td>9830</td>\n",
              "      <td>50.0</td>\n",
              "      <td>2011-11-30</td>\n",
              "      <td>2011</td>\n",
              "      <td>1128</td>\n",
              "    </tr>\n",
              "  </tbody>\n",
              "</table>\n",
              "<p>45046 rows × 5 columns</p>\n",
              "</div>"
            ],
            "text/plain": [
              "      CustomerId  Amount       Date  Year  DaysSince\n",
              "0            760    25.0 2009-11-06  2009       1882\n",
              "1            860    50.0 2012-09-28  2012        825\n",
              "2           1200   100.0 2005-10-25  2005       3355\n",
              "3           1420    50.0 2009-07-09  2009       2002\n",
              "4           1940    70.0 2013-01-25  2013        706\n",
              "...          ...     ...        ...   ...        ...\n",
              "51237     122530    40.0 2011-10-14  2011       1175\n",
              "51238     163230    30.0 2011-11-12  2011       1146\n",
              "51239     154410   100.0 2013-11-15  2013        412\n",
              "51240     189270    30.0 2014-12-23  2014          9\n",
              "51242       9830    50.0 2011-11-30  2011       1128\n",
              "\n",
              "[45046 rows x 5 columns]"
            ]
          },
          "execution_count": 55,
          "metadata": {},
          "output_type": "execute_result"
        }
      ],
      "source": [
        "# Check the entries of the dataframe\n",
        "df2014"
      ]
    },
    {
      "cell_type": "code",
      "execution_count": null,
      "id": "349729d3",
      "metadata": {
        "id": "349729d3"
      },
      "outputs": [],
      "source": [
        "# Group the data for aggregation\n",
        "df2014_grp = df2014.groupby('CustomerId').agg(AveragePurchaseAmount = (\"Amount\" , 'mean'),Recency = ('DaysSince' , 'min'), FirstPurchase\n",
        "                                  = ('DaysSince' , 'max'))"
      ]
    },
    {
      "cell_type": "code",
      "execution_count": null,
      "id": "80325160",
      "metadata": {
        "id": "80325160"
      },
      "outputs": [],
      "source": [
        "# Get the count of transactions\n",
        "df2014_frequency = df2014.CustomerId.value_counts().reset_index()\n",
        "df2014_frequency.columns = ['CustomerId', \"Frequency\"] "
      ]
    },
    {
      "cell_type": "code",
      "execution_count": null,
      "id": "223280a7",
      "metadata": {
        "id": "223280a7"
      },
      "outputs": [],
      "source": [
        "# Build the RFM dataframe\n",
        "rfm_2014 = df2014_grp.merge(df2014_frequency, how='inner', on='CustomerId')"
      ]
    },
    {
      "cell_type": "code",
      "execution_count": null,
      "id": "a4879c64",
      "metadata": {
        "id": "a4879c64"
      },
      "outputs": [],
      "source": [
        "customers_2014 = rfm_2014[['CustomerId','AveragePurchaseAmount','Recency','Frequency', 'FirstPurchase']].copy()"
      ]
    },
    {
      "cell_type": "code",
      "execution_count": null,
      "id": "46ec41a3",
      "metadata": {
        "id": "46ec41a3"
      },
      "outputs": [],
      "source": [
        "customers_2014['Segment'] = customers_2014.apply(lambda x: get_mgr_segment(x['Recency'],x['FirstPurchase'], x['AveragePurchaseAmount']),axis=1)"
      ]
    },
    {
      "cell_type": "code",
      "execution_count": null,
      "id": "f48b034c",
      "metadata": {
        "id": "f48b034c",
        "outputId": "1b887929-209a-4630-9836-990cbc72ee0e"
      },
      "outputs": [
        {
          "data": {
            "text/html": [
              "<div>\n",
              "<style scoped>\n",
              "    .dataframe tbody tr th:only-of-type {\n",
              "        vertical-align: middle;\n",
              "    }\n",
              "\n",
              "    .dataframe tbody tr th {\n",
              "        vertical-align: top;\n",
              "    }\n",
              "\n",
              "    .dataframe thead th {\n",
              "        text-align: right;\n",
              "    }\n",
              "</style>\n",
              "<table border=\"1\" class=\"dataframe\">\n",
              "  <thead>\n",
              "    <tr style=\"text-align: right;\">\n",
              "      <th></th>\n",
              "      <th>CustomerId</th>\n",
              "      <th>AveragePurchaseAmount</th>\n",
              "      <th>Recency</th>\n",
              "      <th>Frequency</th>\n",
              "      <th>FirstPurchase</th>\n",
              "      <th>Segment</th>\n",
              "    </tr>\n",
              "  </thead>\n",
              "  <tbody>\n",
              "    <tr>\n",
              "      <th>0</th>\n",
              "      <td>10</td>\n",
              "      <td>30.000000</td>\n",
              "      <td>3464</td>\n",
              "      <td>1</td>\n",
              "      <td>3464</td>\n",
              "      <td>Inactive</td>\n",
              "    </tr>\n",
              "    <tr>\n",
              "      <th>1</th>\n",
              "      <td>1000</td>\n",
              "      <td>22.500000</td>\n",
              "      <td>755</td>\n",
              "      <td>2</td>\n",
              "      <td>3345</td>\n",
              "      <td>Cold</td>\n",
              "    </tr>\n",
              "    <tr>\n",
              "      <th>2</th>\n",
              "      <td>100000</td>\n",
              "      <td>35.000000</td>\n",
              "      <td>1707</td>\n",
              "      <td>2</td>\n",
              "      <td>2385</td>\n",
              "      <td>Inactive</td>\n",
              "    </tr>\n",
              "    <tr>\n",
              "      <th>3</th>\n",
              "      <td>100010</td>\n",
              "      <td>27.857143</td>\n",
              "      <td>48</td>\n",
              "      <td>7</td>\n",
              "      <td>2385</td>\n",
              "      <td>Active Low Value</td>\n",
              "    </tr>\n",
              "    <tr>\n",
              "      <th>4</th>\n",
              "      <td>100020</td>\n",
              "      <td>30.000000</td>\n",
              "      <td>2385</td>\n",
              "      <td>1</td>\n",
              "      <td>2385</td>\n",
              "      <td>Inactive</td>\n",
              "    </tr>\n",
              "    <tr>\n",
              "      <th>...</th>\n",
              "      <td>...</td>\n",
              "      <td>...</td>\n",
              "      <td>...</td>\n",
              "      <td>...</td>\n",
              "      <td>...</td>\n",
              "      <td>...</td>\n",
              "    </tr>\n",
              "    <tr>\n",
              "      <th>16900</th>\n",
              "      <td>99950</td>\n",
              "      <td>30.000000</td>\n",
              "      <td>732</td>\n",
              "      <td>2</td>\n",
              "      <td>2387</td>\n",
              "      <td>Cold</td>\n",
              "    </tr>\n",
              "    <tr>\n",
              "      <th>16901</th>\n",
              "      <td>99960</td>\n",
              "      <td>2007.000000</td>\n",
              "      <td>2387</td>\n",
              "      <td>1</td>\n",
              "      <td>2387</td>\n",
              "      <td>Inactive</td>\n",
              "    </tr>\n",
              "    <tr>\n",
              "      <th>16902</th>\n",
              "      <td>99970</td>\n",
              "      <td>45.625000</td>\n",
              "      <td>48</td>\n",
              "      <td>8</td>\n",
              "      <td>2385</td>\n",
              "      <td>Active Low Value</td>\n",
              "    </tr>\n",
              "    <tr>\n",
              "      <th>16903</th>\n",
              "      <td>99980</td>\n",
              "      <td>50.000000</td>\n",
              "      <td>2385</td>\n",
              "      <td>1</td>\n",
              "      <td>2385</td>\n",
              "      <td>Inactive</td>\n",
              "    </tr>\n",
              "    <tr>\n",
              "      <th>16904</th>\n",
              "      <td>99990</td>\n",
              "      <td>60.000000</td>\n",
              "      <td>2385</td>\n",
              "      <td>1</td>\n",
              "      <td>2385</td>\n",
              "      <td>Inactive</td>\n",
              "    </tr>\n",
              "  </tbody>\n",
              "</table>\n",
              "<p>16905 rows × 6 columns</p>\n",
              "</div>"
            ],
            "text/plain": [
              "      CustomerId  AveragePurchaseAmount  Recency  Frequency  FirstPurchase  \\\n",
              "0             10              30.000000     3464          1           3464   \n",
              "1           1000              22.500000      755          2           3345   \n",
              "2         100000              35.000000     1707          2           2385   \n",
              "3         100010              27.857143       48          7           2385   \n",
              "4         100020              30.000000     2385          1           2385   \n",
              "...          ...                    ...      ...        ...            ...   \n",
              "16900      99950              30.000000      732          2           2387   \n",
              "16901      99960            2007.000000     2387          1           2387   \n",
              "16902      99970              45.625000       48          8           2385   \n",
              "16903      99980              50.000000     2385          1           2385   \n",
              "16904      99990              60.000000     2385          1           2385   \n",
              "\n",
              "                Segment  \n",
              "0              Inactive  \n",
              "1                  Cold  \n",
              "2              Inactive  \n",
              "3      Active Low Value  \n",
              "4              Inactive  \n",
              "...                 ...  \n",
              "16900              Cold  \n",
              "16901          Inactive  \n",
              "16902  Active Low Value  \n",
              "16903          Inactive  \n",
              "16904          Inactive  \n",
              "\n",
              "[16905 rows x 6 columns]"
            ]
          },
          "execution_count": 61,
          "metadata": {},
          "output_type": "execute_result"
        }
      ],
      "source": [
        "customers_2014"
      ]
    },
    {
      "cell_type": "code",
      "execution_count": null,
      "id": "e098a64e",
      "metadata": {
        "id": "e098a64e",
        "outputId": "5b315c68-3193-4623-f97f-0a6c62db5d61"
      },
      "outputs": [
        {
          "data": {
            "text/plain": [
              "Inactive             44.436557\n",
              "Active Low Value     17.811298\n",
              "Cold                 12.735877\n",
              "New Active            8.500444\n",
              "New Warm              7.394262\n",
              "Warm Low Value        5.655132\n",
              "Active High Value     2.809820\n",
              "Warm High Value       0.656610\n",
              "Name: Segment, dtype: float64"
            ]
          },
          "execution_count": 62,
          "metadata": {},
          "output_type": "execute_result"
        }
      ],
      "source": [
        "# Get the percentage wise breakup of different segments\n",
        "customers_2014['Segment'].value_counts() * 100 /len(customers_2014)"
      ]
    },
    {
      "cell_type": "code",
      "execution_count": null,
      "id": "d889b483",
      "metadata": {
        "id": "d889b483",
        "outputId": "e1297198-6220-4651-bd13-216d5cb2def4"
      },
      "outputs": [
        {
          "data": {
            "image/png": "[encoded data removed]",
            "text/plain": [
              "<Figure size 720x576 with 1 Axes>"
            ]
          },
          "metadata": {},
          "output_type": "display_data"
        }
      ],
      "source": [
        "# Visualize the data\n",
        "plt.figure(figsize = (10, 8))\n",
        "plt.pie(customers_2014['Segment'].value_counts() * 100 / len(customers_2014), labels = customers_2014['Segment'].value_counts().index)\n",
        "plt.title(\"Customer wise segment for the year 2014\")\n",
        "plt.show()"
      ]
    },
    {
      "cell_type": "code",
      "execution_count": null,
      "id": "ca16630c",
      "metadata": {
        "id": "ca16630c",
        "colab": {
          "base_uri": "https://localhost:8080/",
          "height": 235
        },
        "outputId": "18c03d15-f21f-4d89-dfa8-ba410fd1fc30"
      },
      "outputs": [
        {
          "output_type": "error",
          "ename": "NameError",
          "evalue": "ignored",
          "traceback": [
            "\u001b[0;31m---------------------------------------------------------------------------\u001b[0m",
            "\u001b[0;31mNameError\u001b[0m                                 Traceback (most recent call last)",
            "\u001b[0;32m<ipython-input-1-dbfa32c08bda>\u001b[0m in \u001b[0;36m<module>\u001b[0;34m()\u001b[0m\n\u001b[1;32m      1\u001b[0m \u001b[0;34m\u001b[0m\u001b[0m\n\u001b[0;32m----> 2\u001b[0;31m \u001b[0mcustomers_2014_segment\u001b[0m \u001b[0;34m=\u001b[0m \u001b[0mpd\u001b[0m\u001b[0;34m.\u001b[0m\u001b[0mDataFrame\u001b[0m\u001b[0;34m(\u001b[0m\u001b[0mcolumns\u001b[0m\u001b[0;34m=\u001b[0m\u001b[0;34m[\u001b[0m\u001b[0;34m'Segment'\u001b[0m\u001b[0;34m,\u001b[0m\u001b[0;34m'Recency'\u001b[0m\u001b[0;34m,\u001b[0m\u001b[0;34m'Frequency'\u001b[0m\u001b[0;34m,\u001b[0m\u001b[0;34m'AveragePurchaseAmount'\u001b[0m\u001b[0;34m]\u001b[0m\u001b[0;34m)\u001b[0m\u001b[0;34m\u001b[0m\u001b[0;34m\u001b[0m\u001b[0m\n\u001b[0m\u001b[1;32m      3\u001b[0m \u001b[0mcustomers_2014_segment\u001b[0m\u001b[0;34m[\u001b[0m\u001b[0;34m'Segment'\u001b[0m\u001b[0;34m]\u001b[0m \u001b[0;34m=\u001b[0m \u001b[0mcustomers_2014\u001b[0m\u001b[0;34m[\u001b[0m\u001b[0;34m'Segment'\u001b[0m\u001b[0;34m]\u001b[0m\u001b[0;34m\u001b[0m\u001b[0;34m\u001b[0m\u001b[0m\n\u001b[1;32m      4\u001b[0m \u001b[0mcustomers_2014_segment\u001b[0m\u001b[0;34m[\u001b[0m\u001b[0;34m'Recency'\u001b[0m\u001b[0;34m]\u001b[0m \u001b[0;34m=\u001b[0m \u001b[0mcustomers_2014\u001b[0m\u001b[0;34m[\u001b[0m\u001b[0;34m'Recency'\u001b[0m\u001b[0;34m]\u001b[0m\u001b[0;34m\u001b[0m\u001b[0;34m\u001b[0m\u001b[0m\n\u001b[1;32m      5\u001b[0m \u001b[0mcustomers_2014_segment\u001b[0m\u001b[0;34m[\u001b[0m\u001b[0;34m'Frequency'\u001b[0m\u001b[0;34m]\u001b[0m \u001b[0;34m=\u001b[0m \u001b[0mcustomers_2014\u001b[0m\u001b[0;34m[\u001b[0m\u001b[0;34m'Frequency'\u001b[0m\u001b[0;34m]\u001b[0m\u001b[0;34m\u001b[0m\u001b[0;34m\u001b[0m\u001b[0m\n",
            "\u001b[0;31mNameError\u001b[0m: name 'pd' is not defined"
          ]
        }
      ],
      "source": [
        "# Build the customer related data for year 2014\n",
        "customers_2014_segment = pd.DataFrame(columns=['Segment','Recency','Frequency','AveragePurchaseAmount'])\n",
        "customers_2014_segment['Segment'] = customers_2014['Segment']\n",
        "customers_2014_segment['Recency'] = customers_2014['Recency']\n",
        "customers_2014_segment['Frequency'] = customers_2014['Frequency']\n",
        "customers_2014_segment['AveragePurchaseAmount'] = customers_2014['AveragePurchaseAmount']"
      ]
    },
    {
      "cell_type": "code",
      "execution_count": null,
      "id": "cbb58338",
      "metadata": {
        "id": "cbb58338"
      },
      "outputs": [],
      "source": [
        "customers_2014_grp = customers_2014.groupby('Segment').mean()"
      ]
    },
    {
      "cell_type": "code",
      "execution_count": null,
      "id": "41d89da6",
      "metadata": {
        "id": "41d89da6",
        "outputId": "e79e6ad1-c448-4fe1-aeda-6481695e4351"
      },
      "outputs": [
        {
          "data": {
            "text/html": [
              "<div>\n",
              "<style scoped>\n",
              "    .dataframe tbody tr th:only-of-type {\n",
              "        vertical-align: middle;\n",
              "    }\n",
              "\n",
              "    .dataframe tbody tr th {\n",
              "        vertical-align: top;\n",
              "    }\n",
              "\n",
              "    .dataframe thead th {\n",
              "        text-align: right;\n",
              "    }\n",
              "</style>\n",
              "<table border=\"1\" class=\"dataframe\">\n",
              "  <thead>\n",
              "    <tr style=\"text-align: right;\">\n",
              "      <th></th>\n",
              "      <th>AveragePurchaseAmount</th>\n",
              "      <th>Recency</th>\n",
              "      <th>Frequency</th>\n",
              "      <th>FirstPurchase</th>\n",
              "    </tr>\n",
              "    <tr>\n",
              "      <th>Segment</th>\n",
              "      <th></th>\n",
              "      <th></th>\n",
              "      <th></th>\n",
              "      <th></th>\n",
              "    </tr>\n",
              "  </thead>\n",
              "  <tbody>\n",
              "    <tr>\n",
              "      <th>Inactive</th>\n",
              "      <td>48.111199</td>\n",
              "      <td>2058.441294</td>\n",
              "      <td>1.730964</td>\n",
              "      <td>2353.036874</td>\n",
              "    </tr>\n",
              "    <tr>\n",
              "      <th>Cold</th>\n",
              "      <td>51.114605</td>\n",
              "      <td>866.616814</td>\n",
              "      <td>2.254064</td>\n",
              "      <td>1565.444032</td>\n",
              "    </tr>\n",
              "    <tr>\n",
              "      <th>Warm High Value</th>\n",
              "      <td>187.849110</td>\n",
              "      <td>461.198198</td>\n",
              "      <td>4.414414</td>\n",
              "      <td>1878.810811</td>\n",
              "    </tr>\n",
              "    <tr>\n",
              "      <th>Warm Low Value</th>\n",
              "      <td>37.382060</td>\n",
              "      <td>470.661088</td>\n",
              "      <td>4.361925</td>\n",
              "      <td>1945.426778</td>\n",
              "    </tr>\n",
              "    <tr>\n",
              "      <th>New Warm</th>\n",
              "      <td>51.367653</td>\n",
              "      <td>497.317600</td>\n",
              "      <td>1.057600</td>\n",
              "      <td>504.880000</td>\n",
              "    </tr>\n",
              "    <tr>\n",
              "      <th>Active High Value</th>\n",
              "      <td>261.902155</td>\n",
              "      <td>85.338947</td>\n",
              "      <td>5.696842</td>\n",
              "      <td>1838.050526</td>\n",
              "    </tr>\n",
              "    <tr>\n",
              "      <th>Active Low Value</th>\n",
              "      <td>40.459174</td>\n",
              "      <td>98.091000</td>\n",
              "      <td>5.633677</td>\n",
              "      <td>1796.351378</td>\n",
              "    </tr>\n",
              "    <tr>\n",
              "      <th>New Active</th>\n",
              "      <td>69.725159</td>\n",
              "      <td>132.086987</td>\n",
              "      <td>1.070981</td>\n",
              "      <td>142.871260</td>\n",
              "    </tr>\n",
              "  </tbody>\n",
              "</table>\n",
              "</div>"
            ],
            "text/plain": [
              "                   AveragePurchaseAmount      Recency  Frequency  \\\n",
              "Segment                                                            \n",
              "Inactive                       48.111199  2058.441294   1.730964   \n",
              "Cold                           51.114605   866.616814   2.254064   \n",
              "Warm High Value               187.849110   461.198198   4.414414   \n",
              "Warm Low Value                 37.382060   470.661088   4.361925   \n",
              "New Warm                       51.367653   497.317600   1.057600   \n",
              "Active High Value             261.902155    85.338947   5.696842   \n",
              "Active Low Value               40.459174    98.091000   5.633677   \n",
              "New Active                     69.725159   132.086987   1.070981   \n",
              "\n",
              "                   FirstPurchase  \n",
              "Segment                           \n",
              "Inactive             2353.036874  \n",
              "Cold                 1565.444032  \n",
              "Warm High Value      1878.810811  \n",
              "Warm Low Value       1945.426778  \n",
              "New Warm              504.880000  \n",
              "Active High Value    1838.050526  \n",
              "Active Low Value     1796.351378  \n",
              "New Active            142.871260  "
            ]
          },
          "execution_count": 66,
          "metadata": {},
          "output_type": "execute_result"
        }
      ],
      "source": [
        "customers_2014_grp.reindex([\"Inactive\", \"Cold\", \"Warm High Value\", \"Warm Low Value\", \"New Warm\", \n",
        "                            \"Active High Value\", \"Active Low Value\" , \"New Active\"])"
      ]
    },
    {
      "cell_type": "code",
      "execution_count": null,
      "id": "48092545",
      "metadata": {
        "id": "48092545"
      },
      "outputs": [],
      "source": [
        "# Get the  revenue customerwise for year 2015\n",
        "revenue_2015 = df.loc[df.Year == 2015, [\"CustomerId\", \"Amount\"]]"
      ]
    },
    {
      "cell_type": "code",
      "execution_count": null,
      "id": "3877e784",
      "metadata": {
        "id": "3877e784",
        "outputId": "0f2a3ee9-b333-43d6-d126-4a21545e88aa"
      },
      "outputs": [
        {
          "data": {
            "text/html": [
              "<div>\n",
              "<style scoped>\n",
              "    .dataframe tbody tr th:only-of-type {\n",
              "        vertical-align: middle;\n",
              "    }\n",
              "\n",
              "    .dataframe tbody tr th {\n",
              "        vertical-align: top;\n",
              "    }\n",
              "\n",
              "    .dataframe thead th {\n",
              "        text-align: right;\n",
              "    }\n",
              "</style>\n",
              "<table border=\"1\" class=\"dataframe\">\n",
              "  <thead>\n",
              "    <tr style=\"text-align: right;\">\n",
              "      <th></th>\n",
              "      <th>CustomerId</th>\n",
              "      <th>Amount</th>\n",
              "    </tr>\n",
              "  </thead>\n",
              "  <tbody>\n",
              "    <tr>\n",
              "      <th>912</th>\n",
              "      <td>131450</td>\n",
              "      <td>100.0</td>\n",
              "    </tr>\n",
              "    <tr>\n",
              "      <th>918</th>\n",
              "      <td>198220</td>\n",
              "      <td>20.0</td>\n",
              "    </tr>\n",
              "    <tr>\n",
              "      <th>934</th>\n",
              "      <td>153940</td>\n",
              "      <td>30.0</td>\n",
              "    </tr>\n",
              "    <tr>\n",
              "      <th>950</th>\n",
              "      <td>222340</td>\n",
              "      <td>500.0</td>\n",
              "    </tr>\n",
              "    <tr>\n",
              "      <th>962</th>\n",
              "      <td>159670</td>\n",
              "      <td>80.0</td>\n",
              "    </tr>\n",
              "    <tr>\n",
              "      <th>...</th>\n",
              "      <td>...</td>\n",
              "      <td>...</td>\n",
              "    </tr>\n",
              "    <tr>\n",
              "      <th>51202</th>\n",
              "      <td>254130</td>\n",
              "      <td>60.0</td>\n",
              "    </tr>\n",
              "    <tr>\n",
              "      <th>51214</th>\n",
              "      <td>141760</td>\n",
              "      <td>50.0</td>\n",
              "    </tr>\n",
              "    <tr>\n",
              "      <th>51215</th>\n",
              "      <td>232530</td>\n",
              "      <td>100.0</td>\n",
              "    </tr>\n",
              "    <tr>\n",
              "      <th>51231</th>\n",
              "      <td>232850</td>\n",
              "      <td>50.0</td>\n",
              "    </tr>\n",
              "    <tr>\n",
              "      <th>51241</th>\n",
              "      <td>173810</td>\n",
              "      <td>30.0</td>\n",
              "    </tr>\n",
              "  </tbody>\n",
              "</table>\n",
              "<p>6197 rows × 2 columns</p>\n",
              "</div>"
            ],
            "text/plain": [
              "      CustomerId  Amount\n",
              "912       131450   100.0\n",
              "918       198220    20.0\n",
              "934       153940    30.0\n",
              "950       222340   500.0\n",
              "962       159670    80.0\n",
              "...          ...     ...\n",
              "51202     254130    60.0\n",
              "51214     141760    50.0\n",
              "51215     232530   100.0\n",
              "51231     232850    50.0\n",
              "51241     173810    30.0\n",
              "\n",
              "[6197 rows x 2 columns]"
            ]
          },
          "execution_count": 68,
          "metadata": {},
          "output_type": "execute_result"
        }
      ],
      "source": [
        "revenue_2015"
      ]
    },
    {
      "cell_type": "code",
      "execution_count": null,
      "id": "57c4d521",
      "metadata": {
        "id": "57c4d521"
      },
      "outputs": [],
      "source": [
        "# aggregate the revenue based on customer id\n",
        "revenue_2015_grp = revenue_2015.groupby('CustomerId')['Amount'].sum().reset_index()"
      ]
    },
    {
      "cell_type": "code",
      "execution_count": null,
      "id": "1f082fb9",
      "metadata": {
        "id": "1f082fb9",
        "outputId": "7a21bfd4-f33b-462d-b69e-243158c116c5"
      },
      "outputs": [
        {
          "data": {
            "text/html": [
              "<div>\n",
              "<style scoped>\n",
              "    .dataframe tbody tr th:only-of-type {\n",
              "        vertical-align: middle;\n",
              "    }\n",
              "\n",
              "    .dataframe tbody tr th {\n",
              "        vertical-align: top;\n",
              "    }\n",
              "\n",
              "    .dataframe thead th {\n",
              "        text-align: right;\n",
              "    }\n",
              "</style>\n",
              "<table border=\"1\" class=\"dataframe\">\n",
              "  <thead>\n",
              "    <tr style=\"text-align: right;\">\n",
              "      <th></th>\n",
              "      <th>CustomerId</th>\n",
              "      <th>Revenue</th>\n",
              "    </tr>\n",
              "  </thead>\n",
              "  <tbody>\n",
              "    <tr>\n",
              "      <th>0</th>\n",
              "      <td>100080</td>\n",
              "      <td>20.0</td>\n",
              "    </tr>\n",
              "    <tr>\n",
              "      <th>1</th>\n",
              "      <td>100100</td>\n",
              "      <td>50.0</td>\n",
              "    </tr>\n",
              "    <tr>\n",
              "      <th>2</th>\n",
              "      <td>100140</td>\n",
              "      <td>75.0</td>\n",
              "    </tr>\n",
              "    <tr>\n",
              "      <th>3</th>\n",
              "      <td>100260</td>\n",
              "      <td>90.0</td>\n",
              "    </tr>\n",
              "    <tr>\n",
              "      <th>4</th>\n",
              "      <td>100280</td>\n",
              "      <td>60.0</td>\n",
              "    </tr>\n",
              "    <tr>\n",
              "      <th>...</th>\n",
              "      <td>...</td>\n",
              "      <td>...</td>\n",
              "    </tr>\n",
              "    <tr>\n",
              "      <th>5393</th>\n",
              "      <td>99480</td>\n",
              "      <td>20.0</td>\n",
              "    </tr>\n",
              "    <tr>\n",
              "      <th>5394</th>\n",
              "      <td>9960</td>\n",
              "      <td>40.0</td>\n",
              "    </tr>\n",
              "    <tr>\n",
              "      <th>5395</th>\n",
              "      <td>99640</td>\n",
              "      <td>30.0</td>\n",
              "    </tr>\n",
              "    <tr>\n",
              "      <th>5396</th>\n",
              "      <td>99810</td>\n",
              "      <td>20.0</td>\n",
              "    </tr>\n",
              "    <tr>\n",
              "      <th>5397</th>\n",
              "      <td>99970</td>\n",
              "      <td>100.0</td>\n",
              "    </tr>\n",
              "  </tbody>\n",
              "</table>\n",
              "<p>5398 rows × 2 columns</p>\n",
              "</div>"
            ],
            "text/plain": [
              "     CustomerId  Revenue\n",
              "0        100080     20.0\n",
              "1        100100     50.0\n",
              "2        100140     75.0\n",
              "3        100260     90.0\n",
              "4        100280     60.0\n",
              "...         ...      ...\n",
              "5393      99480     20.0\n",
              "5394       9960     40.0\n",
              "5395      99640     30.0\n",
              "5396      99810     20.0\n",
              "5397      99970    100.0\n",
              "\n",
              "[5398 rows x 2 columns]"
            ]
          },
          "execution_count": 70,
          "metadata": {},
          "output_type": "execute_result"
        }
      ],
      "source": [
        "# Rename the column\n",
        "revenue_2015_grp.rename(columns = {'Amount':'Revenue'}, inplace = True)\n",
        "revenue_2015_grp"
      ]
    },
    {
      "cell_type": "code",
      "execution_count": null,
      "id": "d7d8619b",
      "metadata": {
        "id": "d7d8619b",
        "outputId": "0f63fe3e-5839-4df8-b809-b9b28b7f848d"
      },
      "outputs": [
        {
          "data": {
            "text/plain": [
              "(5398, 2)"
            ]
          },
          "execution_count": 71,
          "metadata": {},
          "output_type": "execute_result"
        }
      ],
      "source": [
        "# Check the number of entries\n",
        "revenue_2015_grp.shape"
      ]
    },
    {
      "cell_type": "code",
      "execution_count": null,
      "id": "e16418b9",
      "metadata": {
        "id": "e16418b9"
      },
      "outputs": [],
      "source": [
        "\n",
        "actual_2015 = customers_2015.merge(revenue_2015_grp, how='left', on='CustomerId')"
      ]
    },
    {
      "cell_type": "code",
      "execution_count": null,
      "id": "f11cd317",
      "metadata": {
        "id": "f11cd317",
        "outputId": "4374f086-abef-45d4-ce69-a4ec3e490e85"
      },
      "outputs": [
        {
          "data": {
            "text/plain": [
              "(18417, 7)"
            ]
          },
          "execution_count": 73,
          "metadata": {},
          "output_type": "execute_result"
        }
      ],
      "source": [
        "actual_2015.shape"
      ]
    },
    {
      "cell_type": "code",
      "execution_count": null,
      "id": "ab3b9ff3",
      "metadata": {
        "id": "ab3b9ff3"
      },
      "outputs": [],
      "source": [
        "# Replace nan values with 0\n",
        "actual_2015['Revenue'] = actual_2015['Revenue'].replace(np.nan, 0)"
      ]
    },
    {
      "cell_type": "code",
      "execution_count": null,
      "id": "168d018c",
      "metadata": {
        "id": "168d018c",
        "outputId": "41fa25cf-8ccc-4bc5-b6b8-d21dcd90dfc6"
      },
      "outputs": [
        {
          "data": {
            "text/html": [
              "<div>\n",
              "<style scoped>\n",
              "    .dataframe tbody tr th:only-of-type {\n",
              "        vertical-align: middle;\n",
              "    }\n",
              "\n",
              "    .dataframe tbody tr th {\n",
              "        vertical-align: top;\n",
              "    }\n",
              "\n",
              "    .dataframe thead th {\n",
              "        text-align: right;\n",
              "    }\n",
              "</style>\n",
              "<table border=\"1\" class=\"dataframe\">\n",
              "  <thead>\n",
              "    <tr style=\"text-align: right;\">\n",
              "      <th></th>\n",
              "      <th>CustomerId</th>\n",
              "      <th>AveragePurchaseAmount</th>\n",
              "      <th>Recency</th>\n",
              "      <th>Frequency</th>\n",
              "      <th>FirstPurchase</th>\n",
              "      <th>Segment</th>\n",
              "      <th>Revenue</th>\n",
              "    </tr>\n",
              "  </thead>\n",
              "  <tbody>\n",
              "    <tr>\n",
              "      <th>0</th>\n",
              "      <td>10</td>\n",
              "      <td>30.000000</td>\n",
              "      <td>3829</td>\n",
              "      <td>1</td>\n",
              "      <td>3829</td>\n",
              "      <td>Inactive</td>\n",
              "      <td>0.0</td>\n",
              "    </tr>\n",
              "    <tr>\n",
              "      <th>1</th>\n",
              "      <td>1000</td>\n",
              "      <td>22.500000</td>\n",
              "      <td>1120</td>\n",
              "      <td>2</td>\n",
              "      <td>3710</td>\n",
              "      <td>Inactive</td>\n",
              "      <td>0.0</td>\n",
              "    </tr>\n",
              "    <tr>\n",
              "      <th>2</th>\n",
              "      <td>100000</td>\n",
              "      <td>35.000000</td>\n",
              "      <td>2072</td>\n",
              "      <td>2</td>\n",
              "      <td>2750</td>\n",
              "      <td>Inactive</td>\n",
              "      <td>0.0</td>\n",
              "    </tr>\n",
              "    <tr>\n",
              "      <th>3</th>\n",
              "      <td>100010</td>\n",
              "      <td>27.857143</td>\n",
              "      <td>413</td>\n",
              "      <td>7</td>\n",
              "      <td>2750</td>\n",
              "      <td>Warm Low Value</td>\n",
              "      <td>0.0</td>\n",
              "    </tr>\n",
              "    <tr>\n",
              "      <th>4</th>\n",
              "      <td>100020</td>\n",
              "      <td>30.000000</td>\n",
              "      <td>2750</td>\n",
              "      <td>1</td>\n",
              "      <td>2750</td>\n",
              "      <td>Inactive</td>\n",
              "      <td>0.0</td>\n",
              "    </tr>\n",
              "  </tbody>\n",
              "</table>\n",
              "</div>"
            ],
            "text/plain": [
              "  CustomerId  AveragePurchaseAmount  Recency  Frequency  FirstPurchase  \\\n",
              "0         10              30.000000     3829          1           3829   \n",
              "1       1000              22.500000     1120          2           3710   \n",
              "2     100000              35.000000     2072          2           2750   \n",
              "3     100010              27.857143      413          7           2750   \n",
              "4     100020              30.000000     2750          1           2750   \n",
              "\n",
              "          Segment  Revenue  \n",
              "0        Inactive      0.0  \n",
              "1        Inactive      0.0  \n",
              "2        Inactive      0.0  \n",
              "3  Warm Low Value      0.0  \n",
              "4        Inactive      0.0  "
            ]
          },
          "execution_count": 75,
          "metadata": {},
          "output_type": "execute_result"
        }
      ],
      "source": [
        "# Check the first 5 entries\n",
        "actual_2015.head()"
      ]
    },
    {
      "cell_type": "code",
      "execution_count": null,
      "id": "20990457",
      "metadata": {
        "id": "20990457"
      },
      "outputs": [],
      "source": [
        "# Get the average revenue per segment\n",
        "revenue_segment_2015 = actual_2015.groupby('Segment')['Revenue'].mean().reset_index()"
      ]
    },
    {
      "cell_type": "code",
      "execution_count": null,
      "id": "625903d0",
      "metadata": {
        "id": "625903d0",
        "outputId": "4527fb43-546e-4744-8d5b-a021234ced1b"
      },
      "outputs": [
        {
          "data": {
            "text/html": [
              "<div>\n",
              "<style scoped>\n",
              "    .dataframe tbody tr th:only-of-type {\n",
              "        vertical-align: middle;\n",
              "    }\n",
              "\n",
              "    .dataframe tbody tr th {\n",
              "        vertical-align: top;\n",
              "    }\n",
              "\n",
              "    .dataframe thead th {\n",
              "        text-align: right;\n",
              "    }\n",
              "</style>\n",
              "<table border=\"1\" class=\"dataframe\">\n",
              "  <thead>\n",
              "    <tr style=\"text-align: right;\">\n",
              "      <th></th>\n",
              "      <th>Segment</th>\n",
              "      <th>Revenue</th>\n",
              "    </tr>\n",
              "  </thead>\n",
              "  <tbody>\n",
              "    <tr>\n",
              "      <th>0</th>\n",
              "      <td>Active High Value</td>\n",
              "      <td>323.568935</td>\n",
              "    </tr>\n",
              "    <tr>\n",
              "      <th>1</th>\n",
              "      <td>Active Low Value</td>\n",
              "      <td>52.306043</td>\n",
              "    </tr>\n",
              "    <tr>\n",
              "      <th>2</th>\n",
              "      <td>Cold</td>\n",
              "      <td>0.000000</td>\n",
              "    </tr>\n",
              "    <tr>\n",
              "      <th>3</th>\n",
              "      <td>Inactive</td>\n",
              "      <td>0.000000</td>\n",
              "    </tr>\n",
              "    <tr>\n",
              "      <th>4</th>\n",
              "      <td>New Active</td>\n",
              "      <td>79.166144</td>\n",
              "    </tr>\n",
              "    <tr>\n",
              "      <th>5</th>\n",
              "      <td>New Warm</td>\n",
              "      <td>0.000000</td>\n",
              "    </tr>\n",
              "    <tr>\n",
              "      <th>6</th>\n",
              "      <td>Warm High Value</td>\n",
              "      <td>0.000000</td>\n",
              "    </tr>\n",
              "    <tr>\n",
              "      <th>7</th>\n",
              "      <td>Warm Low Value</td>\n",
              "      <td>0.000000</td>\n",
              "    </tr>\n",
              "  </tbody>\n",
              "</table>\n",
              "</div>"
            ],
            "text/plain": [
              "             Segment     Revenue\n",
              "0  Active High Value  323.568935\n",
              "1   Active Low Value   52.306043\n",
              "2               Cold    0.000000\n",
              "3           Inactive    0.000000\n",
              "4         New Active   79.166144\n",
              "5           New Warm    0.000000\n",
              "6    Warm High Value    0.000000\n",
              "7     Warm Low Value    0.000000"
            ]
          },
          "execution_count": 77,
          "metadata": {},
          "output_type": "execute_result"
        }
      ],
      "source": [
        "# Check the entries\n",
        "revenue_segment_2015"
      ]
    },
    {
      "cell_type": "code",
      "execution_count": null,
      "id": "dbe66bf4",
      "metadata": {
        "id": "dbe66bf4"
      },
      "outputs": [],
      "source": [
        "# Sort the output in predefined order\n",
        "revenue_segment_2015_1 = revenue_segment_2015.reindex([3,2,6,7,5,0,1,4])"
      ]
    },
    {
      "cell_type": "code",
      "execution_count": null,
      "id": "bbd922c0",
      "metadata": {
        "id": "bbd922c0",
        "outputId": "d88679ac-e6c9-46a9-f38b-bf1c76f56f6a"
      },
      "outputs": [
        {
          "data": {
            "text/html": [
              "<div>\n",
              "<style scoped>\n",
              "    .dataframe tbody tr th:only-of-type {\n",
              "        vertical-align: middle;\n",
              "    }\n",
              "\n",
              "    .dataframe tbody tr th {\n",
              "        vertical-align: top;\n",
              "    }\n",
              "\n",
              "    .dataframe thead th {\n",
              "        text-align: right;\n",
              "    }\n",
              "</style>\n",
              "<table border=\"1\" class=\"dataframe\">\n",
              "  <thead>\n",
              "    <tr style=\"text-align: right;\">\n",
              "      <th></th>\n",
              "      <th>Segment</th>\n",
              "      <th>Revenue</th>\n",
              "    </tr>\n",
              "  </thead>\n",
              "  <tbody>\n",
              "    <tr>\n",
              "      <th>3</th>\n",
              "      <td>Inactive</td>\n",
              "      <td>0.000000</td>\n",
              "    </tr>\n",
              "    <tr>\n",
              "      <th>2</th>\n",
              "      <td>Cold</td>\n",
              "      <td>0.000000</td>\n",
              "    </tr>\n",
              "    <tr>\n",
              "      <th>6</th>\n",
              "      <td>Warm High Value</td>\n",
              "      <td>0.000000</td>\n",
              "    </tr>\n",
              "    <tr>\n",
              "      <th>7</th>\n",
              "      <td>Warm Low Value</td>\n",
              "      <td>0.000000</td>\n",
              "    </tr>\n",
              "    <tr>\n",
              "      <th>5</th>\n",
              "      <td>New Warm</td>\n",
              "      <td>0.000000</td>\n",
              "    </tr>\n",
              "    <tr>\n",
              "      <th>0</th>\n",
              "      <td>Active High Value</td>\n",
              "      <td>323.568935</td>\n",
              "    </tr>\n",
              "    <tr>\n",
              "      <th>1</th>\n",
              "      <td>Active Low Value</td>\n",
              "      <td>52.306043</td>\n",
              "    </tr>\n",
              "    <tr>\n",
              "      <th>4</th>\n",
              "      <td>New Active</td>\n",
              "      <td>79.166144</td>\n",
              "    </tr>\n",
              "  </tbody>\n",
              "</table>\n",
              "</div>"
            ],
            "text/plain": [
              "             Segment     Revenue\n",
              "3           Inactive    0.000000\n",
              "2               Cold    0.000000\n",
              "6    Warm High Value    0.000000\n",
              "7     Warm Low Value    0.000000\n",
              "5           New Warm    0.000000\n",
              "0  Active High Value  323.568935\n",
              "1   Active Low Value   52.306043\n",
              "4         New Active   79.166144"
            ]
          },
          "execution_count": 79,
          "metadata": {},
          "output_type": "execute_result"
        }
      ],
      "source": [
        "# Check the entries\n",
        "revenue_segment_2015_1"
      ]
    },
    {
      "cell_type": "markdown",
      "source": [
        "# Transition within segments over the years\n",
        "\n",
        "Movement of customers from one segment (in 2014) to another segment(in 2015) to get segment transition"
      ],
      "metadata": {
        "id": "iiRtCYmcFqh3"
      },
      "id": "iiRtCYmcFqh3"
    },
    {
      "cell_type": "code",
      "execution_count": null,
      "id": "f98cef80",
      "metadata": {
        "id": "f98cef80"
      },
      "outputs": [],
      "source": [
        "# Build the transition matrix\n",
        "forward = customers_2014.merge(revenue_2015_grp, how='left', on = 'CustomerId')"
      ]
    },
    {
      "cell_type": "code",
      "execution_count": null,
      "id": "525e39cb",
      "metadata": {
        "id": "525e39cb"
      },
      "outputs": [],
      "source": [
        "# Replace NaN with 0\n",
        "forward['Revenue'] = forward['Revenue'].replace(np.nan, 0)"
      ]
    },
    {
      "cell_type": "code",
      "execution_count": null,
      "id": "55fe5633",
      "metadata": {
        "id": "55fe5633",
        "outputId": "c1064023-43f1-43e8-f265-22968f3111eb"
      },
      "outputs": [
        {
          "data": {
            "text/html": [
              "<div>\n",
              "<style scoped>\n",
              "    .dataframe tbody tr th:only-of-type {\n",
              "        vertical-align: middle;\n",
              "    }\n",
              "\n",
              "    .dataframe tbody tr th {\n",
              "        vertical-align: top;\n",
              "    }\n",
              "\n",
              "    .dataframe thead th {\n",
              "        text-align: right;\n",
              "    }\n",
              "</style>\n",
              "<table border=\"1\" class=\"dataframe\">\n",
              "  <thead>\n",
              "    <tr style=\"text-align: right;\">\n",
              "      <th></th>\n",
              "      <th>CustomerId</th>\n",
              "      <th>AveragePurchaseAmount</th>\n",
              "      <th>Recency</th>\n",
              "      <th>Frequency</th>\n",
              "      <th>FirstPurchase</th>\n",
              "      <th>Segment</th>\n",
              "      <th>Revenue</th>\n",
              "    </tr>\n",
              "  </thead>\n",
              "  <tbody>\n",
              "    <tr>\n",
              "      <th>0</th>\n",
              "      <td>10</td>\n",
              "      <td>30.000000</td>\n",
              "      <td>3464</td>\n",
              "      <td>1</td>\n",
              "      <td>3464</td>\n",
              "      <td>Inactive</td>\n",
              "      <td>0.0</td>\n",
              "    </tr>\n",
              "    <tr>\n",
              "      <th>1</th>\n",
              "      <td>1000</td>\n",
              "      <td>22.500000</td>\n",
              "      <td>755</td>\n",
              "      <td>2</td>\n",
              "      <td>3345</td>\n",
              "      <td>Cold</td>\n",
              "      <td>0.0</td>\n",
              "    </tr>\n",
              "    <tr>\n",
              "      <th>2</th>\n",
              "      <td>100000</td>\n",
              "      <td>35.000000</td>\n",
              "      <td>1707</td>\n",
              "      <td>2</td>\n",
              "      <td>2385</td>\n",
              "      <td>Inactive</td>\n",
              "      <td>0.0</td>\n",
              "    </tr>\n",
              "    <tr>\n",
              "      <th>3</th>\n",
              "      <td>100010</td>\n",
              "      <td>27.857143</td>\n",
              "      <td>48</td>\n",
              "      <td>7</td>\n",
              "      <td>2385</td>\n",
              "      <td>Active Low Value</td>\n",
              "      <td>0.0</td>\n",
              "    </tr>\n",
              "    <tr>\n",
              "      <th>4</th>\n",
              "      <td>100020</td>\n",
              "      <td>30.000000</td>\n",
              "      <td>2385</td>\n",
              "      <td>1</td>\n",
              "      <td>2385</td>\n",
              "      <td>Inactive</td>\n",
              "      <td>0.0</td>\n",
              "    </tr>\n",
              "  </tbody>\n",
              "</table>\n",
              "</div>"
            ],
            "text/plain": [
              "  CustomerId  AveragePurchaseAmount  Recency  Frequency  FirstPurchase  \\\n",
              "0         10              30.000000     3464          1           3464   \n",
              "1       1000              22.500000      755          2           3345   \n",
              "2     100000              35.000000     1707          2           2385   \n",
              "3     100010              27.857143       48          7           2385   \n",
              "4     100020              30.000000     2385          1           2385   \n",
              "\n",
              "            Segment  Revenue  \n",
              "0          Inactive      0.0  \n",
              "1              Cold      0.0  \n",
              "2          Inactive      0.0  \n",
              "3  Active Low Value      0.0  \n",
              "4          Inactive      0.0  "
            ]
          },
          "execution_count": 82,
          "metadata": {},
          "output_type": "execute_result"
        }
      ],
      "source": [
        "# Check the first 5 entries\n",
        "forward.head(5)"
      ]
    },
    {
      "cell_type": "code",
      "execution_count": null,
      "id": "5302367a",
      "metadata": {
        "id": "5302367a"
      },
      "outputs": [],
      "source": [
        "# Get the average value\n",
        "forward_segment_grp = forward.groupby('Segment')['Revenue'].mean().reset_index()"
      ]
    },
    {
      "cell_type": "code",
      "execution_count": null,
      "id": "1688eeed",
      "metadata": {
        "id": "1688eeed",
        "outputId": "470868ef-b0a6-4984-9a7f-a1a2733abd3d"
      },
      "outputs": [
        {
          "data": {
            "text/html": [
              "<div>\n",
              "<style scoped>\n",
              "    .dataframe tbody tr th:only-of-type {\n",
              "        vertical-align: middle;\n",
              "    }\n",
              "\n",
              "    .dataframe tbody tr th {\n",
              "        vertical-align: top;\n",
              "    }\n",
              "\n",
              "    .dataframe thead th {\n",
              "        text-align: right;\n",
              "    }\n",
              "</style>\n",
              "<table border=\"1\" class=\"dataframe\">\n",
              "  <thead>\n",
              "    <tr style=\"text-align: right;\">\n",
              "      <th></th>\n",
              "      <th>Group</th>\n",
              "      <th>Revenue</th>\n",
              "    </tr>\n",
              "  </thead>\n",
              "  <tbody>\n",
              "    <tr>\n",
              "      <th>0</th>\n",
              "      <td>Active High Value</td>\n",
              "      <td>254.077895</td>\n",
              "    </tr>\n",
              "    <tr>\n",
              "      <th>1</th>\n",
              "      <td>Active Low Value</td>\n",
              "      <td>41.896556</td>\n",
              "    </tr>\n",
              "    <tr>\n",
              "      <th>2</th>\n",
              "      <td>Cold</td>\n",
              "      <td>6.108221</td>\n",
              "    </tr>\n",
              "    <tr>\n",
              "      <th>3</th>\n",
              "      <td>Inactive</td>\n",
              "      <td>2.949466</td>\n",
              "    </tr>\n",
              "    <tr>\n",
              "      <th>4</th>\n",
              "      <td>New Active</td>\n",
              "      <td>31.046625</td>\n",
              "    </tr>\n",
              "    <tr>\n",
              "      <th>5</th>\n",
              "      <td>New Warm</td>\n",
              "      <td>5.064000</td>\n",
              "    </tr>\n",
              "    <tr>\n",
              "      <th>6</th>\n",
              "      <td>Warm High Value</td>\n",
              "      <td>114.459459</td>\n",
              "    </tr>\n",
              "    <tr>\n",
              "      <th>7</th>\n",
              "      <td>Warm Low Value</td>\n",
              "      <td>13.494770</td>\n",
              "    </tr>\n",
              "  </tbody>\n",
              "</table>\n",
              "</div>"
            ],
            "text/plain": [
              "               Group     Revenue\n",
              "0  Active High Value  254.077895\n",
              "1   Active Low Value   41.896556\n",
              "2               Cold    6.108221\n",
              "3           Inactive    2.949466\n",
              "4         New Active   31.046625\n",
              "5           New Warm    5.064000\n",
              "6    Warm High Value  114.459459\n",
              "7     Warm Low Value   13.494770"
            ]
          },
          "execution_count": 84,
          "metadata": {},
          "output_type": "execute_result"
        }
      ],
      "source": [
        "# Rename the columns\n",
        "forward_segment_grp.rename(columns = {'Segment': 'Group'})"
      ]
    },
    {
      "cell_type": "code",
      "execution_count": null,
      "id": "83505129",
      "metadata": {
        "id": "83505129",
        "outputId": "241fd707-b8a1-407c-9536-8ad5192e6485"
      },
      "outputs": [
        {
          "data": {
            "text/html": [
              "<div>\n",
              "<style scoped>\n",
              "    .dataframe tbody tr th:only-of-type {\n",
              "        vertical-align: middle;\n",
              "    }\n",
              "\n",
              "    .dataframe tbody tr th {\n",
              "        vertical-align: top;\n",
              "    }\n",
              "\n",
              "    .dataframe thead th {\n",
              "        text-align: right;\n",
              "    }\n",
              "</style>\n",
              "<table border=\"1\" class=\"dataframe\">\n",
              "  <thead>\n",
              "    <tr style=\"text-align: right;\">\n",
              "      <th></th>\n",
              "      <th>Revenue</th>\n",
              "    </tr>\n",
              "    <tr>\n",
              "      <th>Segment</th>\n",
              "      <th></th>\n",
              "    </tr>\n",
              "  </thead>\n",
              "  <tbody>\n",
              "    <tr>\n",
              "      <th>Active High Value</th>\n",
              "      <td>254.077895</td>\n",
              "    </tr>\n",
              "    <tr>\n",
              "      <th>Active Low Value</th>\n",
              "      <td>41.896556</td>\n",
              "    </tr>\n",
              "    <tr>\n",
              "      <th>Cold</th>\n",
              "      <td>6.108221</td>\n",
              "    </tr>\n",
              "    <tr>\n",
              "      <th>Inactive</th>\n",
              "      <td>2.949466</td>\n",
              "    </tr>\n",
              "    <tr>\n",
              "      <th>New Active</th>\n",
              "      <td>31.046625</td>\n",
              "    </tr>\n",
              "    <tr>\n",
              "      <th>New Warm</th>\n",
              "      <td>5.064000</td>\n",
              "    </tr>\n",
              "    <tr>\n",
              "      <th>Warm High Value</th>\n",
              "      <td>114.459459</td>\n",
              "    </tr>\n",
              "    <tr>\n",
              "      <th>Warm Low Value</th>\n",
              "      <td>13.494770</td>\n",
              "    </tr>\n",
              "  </tbody>\n",
              "</table>\n",
              "</div>"
            ],
            "text/plain": [
              "                      Revenue\n",
              "Segment                      \n",
              "Active High Value  254.077895\n",
              "Active Low Value    41.896556\n",
              "Cold                 6.108221\n",
              "Inactive             2.949466\n",
              "New Active          31.046625\n",
              "New Warm             5.064000\n",
              "Warm High Value    114.459459\n",
              "Warm Low Value      13.494770"
            ]
          },
          "execution_count": 85,
          "metadata": {},
          "output_type": "execute_result"
        }
      ],
      "source": [
        "forward_segment_grp.set_index(\"Segment\")"
      ]
    },
    {
      "cell_type": "code",
      "execution_count": null,
      "id": "08f1096b",
      "metadata": {
        "id": "08f1096b"
      },
      "outputs": [],
      "source": [
        "# Sort it based on predefined index\n",
        "forward_segment_grp1 = forward_segment_grp.reindex([3,2,6,7,5,0,1,4])"
      ]
    },
    {
      "cell_type": "code",
      "execution_count": null,
      "id": "ecd3aa48",
      "metadata": {
        "id": "ecd3aa48",
        "outputId": "7011c198-e843-4528-ad2f-7e51b892fcca"
      },
      "outputs": [
        {
          "data": {
            "text/html": [
              "<div>\n",
              "<style scoped>\n",
              "    .dataframe tbody tr th:only-of-type {\n",
              "        vertical-align: middle;\n",
              "    }\n",
              "\n",
              "    .dataframe tbody tr th {\n",
              "        vertical-align: top;\n",
              "    }\n",
              "\n",
              "    .dataframe thead th {\n",
              "        text-align: right;\n",
              "    }\n",
              "</style>\n",
              "<table border=\"1\" class=\"dataframe\">\n",
              "  <thead>\n",
              "    <tr style=\"text-align: right;\">\n",
              "      <th></th>\n",
              "      <th>Segment</th>\n",
              "      <th>Revenue</th>\n",
              "    </tr>\n",
              "  </thead>\n",
              "  <tbody>\n",
              "    <tr>\n",
              "      <th>3</th>\n",
              "      <td>Inactive</td>\n",
              "      <td>2.949466</td>\n",
              "    </tr>\n",
              "    <tr>\n",
              "      <th>2</th>\n",
              "      <td>Cold</td>\n",
              "      <td>6.108221</td>\n",
              "    </tr>\n",
              "    <tr>\n",
              "      <th>6</th>\n",
              "      <td>Warm High Value</td>\n",
              "      <td>114.459459</td>\n",
              "    </tr>\n",
              "    <tr>\n",
              "      <th>7</th>\n",
              "      <td>Warm Low Value</td>\n",
              "      <td>13.494770</td>\n",
              "    </tr>\n",
              "    <tr>\n",
              "      <th>5</th>\n",
              "      <td>New Warm</td>\n",
              "      <td>5.064000</td>\n",
              "    </tr>\n",
              "    <tr>\n",
              "      <th>0</th>\n",
              "      <td>Active High Value</td>\n",
              "      <td>254.077895</td>\n",
              "    </tr>\n",
              "    <tr>\n",
              "      <th>1</th>\n",
              "      <td>Active Low Value</td>\n",
              "      <td>41.896556</td>\n",
              "    </tr>\n",
              "    <tr>\n",
              "      <th>4</th>\n",
              "      <td>New Active</td>\n",
              "      <td>31.046625</td>\n",
              "    </tr>\n",
              "  </tbody>\n",
              "</table>\n",
              "</div>"
            ],
            "text/plain": [
              "             Segment     Revenue\n",
              "3           Inactive    2.949466\n",
              "2               Cold    6.108221\n",
              "6    Warm High Value  114.459459\n",
              "7     Warm Low Value   13.494770\n",
              "5           New Warm    5.064000\n",
              "0  Active High Value  254.077895\n",
              "1   Active Low Value   41.896556\n",
              "4         New Active   31.046625"
            ]
          },
          "execution_count": 87,
          "metadata": {},
          "output_type": "execute_result"
        }
      ],
      "source": [
        "forward_segment_grp1"
      ]
    },
    {
      "cell_type": "code",
      "execution_count": null,
      "id": "5aad2bb0",
      "metadata": {
        "id": "5aad2bb0",
        "outputId": "4b886b5c-eb66-4238-9704-f7adc75598cb"
      },
      "outputs": [
        {
          "data": {
            "text/plain": [
              "Text(0.5, 0, \"{0: 'Active High Value', 1: 'Active Low Value', 2: 'Cold', 3: 'Inactive', 4: 'New Active', 5: 'New Warm', 6: 'Warm High Value', 7: 'Warm Low Value'}\")"
            ]
          },
          "execution_count": 88,
          "metadata": {},
          "output_type": "execute_result"
        },
        {
          "data": {
            "image/png": "[encoded data removed]",
            "text/plain": [
              "<Figure size 432x288 with 1 Axes>"
            ]
          },
          "metadata": {
            "needs_background": "light"
          },
          "output_type": "display_data"
        }
      ],
      "source": [
        "forward_segment_grp1[['Segment', 'Revenue']].sort_values(by='Revenue',ascending=False).plot(kind='bar', color= 'Maroon')\n",
        "map_level = {0:\"Active High Value\", 1: \"Active Low Value\",\n",
        "             2: \"Cold\", 3 : \"Inactive\", 4: \"New Active\",\n",
        "            5 : \"New Warm\", 6 : \"Warm High Value\",\n",
        "            7 : \"Warm Low Value\"}\n",
        "plt.xlabel(map_level)"
      ]
    },
    {
      "cell_type": "code",
      "execution_count": null,
      "id": "ec4a0274",
      "metadata": {
        "id": "ec4a0274"
      },
      "outputs": [],
      "source": [
        "#customers_2015_sfx = customers_2015\n",
        "#customers_2015.rename(columns={'AveragePurchaseAmount_2015'})\n",
        "new_data = pd.DataFrame.merge(customers_2014,customers_2015,on='CustomerId', how='left'  ) #suffixes=('_2014', '_2015'),"
      ]
    },
    {
      "cell_type": "code",
      "execution_count": null,
      "id": "5bd0ccbb",
      "metadata": {
        "id": "5bd0ccbb",
        "outputId": "97c30150-fafb-4b82-9e88-a4b78ac58ada"
      },
      "outputs": [
        {
          "data": {
            "text/html": [
              "<div>\n",
              "<style scoped>\n",
              "    .dataframe tbody tr th:only-of-type {\n",
              "        vertical-align: middle;\n",
              "    }\n",
              "\n",
              "    .dataframe tbody tr th {\n",
              "        vertical-align: top;\n",
              "    }\n",
              "\n",
              "    .dataframe thead th {\n",
              "        text-align: right;\n",
              "    }\n",
              "</style>\n",
              "<table border=\"1\" class=\"dataframe\">\n",
              "  <thead>\n",
              "    <tr style=\"text-align: right;\">\n",
              "      <th></th>\n",
              "      <th>CustomerId</th>\n",
              "      <th>AveragePurchaseAmount_x</th>\n",
              "      <th>Recency_x</th>\n",
              "      <th>Frequency_x</th>\n",
              "      <th>FirstPurchase_x</th>\n",
              "      <th>Segment_x</th>\n",
              "      <th>AveragePurchaseAmount_y</th>\n",
              "      <th>Recency_y</th>\n",
              "      <th>Frequency_y</th>\n",
              "      <th>FirstPurchase_y</th>\n",
              "      <th>Segment_y</th>\n",
              "    </tr>\n",
              "  </thead>\n",
              "  <tbody>\n",
              "    <tr>\n",
              "      <th>0</th>\n",
              "      <td>10</td>\n",
              "      <td>30.000000</td>\n",
              "      <td>3464</td>\n",
              "      <td>1</td>\n",
              "      <td>3464</td>\n",
              "      <td>Inactive</td>\n",
              "      <td>30.000000</td>\n",
              "      <td>3829</td>\n",
              "      <td>1</td>\n",
              "      <td>3829</td>\n",
              "      <td>Inactive</td>\n",
              "    </tr>\n",
              "    <tr>\n",
              "      <th>1</th>\n",
              "      <td>1000</td>\n",
              "      <td>22.500000</td>\n",
              "      <td>755</td>\n",
              "      <td>2</td>\n",
              "      <td>3345</td>\n",
              "      <td>Cold</td>\n",
              "      <td>22.500000</td>\n",
              "      <td>1120</td>\n",
              "      <td>2</td>\n",
              "      <td>3710</td>\n",
              "      <td>Inactive</td>\n",
              "    </tr>\n",
              "    <tr>\n",
              "      <th>2</th>\n",
              "      <td>100000</td>\n",
              "      <td>35.000000</td>\n",
              "      <td>1707</td>\n",
              "      <td>2</td>\n",
              "      <td>2385</td>\n",
              "      <td>Inactive</td>\n",
              "      <td>35.000000</td>\n",
              "      <td>2072</td>\n",
              "      <td>2</td>\n",
              "      <td>2750</td>\n",
              "      <td>Inactive</td>\n",
              "    </tr>\n",
              "    <tr>\n",
              "      <th>3</th>\n",
              "      <td>100010</td>\n",
              "      <td>27.857143</td>\n",
              "      <td>48</td>\n",
              "      <td>7</td>\n",
              "      <td>2385</td>\n",
              "      <td>Active Low Value</td>\n",
              "      <td>27.857143</td>\n",
              "      <td>413</td>\n",
              "      <td>7</td>\n",
              "      <td>2750</td>\n",
              "      <td>Warm Low Value</td>\n",
              "    </tr>\n",
              "    <tr>\n",
              "      <th>4</th>\n",
              "      <td>100020</td>\n",
              "      <td>30.000000</td>\n",
              "      <td>2385</td>\n",
              "      <td>1</td>\n",
              "      <td>2385</td>\n",
              "      <td>Inactive</td>\n",
              "      <td>30.000000</td>\n",
              "      <td>2750</td>\n",
              "      <td>1</td>\n",
              "      <td>2750</td>\n",
              "      <td>Inactive</td>\n",
              "    </tr>\n",
              "    <tr>\n",
              "      <th>...</th>\n",
              "      <td>...</td>\n",
              "      <td>...</td>\n",
              "      <td>...</td>\n",
              "      <td>...</td>\n",
              "      <td>...</td>\n",
              "      <td>...</td>\n",
              "      <td>...</td>\n",
              "      <td>...</td>\n",
              "      <td>...</td>\n",
              "      <td>...</td>\n",
              "      <td>...</td>\n",
              "    </tr>\n",
              "    <tr>\n",
              "      <th>16900</th>\n",
              "      <td>99950</td>\n",
              "      <td>30.000000</td>\n",
              "      <td>732</td>\n",
              "      <td>2</td>\n",
              "      <td>2387</td>\n",
              "      <td>Cold</td>\n",
              "      <td>30.000000</td>\n",
              "      <td>1097</td>\n",
              "      <td>2</td>\n",
              "      <td>2752</td>\n",
              "      <td>Inactive</td>\n",
              "    </tr>\n",
              "    <tr>\n",
              "      <th>16901</th>\n",
              "      <td>99960</td>\n",
              "      <td>2007.000000</td>\n",
              "      <td>2387</td>\n",
              "      <td>1</td>\n",
              "      <td>2387</td>\n",
              "      <td>Inactive</td>\n",
              "      <td>2007.000000</td>\n",
              "      <td>2752</td>\n",
              "      <td>1</td>\n",
              "      <td>2752</td>\n",
              "      <td>Inactive</td>\n",
              "    </tr>\n",
              "    <tr>\n",
              "      <th>16902</th>\n",
              "      <td>99970</td>\n",
              "      <td>45.625000</td>\n",
              "      <td>48</td>\n",
              "      <td>8</td>\n",
              "      <td>2385</td>\n",
              "      <td>Active Low Value</td>\n",
              "      <td>46.500000</td>\n",
              "      <td>30</td>\n",
              "      <td>10</td>\n",
              "      <td>2750</td>\n",
              "      <td>Active Low Value</td>\n",
              "    </tr>\n",
              "    <tr>\n",
              "      <th>16903</th>\n",
              "      <td>99980</td>\n",
              "      <td>50.000000</td>\n",
              "      <td>2385</td>\n",
              "      <td>1</td>\n",
              "      <td>2385</td>\n",
              "      <td>Inactive</td>\n",
              "      <td>50.000000</td>\n",
              "      <td>2750</td>\n",
              "      <td>1</td>\n",
              "      <td>2750</td>\n",
              "      <td>Inactive</td>\n",
              "    </tr>\n",
              "    <tr>\n",
              "      <th>16904</th>\n",
              "      <td>99990</td>\n",
              "      <td>60.000000</td>\n",
              "      <td>2385</td>\n",
              "      <td>1</td>\n",
              "      <td>2385</td>\n",
              "      <td>Inactive</td>\n",
              "      <td>60.000000</td>\n",
              "      <td>2750</td>\n",
              "      <td>1</td>\n",
              "      <td>2750</td>\n",
              "      <td>Inactive</td>\n",
              "    </tr>\n",
              "  </tbody>\n",
              "</table>\n",
              "<p>16905 rows × 11 columns</p>\n",
              "</div>"
            ],
            "text/plain": [
              "      CustomerId  AveragePurchaseAmount_x  Recency_x  Frequency_x  \\\n",
              "0             10                30.000000       3464            1   \n",
              "1           1000                22.500000        755            2   \n",
              "2         100000                35.000000       1707            2   \n",
              "3         100010                27.857143         48            7   \n",
              "4         100020                30.000000       2385            1   \n",
              "...          ...                      ...        ...          ...   \n",
              "16900      99950                30.000000        732            2   \n",
              "16901      99960              2007.000000       2387            1   \n",
              "16902      99970                45.625000         48            8   \n",
              "16903      99980                50.000000       2385            1   \n",
              "16904      99990                60.000000       2385            1   \n",
              "\n",
              "       FirstPurchase_x         Segment_x  AveragePurchaseAmount_y  Recency_y  \\\n",
              "0                 3464          Inactive                30.000000       3829   \n",
              "1                 3345              Cold                22.500000       1120   \n",
              "2                 2385          Inactive                35.000000       2072   \n",
              "3                 2385  Active Low Value                27.857143        413   \n",
              "4                 2385          Inactive                30.000000       2750   \n",
              "...                ...               ...                      ...        ...   \n",
              "16900             2387              Cold                30.000000       1097   \n",
              "16901             2387          Inactive              2007.000000       2752   \n",
              "16902             2385  Active Low Value                46.500000         30   \n",
              "16903             2385          Inactive                50.000000       2750   \n",
              "16904             2385          Inactive                60.000000       2750   \n",
              "\n",
              "       Frequency_y  FirstPurchase_y         Segment_y  \n",
              "0                1             3829          Inactive  \n",
              "1                2             3710          Inactive  \n",
              "2                2             2750          Inactive  \n",
              "3                7             2750    Warm Low Value  \n",
              "4                1             2750          Inactive  \n",
              "...            ...              ...               ...  \n",
              "16900            2             2752          Inactive  \n",
              "16901            1             2752          Inactive  \n",
              "16902           10             2750  Active Low Value  \n",
              "16903            1             2750          Inactive  \n",
              "16904            1             2750          Inactive  \n",
              "\n",
              "[16905 rows x 11 columns]"
            ]
          },
          "execution_count": 90,
          "metadata": {},
          "output_type": "execute_result"
        }
      ],
      "source": [
        "new_data"
      ]
    },
    {
      "cell_type": "code",
      "execution_count": null,
      "id": "1a12d23f",
      "metadata": {
        "id": "1a12d23f"
      },
      "outputs": [],
      "source": [
        "# Build the transistion matrix\n",
        "transition = pd.crosstab(new_data.Segment_x, new_data.Segment_y)"
      ]
    },
    {
      "cell_type": "code",
      "execution_count": null,
      "id": "644d7474",
      "metadata": {
        "id": "644d7474"
      },
      "outputs": [],
      "source": [
        "# Add a column for New Active\n",
        "transition['New Active'] = 0"
      ]
    },
    {
      "cell_type": "code",
      "execution_count": null,
      "id": "44c5c306",
      "metadata": {
        "id": "44c5c306",
        "outputId": "43c1c0b4-b81e-4ee6-fef1-cd1977113911"
      },
      "outputs": [
        {
          "data": {
            "text/html": [
              "<div>\n",
              "<style scoped>\n",
              "    .dataframe tbody tr th:only-of-type {\n",
              "        vertical-align: middle;\n",
              "    }\n",
              "\n",
              "    .dataframe tbody tr th {\n",
              "        vertical-align: top;\n",
              "    }\n",
              "\n",
              "    .dataframe thead th {\n",
              "        text-align: right;\n",
              "    }\n",
              "</style>\n",
              "<table border=\"1\" class=\"dataframe\">\n",
              "  <thead>\n",
              "    <tr style=\"text-align: right;\">\n",
              "      <th>Segment_y</th>\n",
              "      <th>Active High Value</th>\n",
              "      <th>Active Low Value</th>\n",
              "      <th>Cold</th>\n",
              "      <th>Inactive</th>\n",
              "      <th>New Warm</th>\n",
              "      <th>Warm High Value</th>\n",
              "      <th>Warm Low Value</th>\n",
              "      <th>New Active</th>\n",
              "    </tr>\n",
              "    <tr>\n",
              "      <th>Segment_x</th>\n",
              "      <th></th>\n",
              "      <th></th>\n",
              "      <th></th>\n",
              "      <th></th>\n",
              "      <th></th>\n",
              "      <th></th>\n",
              "      <th></th>\n",
              "      <th></th>\n",
              "    </tr>\n",
              "  </thead>\n",
              "  <tbody>\n",
              "    <tr>\n",
              "      <th>Active High Value</th>\n",
              "      <td>354</td>\n",
              "      <td>2</td>\n",
              "      <td>0</td>\n",
              "      <td>0</td>\n",
              "      <td>0</td>\n",
              "      <td>119</td>\n",
              "      <td>0</td>\n",
              "      <td>0</td>\n",
              "    </tr>\n",
              "    <tr>\n",
              "      <th>Active Low Value</th>\n",
              "      <td>22</td>\n",
              "      <td>2088</td>\n",
              "      <td>0</td>\n",
              "      <td>0</td>\n",
              "      <td>0</td>\n",
              "      <td>0</td>\n",
              "      <td>901</td>\n",
              "      <td>0</td>\n",
              "    </tr>\n",
              "    <tr>\n",
              "      <th>Cold</th>\n",
              "      <td>22</td>\n",
              "      <td>200</td>\n",
              "      <td>0</td>\n",
              "      <td>1931</td>\n",
              "      <td>0</td>\n",
              "      <td>0</td>\n",
              "      <td>0</td>\n",
              "      <td>0</td>\n",
              "    </tr>\n",
              "    <tr>\n",
              "      <th>Inactive</th>\n",
              "      <td>35</td>\n",
              "      <td>250</td>\n",
              "      <td>0</td>\n",
              "      <td>7227</td>\n",
              "      <td>0</td>\n",
              "      <td>0</td>\n",
              "      <td>0</td>\n",
              "      <td>0</td>\n",
              "    </tr>\n",
              "    <tr>\n",
              "      <th>New Active</th>\n",
              "      <td>89</td>\n",
              "      <td>410</td>\n",
              "      <td>0</td>\n",
              "      <td>0</td>\n",
              "      <td>938</td>\n",
              "      <td>0</td>\n",
              "      <td>0</td>\n",
              "      <td>0</td>\n",
              "    </tr>\n",
              "    <tr>\n",
              "      <th>New Warm</th>\n",
              "      <td>15</td>\n",
              "      <td>96</td>\n",
              "      <td>1139</td>\n",
              "      <td>0</td>\n",
              "      <td>0</td>\n",
              "      <td>0</td>\n",
              "      <td>0</td>\n",
              "      <td>0</td>\n",
              "    </tr>\n",
              "    <tr>\n",
              "      <th>Warm High Value</th>\n",
              "      <td>35</td>\n",
              "      <td>1</td>\n",
              "      <td>75</td>\n",
              "      <td>0</td>\n",
              "      <td>0</td>\n",
              "      <td>0</td>\n",
              "      <td>0</td>\n",
              "      <td>0</td>\n",
              "    </tr>\n",
              "    <tr>\n",
              "      <th>Warm Low Value</th>\n",
              "      <td>1</td>\n",
              "      <td>266</td>\n",
              "      <td>689</td>\n",
              "      <td>0</td>\n",
              "      <td>0</td>\n",
              "      <td>0</td>\n",
              "      <td>0</td>\n",
              "      <td>0</td>\n",
              "    </tr>\n",
              "  </tbody>\n",
              "</table>\n",
              "</div>"
            ],
            "text/plain": [
              "Segment_y          Active High Value  Active Low Value  Cold  Inactive  \\\n",
              "Segment_x                                                                \n",
              "Active High Value                354                 2     0         0   \n",
              "Active Low Value                  22              2088     0         0   \n",
              "Cold                              22               200     0      1931   \n",
              "Inactive                          35               250     0      7227   \n",
              "New Active                        89               410     0         0   \n",
              "New Warm                          15                96  1139         0   \n",
              "Warm High Value                   35                 1    75         0   \n",
              "Warm Low Value                     1               266   689         0   \n",
              "\n",
              "Segment_y          New Warm  Warm High Value  Warm Low Value  New Active  \n",
              "Segment_x                                                                 \n",
              "Active High Value         0              119               0           0  \n",
              "Active Low Value          0                0             901           0  \n",
              "Cold                      0                0               0           0  \n",
              "Inactive                  0                0               0           0  \n",
              "New Active              938                0               0           0  \n",
              "New Warm                  0                0               0           0  \n",
              "Warm High Value           0                0               0           0  \n",
              "Warm Low Value            0                0               0           0  "
            ]
          },
          "execution_count": 93,
          "metadata": {},
          "output_type": "execute_result"
        }
      ],
      "source": [
        "transition"
      ]
    },
    {
      "cell_type": "code",
      "execution_count": null,
      "id": "da6e4b59",
      "metadata": {
        "id": "da6e4b59"
      },
      "outputs": [],
      "source": [
        "transition1 = transition"
      ]
    },
    {
      "cell_type": "code",
      "execution_count": null,
      "id": "1422a789",
      "metadata": {
        "id": "1422a789",
        "outputId": "ac4ceae4-0cc0-4d03-8a06-5c7bde9867f6"
      },
      "outputs": [
        {
          "data": {
            "text/plain": [
              "Index(['Active High Value', 'Active Low Value', 'Cold', 'Inactive', 'New Warm',\n",
              "       'Warm High Value', 'Warm Low Value', 'New Active'],\n",
              "      dtype='object', name='Segment_y')"
            ]
          },
          "execution_count": 95,
          "metadata": {},
          "output_type": "execute_result"
        }
      ],
      "source": [
        "transition.columns"
      ]
    },
    {
      "cell_type": "code",
      "execution_count": null,
      "id": "40c38f40",
      "metadata": {
        "id": "40c38f40"
      },
      "outputs": [],
      "source": [
        "col = transition1.columns.to_list()"
      ]
    },
    {
      "cell_type": "code",
      "execution_count": null,
      "id": "501b9a7e",
      "metadata": {
        "id": "501b9a7e",
        "outputId": "8563b907-6c56-482e-eb97-f541d596439f"
      },
      "outputs": [
        {
          "data": {
            "text/plain": [
              "['Active High Value',\n",
              " 'Active Low Value',\n",
              " 'Cold',\n",
              " 'Inactive',\n",
              " 'New Warm',\n",
              " 'Warm High Value',\n",
              " 'Warm Low Value',\n",
              " 'New Active']"
            ]
          },
          "execution_count": 97,
          "metadata": {},
          "output_type": "execute_result"
        }
      ],
      "source": [
        "col"
      ]
    },
    {
      "cell_type": "code",
      "execution_count": null,
      "id": "0145065b",
      "metadata": {
        "id": "0145065b"
      },
      "outputs": [],
      "source": [
        "col = ['Inactive', 'Cold', 'Warm High Value','Warm Low Value','New Warm','Active High Value','Active Low Value','New Active']\n",
        "transition1 = transition1[col]"
      ]
    },
    {
      "cell_type": "code",
      "execution_count": null,
      "id": "ca549974",
      "metadata": {
        "id": "ca549974",
        "outputId": "a118b122-ec51-4f98-c7d3-b9898f6289e9"
      },
      "outputs": [
        {
          "data": {
            "text/html": [
              "<div>\n",
              "<style scoped>\n",
              "    .dataframe tbody tr th:only-of-type {\n",
              "        vertical-align: middle;\n",
              "    }\n",
              "\n",
              "    .dataframe tbody tr th {\n",
              "        vertical-align: top;\n",
              "    }\n",
              "\n",
              "    .dataframe thead th {\n",
              "        text-align: right;\n",
              "    }\n",
              "</style>\n",
              "<table border=\"1\" class=\"dataframe\">\n",
              "  <thead>\n",
              "    <tr style=\"text-align: right;\">\n",
              "      <th>Segment_y</th>\n",
              "      <th>Inactive</th>\n",
              "      <th>Cold</th>\n",
              "      <th>Warm High Value</th>\n",
              "      <th>Warm Low Value</th>\n",
              "      <th>New Warm</th>\n",
              "      <th>Active High Value</th>\n",
              "      <th>Active Low Value</th>\n",
              "      <th>New Active</th>\n",
              "    </tr>\n",
              "    <tr>\n",
              "      <th>Segment_x</th>\n",
              "      <th></th>\n",
              "      <th></th>\n",
              "      <th></th>\n",
              "      <th></th>\n",
              "      <th></th>\n",
              "      <th></th>\n",
              "      <th></th>\n",
              "      <th></th>\n",
              "    </tr>\n",
              "  </thead>\n",
              "  <tbody>\n",
              "    <tr>\n",
              "      <th>Active High Value</th>\n",
              "      <td>0</td>\n",
              "      <td>0</td>\n",
              "      <td>119</td>\n",
              "      <td>0</td>\n",
              "      <td>0</td>\n",
              "      <td>354</td>\n",
              "      <td>2</td>\n",
              "      <td>0</td>\n",
              "    </tr>\n",
              "    <tr>\n",
              "      <th>Active Low Value</th>\n",
              "      <td>0</td>\n",
              "      <td>0</td>\n",
              "      <td>0</td>\n",
              "      <td>901</td>\n",
              "      <td>0</td>\n",
              "      <td>22</td>\n",
              "      <td>2088</td>\n",
              "      <td>0</td>\n",
              "    </tr>\n",
              "    <tr>\n",
              "      <th>Cold</th>\n",
              "      <td>1931</td>\n",
              "      <td>0</td>\n",
              "      <td>0</td>\n",
              "      <td>0</td>\n",
              "      <td>0</td>\n",
              "      <td>22</td>\n",
              "      <td>200</td>\n",
              "      <td>0</td>\n",
              "    </tr>\n",
              "    <tr>\n",
              "      <th>Inactive</th>\n",
              "      <td>7227</td>\n",
              "      <td>0</td>\n",
              "      <td>0</td>\n",
              "      <td>0</td>\n",
              "      <td>0</td>\n",
              "      <td>35</td>\n",
              "      <td>250</td>\n",
              "      <td>0</td>\n",
              "    </tr>\n",
              "    <tr>\n",
              "      <th>New Active</th>\n",
              "      <td>0</td>\n",
              "      <td>0</td>\n",
              "      <td>0</td>\n",
              "      <td>0</td>\n",
              "      <td>938</td>\n",
              "      <td>89</td>\n",
              "      <td>410</td>\n",
              "      <td>0</td>\n",
              "    </tr>\n",
              "    <tr>\n",
              "      <th>New Warm</th>\n",
              "      <td>0</td>\n",
              "      <td>1139</td>\n",
              "      <td>0</td>\n",
              "      <td>0</td>\n",
              "      <td>0</td>\n",
              "      <td>15</td>\n",
              "      <td>96</td>\n",
              "      <td>0</td>\n",
              "    </tr>\n",
              "    <tr>\n",
              "      <th>Warm High Value</th>\n",
              "      <td>0</td>\n",
              "      <td>75</td>\n",
              "      <td>0</td>\n",
              "      <td>0</td>\n",
              "      <td>0</td>\n",
              "      <td>35</td>\n",
              "      <td>1</td>\n",
              "      <td>0</td>\n",
              "    </tr>\n",
              "    <tr>\n",
              "      <th>Warm Low Value</th>\n",
              "      <td>0</td>\n",
              "      <td>689</td>\n",
              "      <td>0</td>\n",
              "      <td>0</td>\n",
              "      <td>0</td>\n",
              "      <td>1</td>\n",
              "      <td>266</td>\n",
              "      <td>0</td>\n",
              "    </tr>\n",
              "  </tbody>\n",
              "</table>\n",
              "</div>"
            ],
            "text/plain": [
              "Segment_y          Inactive  Cold  Warm High Value  Warm Low Value  New Warm  \\\n",
              "Segment_x                                                                      \n",
              "Active High Value         0     0              119               0         0   \n",
              "Active Low Value          0     0                0             901         0   \n",
              "Cold                   1931     0                0               0         0   \n",
              "Inactive               7227     0                0               0         0   \n",
              "New Active                0     0                0               0       938   \n",
              "New Warm                  0  1139                0               0         0   \n",
              "Warm High Value           0    75                0               0         0   \n",
              "Warm Low Value            0   689                0               0         0   \n",
              "\n",
              "Segment_y          Active High Value  Active Low Value  New Active  \n",
              "Segment_x                                                           \n",
              "Active High Value                354                 2           0  \n",
              "Active Low Value                  22              2088           0  \n",
              "Cold                              22               200           0  \n",
              "Inactive                          35               250           0  \n",
              "New Active                        89               410           0  \n",
              "New Warm                          15                96           0  \n",
              "Warm High Value                   35                 1           0  \n",
              "Warm Low Value                     1               266           0  "
            ]
          },
          "execution_count": 99,
          "metadata": {},
          "output_type": "execute_result"
        }
      ],
      "source": [
        "transition1"
      ]
    },
    {
      "cell_type": "code",
      "execution_count": null,
      "id": "51473dc0",
      "metadata": {
        "id": "51473dc0"
      },
      "outputs": [],
      "source": [
        "transition2 = transition1.reindex(['Inactive','Cold','Warm High Value','Warm Low Value','New Warm',\n",
        "                                   'Active High Value', 'Active Low Value', 'New Active'])"
      ]
    },
    {
      "cell_type": "code",
      "execution_count": null,
      "id": "9e91ca98",
      "metadata": {
        "id": "9e91ca98",
        "outputId": "02e8dd38-8998-46c5-e22f-d4321dc7f86e"
      },
      "outputs": [
        {
          "data": {
            "text/html": [
              "<div>\n",
              "<style scoped>\n",
              "    .dataframe tbody tr th:only-of-type {\n",
              "        vertical-align: middle;\n",
              "    }\n",
              "\n",
              "    .dataframe tbody tr th {\n",
              "        vertical-align: top;\n",
              "    }\n",
              "\n",
              "    .dataframe thead th {\n",
              "        text-align: right;\n",
              "    }\n",
              "</style>\n",
              "<table border=\"1\" class=\"dataframe\">\n",
              "  <thead>\n",
              "    <tr style=\"text-align: right;\">\n",
              "      <th>Segment_y</th>\n",
              "      <th>Inactive</th>\n",
              "      <th>Cold</th>\n",
              "      <th>Warm High Value</th>\n",
              "      <th>Warm Low Value</th>\n",
              "      <th>New Warm</th>\n",
              "      <th>Active High Value</th>\n",
              "      <th>Active Low Value</th>\n",
              "      <th>New Active</th>\n",
              "    </tr>\n",
              "    <tr>\n",
              "      <th>Segment_x</th>\n",
              "      <th></th>\n",
              "      <th></th>\n",
              "      <th></th>\n",
              "      <th></th>\n",
              "      <th></th>\n",
              "      <th></th>\n",
              "      <th></th>\n",
              "      <th></th>\n",
              "    </tr>\n",
              "  </thead>\n",
              "  <tbody>\n",
              "    <tr>\n",
              "      <th>Inactive</th>\n",
              "      <td>7227</td>\n",
              "      <td>0</td>\n",
              "      <td>0</td>\n",
              "      <td>0</td>\n",
              "      <td>0</td>\n",
              "      <td>35</td>\n",
              "      <td>250</td>\n",
              "      <td>0</td>\n",
              "    </tr>\n",
              "    <tr>\n",
              "      <th>Cold</th>\n",
              "      <td>1931</td>\n",
              "      <td>0</td>\n",
              "      <td>0</td>\n",
              "      <td>0</td>\n",
              "      <td>0</td>\n",
              "      <td>22</td>\n",
              "      <td>200</td>\n",
              "      <td>0</td>\n",
              "    </tr>\n",
              "    <tr>\n",
              "      <th>Warm High Value</th>\n",
              "      <td>0</td>\n",
              "      <td>75</td>\n",
              "      <td>0</td>\n",
              "      <td>0</td>\n",
              "      <td>0</td>\n",
              "      <td>35</td>\n",
              "      <td>1</td>\n",
              "      <td>0</td>\n",
              "    </tr>\n",
              "    <tr>\n",
              "      <th>Warm Low Value</th>\n",
              "      <td>0</td>\n",
              "      <td>689</td>\n",
              "      <td>0</td>\n",
              "      <td>0</td>\n",
              "      <td>0</td>\n",
              "      <td>1</td>\n",
              "      <td>266</td>\n",
              "      <td>0</td>\n",
              "    </tr>\n",
              "    <tr>\n",
              "      <th>New Warm</th>\n",
              "      <td>0</td>\n",
              "      <td>1139</td>\n",
              "      <td>0</td>\n",
              "      <td>0</td>\n",
              "      <td>0</td>\n",
              "      <td>15</td>\n",
              "      <td>96</td>\n",
              "      <td>0</td>\n",
              "    </tr>\n",
              "    <tr>\n",
              "      <th>Active High Value</th>\n",
              "      <td>0</td>\n",
              "      <td>0</td>\n",
              "      <td>119</td>\n",
              "      <td>0</td>\n",
              "      <td>0</td>\n",
              "      <td>354</td>\n",
              "      <td>2</td>\n",
              "      <td>0</td>\n",
              "    </tr>\n",
              "    <tr>\n",
              "      <th>Active Low Value</th>\n",
              "      <td>0</td>\n",
              "      <td>0</td>\n",
              "      <td>0</td>\n",
              "      <td>901</td>\n",
              "      <td>0</td>\n",
              "      <td>22</td>\n",
              "      <td>2088</td>\n",
              "      <td>0</td>\n",
              "    </tr>\n",
              "    <tr>\n",
              "      <th>New Active</th>\n",
              "      <td>0</td>\n",
              "      <td>0</td>\n",
              "      <td>0</td>\n",
              "      <td>0</td>\n",
              "      <td>938</td>\n",
              "      <td>89</td>\n",
              "      <td>410</td>\n",
              "      <td>0</td>\n",
              "    </tr>\n",
              "  </tbody>\n",
              "</table>\n",
              "</div>"
            ],
            "text/plain": [
              "Segment_y          Inactive  Cold  Warm High Value  Warm Low Value  New Warm  \\\n",
              "Segment_x                                                                      \n",
              "Inactive               7227     0                0               0         0   \n",
              "Cold                   1931     0                0               0         0   \n",
              "Warm High Value           0    75                0               0         0   \n",
              "Warm Low Value            0   689                0               0         0   \n",
              "New Warm                  0  1139                0               0         0   \n",
              "Active High Value         0     0              119               0         0   \n",
              "Active Low Value          0     0                0             901         0   \n",
              "New Active                0     0                0               0       938   \n",
              "\n",
              "Segment_y          Active High Value  Active Low Value  New Active  \n",
              "Segment_x                                                           \n",
              "Inactive                          35               250           0  \n",
              "Cold                              22               200           0  \n",
              "Warm High Value                   35                 1           0  \n",
              "Warm Low Value                     1               266           0  \n",
              "New Warm                          15                96           0  \n",
              "Active High Value                354                 2           0  \n",
              "Active Low Value                  22              2088           0  \n",
              "New Active                        89               410           0  "
            ]
          },
          "execution_count": 101,
          "metadata": {},
          "output_type": "execute_result"
        }
      ],
      "source": [
        "transition2"
      ]
    },
    {
      "cell_type": "code",
      "execution_count": null,
      "id": "934a3579",
      "metadata": {
        "id": "934a3579"
      },
      "outputs": [],
      "source": [
        "transition3 = transition2\n"
      ]
    },
    {
      "cell_type": "code",
      "execution_count": null,
      "id": "43f4bf4b",
      "metadata": {
        "id": "43f4bf4b"
      },
      "outputs": [],
      "source": [
        "transition3 = transition3.div(transition3.sum(axis=1), axis=0)"
      ]
    },
    {
      "cell_type": "code",
      "execution_count": null,
      "id": "b1394aa1",
      "metadata": {
        "id": "b1394aa1",
        "outputId": "b08e60a6-f60c-4597-f982-2892e257b251"
      },
      "outputs": [
        {
          "data": {
            "text/html": [
              "<div>\n",
              "<style scoped>\n",
              "    .dataframe tbody tr th:only-of-type {\n",
              "        vertical-align: middle;\n",
              "    }\n",
              "\n",
              "    .dataframe tbody tr th {\n",
              "        vertical-align: top;\n",
              "    }\n",
              "\n",
              "    .dataframe thead th {\n",
              "        text-align: right;\n",
              "    }\n",
              "</style>\n",
              "<table border=\"1\" class=\"dataframe\">\n",
              "  <thead>\n",
              "    <tr style=\"text-align: right;\">\n",
              "      <th>Segment_y</th>\n",
              "      <th>Inactive</th>\n",
              "      <th>Cold</th>\n",
              "      <th>Warm High Value</th>\n",
              "      <th>Warm Low Value</th>\n",
              "      <th>New Warm</th>\n",
              "      <th>Active High Value</th>\n",
              "      <th>Active Low Value</th>\n",
              "      <th>New Active</th>\n",
              "    </tr>\n",
              "    <tr>\n",
              "      <th>Segment_x</th>\n",
              "      <th></th>\n",
              "      <th></th>\n",
              "      <th></th>\n",
              "      <th></th>\n",
              "      <th></th>\n",
              "      <th></th>\n",
              "      <th></th>\n",
              "      <th></th>\n",
              "    </tr>\n",
              "  </thead>\n",
              "  <tbody>\n",
              "    <tr>\n",
              "      <th>Inactive</th>\n",
              "      <td>0.962061</td>\n",
              "      <td>0.000000</td>\n",
              "      <td>0.000000</td>\n",
              "      <td>0.000000</td>\n",
              "      <td>0.000000</td>\n",
              "      <td>0.004659</td>\n",
              "      <td>0.033280</td>\n",
              "      <td>0.0</td>\n",
              "    </tr>\n",
              "    <tr>\n",
              "      <th>Cold</th>\n",
              "      <td>0.896888</td>\n",
              "      <td>0.000000</td>\n",
              "      <td>0.000000</td>\n",
              "      <td>0.000000</td>\n",
              "      <td>0.000000</td>\n",
              "      <td>0.010218</td>\n",
              "      <td>0.092894</td>\n",
              "      <td>0.0</td>\n",
              "    </tr>\n",
              "    <tr>\n",
              "      <th>Warm High Value</th>\n",
              "      <td>0.000000</td>\n",
              "      <td>0.675676</td>\n",
              "      <td>0.000000</td>\n",
              "      <td>0.000000</td>\n",
              "      <td>0.000000</td>\n",
              "      <td>0.315315</td>\n",
              "      <td>0.009009</td>\n",
              "      <td>0.0</td>\n",
              "    </tr>\n",
              "    <tr>\n",
              "      <th>Warm Low Value</th>\n",
              "      <td>0.000000</td>\n",
              "      <td>0.720711</td>\n",
              "      <td>0.000000</td>\n",
              "      <td>0.000000</td>\n",
              "      <td>0.000000</td>\n",
              "      <td>0.001046</td>\n",
              "      <td>0.278243</td>\n",
              "      <td>0.0</td>\n",
              "    </tr>\n",
              "    <tr>\n",
              "      <th>New Warm</th>\n",
              "      <td>0.000000</td>\n",
              "      <td>0.911200</td>\n",
              "      <td>0.000000</td>\n",
              "      <td>0.000000</td>\n",
              "      <td>0.000000</td>\n",
              "      <td>0.012000</td>\n",
              "      <td>0.076800</td>\n",
              "      <td>0.0</td>\n",
              "    </tr>\n",
              "    <tr>\n",
              "      <th>Active High Value</th>\n",
              "      <td>0.000000</td>\n",
              "      <td>0.000000</td>\n",
              "      <td>0.250526</td>\n",
              "      <td>0.000000</td>\n",
              "      <td>0.000000</td>\n",
              "      <td>0.745263</td>\n",
              "      <td>0.004211</td>\n",
              "      <td>0.0</td>\n",
              "    </tr>\n",
              "    <tr>\n",
              "      <th>Active Low Value</th>\n",
              "      <td>0.000000</td>\n",
              "      <td>0.000000</td>\n",
              "      <td>0.000000</td>\n",
              "      <td>0.299236</td>\n",
              "      <td>0.000000</td>\n",
              "      <td>0.007307</td>\n",
              "      <td>0.693457</td>\n",
              "      <td>0.0</td>\n",
              "    </tr>\n",
              "    <tr>\n",
              "      <th>New Active</th>\n",
              "      <td>0.000000</td>\n",
              "      <td>0.000000</td>\n",
              "      <td>0.000000</td>\n",
              "      <td>0.000000</td>\n",
              "      <td>0.652749</td>\n",
              "      <td>0.061935</td>\n",
              "      <td>0.285317</td>\n",
              "      <td>0.0</td>\n",
              "    </tr>\n",
              "  </tbody>\n",
              "</table>\n",
              "</div>"
            ],
            "text/plain": [
              "Segment_y          Inactive      Cold  Warm High Value  Warm Low Value  \\\n",
              "Segment_x                                                                \n",
              "Inactive           0.962061  0.000000         0.000000        0.000000   \n",
              "Cold               0.896888  0.000000         0.000000        0.000000   \n",
              "Warm High Value    0.000000  0.675676         0.000000        0.000000   \n",
              "Warm Low Value     0.000000  0.720711         0.000000        0.000000   \n",
              "New Warm           0.000000  0.911200         0.000000        0.000000   \n",
              "Active High Value  0.000000  0.000000         0.250526        0.000000   \n",
              "Active Low Value   0.000000  0.000000         0.000000        0.299236   \n",
              "New Active         0.000000  0.000000         0.000000        0.000000   \n",
              "\n",
              "Segment_y          New Warm  Active High Value  Active Low Value  New Active  \n",
              "Segment_x                                                                     \n",
              "Inactive           0.000000           0.004659          0.033280         0.0  \n",
              "Cold               0.000000           0.010218          0.092894         0.0  \n",
              "Warm High Value    0.000000           0.315315          0.009009         0.0  \n",
              "Warm Low Value     0.000000           0.001046          0.278243         0.0  \n",
              "New Warm           0.000000           0.012000          0.076800         0.0  \n",
              "Active High Value  0.000000           0.745263          0.004211         0.0  \n",
              "Active Low Value   0.000000           0.007307          0.693457         0.0  \n",
              "New Active         0.652749           0.061935          0.285317         0.0  "
            ]
          },
          "execution_count": 104,
          "metadata": {},
          "output_type": "execute_result"
        }
      ],
      "source": [
        "transition3"
      ]
    },
    {
      "cell_type": "code",
      "source": [
        "plt.figure(figsize = (17,17))\n",
        "s = sns.heatmap(transition3 * 100,annot=True,cmap ='copper')\n",
        "s.xaxis.tick_top()\n",
        "s.xaxis.set_label_position('top')\n",
        "s.set(xlabel='Till Previous Year(2014)', ylabel='Current Year 2015',title = 'Segment Transition')"
      ],
      "metadata": {
        "id": "-peWR2HkqkUL"
      },
      "id": "-peWR2HkqkUL",
      "execution_count": null,
      "outputs": []
    },
    {
      "cell_type": "markdown",
      "source": [
        ""
      ],
      "metadata": {
        "id": "bikK_ENxq5Qb"
      },
      "id": "bikK_ENxq5Qb"
    },
    {
      "cell_type": "markdown",
      "source": [
        "# Calculate future cash flow and Revenue"
      ],
      "metadata": {
        "id": "Oa59fNo7q6WW"
      },
      "id": "Oa59fNo7q6WW"
    },
    {
      "cell_type": "code",
      "execution_count": null,
      "id": "c7911360",
      "metadata": {
        "id": "c7911360"
      },
      "outputs": [],
      "source": [
        "# Get the revenue for the next 10 years\n",
        "df_segments = pd.DataFrame(index = np.arange(8), columns = [2015,2016,2017,2018,2019,2020,2021,2022,2023,2024,2025])"
      ]
    },
    {
      "cell_type": "code",
      "execution_count": null,
      "id": "837d6ebb",
      "metadata": {
        "id": "837d6ebb"
      },
      "outputs": [],
      "source": [
        "# Index based on predefined order\n",
        "df_segments = df_segments.reindex(['Inactive','Cold','Warm High Value','Warm Low Value','New Warm',\n",
        "                                   'Active High Value', 'Active Low Value', 'New Active'])"
      ]
    },
    {
      "cell_type": "code",
      "execution_count": null,
      "id": "0e404440",
      "metadata": {
        "id": "0e404440"
      },
      "outputs": [],
      "source": [
        "# Get the count for each segments\n",
        "df_temp = customers_2015['Segment'].value_counts().reindex(['Inactive','Cold','Warm High Value','Warm Low Value','New Warm',\n",
        "                                   'Active High Value', 'Active Low Value', 'New Active'])"
      ]
    },
    {
      "cell_type": "code",
      "execution_count": null,
      "id": "fc707e4d",
      "metadata": {
        "id": "fc707e4d",
        "outputId": "1b24e056-1df1-4d8f-a0a1-54028e786fc7"
      },
      "outputs": [
        {
          "data": {
            "text/plain": [
              "Inactive             9158\n",
              "Cold                 1903\n",
              "Warm High Value       119\n",
              "Warm Low Value        901\n",
              "New Warm              938\n",
              "Active High Value     573\n",
              "Active Low Value     3313\n",
              "New Active           1512\n",
              "Name: Segment, dtype: int64"
            ]
          },
          "execution_count": 108,
          "metadata": {},
          "output_type": "execute_result"
        }
      ],
      "source": [
        "df_temp"
      ]
    },
    {
      "cell_type": "code",
      "execution_count": null,
      "id": "e80d6c24",
      "metadata": {
        "id": "e80d6c24",
        "outputId": "f1e4dfc3-ba3f-46b8-ed1b-9800fdaea12c"
      },
      "outputs": [
        {
          "data": {
            "text/plain": [
              "Index(['Inactive', 'Cold', 'Warm High Value', 'Warm Low Value', 'New Warm',\n",
              "       'Active High Value', 'Active Low Value', 'New Active'],\n",
              "      dtype='object')"
            ]
          },
          "execution_count": 109,
          "metadata": {},
          "output_type": "execute_result"
        }
      ],
      "source": [
        "df_temp.index"
      ]
    },
    {
      "cell_type": "code",
      "execution_count": null,
      "id": "7e79c424",
      "metadata": {
        "id": "7e79c424",
        "outputId": "4eae1836-7a58-4d55-8176-094137a5d794"
      },
      "outputs": [
        {
          "data": {
            "text/plain": [
              "Index(['Inactive', 'Cold', 'Warm High Value', 'Warm Low Value', 'New Warm',\n",
              "       'Active High Value', 'Active Low Value', 'New Active'],\n",
              "      dtype='object')"
            ]
          },
          "execution_count": 110,
          "metadata": {},
          "output_type": "execute_result"
        }
      ],
      "source": [
        "df_segments.index"
      ]
    },
    {
      "cell_type": "code",
      "execution_count": null,
      "id": "37c6fecd",
      "metadata": {
        "id": "37c6fecd"
      },
      "outputs": [],
      "source": [
        "df_segments[2015] = df_temp.values"
      ]
    },
    {
      "cell_type": "code",
      "execution_count": null,
      "id": "d5afc859",
      "metadata": {
        "id": "d5afc859",
        "outputId": "9ad91bbe-3aa9-4ae2-adeb-87dbe0631d47"
      },
      "outputs": [
        {
          "data": {
            "text/html": [
              "<div>\n",
              "<style scoped>\n",
              "    .dataframe tbody tr th:only-of-type {\n",
              "        vertical-align: middle;\n",
              "    }\n",
              "\n",
              "    .dataframe tbody tr th {\n",
              "        vertical-align: top;\n",
              "    }\n",
              "\n",
              "    .dataframe thead th {\n",
              "        text-align: right;\n",
              "    }\n",
              "</style>\n",
              "<table border=\"1\" class=\"dataframe\">\n",
              "  <thead>\n",
              "    <tr style=\"text-align: right;\">\n",
              "      <th></th>\n",
              "      <th>2015</th>\n",
              "      <th>2016</th>\n",
              "      <th>2017</th>\n",
              "      <th>2018</th>\n",
              "      <th>2019</th>\n",
              "      <th>2020</th>\n",
              "      <th>2021</th>\n",
              "      <th>2022</th>\n",
              "      <th>2023</th>\n",
              "      <th>2024</th>\n",
              "      <th>2025</th>\n",
              "    </tr>\n",
              "  </thead>\n",
              "  <tbody>\n",
              "    <tr>\n",
              "      <th>Inactive</th>\n",
              "      <td>9158</td>\n",
              "      <td>NaN</td>\n",
              "      <td>NaN</td>\n",
              "      <td>NaN</td>\n",
              "      <td>NaN</td>\n",
              "      <td>NaN</td>\n",
              "      <td>NaN</td>\n",
              "      <td>NaN</td>\n",
              "      <td>NaN</td>\n",
              "      <td>NaN</td>\n",
              "      <td>NaN</td>\n",
              "    </tr>\n",
              "    <tr>\n",
              "      <th>Cold</th>\n",
              "      <td>1903</td>\n",
              "      <td>NaN</td>\n",
              "      <td>NaN</td>\n",
              "      <td>NaN</td>\n",
              "      <td>NaN</td>\n",
              "      <td>NaN</td>\n",
              "      <td>NaN</td>\n",
              "      <td>NaN</td>\n",
              "      <td>NaN</td>\n",
              "      <td>NaN</td>\n",
              "      <td>NaN</td>\n",
              "    </tr>\n",
              "    <tr>\n",
              "      <th>Warm High Value</th>\n",
              "      <td>119</td>\n",
              "      <td>NaN</td>\n",
              "      <td>NaN</td>\n",
              "      <td>NaN</td>\n",
              "      <td>NaN</td>\n",
              "      <td>NaN</td>\n",
              "      <td>NaN</td>\n",
              "      <td>NaN</td>\n",
              "      <td>NaN</td>\n",
              "      <td>NaN</td>\n",
              "      <td>NaN</td>\n",
              "    </tr>\n",
              "    <tr>\n",
              "      <th>Warm Low Value</th>\n",
              "      <td>901</td>\n",
              "      <td>NaN</td>\n",
              "      <td>NaN</td>\n",
              "      <td>NaN</td>\n",
              "      <td>NaN</td>\n",
              "      <td>NaN</td>\n",
              "      <td>NaN</td>\n",
              "      <td>NaN</td>\n",
              "      <td>NaN</td>\n",
              "      <td>NaN</td>\n",
              "      <td>NaN</td>\n",
              "    </tr>\n",
              "    <tr>\n",
              "      <th>New Warm</th>\n",
              "      <td>938</td>\n",
              "      <td>NaN</td>\n",
              "      <td>NaN</td>\n",
              "      <td>NaN</td>\n",
              "      <td>NaN</td>\n",
              "      <td>NaN</td>\n",
              "      <td>NaN</td>\n",
              "      <td>NaN</td>\n",
              "      <td>NaN</td>\n",
              "      <td>NaN</td>\n",
              "      <td>NaN</td>\n",
              "    </tr>\n",
              "    <tr>\n",
              "      <th>Active High Value</th>\n",
              "      <td>573</td>\n",
              "      <td>NaN</td>\n",
              "      <td>NaN</td>\n",
              "      <td>NaN</td>\n",
              "      <td>NaN</td>\n",
              "      <td>NaN</td>\n",
              "      <td>NaN</td>\n",
              "      <td>NaN</td>\n",
              "      <td>NaN</td>\n",
              "      <td>NaN</td>\n",
              "      <td>NaN</td>\n",
              "    </tr>\n",
              "    <tr>\n",
              "      <th>Active Low Value</th>\n",
              "      <td>3313</td>\n",
              "      <td>NaN</td>\n",
              "      <td>NaN</td>\n",
              "      <td>NaN</td>\n",
              "      <td>NaN</td>\n",
              "      <td>NaN</td>\n",
              "      <td>NaN</td>\n",
              "      <td>NaN</td>\n",
              "      <td>NaN</td>\n",
              "      <td>NaN</td>\n",
              "      <td>NaN</td>\n",
              "    </tr>\n",
              "    <tr>\n",
              "      <th>New Active</th>\n",
              "      <td>1512</td>\n",
              "      <td>NaN</td>\n",
              "      <td>NaN</td>\n",
              "      <td>NaN</td>\n",
              "      <td>NaN</td>\n",
              "      <td>NaN</td>\n",
              "      <td>NaN</td>\n",
              "      <td>NaN</td>\n",
              "      <td>NaN</td>\n",
              "      <td>NaN</td>\n",
              "      <td>NaN</td>\n",
              "    </tr>\n",
              "  </tbody>\n",
              "</table>\n",
              "</div>"
            ],
            "text/plain": [
              "                   2015 2016 2017 2018 2019 2020 2021 2022 2023 2024 2025\n",
              "Inactive           9158  NaN  NaN  NaN  NaN  NaN  NaN  NaN  NaN  NaN  NaN\n",
              "Cold               1903  NaN  NaN  NaN  NaN  NaN  NaN  NaN  NaN  NaN  NaN\n",
              "Warm High Value     119  NaN  NaN  NaN  NaN  NaN  NaN  NaN  NaN  NaN  NaN\n",
              "Warm Low Value      901  NaN  NaN  NaN  NaN  NaN  NaN  NaN  NaN  NaN  NaN\n",
              "New Warm            938  NaN  NaN  NaN  NaN  NaN  NaN  NaN  NaN  NaN  NaN\n",
              "Active High Value   573  NaN  NaN  NaN  NaN  NaN  NaN  NaN  NaN  NaN  NaN\n",
              "Active Low Value   3313  NaN  NaN  NaN  NaN  NaN  NaN  NaN  NaN  NaN  NaN\n",
              "New Active         1512  NaN  NaN  NaN  NaN  NaN  NaN  NaN  NaN  NaN  NaN"
            ]
          },
          "execution_count": 112,
          "metadata": {},
          "output_type": "execute_result"
        }
      ],
      "source": [
        "df_segments"
      ]
    },
    {
      "cell_type": "code",
      "execution_count": null,
      "id": "e57ddc65",
      "metadata": {
        "id": "e57ddc65"
      },
      "outputs": [],
      "source": [
        "var1 = df_segments.iloc[:,0].to_numpy()\n",
        "var2 = transition3\n",
        "newm = np.matmul(var1,var2)"
      ]
    },
    {
      "cell_type": "code",
      "execution_count": null,
      "id": "197b9c10",
      "metadata": {
        "id": "197b9c10",
        "outputId": "cd78e190-7531-4d6f-9477-afd92513dd22"
      },
      "outputs": [
        {
          "data": {
            "text/plain": [
              "Segment_y\n",
              "Inactive             10517.329901\n",
              "Cold                  1584.471884\n",
              "Warm High Value        143.551579\n",
              "Warm Low Value         991.369313\n",
              "New Warm               986.956159\n",
              "Active High Value      656.722938\n",
              "Active Low Value      3536.598226\n",
              "New Active               0.000000\n",
              "dtype: float64"
            ]
          },
          "execution_count": 114,
          "metadata": {},
          "output_type": "execute_result"
        }
      ],
      "source": [
        "newm"
      ]
    },
    {
      "cell_type": "code",
      "execution_count": null,
      "id": "027e4de6",
      "metadata": {
        "id": "027e4de6"
      },
      "outputs": [],
      "source": [
        "# Get the prospective customers for the next 10 years\n",
        "for i in range(2,12):\n",
        "    matrix1 = df_segments.iloc[:,i-2].to_numpy()\n",
        "    matrix2 = transition3\n",
        "    df_segments.iloc[:,i-1] = np.matmul(matrix1,matrix2)"
      ]
    },
    {
      "cell_type": "code",
      "execution_count": null,
      "id": "3e85af0b",
      "metadata": {
        "id": "3e85af0b",
        "outputId": "f7660539-488c-44e7-8250-6b7abb52c5b2"
      },
      "outputs": [
        {
          "data": {
            "text/html": [
              "<div>\n",
              "<style scoped>\n",
              "    .dataframe tbody tr th:only-of-type {\n",
              "        vertical-align: middle;\n",
              "    }\n",
              "\n",
              "    .dataframe tbody tr th {\n",
              "        vertical-align: top;\n",
              "    }\n",
              "\n",
              "    .dataframe thead th {\n",
              "        text-align: right;\n",
              "    }\n",
              "</style>\n",
              "<table border=\"1\" class=\"dataframe\">\n",
              "  <thead>\n",
              "    <tr style=\"text-align: right;\">\n",
              "      <th></th>\n",
              "      <th>2015</th>\n",
              "      <th>2016</th>\n",
              "      <th>2017</th>\n",
              "      <th>2018</th>\n",
              "      <th>2019</th>\n",
              "      <th>2020</th>\n",
              "      <th>2021</th>\n",
              "      <th>2022</th>\n",
              "      <th>2023</th>\n",
              "      <th>2024</th>\n",
              "      <th>2025</th>\n",
              "    </tr>\n",
              "  </thead>\n",
              "  <tbody>\n",
              "    <tr>\n",
              "      <th>Inactive</th>\n",
              "      <td>9158</td>\n",
              "      <td>10517.329901</td>\n",
              "      <td>11539.403716</td>\n",
              "      <td>12636.002792</td>\n",
              "      <td>12940.373701</td>\n",
              "      <td>13185.724028</td>\n",
              "      <td>13386.392734</td>\n",
              "      <td>13542.142735</td>\n",
              "      <td>13663.959483</td>\n",
              "      <td>13759.321598</td>\n",
              "      <td>13833.990208</td>\n",
              "    </tr>\n",
              "    <tr>\n",
              "      <th>Cold</th>\n",
              "      <td>1903</td>\n",
              "      <td>1584.471884</td>\n",
              "      <td>1710.799825</td>\n",
              "      <td>873.879368</td>\n",
              "      <td>820.948611</td>\n",
              "      <td>781.508681</td>\n",
              "      <td>739.914332</td>\n",
              "      <td>708.668285</td>\n",
              "      <td>684.325234</td>\n",
              "      <td>665.286590</td>\n",
              "      <td>650.414823</td>\n",
              "    </tr>\n",
              "    <tr>\n",
              "      <th>Warm High Value</th>\n",
              "      <td>119</td>\n",
              "      <td>143.551579</td>\n",
              "      <td>164.526378</td>\n",
              "      <td>159.988429</td>\n",
              "      <td>156.406974</td>\n",
              "      <td>152.184561</td>\n",
              "      <td>148.632329</td>\n",
              "      <td>145.577932</td>\n",
              "      <td>142.949159</td>\n",
              "      <td>140.695942</td>\n",
              "      <td>138.769335</td>\n",
              "    </tr>\n",
              "    <tr>\n",
              "      <th>Warm Low Value</th>\n",
              "      <td>901</td>\n",
              "      <td>991.369313</td>\n",
              "      <td>1058.277981</td>\n",
              "      <td>989.089978</td>\n",
              "      <td>937.724018</td>\n",
              "      <td>883.969667</td>\n",
              "      <td>843.945472</td>\n",
              "      <td>813.032581</td>\n",
              "      <td>789.080625</td>\n",
              "      <td>770.558197</td>\n",
              "      <td>756.237477</td>\n",
              "    </tr>\n",
              "    <tr>\n",
              "      <th>New Warm</th>\n",
              "      <td>938</td>\n",
              "      <td>986.956159</td>\n",
              "      <td>0.000000</td>\n",
              "      <td>0.000000</td>\n",
              "      <td>0.000000</td>\n",
              "      <td>0.000000</td>\n",
              "      <td>0.000000</td>\n",
              "      <td>0.000000</td>\n",
              "      <td>0.000000</td>\n",
              "      <td>0.000000</td>\n",
              "      <td>0.000000</td>\n",
              "    </tr>\n",
              "    <tr>\n",
              "      <th>Active High Value</th>\n",
              "      <td>573</td>\n",
              "      <td>656.722938</td>\n",
              "      <td>638.609277</td>\n",
              "      <td>624.313553</td>\n",
              "      <td>607.459383</td>\n",
              "      <td>593.280303</td>\n",
              "      <td>581.088384</td>\n",
              "      <td>570.595381</td>\n",
              "      <td>561.601447</td>\n",
              "      <td>553.911210</td>\n",
              "      <td>547.350208</td>\n",
              "    </tr>\n",
              "    <tr>\n",
              "      <th>Active Low Value</th>\n",
              "      <td>3313</td>\n",
              "      <td>3536.598226</td>\n",
              "      <td>3305.382822</td>\n",
              "      <td>3133.725880</td>\n",
              "      <td>2954.087312</td>\n",
              "      <td>2820.332759</td>\n",
              "      <td>2717.026750</td>\n",
              "      <td>2636.983086</td>\n",
              "      <td>2575.084053</td>\n",
              "      <td>2527.226464</td>\n",
              "      <td>2490.237949</td>\n",
              "    </tr>\n",
              "    <tr>\n",
              "      <th>New Active</th>\n",
              "      <td>1512</td>\n",
              "      <td>0.000000</td>\n",
              "      <td>0.000000</td>\n",
              "      <td>0.000000</td>\n",
              "      <td>0.000000</td>\n",
              "      <td>0.000000</td>\n",
              "      <td>0.000000</td>\n",
              "      <td>0.000000</td>\n",
              "      <td>0.000000</td>\n",
              "      <td>0.000000</td>\n",
              "      <td>0.000000</td>\n",
              "    </tr>\n",
              "  </tbody>\n",
              "</table>\n",
              "</div>"
            ],
            "text/plain": [
              "                   2015          2016          2017          2018  \\\n",
              "Inactive           9158  10517.329901  11539.403716  12636.002792   \n",
              "Cold               1903   1584.471884   1710.799825    873.879368   \n",
              "Warm High Value     119    143.551579    164.526378    159.988429   \n",
              "Warm Low Value      901    991.369313   1058.277981    989.089978   \n",
              "New Warm            938    986.956159      0.000000      0.000000   \n",
              "Active High Value   573    656.722938    638.609277    624.313553   \n",
              "Active Low Value   3313   3536.598226   3305.382822   3133.725880   \n",
              "New Active         1512      0.000000      0.000000      0.000000   \n",
              "\n",
              "                           2019          2020          2021          2022  \\\n",
              "Inactive           12940.373701  13185.724028  13386.392734  13542.142735   \n",
              "Cold                 820.948611    781.508681    739.914332    708.668285   \n",
              "Warm High Value      156.406974    152.184561    148.632329    145.577932   \n",
              "Warm Low Value       937.724018    883.969667    843.945472    813.032581   \n",
              "New Warm               0.000000      0.000000      0.000000      0.000000   \n",
              "Active High Value    607.459383    593.280303    581.088384    570.595381   \n",
              "Active Low Value    2954.087312   2820.332759   2717.026750   2636.983086   \n",
              "New Active             0.000000      0.000000      0.000000      0.000000   \n",
              "\n",
              "                           2023          2024          2025  \n",
              "Inactive           13663.959483  13759.321598  13833.990208  \n",
              "Cold                 684.325234    665.286590    650.414823  \n",
              "Warm High Value      142.949159    140.695942    138.769335  \n",
              "Warm Low Value       789.080625    770.558197    756.237477  \n",
              "New Warm               0.000000      0.000000      0.000000  \n",
              "Active High Value    561.601447    553.911210    547.350208  \n",
              "Active Low Value    2575.084053   2527.226464   2490.237949  \n",
              "New Active             0.000000      0.000000      0.000000  "
            ]
          },
          "execution_count": 116,
          "metadata": {},
          "output_type": "execute_result"
        }
      ],
      "source": [
        "df_segments"
      ]
    },
    {
      "cell_type": "code",
      "execution_count": null,
      "id": "9edb6a37",
      "metadata": {
        "id": "9edb6a37",
        "outputId": "e69be64c-747e-4088-f363-17af9a391796"
      },
      "outputs": [
        {
          "data": {
            "text/plain": [
              "<AxesSubplot:>"
            ]
          },
          "execution_count": 118,
          "metadata": {},
          "output_type": "execute_result"
        },
        {
          "data": {
            "image/png": "[encoded data removed]",
            "text/plain": [
              "<Figure size 432x288 with 1 Axes>"
            ]
          },
          "metadata": {
            "needs_background": "light"
          },
          "output_type": "display_data"
        }
      ],
      "source": [
        "# Barplot to show how cold segment is changing over the years\n",
        "df_segments.loc['Cold', :].plot(kind='bar', color='Maroon')"
      ]
    },
    {
      "cell_type": "code",
      "execution_count": null,
      "id": "d715306c",
      "metadata": {
        "id": "d715306c",
        "outputId": "c84f5809-f7c8-4b0c-9d69-1306131e50be"
      },
      "outputs": [
        {
          "data": {
            "text/plain": [
              "<AxesSubplot:>"
            ]
          },
          "execution_count": 119,
          "metadata": {},
          "output_type": "execute_result"
        },
        {
          "data": {
            "image/png": "[encoded data removed]",
            "text/plain": [
              "<Figure size 432x288 with 1 Axes>"
            ]
          },
          "metadata": {
            "needs_background": "light"
          },
          "output_type": "display_data"
        }
      ],
      "source": [
        "# Barplot to show how inactive segment is changing over the years\n",
        "df_segments.loc['Inactive', :].plot(kind='bar', color='Maroon')"
      ]
    },
    {
      "cell_type": "code",
      "execution_count": null,
      "id": "cf224379",
      "metadata": {
        "id": "cf224379"
      },
      "outputs": [],
      "source": [
        "# Rebuild the index\n",
        "revenue_segment_2015_2 = revenue_segment_2015_1\n",
        "revenue_segment_2015_2 = revenue_segment_2015_2.set_index(\"Segment\")"
      ]
    },
    {
      "cell_type": "code",
      "execution_count": null,
      "id": "78231280",
      "metadata": {
        "id": "78231280",
        "outputId": "78a0562c-94d9-4e16-c54b-1738a3658783"
      },
      "outputs": [
        {
          "data": {
            "text/plain": [
              "Index(['Inactive', 'Cold', 'Warm High Value', 'Warm Low Value', 'New Warm',\n",
              "       'Active High Value', 'Active Low Value', 'New Active'],\n",
              "      dtype='object', name='Segment')"
            ]
          },
          "execution_count": 165,
          "metadata": {},
          "output_type": "execute_result"
        }
      ],
      "source": [
        "# Set the index\n",
        "revenue_segment_2015_2.index"
      ]
    },
    {
      "cell_type": "code",
      "execution_count": null,
      "id": "06f3d526",
      "metadata": {
        "id": "06f3d526"
      },
      "outputs": [],
      "source": [
        "# Build a dataframe to store revenue per segment\n",
        "revenue_per_segment = pd.DataFrame(df_segments.values*revenue_segment_2015_2.values, columns=df_segments.columns, index=df_segments.index)"
      ]
    },
    {
      "cell_type": "code",
      "execution_count": null,
      "id": "c603ee30",
      "metadata": {
        "id": "c603ee30"
      },
      "outputs": [],
      "source": [
        "# Get revenue per segment\n",
        "revenue_per_segment = round(revenue_per_segment,2)"
      ]
    },
    {
      "cell_type": "code",
      "execution_count": null,
      "id": "46788f60",
      "metadata": {
        "id": "46788f60"
      },
      "outputs": [],
      "source": [
        "# Get the yearly revenue\n",
        "yearly_revenue = revenue_per_segment.sum(axis=0)"
      ]
    },
    {
      "cell_type": "code",
      "execution_count": null,
      "id": "20167f00",
      "metadata": {
        "id": "20167f00",
        "outputId": "9a1b0921-80a7-48bf-ca8e-7032b71385fb"
      },
      "outputs": [
        {
          "data": {
            "image/png": "[encoded data removed]",
            "text/plain": [
              "<Figure size 432x288 with 1 Axes>"
            ]
          },
          "metadata": {
            "needs_background": "light"
          },
          "output_type": "display_data"
        }
      ],
      "source": [
        "# Visualize yearly revenue\n",
        "yearly_revenue.plot.bar(color = 'Maroon')\n",
        "plt.show()\n"
      ]
    },
    {
      "cell_type": "code",
      "execution_count": null,
      "id": "e7b045d0",
      "metadata": {
        "id": "e7b045d0"
      },
      "outputs": [],
      "source": [
        "# Compute cumulated revenue\n",
        "cumulative_revenue = yearly_revenue.cumsum()\n",
        "print(cumulative_revenue)\n",
        "cumulative_revenue.plot.bar()\n",
        "plt.show()"
      ]
    },
    {
      "cell_type": "code",
      "execution_count": null,
      "id": "279842ab",
      "metadata": {
        "id": "279842ab",
        "outputId": "99aba8c4-75e7-409f-e6ca-898b87f53e9a"
      },
      "outputs": [
        {
          "name": "stdout",
          "output_type": "stream",
          "text": [
            "[1.0, 0.9090909090909091, 0.8264462809917354, 0.7513148009015775, 0.6830134553650705, 0.6209213230591549, 0.5644739300537772, 0.5131581182307065, 0.4665073802097331, 0.42409761837248455, 0.3855432894295314]\n"
          ]
        }
      ],
      "source": [
        "# Create a discount factor\n",
        "discount_rate = 0.10\n",
        "discount = [1 / ((1 + discount_rate) ** (i - 1)) for i in range(1,12)]\n",
        "print(discount)"
      ]
    },
    {
      "cell_type": "code",
      "execution_count": null,
      "id": "5f6ee413",
      "metadata": {
        "id": "5f6ee413"
      },
      "outputs": [],
      "source": [
        "# Compute discounted yearly revenue\n",
        "disc_yearly_revenue = yearly_revenue * discount\n",
        "print(round(disc_yearly_revenue))\n",
        "disc_yearly_revenue.plot.bar()\n",
        "plt.show()"
      ]
    },
    {
      "cell_type": "code",
      "execution_count": null,
      "id": "3f1ba39f",
      "metadata": {
        "id": "3f1ba39f",
        "outputId": "49da422d-0cad-412e-82d2-508ea3c44c5b"
      },
      "outputs": [
        {
          "name": "stdout",
          "output_type": "stream",
          "text": [
            "2015     478394.0\n",
            "2016     839740.0\n",
            "2017    1153398.0\n",
            "2018    1428320.0\n",
            "2019    1668106.0\n",
            "2020    1878901.0\n",
            "2021    2065256.0\n",
            "2022    2230779.0\n",
            "2023    2378386.0\n",
            "2024    2510458.0\n",
            "2025    2628958.0\n",
            "dtype: float64\n"
          ]
        },
        {
          "data": {
            "image/png": "[encoded data removed]",
            "text/plain": [
              "<Figure size 432x288 with 1 Axes>"
            ]
          },
          "metadata": {
            "needs_background": "light"
          },
          "output_type": "display_data"
        }
      ],
      "source": [
        "# Compute discounted cumulated revenue\n",
        "disc_cumulated_revenue = disc_yearly_revenue.cumsum()\n",
        "print(round(disc_cumulated_revenue))\n",
        "disc_cumulated_revenue.plot.bar(color = 'Maroon')\n",
        "plt.show()"
      ]
    },
    {
      "cell_type": "markdown",
      "source": [
        "# Calculate CLV and X times worth of the company"
      ],
      "metadata": {
        "id": "BHHuspLjp_T0"
      },
      "id": "BHHuspLjp_T0"
    },
    {
      "cell_type": "code",
      "execution_count": null,
      "id": "1639bb9f",
      "metadata": {
        "id": "1639bb9f",
        "outputId": "1d15442a-7de1-4590-e240-0c6066c38e83"
      },
      "outputs": [
        {
          "name": "stdout",
          "output_type": "stream",
          "text": [
            "2150564.0\n"
          ]
        }
      ],
      "source": [
        "# Expected revenue growth after 10 years\n",
        "print(round((disc_cumulated_revenue[2025] - yearly_revenue[2015]),0))"
      ]
    }
  ],
  "metadata": {
    "kernelspec": {
      "display_name": "Python 3 (ipykernel)",
      "language": "python",
      "name": "python3"
    },
    "language_info": {
      "codemirror_mode": {
        "name": "ipython",
        "version": 3
      },
      "file_extension": ".py",
      "mimetype": "text/x-python",
      "name": "python",
      "nbconvert_exporter": "python",
      "pygments_lexer": "ipython3",
      "version": "3.9.7"
    },
    "colab": {
      "name": "Retail Toyshop CLV.ipynb",
      "provenance": [],
      "collapsed_sections": [],
      "toc_visible": true,
      "include_colab_link": true
    }
  },
  "nbformat": 4,
  "nbformat_minor": 5
}